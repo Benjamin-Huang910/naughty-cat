{
  "nbformat": 4,
  "nbformat_minor": 0,
  "metadata": {
    "colab": {
      "provenance": [],
      "toc_visible": true
    },
    "kernelspec": {
      "name": "python3",
      "display_name": "Python 3"
    },
    "language_info": {
      "name": "python"
    }
  },
  "cells": [
    {
      "cell_type": "markdown",
      "metadata": {
        "id": "m3V1oxg8jaBr"
      },
      "source": [
        "<img src=\"https://news.illinois.edu/files/6367/543635/116641.jpg\" alt=\"University of Illinois\" width=\"250\"/>\n",
        "\n",
        "# PyTorch RNN for Energy Data#\n",
        "By Richard Sowers\n",
        "* <r-sowers@illinois.edu>\n",
        "* <https://publish.illinois.edu/r-sowers/>\n",
        "\n",
        "Copyright 2020 University of Illinois Board of Trustees. All Rights Reserved."
      ]
    },
    {
      "cell_type": "markdown",
      "metadata": {
        "id": "bly0YctuxsVp"
      },
      "source": [
        "# Imports and Configurations"
      ]
    },
    {
      "cell_type": "code",
      "metadata": {
        "id": "XDtZ8c9V7OPo"
      },
      "source": [
        "import os\n",
        "import numpy\n",
        "import pandas\n",
        "idx = pandas.IndexSlice\n",
        "import time\n",
        "import random\n",
        "import matplotlib\n",
        "#%matplotlib notebook\n",
        "import matplotlib.pyplot as plt\n",
        "import scipy.stats\n",
        "#from pandas.plotting import autocorrelation_plot\n",
        "import matplotlib.offsetbox as offsetbox\n",
        "from matplotlib.ticker import StrMethodFormatter\n",
        "from matplotlib.backends.backend_agg import FigureCanvasAgg\n",
        "import graphviz\n",
        "\n",
        "import imageio\n",
        "import PIL\n",
        "\n",
        "def saver(fname):\n",
        "    plt.savefig(fname+\".png\",bbox_inches=\"tight\")\n",
        "\n",
        "def legend(pos=\"bottom\",ncol=3):\n",
        "    if pos==\"bottom\":\n",
        "        plt.legend(bbox_to_anchor=(0.5,-0.2), loc='upper center',facecolor=\"lightgray\",ncol=ncol)\n",
        "    elif pos==\"side\":\n",
        "        plt.legend(bbox_to_anchor=(1.1,0.5), loc='center left',facecolor=\"lightgray\",ncol=1)\n",
        "\n",
        "def textbox(txt,fname=None):\n",
        "    plt.figure(figsize=(1,1))\n",
        "    plt.gca().add_artist(offsetbox.AnchoredText(\"\\n\".join(txt), loc=\"center\",prop=dict(size=30)))\n",
        "    plt.axis('off')\n",
        "    if fname is not None:\n",
        "        saver(fname)\n",
        "    plt.show()\n",
        "    plt.close()"
      ],
      "execution_count": null,
      "outputs": []
    },
    {
      "cell_type": "code",
      "metadata": {
        "id": "SQUScHLyJLXw"
      },
      "source": [
        "import torch\n",
        "import scipy"
      ],
      "execution_count": null,
      "outputs": []
    },
    {
      "cell_type": "code",
      "metadata": {
        "id": "X3ShjrhqJjVN"
      },
      "source": [
        "#for some reason, this needs to be in a separate cell\n",
        "params={\n",
        "    \"font.size\":15,\n",
        "    \"lines.linewidth\":5,\n",
        "}\n",
        "plt.rcParams.update(params)"
      ],
      "execution_count": null,
      "outputs": []
    },
    {
      "cell_type": "code",
      "metadata": {
        "id": "54jXnBSIkkY7"
      },
      "source": [
        "def getfile(location_pair,**kwargs): #tries to get local version and then defaults to google drive version\n",
        "    (loc,gdrive)=location_pair\n",
        "    try:\n",
        "        out=pandas.read_csv(loc,**kwargs)\n",
        "    except FileNotFoundError:\n",
        "        print(\"local file not found; accessing Google Drive\")\n",
        "        loc = 'https://drive.google.com/uc?export=download&id='+gdrive.split('/')[-2]\n",
        "        out=pandas.read_csv(loc,**kwargs)\n",
        "    return out"
      ],
      "execution_count": null,
      "outputs": []
    },
    {
      "cell_type": "code",
      "metadata": {
        "id": "NJhiyawdlodd"
      },
      "source": [
        "fname_actual=(\"Actual.csv\",\"https://drive.google.com/file/d/1FfKANnGzXly62duW7hub4nXbnRJX6GsY/view?usp=sharing\")\n",
        "fname_dayahead=(\"DayAhead.csv\",\"https://drive.google.com/file/d/1PDC6x4HnUmvUyJTS9GZozZZn3DV6X9R3/view?usp=sharing\")"
      ],
      "execution_count": null,
      "outputs": []
    },
    {
      "cell_type": "markdown",
      "metadata": {
        "id": "bxq1pMYLjnkB"
      },
      "source": [
        "To understand PyTorch's RNN of <https://pytorch.org/docs/stable/generated/torch.nn.RNN.html>, let's implement some simple linear systems.  We will do this in an approximate way, reflecting the fact that RNN's typically have a nonlinearity."
      ]
    },
    {
      "cell_type": "markdown",
      "metadata": {
        "id": "i2g-Bzv6wGNO"
      },
      "source": [
        "# Data #"
      ]
    },
    {
      "cell_type": "markdown",
      "metadata": {
        "id": "OpMupcBZju5e"
      },
      "source": [
        "Let's read our energy data"
      ]
    },
    {
      "cell_type": "code",
      "metadata": {
        "colab": {
          "base_uri": "https://localhost:8080/",
          "height": 221
        },
        "id": "MhzKQY9LyNDQ",
        "outputId": "93ce58da-364a-4a60-8b7f-89782ce95c85"
      },
      "source": [
        "actual_raw=getfile(fname_actual)\n",
        "actual_raw.head()"
      ],
      "execution_count": null,
      "outputs": [
        {
          "output_type": "stream",
          "name": "stdout",
          "text": [
            "local file not found; accessing Google Drive\n"
          ]
        },
        {
          "output_type": "execute_result",
          "data": {
            "text/html": [
              "<div>\n",
              "<style scoped>\n",
              "    .dataframe tbody tr th:only-of-type {\n",
              "        vertical-align: middle;\n",
              "    }\n",
              "\n",
              "    .dataframe tbody tr th {\n",
              "        vertical-align: top;\n",
              "    }\n",
              "\n",
              "    .dataframe thead th {\n",
              "        text-align: right;\n",
              "    }\n",
              "</style>\n",
              "<table border=\"1\" class=\"dataframe\">\n",
              "  <thead>\n",
              "    <tr style=\"text-align: right;\">\n",
              "      <th></th>\n",
              "      <th>Date</th>\n",
              "      <th>LMP</th>\n",
              "      <th>HUB</th>\n",
              "    </tr>\n",
              "  </thead>\n",
              "  <tbody>\n",
              "    <tr>\n",
              "      <th>0</th>\n",
              "      <td>1/1/2021 10:00:00 PM</td>\n",
              "      <td>18.71</td>\n",
              "      <td>ARKANSAS.HUB</td>\n",
              "    </tr>\n",
              "    <tr>\n",
              "      <th>1</th>\n",
              "      <td>1/1/2021 10:00:00 PM</td>\n",
              "      <td>18.95</td>\n",
              "      <td>ILLINOIS.HUB</td>\n",
              "    </tr>\n",
              "    <tr>\n",
              "      <th>2</th>\n",
              "      <td>1/1/2021 10:00:00 PM</td>\n",
              "      <td>19.43</td>\n",
              "      <td>INDIANA.HUB</td>\n",
              "    </tr>\n",
              "    <tr>\n",
              "      <th>3</th>\n",
              "      <td>1/1/2021 10:00:00 PM</td>\n",
              "      <td>19.39</td>\n",
              "      <td>LOUISIANA.HUB</td>\n",
              "    </tr>\n",
              "    <tr>\n",
              "      <th>4</th>\n",
              "      <td>1/1/2021 10:00:00 PM</td>\n",
              "      <td>19.57</td>\n",
              "      <td>MICHIGAN.HUB</td>\n",
              "    </tr>\n",
              "  </tbody>\n",
              "</table>\n",
              "</div>"
            ],
            "text/plain": [
              "                   Date    LMP            HUB\n",
              "0  1/1/2021 10:00:00 PM  18.71   ARKANSAS.HUB\n",
              "1  1/1/2021 10:00:00 PM  18.95   ILLINOIS.HUB\n",
              "2  1/1/2021 10:00:00 PM  19.43    INDIANA.HUB\n",
              "3  1/1/2021 10:00:00 PM  19.39  LOUISIANA.HUB\n",
              "4  1/1/2021 10:00:00 PM  19.57   MICHIGAN.HUB"
            ]
          },
          "metadata": {},
          "execution_count": 6
        }
      ]
    },
    {
      "cell_type": "code",
      "metadata": {
        "colab": {
          "base_uri": "https://localhost:8080/",
          "height": 235
        },
        "id": "YWju_Zg5mDqt",
        "outputId": "81c9f6fb-ff1d-4687-ff7b-ff0b0e9760cd"
      },
      "source": [
        "actual=actual_raw.copy()\n",
        "actual=actual.rename(columns={\"LMP\":\"Actual Price\"})\n",
        "actual[\"Date\"]=pandas.to_datetime(actual[\"Date\"])\n",
        "actual=actual.set_index([\"Date\",\"HUB\"],append=False,drop=True)\n",
        "actual.head()"
      ],
      "execution_count": null,
      "outputs": [
        {
          "output_type": "execute_result",
          "data": {
            "text/html": [
              "<div>\n",
              "<style scoped>\n",
              "    .dataframe tbody tr th:only-of-type {\n",
              "        vertical-align: middle;\n",
              "    }\n",
              "\n",
              "    .dataframe tbody tr th {\n",
              "        vertical-align: top;\n",
              "    }\n",
              "\n",
              "    .dataframe thead th {\n",
              "        text-align: right;\n",
              "    }\n",
              "</style>\n",
              "<table border=\"1\" class=\"dataframe\">\n",
              "  <thead>\n",
              "    <tr style=\"text-align: right;\">\n",
              "      <th></th>\n",
              "      <th></th>\n",
              "      <th>Actual Price</th>\n",
              "    </tr>\n",
              "    <tr>\n",
              "      <th>Date</th>\n",
              "      <th>HUB</th>\n",
              "      <th></th>\n",
              "    </tr>\n",
              "  </thead>\n",
              "  <tbody>\n",
              "    <tr>\n",
              "      <th rowspan=\"5\" valign=\"top\">2021-01-01 22:00:00</th>\n",
              "      <th>ARKANSAS.HUB</th>\n",
              "      <td>18.71</td>\n",
              "    </tr>\n",
              "    <tr>\n",
              "      <th>ILLINOIS.HUB</th>\n",
              "      <td>18.95</td>\n",
              "    </tr>\n",
              "    <tr>\n",
              "      <th>INDIANA.HUB</th>\n",
              "      <td>19.43</td>\n",
              "    </tr>\n",
              "    <tr>\n",
              "      <th>LOUISIANA.HUB</th>\n",
              "      <td>19.39</td>\n",
              "    </tr>\n",
              "    <tr>\n",
              "      <th>MICHIGAN.HUB</th>\n",
              "      <td>19.57</td>\n",
              "    </tr>\n",
              "  </tbody>\n",
              "</table>\n",
              "</div>"
            ],
            "text/plain": [
              "                                   Actual Price\n",
              "Date                HUB                        \n",
              "2021-01-01 22:00:00 ARKANSAS.HUB          18.71\n",
              "                    ILLINOIS.HUB          18.95\n",
              "                    INDIANA.HUB           19.43\n",
              "                    LOUISIANA.HUB         19.39\n",
              "                    MICHIGAN.HUB          19.57"
            ]
          },
          "metadata": {},
          "execution_count": 7
        }
      ]
    },
    {
      "cell_type": "code",
      "metadata": {
        "colab": {
          "base_uri": "https://localhost:8080/",
          "height": 221
        },
        "id": "pZZrlmsdye7m",
        "outputId": "6b621571-72c0-4987-c342-07c9493878a1"
      },
      "source": [
        "dayahead_raw=getfile(fname_dayahead)\n",
        "dayahead_raw.head()"
      ],
      "execution_count": null,
      "outputs": [
        {
          "output_type": "stream",
          "name": "stdout",
          "text": [
            "local file not found; accessing Google Drive\n"
          ]
        },
        {
          "output_type": "execute_result",
          "data": {
            "text/html": [
              "<div>\n",
              "<style scoped>\n",
              "    .dataframe tbody tr th:only-of-type {\n",
              "        vertical-align: middle;\n",
              "    }\n",
              "\n",
              "    .dataframe tbody tr th {\n",
              "        vertical-align: top;\n",
              "    }\n",
              "\n",
              "    .dataframe thead th {\n",
              "        text-align: right;\n",
              "    }\n",
              "</style>\n",
              "<table border=\"1\" class=\"dataframe\">\n",
              "  <thead>\n",
              "    <tr style=\"text-align: right;\">\n",
              "      <th></th>\n",
              "      <th>Date</th>\n",
              "      <th>lmp</th>\n",
              "      <th>node</th>\n",
              "    </tr>\n",
              "  </thead>\n",
              "  <tbody>\n",
              "    <tr>\n",
              "      <th>0</th>\n",
              "      <td>1/1/2021 12:00:00 AM</td>\n",
              "      <td>18.95</td>\n",
              "      <td>ARKANSAS.HUB</td>\n",
              "    </tr>\n",
              "    <tr>\n",
              "      <th>1</th>\n",
              "      <td>1/1/2021 12:00:00 AM</td>\n",
              "      <td>18.82</td>\n",
              "      <td>ILLINOIS.HUB</td>\n",
              "    </tr>\n",
              "    <tr>\n",
              "      <th>2</th>\n",
              "      <td>1/1/2021 12:00:00 AM</td>\n",
              "      <td>19.56</td>\n",
              "      <td>INDIANA.HUB</td>\n",
              "    </tr>\n",
              "    <tr>\n",
              "      <th>3</th>\n",
              "      <td>1/1/2021 12:00:00 AM</td>\n",
              "      <td>19.56</td>\n",
              "      <td>LOUISIANA.HUB</td>\n",
              "    </tr>\n",
              "    <tr>\n",
              "      <th>4</th>\n",
              "      <td>1/1/2021 12:00:00 AM</td>\n",
              "      <td>19.90</td>\n",
              "      <td>MICHIGAN.HUB</td>\n",
              "    </tr>\n",
              "  </tbody>\n",
              "</table>\n",
              "</div>"
            ],
            "text/plain": [
              "                   Date    lmp           node\n",
              "0  1/1/2021 12:00:00 AM  18.95   ARKANSAS.HUB\n",
              "1  1/1/2021 12:00:00 AM  18.82   ILLINOIS.HUB\n",
              "2  1/1/2021 12:00:00 AM  19.56    INDIANA.HUB\n",
              "3  1/1/2021 12:00:00 AM  19.56  LOUISIANA.HUB\n",
              "4  1/1/2021 12:00:00 AM  19.90   MICHIGAN.HUB"
            ]
          },
          "metadata": {},
          "execution_count": 8
        }
      ]
    },
    {
      "cell_type": "code",
      "metadata": {
        "colab": {
          "base_uri": "https://localhost:8080/",
          "height": 235
        },
        "id": "9lheUtgjmTbf",
        "outputId": "838e5970-cb08-44be-82a0-2e0d79464c0d"
      },
      "source": [
        "dayahead=dayahead_raw.copy()\n",
        "dayahead=dayahead.rename(columns={\"lmp\":\"DayAhead Price\",\"node\":\"HUB\"})\n",
        "dayahead[\"Date\"]=pandas.to_datetime(dayahead[\"Date\"])\n",
        "dayahead=dayahead.set_index([\"Date\",\"HUB\"],append=False,drop=True)\n",
        "dayahead.head()"
      ],
      "execution_count": null,
      "outputs": [
        {
          "output_type": "execute_result",
          "data": {
            "text/html": [
              "<div>\n",
              "<style scoped>\n",
              "    .dataframe tbody tr th:only-of-type {\n",
              "        vertical-align: middle;\n",
              "    }\n",
              "\n",
              "    .dataframe tbody tr th {\n",
              "        vertical-align: top;\n",
              "    }\n",
              "\n",
              "    .dataframe thead th {\n",
              "        text-align: right;\n",
              "    }\n",
              "</style>\n",
              "<table border=\"1\" class=\"dataframe\">\n",
              "  <thead>\n",
              "    <tr style=\"text-align: right;\">\n",
              "      <th></th>\n",
              "      <th></th>\n",
              "      <th>DayAhead Price</th>\n",
              "    </tr>\n",
              "    <tr>\n",
              "      <th>Date</th>\n",
              "      <th>HUB</th>\n",
              "      <th></th>\n",
              "    </tr>\n",
              "  </thead>\n",
              "  <tbody>\n",
              "    <tr>\n",
              "      <th rowspan=\"5\" valign=\"top\">2021-01-01</th>\n",
              "      <th>ARKANSAS.HUB</th>\n",
              "      <td>18.95</td>\n",
              "    </tr>\n",
              "    <tr>\n",
              "      <th>ILLINOIS.HUB</th>\n",
              "      <td>18.82</td>\n",
              "    </tr>\n",
              "    <tr>\n",
              "      <th>INDIANA.HUB</th>\n",
              "      <td>19.56</td>\n",
              "    </tr>\n",
              "    <tr>\n",
              "      <th>LOUISIANA.HUB</th>\n",
              "      <td>19.56</td>\n",
              "    </tr>\n",
              "    <tr>\n",
              "      <th>MICHIGAN.HUB</th>\n",
              "      <td>19.90</td>\n",
              "    </tr>\n",
              "  </tbody>\n",
              "</table>\n",
              "</div>"
            ],
            "text/plain": [
              "                          DayAhead Price\n",
              "Date       HUB                          \n",
              "2021-01-01 ARKANSAS.HUB            18.95\n",
              "           ILLINOIS.HUB            18.82\n",
              "           INDIANA.HUB             19.56\n",
              "           LOUISIANA.HUB           19.56\n",
              "           MICHIGAN.HUB            19.90"
            ]
          },
          "metadata": {},
          "execution_count": 9
        }
      ]
    },
    {
      "cell_type": "code",
      "metadata": {
        "id": "8kD0GohomcN0",
        "colab": {
          "base_uri": "https://localhost:8080/",
          "height": 235
        },
        "outputId": "981b1c86-f56c-4d56-d414-7d945e481f32"
      },
      "source": [
        "joined=pandas.concat([actual,dayahead],axis=\"columns\",join=\"inner\")\n",
        "illinois=joined.query(\"HUB=='ILLINOIS.HUB'\").sort_index(axis=\"index\").reset_index(\"HUB\",drop=True).copy()\n",
        "illinois.head()"
      ],
      "execution_count": null,
      "outputs": [
        {
          "output_type": "execute_result",
          "data": {
            "text/html": [
              "<div>\n",
              "<style scoped>\n",
              "    .dataframe tbody tr th:only-of-type {\n",
              "        vertical-align: middle;\n",
              "    }\n",
              "\n",
              "    .dataframe tbody tr th {\n",
              "        vertical-align: top;\n",
              "    }\n",
              "\n",
              "    .dataframe thead th {\n",
              "        text-align: right;\n",
              "    }\n",
              "</style>\n",
              "<table border=\"1\" class=\"dataframe\">\n",
              "  <thead>\n",
              "    <tr style=\"text-align: right;\">\n",
              "      <th></th>\n",
              "      <th>Actual Price</th>\n",
              "      <th>DayAhead Price</th>\n",
              "    </tr>\n",
              "    <tr>\n",
              "      <th>Date</th>\n",
              "      <th></th>\n",
              "      <th></th>\n",
              "    </tr>\n",
              "  </thead>\n",
              "  <tbody>\n",
              "    <tr>\n",
              "      <th>2021-01-01 22:00:00</th>\n",
              "      <td>18.95</td>\n",
              "      <td>20.16</td>\n",
              "    </tr>\n",
              "    <tr>\n",
              "      <th>2021-01-02 22:00:00</th>\n",
              "      <td>20.19</td>\n",
              "      <td>20.94</td>\n",
              "    </tr>\n",
              "    <tr>\n",
              "      <th>2021-01-02 23:00:00</th>\n",
              "      <td>19.68</td>\n",
              "      <td>20.06</td>\n",
              "    </tr>\n",
              "    <tr>\n",
              "      <th>2021-01-03 00:00:00</th>\n",
              "      <td>19.51</td>\n",
              "      <td>19.67</td>\n",
              "    </tr>\n",
              "    <tr>\n",
              "      <th>2021-01-03 01:00:00</th>\n",
              "      <td>18.03</td>\n",
              "      <td>19.54</td>\n",
              "    </tr>\n",
              "  </tbody>\n",
              "</table>\n",
              "</div>"
            ],
            "text/plain": [
              "                     Actual Price  DayAhead Price\n",
              "Date                                             \n",
              "2021-01-01 22:00:00         18.95           20.16\n",
              "2021-01-02 22:00:00         20.19           20.94\n",
              "2021-01-02 23:00:00         19.68           20.06\n",
              "2021-01-03 00:00:00         19.51           19.67\n",
              "2021-01-03 01:00:00         18.03           19.54"
            ]
          },
          "metadata": {},
          "execution_count": 10
        }
      ]
    },
    {
      "cell_type": "code",
      "metadata": {
        "colab": {
          "base_uri": "https://localhost:8080/",
          "height": 173
        },
        "id": "cJT0XeH3mf3Q",
        "outputId": "16d1646c-6cea-42c5-9b11-f4796e53d642"
      },
      "source": [
        "RNN_data=illinois.rename(columns={\"DayAhead Price\":\"X\",\"Actual Price\":\"Y\"})/100\n",
        "RNN_data[\"t\"]=range(len(RNN_data))\n",
        "RNN_data=RNN_data.set_index(\"t\",append=False,drop=True)\n",
        "RNN_data=RNN_data[[\"X\",\"Y\"]]\n",
        "RNN_data.head(3)"
      ],
      "execution_count": null,
      "outputs": [
        {
          "output_type": "execute_result",
          "data": {
            "text/html": [
              "<div>\n",
              "<style scoped>\n",
              "    .dataframe tbody tr th:only-of-type {\n",
              "        vertical-align: middle;\n",
              "    }\n",
              "\n",
              "    .dataframe tbody tr th {\n",
              "        vertical-align: top;\n",
              "    }\n",
              "\n",
              "    .dataframe thead th {\n",
              "        text-align: right;\n",
              "    }\n",
              "</style>\n",
              "<table border=\"1\" class=\"dataframe\">\n",
              "  <thead>\n",
              "    <tr style=\"text-align: right;\">\n",
              "      <th></th>\n",
              "      <th>X</th>\n",
              "      <th>Y</th>\n",
              "    </tr>\n",
              "    <tr>\n",
              "      <th>t</th>\n",
              "      <th></th>\n",
              "      <th></th>\n",
              "    </tr>\n",
              "  </thead>\n",
              "  <tbody>\n",
              "    <tr>\n",
              "      <th>0</th>\n",
              "      <td>0.2016</td>\n",
              "      <td>0.1895</td>\n",
              "    </tr>\n",
              "    <tr>\n",
              "      <th>1</th>\n",
              "      <td>0.2094</td>\n",
              "      <td>0.2019</td>\n",
              "    </tr>\n",
              "    <tr>\n",
              "      <th>2</th>\n",
              "      <td>0.2006</td>\n",
              "      <td>0.1968</td>\n",
              "    </tr>\n",
              "  </tbody>\n",
              "</table>\n",
              "</div>"
            ],
            "text/plain": [
              "        X       Y\n",
              "t                \n",
              "0  0.2016  0.1895\n",
              "1  0.2094  0.2019\n",
              "2  0.2006  0.1968"
            ]
          },
          "metadata": {},
          "execution_count": 11
        }
      ]
    },
    {
      "cell_type": "markdown",
      "metadata": {
        "id": "zOHBUfVhnDmN"
      },
      "source": [
        "# Jordan Network #"
      ]
    },
    {
      "cell_type": "code",
      "metadata": {
        "id": "VFJ0k1ZXnF16"
      },
      "source": [
        "class Jordan(torch.nn.Module):\n",
        "  def __init__(self, inputSize=2,hiddenSize=1,outputSize=1,SEED=0):\n",
        "    super().__init__()\n",
        "    if SEED is not None:\n",
        "          torch.manual_seed(SEED)\n",
        "    self.tanh=torch.nn.Tanh()\n",
        "    self.linear_1 = torch.nn.Linear(inputSize,hiddenSize)\n",
        "    self.linear_2 = torch.nn.Linear(hiddenSize,outputSize)\n",
        "    self.ReLU=torch.nn.ReLU()\n",
        "    if torch.cuda.is_available():\n",
        "        \"converting to cuda\"\n",
        "        self = self.cuda()\n",
        "\n",
        "  def forward(self,input):\n",
        "    out=self.linear_1(input)\n",
        "    out=self.tanh(out)\n",
        "    out=self.linear_2(out)\n",
        "    out=self.ReLU(out)\n",
        "    return out\n",
        "\n",
        "Loss = torch.nn.MSELoss()"
      ],
      "execution_count": null,
      "outputs": []
    },
    {
      "cell_type": "code",
      "metadata": {
        "colab": {
          "base_uri": "https://localhost:8080/",
          "height": 266
        },
        "id": "QEoPu9kaocJs",
        "outputId": "2eac56d8-1377-4eb1-a9e7-07c0d4d4b320"
      },
      "source": [
        "Jordan_data=RNN_data.copy()\n",
        "Jordan_data[\"lagged Y\"]=Jordan_data[\"Y\"].shift()\n",
        "Jordan_data=Jordan_data[[\"X\",\"lagged Y\",\"Y\"]]\n",
        "Jordan_data=Jordan_data.dropna(axis='index')\n",
        "Jordan_data.columns=pandas.MultiIndex.from_tuples(zip([\"Input\",\"Input\",\"Output\"],Jordan_data.columns))\n",
        "Jordan_data.head()"
      ],
      "execution_count": null,
      "outputs": [
        {
          "output_type": "execute_result",
          "data": {
            "text/html": [
              "<div>\n",
              "<style scoped>\n",
              "    .dataframe tbody tr th:only-of-type {\n",
              "        vertical-align: middle;\n",
              "    }\n",
              "\n",
              "    .dataframe tbody tr th {\n",
              "        vertical-align: top;\n",
              "    }\n",
              "\n",
              "    .dataframe thead tr th {\n",
              "        text-align: left;\n",
              "    }\n",
              "\n",
              "    .dataframe thead tr:last-of-type th {\n",
              "        text-align: right;\n",
              "    }\n",
              "</style>\n",
              "<table border=\"1\" class=\"dataframe\">\n",
              "  <thead>\n",
              "    <tr>\n",
              "      <th></th>\n",
              "      <th colspan=\"2\" halign=\"left\">Input</th>\n",
              "      <th>Output</th>\n",
              "    </tr>\n",
              "    <tr>\n",
              "      <th></th>\n",
              "      <th>X</th>\n",
              "      <th>lagged Y</th>\n",
              "      <th>Y</th>\n",
              "    </tr>\n",
              "    <tr>\n",
              "      <th>t</th>\n",
              "      <th></th>\n",
              "      <th></th>\n",
              "      <th></th>\n",
              "    </tr>\n",
              "  </thead>\n",
              "  <tbody>\n",
              "    <tr>\n",
              "      <th>1</th>\n",
              "      <td>0.2094</td>\n",
              "      <td>0.1895</td>\n",
              "      <td>0.2019</td>\n",
              "    </tr>\n",
              "    <tr>\n",
              "      <th>2</th>\n",
              "      <td>0.2006</td>\n",
              "      <td>0.2019</td>\n",
              "      <td>0.1968</td>\n",
              "    </tr>\n",
              "    <tr>\n",
              "      <th>3</th>\n",
              "      <td>0.1967</td>\n",
              "      <td>0.1968</td>\n",
              "      <td>0.1951</td>\n",
              "    </tr>\n",
              "    <tr>\n",
              "      <th>4</th>\n",
              "      <td>0.1954</td>\n",
              "      <td>0.1951</td>\n",
              "      <td>0.1803</td>\n",
              "    </tr>\n",
              "    <tr>\n",
              "      <th>5</th>\n",
              "      <td>0.1943</td>\n",
              "      <td>0.1803</td>\n",
              "      <td>0.1812</td>\n",
              "    </tr>\n",
              "  </tbody>\n",
              "</table>\n",
              "</div>"
            ],
            "text/plain": [
              "    Input           Output\n",
              "        X lagged Y       Y\n",
              "t                         \n",
              "1  0.2094   0.1895  0.2019\n",
              "2  0.2006   0.2019  0.1968\n",
              "3  0.1967   0.1968  0.1951\n",
              "4  0.1954   0.1951  0.1803\n",
              "5  0.1943   0.1803  0.1812"
            ]
          },
          "metadata": {},
          "execution_count": 13
        }
      ]
    },
    {
      "cell_type": "code",
      "metadata": {
        "id": "fjn1Wsc7pD0-"
      },
      "source": [
        "Jordan_features=torch.from_numpy(Jordan_data.loc[:,idx[\"Input\",:]].values.astype(numpy.float32))\n",
        "Jordan_labels=torch.from_numpy(Jordan_data.loc[:,idx[\"Output\",:]].values.astype(numpy.float32))"
      ],
      "execution_count": null,
      "outputs": []
    },
    {
      "cell_type": "code",
      "metadata": {
        "id": "7ag_ZQdfrjkA"
      },
      "source": [
        "Jordan_model=Jordan(hiddenSize=2)"
      ],
      "execution_count": null,
      "outputs": []
    },
    {
      "cell_type": "code",
      "metadata": {
        "colab": {
          "base_uri": "https://localhost:8080/"
        },
        "id": "PpSpOihmrrqe",
        "outputId": "3afd76de-9cc4-44cb-af43-9b62f00357d7"
      },
      "source": [
        "optimizer = torch.optim.Adam(Jordan_model.parameters())\n",
        "losses=[]\n",
        "MAX_iter=100\n",
        "for ctr in range(MAX_iter):\n",
        "\n",
        "    # Clear gradient buffers because we don't want any gradient from previous epoch to carry forward, dont want to cummulate gradients\n",
        "    optimizer.zero_grad()\n",
        "\n",
        "    # get output from the model, given the inputs\n",
        "    outputs = Jordan_model(Jordan_features)\n",
        "\n",
        "    # get loss for the predicted output\n",
        "    lossvalue = Loss(outputs, Jordan_labels)\n",
        "    losses.append(lossvalue)\n",
        "\n",
        "    # get gradients w.r.t to parameters\n",
        "    lossvalue.backward()\n",
        "    #print(model.linear.weight.grad.item(),model.linear.bias.grad.item())\n",
        "\n",
        "    # update parameters\n",
        "    optimizer.step()\n",
        "    if ctr%int(MAX_iter/10)==0: #print out data for 10 intermediate steps\n",
        "      print(\"iteration {}: loss={:.5f}\".format(ctr, lossvalue.item()))\n",
        "\n",
        "print(\"final loss={:.5f}\".format(lossvalue.item()))"
      ],
      "execution_count": null,
      "outputs": [
        {
          "output_type": "stream",
          "name": "stdout",
          "text": [
            "iteration 0: loss=0.21165\n",
            "iteration 10: loss=0.21165\n",
            "iteration 20: loss=0.21165\n",
            "iteration 30: loss=0.21165\n",
            "iteration 40: loss=0.21165\n",
            "iteration 50: loss=0.21165\n",
            "iteration 60: loss=0.21165\n",
            "iteration 70: loss=0.21165\n",
            "iteration 80: loss=0.21165\n",
            "iteration 90: loss=0.21165\n",
            "final loss=0.21165\n"
          ]
        }
      ]
    },
    {
      "cell_type": "markdown",
      "metadata": {
        "id": "SImmMvLOzksG"
      },
      "source": [
        "# Elman network"
      ]
    },
    {
      "cell_type": "markdown",
      "metadata": {
        "id": "5oT8OhvHhlJO"
      },
      "source": [
        "## check explicit calculations ##"
      ]
    },
    {
      "cell_type": "code",
      "metadata": {
        "id": "_2Q_aKTyzWnU"
      },
      "source": [
        "class Elman(torch.nn.Module):\n",
        "    def __init__(self, inputSize=1, hiddenSize=1,outputSize=1,numlayers=1,batchsize=1,SEED=0):\n",
        "        #inputSize-dimensional inputs\n",
        "        #hiddenSize-dimensional latent (plant) process\n",
        "        #outputSize-dimensional output\n",
        "        super().__init__() #run init of torch.nn.Module\n",
        "        if SEED is not None:\n",
        "          torch.manual_seed(SEED)\n",
        "        self.rnn = torch.nn.RNN(inputSize,hiddenSize,numlayers,batch_first=True)\n",
        "        # h_init defaults to zero\n",
        "        self.linear = torch.nn.Linear(hiddenSize,outputSize)\n",
        "        self.tanh=torch.nn.Tanh()\n",
        "        self.ReLU=torch.nn.ReLU()\n",
        "        if torch.cuda.is_available():\n",
        "          \"converting to cuda\"\n",
        "          self = self.cuda()\n",
        "\n",
        "    def set_parameters(self,parameters):\n",
        "      (w_ih,w_hh,b_h,w_o,b_o)=parameters\n",
        "      self.linear.weight.data=torch.Tensor([[w_o]])\n",
        "      self.linear.bias.data=torch.Tensor([b_o])\n",
        "      self.rnn.weight_ih_l0.data=torch.Tensor([[w_ih]])\n",
        "      self.rnn.bias_ih_l0.data=torch.Tensor([[b_h]])\n",
        "      self.rnn.weight_hh_l0.data=torch.Tensor([[w_hh]])\n",
        "      self.rnn.bias_hh_l0.data=torch.Tensor([[0]])\n",
        "\n",
        "    def initialize(self,h_init):\n",
        "      self.h_init=torch.from_numpy(numpy.array(h_init).astype(numpy.float32).reshape(1,1,1))\n",
        "\n",
        "    def forward(self, inputs):\n",
        "        out,_=self.rnn(inputs,self.h_init)\n",
        "        self.rnn_out=out\n",
        "        out=self.ReLU(out)\n",
        "        return out\n",
        "\n",
        "Loss = torch.nn.MSELoss()"
      ],
      "execution_count": null,
      "outputs": []
    },
    {
      "cell_type": "code",
      "metadata": {
        "id": "LyXDe4xozPCO"
      },
      "source": [
        "L=3 #sequence length\n",
        "Elman_check_data=RNN_data.head(L).copy()\n",
        "Elman_check_features=torch.from_numpy(Elman_check_data.loc[:,\"X\"].values.astype(numpy.float32).reshape(1,-1,1))\n",
        "Elman_check_labels=torch.from_numpy(Elman_check_data.loc[:,\"Y\"].values.astype(numpy.float32).reshape(1,-1,1))"
      ],
      "execution_count": null,
      "outputs": []
    },
    {
      "cell_type": "code",
      "metadata": {
        "id": "ocf-CaiQzWdZ"
      },
      "source": [
        "parameters=(0.2,-0.25,0.3,0.1,-0.15)\n",
        "#(w_o,b_o,w_ih,w_hh,b_h)"
      ],
      "execution_count": null,
      "outputs": []
    },
    {
      "cell_type": "code",
      "metadata": {
        "id": "7ubwzckCzWvJ"
      },
      "source": [
        "Elman_check_model=Elman()\n",
        "Elman_check_model.set_parameters(parameters)\n",
        "Elman_check_model.initialize(0.1)"
      ],
      "execution_count": null,
      "outputs": []
    },
    {
      "cell_type": "code",
      "metadata": {
        "id": "piX74r3H5dPb"
      },
      "source": [
        "Elman_check_output=Elman_check_model(Elman_check_features)\n",
        "Elman_check_lossvalue=Loss(Elman_check_output,Elman_check_labels)"
      ],
      "execution_count": null,
      "outputs": []
    },
    {
      "cell_type": "code",
      "metadata": {
        "colab": {
          "base_uri": "https://localhost:8080/"
        },
        "id": "j4ns8-GV7oDr",
        "outputId": "b28a1b21-b7f4-4c88-b2aa-0e3bf2047398"
      },
      "source": [
        "print(\"SHOULD AGREE WITH EXPLICIT CALCULATIONS\")\n",
        "print(\"hidden layer={:s}\".format(str(Elman_check_model.rnn_out.data.squeeze().numpy())))\n",
        "print(\"model output={:s}\".format(str(Elman_check_output.data.squeeze().numpy())))\n",
        "print(\"loss={:.3f}\".format(Elman_check_lossvalue.item()))"
      ],
      "execution_count": null,
      "outputs": [
        {
          "output_type": "stream",
          "name": "stdout",
          "text": [
            "SHOULD AGREE WITH EXPLICIT CALCULATIONS\n",
            "hidden layer=[0.30526915 0.25949115 0.2685006 ]\n",
            "model output=[0.30526915 0.25949115 0.2685006 ]\n",
            "loss=0.007\n"
          ]
        }
      ]
    },
    {
      "cell_type": "code",
      "metadata": {
        "id": "J_L1_OEEzW2H"
      },
      "source": [
        "#Elman_check_model.zero_grad()\n",
        "#Elman_check_lossvalue.backward(retain_graph=True)\n",
        "#print(\"SHOULD AGREE WITH EXPLICIT CALCULATIONS\")\n",
        "#print(\"partial of loss with respect to w_o={:.3f}\".format(Elman_check_model.linear.weight.grad.item()))\n",
        "#print(\"partial of loss with respect to b_o={:.3f}\".format(Elman_check_model.linear.bias.grad.item()))\n",
        "#print(\"partial of loss with respect to w_hh={:.4f}\".format(Elman_check_model.rnn.weight_hh_l0.grad.item()))\n",
        "#print(\"partial of loss with respect to w_ih={:.4f}\".format(Elman_check_model.rnn.weight_ih_l0.grad.item()))\n",
        "#print(\"partial of loss with respect to b_hh={:.4f}\".format(Elman_check_model.rnn.bias_ih_l0.grad.item()))\n",
        "#print(\"partial of loss with respect to b_ih={:.4f}\".format(Elman_check_model.rnn.bias_ih_l0.grad.item()))\n"
      ],
      "execution_count": null,
      "outputs": []
    },
    {
      "cell_type": "markdown",
      "metadata": {
        "id": "TohX9QU9hupT"
      },
      "source": [
        "## Elman network for full dataset ##"
      ]
    },
    {
      "cell_type": "code",
      "metadata": {
        "id": "yUxKUCsHkG1P"
      },
      "source": [
        "Elman_data=RNN_data.copy()\n",
        "Elman_features=torch.from_numpy(Elman_data.loc[:,\"X\"].values.astype(numpy.float32).reshape(1,-1,1))\n",
        "Elman_labels=torch.from_numpy(Elman_data.loc[:,\"Y\"].values.astype(numpy.float32).reshape(1,-1,1))\n",
        "h_init=0"
      ],
      "execution_count": null,
      "outputs": []
    },
    {
      "cell_type": "code",
      "metadata": {
        "id": "PD1G69wdkbLr"
      },
      "source": [
        "Elman_model=Elman()\n",
        "Elman_model.initialize(h_init)"
      ],
      "execution_count": null,
      "outputs": []
    },
    {
      "cell_type": "code",
      "metadata": {
        "colab": {
          "base_uri": "https://localhost:8080/"
        },
        "id": "wEAfG0Dxk-lL",
        "outputId": "08c14d22-085e-4aee-b741-ae16d98ed27e"
      },
      "source": [
        "optimizer = torch.optim.Adam(Elman_model.parameters())\n",
        "losses=[]\n",
        "MAX_iter=100\n",
        "for ctr in range(MAX_iter):\n",
        "\n",
        "    # Clear gradient buffers because we don't want any gradient from previous epoch to carry forward, dont want to cummulate gradients\n",
        "    optimizer.zero_grad()\n",
        "\n",
        "    # get output from the model, given the inputs\n",
        "    outputs = Elman_model(Elman_features)\n",
        "\n",
        "    # get loss for the predicted output\n",
        "    lossvalue = Loss(outputs, Elman_labels)\n",
        "    losses.append(lossvalue)\n",
        "\n",
        "    # get gradients w.r.t to parameters\n",
        "    lossvalue.backward()\n",
        "    #print(model.linear.weight.grad.item(),model.linear.bias.grad.item())\n",
        "\n",
        "    # update parameters\n",
        "    optimizer.step()\n",
        "    if ctr%int(MAX_iter/10)==0: #print out data for 10 intermediate steps\n",
        "      print(\"iteration {}: loss={:.5f}\".format(ctr, lossvalue.item()))\n",
        "\n",
        "print(\"final loss={:.5f}\".format(lossvalue.item()))"
      ],
      "execution_count": null,
      "outputs": [
        {
          "output_type": "stream",
          "name": "stdout",
          "text": [
            "iteration 0: loss=0.21158\n",
            "iteration 10: loss=0.21158\n",
            "iteration 20: loss=0.21158\n",
            "iteration 30: loss=0.21158\n",
            "iteration 40: loss=0.21158\n",
            "iteration 50: loss=0.21158\n",
            "iteration 60: loss=0.21158\n",
            "iteration 70: loss=0.21158\n",
            "iteration 80: loss=0.21158\n",
            "iteration 90: loss=0.21158\n",
            "final loss=0.21158\n"
          ]
        }
      ]
    }
  ]
}