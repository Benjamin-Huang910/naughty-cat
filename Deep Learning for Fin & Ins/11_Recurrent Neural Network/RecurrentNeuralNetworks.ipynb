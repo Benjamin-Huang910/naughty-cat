{
  "cells": [
    {
      "cell_type": "markdown",
      "metadata": {
        "id": "dMgj-YYJcjnk"
      },
      "source": [
        "<img src=\"https://news.illinois.edu/files/6367/543635/116641.jpg\" alt=\"University of Illinois\" width=\"250\"/>\n",
        "\n",
        "# Recurrent Neural Networks #\n",
        "By Richard Sowers\n",
        "* <r-sowers@illinois.edu>\n",
        "* <https://publish.illinois.edu/r-sowers/>\n",
        "\n",
        "Copyright 2020 University of Illinois Board of Trustees. All Rights Reserved."
      ]
    },
    {
      "cell_type": "markdown",
      "metadata": {
        "id": "-atvPbT1UUV_"
      },
      "source": [
        "# Setup"
      ]
    },
    {
      "cell_type": "markdown",
      "metadata": {
        "id": "2jW_4wkNcjn7"
      },
      "source": [
        "## imports and graphics configurations #"
      ]
    },
    {
      "cell_type": "code",
      "execution_count": null,
      "metadata": {
        "id": "v35eb_1jcjn8"
      },
      "outputs": [],
      "source": [
        "import os\n",
        "import numpy\n",
        "import pandas\n",
        "import time\n",
        "import random\n",
        "import matplotlib\n",
        "#%matplotlib notebook\n",
        "import matplotlib.pyplot as plt\n",
        "import scipy.stats\n",
        "#from pandas.plotting import autocorrelation_plot\n",
        "import matplotlib.offsetbox as offsetbox\n",
        "from matplotlib.ticker import StrMethodFormatter\n",
        "from matplotlib.backends.backend_agg import FigureCanvasAgg\n",
        "\n",
        "\n",
        "def saver(fname,dpi=600):\n",
        "    plt.savefig(fname+\".png\",bbox_inches=\"tight\",dpi=dpi)\n",
        "\n",
        "def legend(pos=\"bottom\",ncol=3):\n",
        "    if pos==\"bottom\":\n",
        "        plt.legend(bbox_to_anchor=(0.5,-0.2), loc='upper center',facecolor=\"lightgray\",ncol=ncol)\n",
        "    elif pos==\"side\":\n",
        "        plt.legend(bbox_to_anchor=(1.1,0.5), loc='center left',facecolor=\"lightgray\",ncol=1)\n",
        "\n",
        "def textbox(txt,fname=None):\n",
        "    plt.figure(figsize=(1,1))\n",
        "    plt.gca().add_artist(offsetbox.AnchoredText(\"\\n\".join(txt), loc=\"center\",prop=dict(size=30)))\n",
        "    plt.axis('off')\n",
        "    if fname is not None:\n",
        "        saver(fname)\n",
        "    plt.show()\n",
        "    plt.close()\n",
        "\n",
        "def ptf(instring,filename=None): #print to file\n",
        "    print(instring)\n",
        "    if filename is not None:\n",
        "        with open(filename+\".tex\",\"w\") as f:\n",
        "            f.write(instring)"
      ]
    },
    {
      "cell_type": "code",
      "execution_count": null,
      "metadata": {
        "id": "ED5CQvlcUUWA"
      },
      "outputs": [],
      "source": [
        "#!conda install python-graphviz\n",
        "import graphviz"
      ]
    },
    {
      "cell_type": "code",
      "execution_count": null,
      "metadata": {
        "id": "wsUe_9uhcjn9"
      },
      "outputs": [],
      "source": [
        "from pandas.plotting import register_matplotlib_converters\n",
        "register_matplotlib_converters()\n",
        "import matplotlib.dates as mdates\n",
        "import datetime"
      ]
    },
    {
      "cell_type": "code",
      "execution_count": null,
      "metadata": {
        "id": "7sYb3T4qcjn-"
      },
      "outputs": [],
      "source": [
        "#for some reason, this needs to be in a separate cell\n",
        "params={\n",
        "    \"font.size\":15,\n",
        "    \"lines.linewidth\":5,\n",
        "}\n",
        "plt.rcParams.update(params)"
      ]
    },
    {
      "cell_type": "code",
      "execution_count": null,
      "metadata": {
        "colab": {
          "base_uri": "https://localhost:8080/"
        },
        "id": "0YpTu3ZCcjn-",
        "outputId": "9378d73c-ef8b-41cb-d8f4-4231dddd747c",
        "scrolled": false
      },
      "outputs": [
        {
          "name": "stdout",
          "output_type": "stream",
          "text": [
            "existing png files: ['ElmanArchitecture.gv.png', 'firstlosses.png', 'GRUArchitecture.gv.png', 'initialElman.png', 'JordanArchitecture.gv.png', 'Jordantraining.gv.png', 'lossvalue.png', 'LSTMArchitecture.gv.png', 'powerprices.png', 'sampleparams.png', 'secondlosses.png', 'StateObserver.gv.png', 'timehorizon.png', 'timeshift.png']\n",
            "[None, None, None, None, None, None, None, None, None, None, None, None, None, None]\n"
          ]
        }
      ],
      "source": [
        "pngfiles=[f for f in os.listdir(\".\") if f.endswith(\".png\")]\n",
        "print(\"existing png files: \"+str(pngfiles))\n",
        "print([os.remove(f) for f in pngfiles])"
      ]
    },
    {
      "cell_type": "code",
      "execution_count": null,
      "metadata": {
        "id": "kcoAFm3-irqO"
      },
      "outputs": [],
      "source": [
        "def getfile(location_pair,**kwargs): #tries to get local version and then defaults to google drive version\n",
        "    (loc,gdrive)=location_pair\n",
        "    try:\n",
        "        out=pandas.read_csv(loc,**kwargs)\n",
        "    except FileNotFoundError:\n",
        "        print(\"local file not found; accessing Google Drive\")\n",
        "        loc = 'https://drive.google.com/uc?export=download&id='+gdrive.split('/')[-2]\n",
        "        out=pandas.read_csv(loc,**kwargs)\n",
        "    return out"
      ]
    },
    {
      "cell_type": "markdown",
      "metadata": {
        "id": "qCJrG2nAcjoA"
      },
      "source": [
        "## configuration variables #"
      ]
    },
    {
      "cell_type": "code",
      "execution_count": null,
      "metadata": {
        "id": "V2_UHs6rcjoA"
      },
      "outputs": [],
      "source": [
        "N_samples=20\n",
        "plot_color=\"blue\"\n",
        "ref_color=\"red\"\n",
        "SEED=0"
      ]
    },
    {
      "cell_type": "code",
      "execution_count": null,
      "metadata": {
        "id": "gnGZWR-ccjoB"
      },
      "outputs": [],
      "source": [
        "url=\"http://www.energyonline.com/Data/Default.aspx\"\n",
        "fname_actual=(\"Actual.csv\",\"https://drive.google.com/file/d/1FfKANnGzXly62duW7hub4nXbnRJX6GsY/view?usp=sharing\")\n",
        "fname_dayahead=(\"DayAhead.csv\",\"https://drive.google.com/file/d/1PDC6x4HnUmvUyJTS9GZozZZn3DV6X9R3/view?usp=sharing\")\n",
        "RNN=\"https://pytorch.org/tutorials/intermediate/char_rnn_classification_tutorial.html\""
      ]
    },
    {
      "cell_type": "markdown",
      "metadata": {
        "id": "t282UOvbUUWD"
      },
      "source": [
        "# main"
      ]
    },
    {
      "cell_type": "markdown",
      "metadata": {
        "id": "e7ZIUiHocjoD"
      },
      "source": [
        "## network visualizations #"
      ]
    },
    {
      "cell_type": "code",
      "execution_count": null,
      "metadata": {
        "colab": {
          "base_uri": "https://localhost:8080/",
          "height": 103
        },
        "id": "oCKlocQgcjoE",
        "outputId": "65eb7738-3444-4a1a-ef1d-2f286925e291"
      },
      "outputs": [
        {
          "data": {
            "image/svg+xml": [
              "<?xml version=\"1.0\" encoding=\"UTF-8\" standalone=\"no\"?>\r\n",
              "<!DOCTYPE svg PUBLIC \"-//W3C//DTD SVG 1.1//EN\"\r\n",
              " \"http://www.w3.org/Graphics/SVG/1.1/DTD/svg11.dtd\">\r\n",
              "<!-- Generated by graphviz version 2.50.0 (0)\r\n",
              " -->\r\n",
              "<!-- Title: StateObserver Pages: 1 -->\r\n",
              "<svg width=\"353pt\" height=\"62pt\"\r\n",
              " viewBox=\"0.00 0.00 352.98 62.00\" xmlns=\"http://www.w3.org/2000/svg\" xmlns:xlink=\"http://www.w3.org/1999/xlink\">\r\n",
              "<g id=\"graph0\" class=\"graph\" transform=\"scale(1 1) rotate(0) translate(4 58)\">\r\n",
              "<title>StateObserver</title>\r\n",
              "<polygon fill=\"white\" stroke=\"transparent\" points=\"-4,4 -4,-58 348.98,-58 348.98,4 -4,4\"/>\r\n",
              "<!-- input -->\r\n",
              "<g id=\"node1\" class=\"node\">\r\n",
              "<title>input</title>\r\n",
              "<ellipse fill=\"none\" stroke=\"black\" cx=\"44.2\" cy=\"-18\" rx=\"44.39\" ry=\"18\"/>\r\n",
              "<text text-anchor=\"middle\" x=\"44.2\" y=\"-14.3\" font-family=\"Times New Roman,serif\" font-size=\"14.00\">Input (X)</text>\r\n",
              "</g>\r\n",
              "<!-- plant -->\r\n",
              "<g id=\"node2\" class=\"node\">\r\n",
              "<title>plant</title>\r\n",
              "<ellipse fill=\"none\" stroke=\"black\" cx=\"166.64\" cy=\"-18\" rx=\"42.49\" ry=\"18\"/>\r\n",
              "<text text-anchor=\"middle\" x=\"166.64\" y=\"-14.3\" font-family=\"Times New Roman,serif\" font-size=\"14.00\">Plant (Z)</text>\r\n",
              "</g>\r\n",
              "<!-- input&#45;&gt;plant -->\r\n",
              "<g id=\"edge1\" class=\"edge\">\r\n",
              "<title>input&#45;&gt;plant</title>\r\n",
              "<path fill=\"none\" stroke=\"black\" d=\"M88.68,-18C96.92,-18 105.61,-18 114.07,-18\"/>\r\n",
              "<polygon fill=\"black\" stroke=\"black\" points=\"114.23,-21.5 124.23,-18 114.23,-14.5 114.23,-21.5\"/>\r\n",
              "</g>\r\n",
              "<!-- plant&#45;&gt;plant -->\r\n",
              "<g id=\"edge3\" class=\"edge\">\r\n",
              "<title>plant&#45;&gt;plant</title>\r\n",
              "<path fill=\"none\" stroke=\"black\" d=\"M145.57,-33.92C140.08,-44.15 147.1,-54 166.64,-54 179.46,-54 186.89,-49.76 188.93,-43.95\"/>\r\n",
              "<polygon fill=\"black\" stroke=\"black\" points=\"192.39,-43.42 187.7,-33.92 185.45,-44.27 192.39,-43.42\"/>\r\n",
              "</g>\r\n",
              "<!-- output -->\r\n",
              "<g id=\"node3\" class=\"node\">\r\n",
              "<title>output</title>\r\n",
              "<ellipse fill=\"none\" stroke=\"black\" cx=\"294.93\" cy=\"-18\" rx=\"50.09\" ry=\"18\"/>\r\n",
              "<text text-anchor=\"middle\" x=\"294.93\" y=\"-14.3\" font-family=\"Times New Roman,serif\" font-size=\"14.00\">Output (Y)</text>\r\n",
              "</g>\r\n",
              "<!-- plant&#45;&gt;output -->\r\n",
              "<g id=\"edge2\" class=\"edge\">\r\n",
              "<title>plant&#45;&gt;output</title>\r\n",
              "<path fill=\"none\" stroke=\"black\" d=\"M208.99,-18C217.16,-18 225.88,-18 234.52,-18\"/>\r\n",
              "<polygon fill=\"black\" stroke=\"black\" points=\"234.57,-21.5 244.57,-18 234.57,-14.5 234.57,-21.5\"/>\r\n",
              "</g>\r\n",
              "</g>\r\n",
              "</svg>\r\n"
            ],
            "text/plain": [
              "<graphviz.dot.Digraph at 0x17f61e1e3d0>"
            ]
          },
          "execution_count": 9,
          "metadata": {},
          "output_type": "execute_result"
        }
      ],
      "source": [
        "g = graphviz.Digraph(name=\"StateObserver\",format=\"png\")\n",
        "g.attr(rankdir='LR')\n",
        "g.node(\"input\",label=\"Input (X)\")\n",
        "g.node(\"plant\",label=\"Plant (Z)\")\n",
        "g.node(\"output\",label=\"Output (Y)\")\n",
        "g.edge(\"input\",\"plant\")\n",
        "g.edge(\"plant\",\"output\")\n",
        "g.edge(\"plant\",\"plant\")\n",
        "g"
      ]
    },
    {
      "cell_type": "code",
      "execution_count": null,
      "metadata": {
        "id": "5hmuCP7GUUWD",
        "outputId": "53b39682-4129-49e6-d567-8c2d199130fa"
      },
      "outputs": [
        {
          "name": "stdout",
          "output_type": "stream",
          "text": [
            "digraph StateObserver {\n",
            "\trankdir=LR\n",
            "\tinput [label=\"Input (X)\"]\n",
            "\tplant [label=\"Plant (Z)\"]\n",
            "\toutput [label=\"Output (Y)\"]\n",
            "\tinput -> plant\n",
            "\tplant -> output\n",
            "\tplant -> plant\n",
            "}\n"
          ]
        }
      ],
      "source": [
        "print(g.source)"
      ]
    },
    {
      "cell_type": "code",
      "execution_count": null,
      "metadata": {
        "colab": {
          "base_uri": "https://localhost:8080/",
          "height": 35
        },
        "id": "1USHpXoZcjoF",
        "outputId": "9afc793c-4d7c-456a-cc48-bdaa3dbaad35"
      },
      "outputs": [
        {
          "data": {
            "text/plain": [
              "'StateObserver.gv.png'"
            ]
          },
          "execution_count": 11,
          "metadata": {},
          "output_type": "execute_result"
        }
      ],
      "source": [
        "g.attr(dpi=\"600\")\n",
        "g.render()"
      ]
    },
    {
      "cell_type": "code",
      "execution_count": null,
      "metadata": {
        "colab": {
          "base_uri": "https://localhost:8080/",
          "height": 103
        },
        "id": "CJdBdzH6cjoG",
        "outputId": "b67c59fb-6646-472b-8c7d-01556b7a8618"
      },
      "outputs": [
        {
          "data": {
            "image/svg+xml": [
              "<?xml version=\"1.0\" encoding=\"UTF-8\" standalone=\"no\"?>\r\n",
              "<!DOCTYPE svg PUBLIC \"-//W3C//DTD SVG 1.1//EN\"\r\n",
              " \"http://www.w3.org/Graphics/SVG/1.1/DTD/svg11.dtd\">\r\n",
              "<!-- Generated by graphviz version 2.50.0 (0)\r\n",
              " -->\r\n",
              "<!-- Title: JordanArchitecture Pages: 1 -->\r\n",
              "<svg width=\"227pt\" height=\"62pt\"\r\n",
              " viewBox=\"0.00 0.00 227.28 62.00\" xmlns=\"http://www.w3.org/2000/svg\" xmlns:xlink=\"http://www.w3.org/1999/xlink\">\r\n",
              "<g id=\"graph0\" class=\"graph\" transform=\"scale(1 1) rotate(0) translate(4 58)\">\r\n",
              "<title>JordanArchitecture</title>\r\n",
              "<polygon fill=\"white\" stroke=\"transparent\" points=\"-4,4 -4,-58 223.28,-58 223.28,4 -4,4\"/>\r\n",
              "<!-- input -->\r\n",
              "<g id=\"node1\" class=\"node\">\r\n",
              "<title>input</title>\r\n",
              "<ellipse fill=\"none\" stroke=\"black\" cx=\"43.55\" cy=\"-18\" rx=\"43.59\" ry=\"18\"/>\r\n",
              "<text text-anchor=\"middle\" x=\"43.55\" y=\"-14.3\" font-family=\"Times New Roman,serif\" font-size=\"14.00\">input (X)</text>\r\n",
              "</g>\r\n",
              "<!-- output -->\r\n",
              "<g id=\"node2\" class=\"node\">\r\n",
              "<title>output</title>\r\n",
              "<ellipse fill=\"none\" stroke=\"black\" cx=\"171.19\" cy=\"-18\" rx=\"48.19\" ry=\"18\"/>\r\n",
              "<text text-anchor=\"middle\" x=\"171.19\" y=\"-14.3\" font-family=\"Times New Roman,serif\" font-size=\"14.00\">output (Y)</text>\r\n",
              "</g>\r\n",
              "<!-- input&#45;&gt;output -->\r\n",
              "<g id=\"edge2\" class=\"edge\">\r\n",
              "<title>input&#45;&gt;output</title>\r\n",
              "<path fill=\"none\" stroke=\"black\" d=\"M87.43,-18C95.52,-18 104.1,-18 112.55,-18\"/>\r\n",
              "<polygon fill=\"black\" stroke=\"black\" points=\"112.76,-21.5 122.76,-18 112.76,-14.5 112.76,-21.5\"/>\r\n",
              "</g>\r\n",
              "<!-- output&#45;&gt;output -->\r\n",
              "<g id=\"edge1\" class=\"edge\">\r\n",
              "<title>output&#45;&gt;output</title>\r\n",
              "<path fill=\"none\" stroke=\"black\" d=\"M149.23,-34.29C143.94,-44.39 151.25,-54 171.19,-54 183.96,-54 191.55,-50.06 193.97,-44.57\"/>\r\n",
              "<polygon fill=\"black\" stroke=\"black\" points=\"197.43,-43.98 193.15,-34.29 190.45,-44.54 197.43,-43.98\"/>\r\n",
              "</g>\r\n",
              "</g>\r\n",
              "</svg>\r\n"
            ],
            "text/plain": [
              "<graphviz.dot.Digraph at 0x17f61e138e0>"
            ]
          },
          "execution_count": 12,
          "metadata": {},
          "output_type": "execute_result"
        }
      ],
      "source": [
        "g = graphviz.Digraph(name=\"JordanArchitecture\",format=\"png\")\n",
        "g.attr(rankdir='LR')\n",
        "g.node(\"input\",label=\"input (X)\")\n",
        "g.node(\"output\",label=\"output (Y)\")\n",
        "g.edge(\"output\",\"output\")\n",
        "g.edge(\"input\",\"output\")\n",
        "g"
      ]
    },
    {
      "cell_type": "code",
      "execution_count": null,
      "metadata": {
        "colab": {
          "base_uri": "https://localhost:8080/",
          "height": 35
        },
        "id": "7Kt36yIIcjoH",
        "outputId": "7bbbf871-f96e-4eae-8e4c-608c364aa0ae"
      },
      "outputs": [
        {
          "data": {
            "text/plain": [
              "'JordanArchitecture.gv.png'"
            ]
          },
          "execution_count": 13,
          "metadata": {},
          "output_type": "execute_result"
        }
      ],
      "source": [
        "g.attr(dpi=\"600\")\n",
        "g.render()"
      ]
    },
    {
      "cell_type": "code",
      "execution_count": null,
      "metadata": {
        "colab": {
          "base_uri": "https://localhost:8080/",
          "height": 151
        },
        "id": "iz8KkT2ycjoI",
        "outputId": "ad3d071e-c271-465c-eeb3-5eecce1f6998"
      },
      "outputs": [
        {
          "data": {
            "image/svg+xml": [
              "<?xml version=\"1.0\" encoding=\"UTF-8\" standalone=\"no\"?>\r\n",
              "<!DOCTYPE svg PUBLIC \"-//W3C//DTD SVG 1.1//EN\"\r\n",
              " \"http://www.w3.org/Graphics/SVG/1.1/DTD/svg11.dtd\">\r\n",
              "<!-- Generated by graphviz version 2.50.0 (0)\r\n",
              " -->\r\n",
              "<!-- Title: Jordantraining Pages: 1 -->\r\n",
              "<svg width=\"152pt\" height=\"98pt\"\r\n",
              " viewBox=\"0.00 0.00 152.00 98.00\" xmlns=\"http://www.w3.org/2000/svg\" xmlns:xlink=\"http://www.w3.org/1999/xlink\">\r\n",
              "<g id=\"graph0\" class=\"graph\" transform=\"scale(1 1) rotate(0) translate(4 94)\">\r\n",
              "<title>Jordantraining</title>\r\n",
              "<polygon fill=\"white\" stroke=\"transparent\" points=\"-4,4 -4,-94 148,-94 148,4 -4,4\"/>\r\n",
              "<!-- currentinput -->\r\n",
              "<g id=\"node1\" class=\"node\">\r\n",
              "<title>currentinput</title>\r\n",
              "<ellipse fill=\"none\" stroke=\"black\" cx=\"27\" cy=\"-72\" rx=\"27\" ry=\"18\"/>\r\n",
              "<text text-anchor=\"start\" x=\"20\" y=\"-69.3\" font-family=\"Times New Roman,serif\" font-size=\"14.00\">X</text>\r\n",
              "<text text-anchor=\"start\" x=\"30\" y=\"-69.3\" font-family=\"Times New Roman,serif\" baseline-shift=\"sub\" font-size=\"14.00\">t</text>\r\n",
              "</g>\r\n",
              "<!-- currentlabel -->\r\n",
              "<g id=\"node3\" class=\"node\">\r\n",
              "<title>currentlabel</title>\r\n",
              "<ellipse fill=\"none\" stroke=\"black\" cx=\"117\" cy=\"-45\" rx=\"27\" ry=\"18\"/>\r\n",
              "<text text-anchor=\"start\" x=\"110\" y=\"-42.3\" font-family=\"Times New Roman,serif\" font-size=\"14.00\">Y</text>\r\n",
              "<text text-anchor=\"start\" x=\"120\" y=\"-42.3\" font-family=\"Times New Roman,serif\" baseline-shift=\"sub\" font-size=\"14.00\">t</text>\r\n",
              "</g>\r\n",
              "<!-- currentinput&#45;&gt;currentlabel -->\r\n",
              "<g id=\"edge1\" class=\"edge\">\r\n",
              "<title>currentinput&#45;&gt;currentlabel</title>\r\n",
              "<path fill=\"none\" stroke=\"black\" d=\"M52.05,-64.62C61.44,-61.74 72.36,-58.39 82.5,-55.28\"/>\r\n",
              "<polygon fill=\"black\" stroke=\"black\" points=\"83.75,-58.55 92.29,-52.28 81.7,-51.86 83.75,-58.55\"/>\r\n",
              "</g>\r\n",
              "<!-- priorlabel -->\r\n",
              "<g id=\"node2\" class=\"node\">\r\n",
              "<title>priorlabel</title>\r\n",
              "<ellipse fill=\"none\" stroke=\"black\" cx=\"27\" cy=\"-18\" rx=\"27\" ry=\"18\"/>\r\n",
              "<text text-anchor=\"start\" x=\"15.5\" y=\"-15.3\" font-family=\"Times New Roman,serif\" font-size=\"14.00\">Y</text>\r\n",
              "<text text-anchor=\"start\" x=\"25.5\" y=\"-15.3\" font-family=\"Times New Roman,serif\" baseline-shift=\"sub\" font-size=\"14.00\">t&#45;1</text>\r\n",
              "</g>\r\n",
              "<!-- priorlabel&#45;&gt;currentlabel -->\r\n",
              "<g id=\"edge2\" class=\"edge\">\r\n",
              "<title>priorlabel&#45;&gt;currentlabel</title>\r\n",
              "<path fill=\"none\" stroke=\"black\" d=\"M52.05,-25.38C61.44,-28.26 72.36,-31.61 82.5,-34.72\"/>\r\n",
              "<polygon fill=\"black\" stroke=\"black\" points=\"81.7,-38.14 92.29,-37.72 83.75,-31.45 81.7,-38.14\"/>\r\n",
              "</g>\r\n",
              "</g>\r\n",
              "</svg>\r\n"
            ],
            "text/plain": [
              "<graphviz.dot.Digraph at 0x17f61e3bb20>"
            ]
          },
          "execution_count": 14,
          "metadata": {},
          "output_type": "execute_result"
        }
      ],
      "source": [
        "g = graphviz.Digraph(name=\"Jordantraining\",format=\"png\")\n",
        "g.attr(rankdir='LR')\n",
        "g.node(\"currentinput\",label=\"<X<sub>t</sub>>\")\n",
        "g.node(\"priorlabel\",label=\"<Y<sub>t-1</sub>>\")\n",
        "g.node(\"currentlabel\",label=\"<Y<sub>t</sub>>\")\n",
        "g.edge(\"currentinput\",\"currentlabel\")\n",
        "g.edge(\"priorlabel\",\"currentlabel\")\n",
        "g"
      ]
    },
    {
      "cell_type": "code",
      "execution_count": null,
      "metadata": {
        "colab": {
          "base_uri": "https://localhost:8080/",
          "height": 35
        },
        "id": "ackEFFvNcjoI",
        "outputId": "bcc14638-da9b-4536-9f66-d52e8f0dc746"
      },
      "outputs": [
        {
          "data": {
            "text/plain": [
              "'Jordantraining.gv.png'"
            ]
          },
          "execution_count": 15,
          "metadata": {},
          "output_type": "execute_result"
        }
      ],
      "source": [
        "g.attr(dpi=\"600\")\n",
        "g.render()"
      ]
    },
    {
      "cell_type": "code",
      "execution_count": null,
      "metadata": {
        "colab": {
          "base_uri": "https://localhost:8080/",
          "height": 151
        },
        "id": "N13wilsIcjoJ",
        "outputId": "38701b7c-c581-4499-c852-748ced2b2fec"
      },
      "outputs": [
        {
          "data": {
            "image/svg+xml": [
              "<?xml version=\"1.0\" encoding=\"UTF-8\" standalone=\"no\"?>\r\n",
              "<!DOCTYPE svg PUBLIC \"-//W3C//DTD SVG 1.1//EN\"\r\n",
              " \"http://www.w3.org/Graphics/SVG/1.1/DTD/svg11.dtd\">\r\n",
              "<!-- Generated by graphviz version 2.50.0 (0)\r\n",
              " -->\r\n",
              "<!-- Title: ElmanArchitecture Pages: 1 -->\r\n",
              "<svg width=\"242pt\" height=\"98pt\"\r\n",
              " viewBox=\"0.00 0.00 242.00 98.00\" xmlns=\"http://www.w3.org/2000/svg\" xmlns:xlink=\"http://www.w3.org/1999/xlink\">\r\n",
              "<g id=\"graph0\" class=\"graph\" transform=\"scale(1 1) rotate(0) translate(4 94)\">\r\n",
              "<title>ElmanArchitecture</title>\r\n",
              "<polygon fill=\"white\" stroke=\"transparent\" points=\"-4,4 -4,-94 238,-94 238,4 -4,4\"/>\r\n",
              "<!-- currentplant -->\r\n",
              "<g id=\"node1\" class=\"node\">\r\n",
              "<title>currentplant</title>\r\n",
              "<ellipse fill=\"none\" stroke=\"black\" cx=\"117\" cy=\"-45\" rx=\"27\" ry=\"18\"/>\r\n",
              "<text text-anchor=\"start\" x=\"110.5\" y=\"-42.3\" font-family=\"Times New Roman,serif\" font-size=\"14.00\">Z</text>\r\n",
              "<text text-anchor=\"start\" x=\"119.5\" y=\"-42.3\" font-family=\"Times New Roman,serif\" baseline-shift=\"sub\" font-size=\"14.00\">t</text>\r\n",
              "</g>\r\n",
              "<!-- output -->\r\n",
              "<g id=\"node4\" class=\"node\">\r\n",
              "<title>output</title>\r\n",
              "<ellipse fill=\"none\" stroke=\"black\" cx=\"207\" cy=\"-45\" rx=\"27\" ry=\"18\"/>\r\n",
              "<text text-anchor=\"start\" x=\"200\" y=\"-42.3\" font-family=\"Times New Roman,serif\" font-size=\"14.00\">Y</text>\r\n",
              "<text text-anchor=\"start\" x=\"210\" y=\"-42.3\" font-family=\"Times New Roman,serif\" baseline-shift=\"sub\" font-size=\"14.00\">t</text>\r\n",
              "</g>\r\n",
              "<!-- currentplant&#45;&gt;output -->\r\n",
              "<g id=\"edge3\" class=\"edge\">\r\n",
              "<title>currentplant&#45;&gt;output</title>\r\n",
              "<path fill=\"none\" stroke=\"black\" d=\"M144.4,-45C152.39,-45 161.31,-45 169.82,-45\"/>\r\n",
              "<polygon fill=\"black\" stroke=\"black\" points=\"169.92,-48.5 179.92,-45 169.92,-41.5 169.92,-48.5\"/>\r\n",
              "</g>\r\n",
              "<!-- priorplant -->\r\n",
              "<g id=\"node2\" class=\"node\">\r\n",
              "<title>priorplant</title>\r\n",
              "<ellipse fill=\"none\" stroke=\"black\" cx=\"27\" cy=\"-72\" rx=\"27\" ry=\"18\"/>\r\n",
              "<text text-anchor=\"start\" x=\"16\" y=\"-69.3\" font-family=\"Times New Roman,serif\" font-size=\"14.00\">Z</text>\r\n",
              "<text text-anchor=\"start\" x=\"25\" y=\"-69.3\" font-family=\"Times New Roman,serif\" baseline-shift=\"sub\" font-size=\"14.00\">t&#45;1</text>\r\n",
              "</g>\r\n",
              "<!-- priorplant&#45;&gt;currentplant -->\r\n",
              "<g id=\"edge2\" class=\"edge\">\r\n",
              "<title>priorplant&#45;&gt;currentplant</title>\r\n",
              "<path fill=\"none\" stroke=\"black\" d=\"M52.05,-64.62C61.44,-61.74 72.36,-58.39 82.5,-55.28\"/>\r\n",
              "<polygon fill=\"black\" stroke=\"black\" points=\"83.75,-58.55 92.29,-52.28 81.7,-51.86 83.75,-58.55\"/>\r\n",
              "</g>\r\n",
              "<!-- currentinput -->\r\n",
              "<g id=\"node3\" class=\"node\">\r\n",
              "<title>currentinput</title>\r\n",
              "<ellipse fill=\"none\" stroke=\"black\" cx=\"27\" cy=\"-18\" rx=\"27\" ry=\"18\"/>\r\n",
              "<text text-anchor=\"start\" x=\"20\" y=\"-15.3\" font-family=\"Times New Roman,serif\" font-size=\"14.00\">X</text>\r\n",
              "<text text-anchor=\"start\" x=\"30\" y=\"-15.3\" font-family=\"Times New Roman,serif\" baseline-shift=\"sub\" font-size=\"14.00\">t</text>\r\n",
              "</g>\r\n",
              "<!-- currentinput&#45;&gt;currentplant -->\r\n",
              "<g id=\"edge1\" class=\"edge\">\r\n",
              "<title>currentinput&#45;&gt;currentplant</title>\r\n",
              "<path fill=\"none\" stroke=\"black\" d=\"M52.05,-25.38C61.44,-28.26 72.36,-31.61 82.5,-34.72\"/>\r\n",
              "<polygon fill=\"black\" stroke=\"black\" points=\"81.7,-38.14 92.29,-37.72 83.75,-31.45 81.7,-38.14\"/>\r\n",
              "</g>\r\n",
              "</g>\r\n",
              "</svg>\r\n"
            ],
            "text/plain": [
              "<graphviz.dot.Digraph at 0x17f61e06c70>"
            ]
          },
          "execution_count": 16,
          "metadata": {},
          "output_type": "execute_result"
        }
      ],
      "source": [
        "g = graphviz.Digraph(name=\"ElmanArchitecture\",format=\"png\")\n",
        "g.attr(rankdir='LR')\n",
        "g.node(\"currentplant\",label=\"<Z<sub>t</sub>>\")\n",
        "g.node(\"priorplant\",label=\"<Z<sub>t-1</sub>>\")\n",
        "g.node(\"currentinput\",label=\"<X<sub>t</sub>>\")\n",
        "g.node(\"output\",label=\"<Y<sub>t</sub>>\")\n",
        "g.edge(\"currentinput\",\"currentplant\")\n",
        "g.edge(\"priorplant\",\"currentplant\")\n",
        "g.edge(\"currentplant\",\"output\")\n",
        "g"
      ]
    },
    {
      "cell_type": "code",
      "execution_count": null,
      "metadata": {
        "colab": {
          "base_uri": "https://localhost:8080/",
          "height": 35
        },
        "id": "r-SEBWFOcjoJ",
        "outputId": "247fff76-a8e0-4e4e-8574-9d0ae3c27745"
      },
      "outputs": [
        {
          "data": {
            "text/plain": [
              "'ElmanArchitecture.gv.png'"
            ]
          },
          "execution_count": 17,
          "metadata": {},
          "output_type": "execute_result"
        }
      ],
      "source": [
        "g.attr(dpi=\"600\")\n",
        "g.render()"
      ]
    },
    {
      "cell_type": "code",
      "execution_count": null,
      "metadata": {
        "id": "POt27dE1UUWE",
        "outputId": "7a12eccd-69b9-4915-9439-c9407ca12644"
      },
      "outputs": [
        {
          "data": {
            "image/svg+xml": [
              "<?xml version=\"1.0\" encoding=\"UTF-8\" standalone=\"no\"?>\r\n",
              "<!DOCTYPE svg PUBLIC \"-//W3C//DTD SVG 1.1//EN\"\r\n",
              " \"http://www.w3.org/Graphics/SVG/1.1/DTD/svg11.dtd\">\r\n",
              "<!-- Generated by graphviz version 2.50.0 (0)\r\n",
              " -->\r\n",
              "<!-- Title: GRUArchitecture Pages: 1 -->\r\n",
              "<svg width=\"227pt\" height=\"62pt\"\r\n",
              " viewBox=\"0.00 0.00 227.28 62.00\" xmlns=\"http://www.w3.org/2000/svg\" xmlns:xlink=\"http://www.w3.org/1999/xlink\">\r\n",
              "<g id=\"graph0\" class=\"graph\" transform=\"scale(1 1) rotate(0) translate(4 58)\">\r\n",
              "<title>GRUArchitecture</title>\r\n",
              "<polygon fill=\"white\" stroke=\"transparent\" points=\"-4,4 -4,-58 223.28,-58 223.28,4 -4,4\"/>\r\n",
              "<!-- input -->\r\n",
              "<g id=\"node1\" class=\"node\">\r\n",
              "<title>input</title>\r\n",
              "<ellipse fill=\"none\" stroke=\"black\" cx=\"43.55\" cy=\"-18\" rx=\"43.59\" ry=\"18\"/>\r\n",
              "<text text-anchor=\"middle\" x=\"43.55\" y=\"-14.3\" font-family=\"Times New Roman,serif\" font-size=\"14.00\">input (X)</text>\r\n",
              "</g>\r\n",
              "<!-- output -->\r\n",
              "<g id=\"node2\" class=\"node\">\r\n",
              "<title>output</title>\r\n",
              "<ellipse fill=\"none\" stroke=\"black\" cx=\"171.19\" cy=\"-18\" rx=\"48.19\" ry=\"18\"/>\r\n",
              "<text text-anchor=\"middle\" x=\"171.19\" y=\"-14.3\" font-family=\"Times New Roman,serif\" font-size=\"14.00\">output (Y)</text>\r\n",
              "</g>\r\n",
              "<!-- input&#45;&gt;output -->\r\n",
              "<g id=\"edge1\" class=\"edge\">\r\n",
              "<title>input&#45;&gt;output</title>\r\n",
              "<path fill=\"none\" stroke=\"black\" d=\"M87.43,-18C95.52,-18 104.1,-18 112.55,-18\"/>\r\n",
              "<polygon fill=\"black\" stroke=\"black\" points=\"112.76,-21.5 122.76,-18 112.76,-14.5 112.76,-21.5\"/>\r\n",
              "</g>\r\n",
              "<!-- output&#45;&gt;output -->\r\n",
              "<g id=\"edge2\" class=\"edge\">\r\n",
              "<title>output&#45;&gt;output</title>\r\n",
              "<path fill=\"none\" stroke=\"black\" d=\"M149.23,-34.29C143.94,-44.39 151.25,-54 171.19,-54 183.96,-54 191.55,-50.06 193.97,-44.57\"/>\r\n",
              "<polygon fill=\"black\" stroke=\"black\" points=\"197.43,-43.98 193.15,-34.29 190.45,-44.54 197.43,-43.98\"/>\r\n",
              "</g>\r\n",
              "</g>\r\n",
              "</svg>\r\n"
            ],
            "text/plain": [
              "<graphviz.dot.Digraph at 0x17f61e3b730>"
            ]
          },
          "execution_count": 18,
          "metadata": {},
          "output_type": "execute_result"
        }
      ],
      "source": [
        "g = graphviz.Digraph(name=\"GRUArchitecture\",format=\"png\")\n",
        "g.attr(rankdir='LR')\n",
        "g.node(\"input\",label=\"input (X)\")\n",
        "g.node(\"output\",label=\"output (Y)\")\n",
        "g.edge(\"input\",\"output\")\n",
        "g.edge(\"output\",\"output\")\n",
        "g"
      ]
    },
    {
      "cell_type": "code",
      "execution_count": null,
      "metadata": {
        "id": "RXlNgUmAUUWE",
        "outputId": "c38fcc3f-8820-4c90-fc72-c250d542eae0"
      },
      "outputs": [
        {
          "data": {
            "text/plain": [
              "'GRUArchitecture.gv.png'"
            ]
          },
          "execution_count": 19,
          "metadata": {},
          "output_type": "execute_result"
        }
      ],
      "source": [
        "g.attr(dpi=\"600\")\n",
        "g.render()"
      ]
    },
    {
      "cell_type": "code",
      "execution_count": null,
      "metadata": {
        "colab": {
          "base_uri": "https://localhost:8080/",
          "height": 134
        },
        "id": "TJdcxrvbcjoM",
        "outputId": "087df934-9e6e-4667-ab55-5daa173748a9"
      },
      "outputs": [
        {
          "data": {
            "image/svg+xml": [
              "<?xml version=\"1.0\" encoding=\"UTF-8\" standalone=\"no\"?>\r\n",
              "<!DOCTYPE svg PUBLIC \"-//W3C//DTD SVG 1.1//EN\"\r\n",
              " \"http://www.w3.org/Graphics/SVG/1.1/DTD/svg11.dtd\">\r\n",
              "<!-- Generated by graphviz version 2.50.0 (0)\r\n",
              " -->\r\n",
              "<!-- Title: LSTMArchitecture Pages: 1 -->\r\n",
              "<svg width=\"348pt\" height=\"85pt\"\r\n",
              " viewBox=\"0.00 0.00 347.78 85.00\" xmlns=\"http://www.w3.org/2000/svg\" xmlns:xlink=\"http://www.w3.org/1999/xlink\">\r\n",
              "<g id=\"graph0\" class=\"graph\" transform=\"scale(1 1) rotate(0) translate(4 81)\">\r\n",
              "<title>LSTMArchitecture</title>\r\n",
              "<polygon fill=\"white\" stroke=\"transparent\" points=\"-4,4 -4,-81 343.78,-81 343.78,4 -4,4\"/>\r\n",
              "<!-- input -->\r\n",
              "<g id=\"node1\" class=\"node\">\r\n",
              "<title>input</title>\r\n",
              "<ellipse fill=\"none\" stroke=\"black\" cx=\"43.55\" cy=\"-18\" rx=\"43.59\" ry=\"18\"/>\r\n",
              "<text text-anchor=\"middle\" x=\"43.55\" y=\"-14.3\" font-family=\"Times New Roman,serif\" font-size=\"14.00\">input (X)</text>\r\n",
              "</g>\r\n",
              "<!-- plant -->\r\n",
              "<g id=\"node2\" class=\"node\">\r\n",
              "<title>plant</title>\r\n",
              "<ellipse fill=\"none\" stroke=\"black\" cx=\"165.34\" cy=\"-41\" rx=\"42.49\" ry=\"18\"/>\r\n",
              "<text text-anchor=\"middle\" x=\"165.34\" y=\"-37.3\" font-family=\"Times New Roman,serif\" font-size=\"14.00\">plant (Z)</text>\r\n",
              "</g>\r\n",
              "<!-- input&#45;&gt;plant -->\r\n",
              "<g id=\"edge1\" class=\"edge\">\r\n",
              "<title>input&#45;&gt;plant</title>\r\n",
              "<path fill=\"none\" stroke=\"black\" d=\"M83.44,-25.47C94.01,-27.5 105.57,-29.72 116.56,-31.83\"/>\r\n",
              "<polygon fill=\"black\" stroke=\"black\" points=\"115.98,-35.28 126.46,-33.73 117.3,-28.4 115.98,-35.28\"/>\r\n",
              "</g>\r\n",
              "<!-- output -->\r\n",
              "<g id=\"node3\" class=\"node\">\r\n",
              "<title>output</title>\r\n",
              "<ellipse fill=\"none\" stroke=\"black\" cx=\"291.68\" cy=\"-18\" rx=\"48.19\" ry=\"18\"/>\r\n",
              "<text text-anchor=\"middle\" x=\"291.68\" y=\"-14.3\" font-family=\"Times New Roman,serif\" font-size=\"14.00\">output (Y)</text>\r\n",
              "</g>\r\n",
              "<!-- input&#45;&gt;output -->\r\n",
              "<g id=\"edge4\" class=\"edge\">\r\n",
              "<title>input&#45;&gt;output</title>\r\n",
              "<path fill=\"none\" stroke=\"black\" d=\"M86.93,-15.45C98.64,-14.85 111.35,-14.3 123.09,-14 160.63,-13.04 170.04,-13.1 207.58,-14 215.99,-14.2 224.87,-14.52 233.58,-14.89\"/>\r\n",
              "<polygon fill=\"black\" stroke=\"black\" points=\"233.53,-18.39 243.67,-15.34 233.84,-11.4 233.53,-18.39\"/>\r\n",
              "</g>\r\n",
              "<!-- plant&#45;&gt;plant -->\r\n",
              "<g id=\"edge2\" class=\"edge\">\r\n",
              "<title>plant&#45;&gt;plant</title>\r\n",
              "<path fill=\"none\" stroke=\"black\" d=\"M144.62,-56.92C139.21,-67.15 146.12,-77 165.34,-77 177.95,-77 185.26,-72.76 187.27,-66.95\"/>\r\n",
              "<polygon fill=\"black\" stroke=\"black\" points=\"190.73,-66.43 186.06,-56.92 183.78,-67.26 190.73,-66.43\"/>\r\n",
              "</g>\r\n",
              "<!-- plant&#45;&gt;output -->\r\n",
              "<g id=\"edge3\" class=\"edge\">\r\n",
              "<title>plant&#45;&gt;output</title>\r\n",
              "<path fill=\"none\" stroke=\"black\" d=\"M204.32,-33.97C215.04,-31.99 226.89,-29.8 238.29,-27.69\"/>\r\n",
              "<polygon fill=\"black\" stroke=\"black\" points=\"238.96,-31.13 248.16,-25.87 237.69,-24.24 238.96,-31.13\"/>\r\n",
              "</g>\r\n",
              "</g>\r\n",
              "</svg>\r\n"
            ],
            "text/plain": [
              "<graphviz.dot.Digraph at 0x17f61e42400>"
            ]
          },
          "execution_count": 20,
          "metadata": {},
          "output_type": "execute_result"
        }
      ],
      "source": [
        "g = graphviz.Digraph(name=\"LSTMArchitecture\",format=\"png\")\n",
        "g.attr(rankdir='LR')\n",
        "g.node(\"input\",label=\"input (X)\")\n",
        "g.node(\"plant\",label=\"plant (Z)\")\n",
        "g.node(\"output\",label=\"output (Y)\")\n",
        "g.edge(\"input\",\"plant\")\n",
        "g.edge(\"plant\",\"plant\")\n",
        "g.edge(\"plant\",\"output\")\n",
        "g.edge(\"input\",\"output\")\n",
        "g"
      ]
    },
    {
      "cell_type": "code",
      "execution_count": null,
      "metadata": {
        "colab": {
          "base_uri": "https://localhost:8080/",
          "height": 35
        },
        "id": "1M6GxRPucjoM",
        "outputId": "40170468-62b7-4c56-f06c-04a67e144cfc"
      },
      "outputs": [
        {
          "data": {
            "text/plain": [
              "'LSTMArchitecture.gv.png'"
            ]
          },
          "execution_count": 21,
          "metadata": {},
          "output_type": "execute_result"
        }
      ],
      "source": [
        "g.attr(dpi=\"600\")\n",
        "g.render()"
      ]
    },
    {
      "cell_type": "markdown",
      "metadata": {
        "id": "gurcg-ZbUUWE"
      },
      "source": [
        "## informative visuals #"
      ]
    },
    {
      "cell_type": "code",
      "execution_count": null,
      "metadata": {
        "colab": {
          "base_uri": "https://localhost:8080/",
          "height": 316
        },
        "id": "PC5XWuBbcjoL",
        "outputId": "1a78adcd-1aa8-4cb3-efe8-063bf847ae5b"
      },
      "outputs": [
        {
          "data": {
            "image/png": "[encoded data removed]",
            "text/plain": [
              "<Figure size 640x480 with 1 Axes>"
            ]
          },
          "metadata": {},
          "output_type": "display_data"
        }
      ],
      "source": [
        "alpharange=numpy.linspace(0,1,endpoint=False)\n",
        "alpharange=alpharange[alpharange>0]\n",
        "\n",
        "Timehorizon=1/numpy.log(1/alpharange)\n",
        "plt.figure()\n",
        "title=[]\n",
        "title.append(r\"Time horizon of $|m_{{zz}}|^t$\")\n",
        "plt.title(\"\\n\".join(title))\n",
        "plt.xlabel(r\"$|m_{{zz}}|$\")\n",
        "plt.ylabel(r\"$T_{{m_{{zz}}}}$\")\n",
        "plt.plot(alpharange,Timehorizon,color=\"blue\")\n",
        "saver(\"timehorizon\")\n",
        "plt.show()\n",
        "plt.close()"
      ]
    },
    {
      "cell_type": "markdown",
      "metadata": {
        "id": "vKp-OWeWUUWF"
      },
      "source": [
        "## Energy price data #"
      ]
    },
    {
      "cell_type": "code",
      "execution_count": null,
      "metadata": {
        "id": "BlZqj7TNcjoO"
      },
      "outputs": [],
      "source": [
        "text=\"\\\\begin{{center}}MISO data from \\\\url{{{0:s}}}\\\\end{{center}}\"\n",
        "with open(\"dataurl.tex\",\"w\") as f:\n",
        "    f.write(text.format(url))\n",
        "f.close()"
      ]
    },
    {
      "cell_type": "code",
      "execution_count": null,
      "metadata": {
        "colab": {
          "base_uri": "https://localhost:8080/",
          "height": 221
        },
        "id": "5ob8aRKscjoQ",
        "outputId": "550b82fa-9220-41f0-91da-e85515021de3"
      },
      "outputs": [
        {
          "data": {
            "text/html": [
              "<div>\n",
              "<style scoped>\n",
              "    .dataframe tbody tr th:only-of-type {\n",
              "        vertical-align: middle;\n",
              "    }\n",
              "\n",
              "    .dataframe tbody tr th {\n",
              "        vertical-align: top;\n",
              "    }\n",
              "\n",
              "    .dataframe thead th {\n",
              "        text-align: right;\n",
              "    }\n",
              "</style>\n",
              "<table border=\"1\" class=\"dataframe\">\n",
              "  <thead>\n",
              "    <tr style=\"text-align: right;\">\n",
              "      <th></th>\n",
              "      <th>Date</th>\n",
              "      <th>LMP</th>\n",
              "      <th>HUB</th>\n",
              "    </tr>\n",
              "  </thead>\n",
              "  <tbody>\n",
              "    <tr>\n",
              "      <th>0</th>\n",
              "      <td>1/1/2023 12:00:00 AM</td>\n",
              "      <td>21.62</td>\n",
              "      <td>ILLINOIS.HUB</td>\n",
              "    </tr>\n",
              "    <tr>\n",
              "      <th>1</th>\n",
              "      <td>1/1/2023 12:00:00 AM</td>\n",
              "      <td>22.82</td>\n",
              "      <td>INDIANA.HUB</td>\n",
              "    </tr>\n",
              "    <tr>\n",
              "      <th>2</th>\n",
              "      <td>1/1/2023 12:00:00 AM</td>\n",
              "      <td>21.49</td>\n",
              "      <td>TEXAS.HUB</td>\n",
              "    </tr>\n",
              "    <tr>\n",
              "      <th>3</th>\n",
              "      <td>1/1/2023 12:00:00 AM</td>\n",
              "      <td>22.16</td>\n",
              "      <td>LOUISIANA.HUB</td>\n",
              "    </tr>\n",
              "    <tr>\n",
              "      <th>4</th>\n",
              "      <td>1/1/2023 12:00:00 AM</td>\n",
              "      <td>22.93</td>\n",
              "      <td>MICHIGAN.HUB</td>\n",
              "    </tr>\n",
              "  </tbody>\n",
              "</table>\n",
              "</div>"
            ],
            "text/plain": [
              "                   Date    LMP            HUB\n",
              "0  1/1/2023 12:00:00 AM  21.62   ILLINOIS.HUB\n",
              "1  1/1/2023 12:00:00 AM  22.82    INDIANA.HUB\n",
              "2  1/1/2023 12:00:00 AM  21.49      TEXAS.HUB\n",
              "3  1/1/2023 12:00:00 AM  22.16  LOUISIANA.HUB\n",
              "4  1/1/2023 12:00:00 AM  22.93   MICHIGAN.HUB"
            ]
          },
          "execution_count": 24,
          "metadata": {},
          "output_type": "execute_result"
        }
      ],
      "source": [
        "actual_raw=getfile(fname_actual)\n",
        "actual_raw.head()"
      ]
    },
    {
      "cell_type": "code",
      "execution_count": null,
      "metadata": {
        "id": "cN1QWvIiUUWF",
        "outputId": "4a250393-7024-42dd-9afb-0710cb4cabfc"
      },
      "outputs": [
        {
          "name": "stdout",
          "output_type": "stream",
          "text": [
            "\\begin{tabular}{lrl}\n",
            "\\toprule\n",
            "\\textbf{Date} & \\textbf{LMP} & \\textbf{HUB} \\\\\n",
            "\\midrule\n",
            "1/1/2023 12:00:00 AM & 21.620 & ILLINOIS.HUB \\\\\n",
            "1/1/2023 12:00:00 AM & 22.820 & INDIANA.HUB \\\\\n",
            "1/1/2023 12:00:00 AM & 21.490 & TEXAS.HUB \\\\\n",
            "1/1/2023 12:00:00 AM & 22.160 & LOUISIANA.HUB \\\\\n",
            "1/1/2023 12:00:00 AM & 22.930 & MICHIGAN.HUB \\\\\n",
            "\\bottomrule\n",
            "\\end{tabular}\n",
            "\n"
          ]
        }
      ],
      "source": [
        "actual_raw_ltx=actual_raw.head().style\\\n",
        ".format(precision=3)\\\n",
        ".hide(axis=\"index\")\\\n",
        ".format_index(r\"\\textbf{{{}}}\",axis=\"columns\")\\\n",
        ".to_latex(hrules=True)\n",
        "ptf(actual_raw_ltx,\"actual\")"
      ]
    },
    {
      "cell_type": "code",
      "execution_count": null,
      "metadata": {
        "id": "01v4Hy1DcjoQ",
        "outputId": "769b063f-6ef9-47fe-e930-2d6ce93738ac"
      },
      "outputs": [
        {
          "name": "stderr",
          "output_type": "stream",
          "text": [
            "C:\\Users\\richa\\AppData\\Local\\Temp\\ipykernel_18892\\3813914003.py:3: UserWarning: Could not infer format, so each element will be parsed individually, falling back to `dateutil`. To ensure parsing is consistent and as-expected, please specify a format.\n",
            "  actual[\"Date\"]=pandas.to_datetime(actual[\"Date\"])\n"
          ]
        }
      ],
      "source": [
        "actual=actual_raw.copy()\n",
        "actual=actual.rename(columns={\"LMP\":\"Actual Price\"})\n",
        "actual[\"Date\"]=pandas.to_datetime(actual[\"Date\"])\n",
        "actual=actual.set_index([\"Date\",\"HUB\"],append=False,drop=True)"
      ]
    },
    {
      "cell_type": "code",
      "execution_count": null,
      "metadata": {
        "colab": {
          "base_uri": "https://localhost:8080/",
          "height": 221
        },
        "id": "5YUybb8pcjoQ",
        "outputId": "83640ace-3194-486c-ca92-6e820848ff2d"
      },
      "outputs": [
        {
          "data": {
            "text/html": [
              "<div>\n",
              "<style scoped>\n",
              "    .dataframe tbody tr th:only-of-type {\n",
              "        vertical-align: middle;\n",
              "    }\n",
              "\n",
              "    .dataframe tbody tr th {\n",
              "        vertical-align: top;\n",
              "    }\n",
              "\n",
              "    .dataframe thead th {\n",
              "        text-align: right;\n",
              "    }\n",
              "</style>\n",
              "<table border=\"1\" class=\"dataframe\">\n",
              "  <thead>\n",
              "    <tr style=\"text-align: right;\">\n",
              "      <th></th>\n",
              "      <th>Date</th>\n",
              "      <th>lmp</th>\n",
              "      <th>node</th>\n",
              "    </tr>\n",
              "  </thead>\n",
              "  <tbody>\n",
              "    <tr>\n",
              "      <th>0</th>\n",
              "      <td>1/1/2023 12:00:00 AM</td>\n",
              "      <td>27.10</td>\n",
              "      <td>ARKANSAS.HUB</td>\n",
              "    </tr>\n",
              "    <tr>\n",
              "      <th>1</th>\n",
              "      <td>1/1/2023 12:00:00 AM</td>\n",
              "      <td>27.51</td>\n",
              "      <td>ILLINOIS.HUB</td>\n",
              "    </tr>\n",
              "    <tr>\n",
              "      <th>2</th>\n",
              "      <td>1/1/2023 12:00:00 AM</td>\n",
              "      <td>29.05</td>\n",
              "      <td>INDIANA.HUB</td>\n",
              "    </tr>\n",
              "    <tr>\n",
              "      <th>3</th>\n",
              "      <td>1/1/2023 12:00:00 AM</td>\n",
              "      <td>27.73</td>\n",
              "      <td>LOUISIANA.HUB</td>\n",
              "    </tr>\n",
              "    <tr>\n",
              "      <th>4</th>\n",
              "      <td>1/1/2023 12:00:00 AM</td>\n",
              "      <td>28.80</td>\n",
              "      <td>MICHIGAN.HUB</td>\n",
              "    </tr>\n",
              "  </tbody>\n",
              "</table>\n",
              "</div>"
            ],
            "text/plain": [
              "                   Date    lmp           node\n",
              "0  1/1/2023 12:00:00 AM  27.10   ARKANSAS.HUB\n",
              "1  1/1/2023 12:00:00 AM  27.51   ILLINOIS.HUB\n",
              "2  1/1/2023 12:00:00 AM  29.05    INDIANA.HUB\n",
              "3  1/1/2023 12:00:00 AM  27.73  LOUISIANA.HUB\n",
              "4  1/1/2023 12:00:00 AM  28.80   MICHIGAN.HUB"
            ]
          },
          "execution_count": 27,
          "metadata": {},
          "output_type": "execute_result"
        }
      ],
      "source": [
        "dayahead_raw=getfile(fname_dayahead)\n",
        "dayahead_raw.head()"
      ]
    },
    {
      "cell_type": "code",
      "execution_count": null,
      "metadata": {
        "id": "ON8IQ5JZUUWF",
        "outputId": "2f1fa165-f241-4c90-8232-d043d93a8244"
      },
      "outputs": [
        {
          "name": "stdout",
          "output_type": "stream",
          "text": [
            "\\begin{tabular}{lrl}\n",
            "\\toprule\n",
            "\\textbf{Date} & \\textbf{lmp} & \\textbf{node} \\\\\n",
            "\\midrule\n",
            "1/1/2023 12:00:00 AM & 27.100 & ARKANSAS.HUB \\\\\n",
            "1/1/2023 12:00:00 AM & 27.510 & ILLINOIS.HUB \\\\\n",
            "1/1/2023 12:00:00 AM & 29.050 & INDIANA.HUB \\\\\n",
            "1/1/2023 12:00:00 AM & 27.730 & LOUISIANA.HUB \\\\\n",
            "1/1/2023 12:00:00 AM & 28.800 & MICHIGAN.HUB \\\\\n",
            "\\bottomrule\n",
            "\\end{tabular}\n",
            "\n"
          ]
        }
      ],
      "source": [
        "dayahead_raw_ltx=dayahead_raw.head().style\\\n",
        ".format(precision=3)\\\n",
        ".hide(axis=\"index\")\\\n",
        ".format_index(r\"\\textbf{{{}}}\",axis=\"columns\")\\\n",
        ".to_latex(hrules=True)\n",
        "ptf(dayahead_raw_ltx,\"dayahead\")"
      ]
    },
    {
      "cell_type": "code",
      "execution_count": null,
      "metadata": {
        "id": "Rw3oSwu1cjoR",
        "outputId": "bd70bb91-1cc4-4f08-dc91-aedc3275f7fa"
      },
      "outputs": [
        {
          "name": "stderr",
          "output_type": "stream",
          "text": [
            "C:\\Users\\richa\\AppData\\Local\\Temp\\ipykernel_18892\\3575328481.py:3: UserWarning: Could not infer format, so each element will be parsed individually, falling back to `dateutil`. To ensure parsing is consistent and as-expected, please specify a format.\n",
            "  dayahead[\"Date\"]=pandas.to_datetime(dayahead[\"Date\"])\n"
          ]
        }
      ],
      "source": [
        "dayahead=dayahead_raw.copy()\n",
        "dayahead=dayahead.rename(columns={\"lmp\":\"DayAhead Price\",\"node\":\"HUB\"})\n",
        "dayahead[\"Date\"]=pandas.to_datetime(dayahead[\"Date\"])\n",
        "dayahead=dayahead.set_index([\"Date\",\"HUB\"],append=False,drop=True)"
      ]
    },
    {
      "cell_type": "code",
      "execution_count": null,
      "metadata": {
        "id": "TIJAkhStcjoS",
        "outputId": "f446447c-0a5c-488f-b242-dbe6aa85cc61"
      },
      "outputs": [
        {
          "data": {
            "text/html": [
              "<div>\n",
              "<style scoped>\n",
              "    .dataframe tbody tr th:only-of-type {\n",
              "        vertical-align: middle;\n",
              "    }\n",
              "\n",
              "    .dataframe tbody tr th {\n",
              "        vertical-align: top;\n",
              "    }\n",
              "\n",
              "    .dataframe thead th {\n",
              "        text-align: right;\n",
              "    }\n",
              "</style>\n",
              "<table border=\"1\" class=\"dataframe\">\n",
              "  <thead>\n",
              "    <tr style=\"text-align: right;\">\n",
              "      <th></th>\n",
              "      <th>DayAhead Price</th>\n",
              "      <th>Actual Price</th>\n",
              "    </tr>\n",
              "    <tr>\n",
              "      <th>Date</th>\n",
              "      <th></th>\n",
              "      <th></th>\n",
              "    </tr>\n",
              "  </thead>\n",
              "  <tbody>\n",
              "    <tr>\n",
              "      <th>2023-01-01 00:00:00</th>\n",
              "      <td>27.51</td>\n",
              "      <td>21.62</td>\n",
              "    </tr>\n",
              "    <tr>\n",
              "      <th>2023-01-01 01:00:00</th>\n",
              "      <td>26.48</td>\n",
              "      <td>20.77</td>\n",
              "    </tr>\n",
              "    <tr>\n",
              "      <th>2023-01-01 02:00:00</th>\n",
              "      <td>26.36</td>\n",
              "      <td>21.23</td>\n",
              "    </tr>\n",
              "    <tr>\n",
              "      <th>2023-01-01 03:00:00</th>\n",
              "      <td>26.25</td>\n",
              "      <td>20.28</td>\n",
              "    </tr>\n",
              "    <tr>\n",
              "      <th>2023-01-01 04:00:00</th>\n",
              "      <td>25.59</td>\n",
              "      <td>18.57</td>\n",
              "    </tr>\n",
              "  </tbody>\n",
              "</table>\n",
              "</div>"
            ],
            "text/plain": [
              "                     DayAhead Price  Actual Price\n",
              "Date                                             \n",
              "2023-01-01 00:00:00           27.51         21.62\n",
              "2023-01-01 01:00:00           26.48         20.77\n",
              "2023-01-01 02:00:00           26.36         21.23\n",
              "2023-01-01 03:00:00           26.25         20.28\n",
              "2023-01-01 04:00:00           25.59         18.57"
            ]
          },
          "execution_count": 30,
          "metadata": {},
          "output_type": "execute_result"
        }
      ],
      "source": [
        "joined=pandas.concat([dayahead,actual],axis=\"columns\",join=\"inner\")\n",
        "illinois=joined.query(\"HUB=='ILLINOIS.HUB'\").sort_index(axis=\"index\").reset_index(\"HUB\",drop=True).copy()\n",
        "illinois.head()"
      ]
    },
    {
      "cell_type": "code",
      "execution_count": null,
      "metadata": {
        "id": "cb7hXivXUUWF"
      },
      "outputs": [],
      "source": [
        "illinois.to_pickle(\"illinois.pkl\")"
      ]
    },
    {
      "cell_type": "code",
      "execution_count": null,
      "metadata": {
        "id": "4sekn-VSUUWJ",
        "outputId": "d6fddfb4-e68e-4a98-83b8-440216e292b2"
      },
      "outputs": [
        {
          "name": "stdout",
          "output_type": "stream",
          "text": [
            "\\begin{tabular}{lrr}\n",
            "\\toprule\n",
            " & \\textbf{DayAhead Price} & \\textbf{Actual Price} \\\\\n",
            "Date &  &  \\\\\n",
            "\\midrule\n",
            "2023-01-01 00:00:00 & 27.510 & 21.620 \\\\\n",
            "2023-01-01 01:00:00 & 26.480 & 20.770 \\\\\n",
            "2023-01-01 02:00:00 & 26.360 & 21.230 \\\\\n",
            "\\bottomrule\n",
            "\\end{tabular}\n",
            "\n"
          ]
        }
      ],
      "source": [
        "illinois_ltx=illinois.head(3).style\\\n",
        ".format(precision=3)\\\n",
        ".format_index(r\"\\textbf{{{}}}\",axis=\"columns\")\\\n",
        ".to_latex(hrules=True)\n",
        "ptf(illinois_ltx,\"illinois\")"
      ]
    },
    {
      "cell_type": "code",
      "execution_count": null,
      "metadata": {
        "id": "IxwN236ZUUWJ",
        "outputId": "cc968a8b-379e-4d2f-dff6-84ec74e01e59"
      },
      "outputs": [
        {
          "data": {
            "image/png": "[encoded data removed]",
            "text/plain": [
              "<Figure size 640x480 with 1 Axes>"
            ]
          },
          "metadata": {},
          "output_type": "display_data"
        }
      ],
      "source": [
        "DAYS=7\n",
        "begin=illinois.index[0]\n",
        "end=begin+datetime.timedelta(days=DAYS)\n",
        "query=\"(Date>='{0:}') and (Date<'{1:}')\".format(begin,end)\n",
        "temp=illinois.query(query)\n",
        "plt.figure()\n",
        "plt.plot(temp.index,temp[\"Actual Price\"],color=\"red\",label=\"Actual Prices\")\n",
        "plt.plot(temp.index,temp[\"DayAhead Price\"],color=\"blue\",label=\"DayAhead Prices\")\n",
        "legend(\"side\")\n",
        "plt.ylabel(\"$/mWh\")\n",
        "plt.gcf().autofmt_xdate()\n",
        "title=[]\n",
        "title.append(\"MISO Prices\")\n",
        "title.append(\"[{:},{:})\".format(temp.index[0].date(),temp.index[-1].date()))\n",
        "plt.title(\"\\n\".join(title))\n",
        "locator = mdates.AutoDateLocator(minticks=4, maxticks=12)\n",
        "formatter = mdates.ConciseDateFormatter(locator)\n",
        "plt.gca().xaxis.set_major_locator(locator)\n",
        "plt.gca().xaxis.set_major_formatter(formatter)\n",
        "saver(\"powerprices\")\n",
        "plt.show()\n",
        "plt.close()"
      ]
    },
    {
      "cell_type": "code",
      "execution_count": null,
      "metadata": {
        "scrolled": true,
        "id": "eopPFj9TUUWJ",
        "outputId": "af944965-9bec-4167-ee60-862db5558df4"
      },
      "outputs": [
        {
          "data": {
            "text/html": [
              "<div>\n",
              "<style scoped>\n",
              "    .dataframe tbody tr th:only-of-type {\n",
              "        vertical-align: middle;\n",
              "    }\n",
              "\n",
              "    .dataframe tbody tr th {\n",
              "        vertical-align: top;\n",
              "    }\n",
              "\n",
              "    .dataframe thead th {\n",
              "        text-align: right;\n",
              "    }\n",
              "</style>\n",
              "<table border=\"1\" class=\"dataframe\">\n",
              "  <thead>\n",
              "    <tr style=\"text-align: right;\">\n",
              "      <th></th>\n",
              "      <th>X</th>\n",
              "      <th>Y</th>\n",
              "    </tr>\n",
              "    <tr>\n",
              "      <th>t</th>\n",
              "      <th></th>\n",
              "      <th></th>\n",
              "    </tr>\n",
              "  </thead>\n",
              "  <tbody>\n",
              "    <tr>\n",
              "      <th>1</th>\n",
              "      <td>0.2751</td>\n",
              "      <td>0.2162</td>\n",
              "    </tr>\n",
              "    <tr>\n",
              "      <th>2</th>\n",
              "      <td>0.2648</td>\n",
              "      <td>0.2077</td>\n",
              "    </tr>\n",
              "    <tr>\n",
              "      <th>3</th>\n",
              "      <td>0.2636</td>\n",
              "      <td>0.2123</td>\n",
              "    </tr>\n",
              "    <tr>\n",
              "      <th>4</th>\n",
              "      <td>0.2625</td>\n",
              "      <td>0.2028</td>\n",
              "    </tr>\n",
              "    <tr>\n",
              "      <th>5</th>\n",
              "      <td>0.2559</td>\n",
              "      <td>0.1857</td>\n",
              "    </tr>\n",
              "  </tbody>\n",
              "</table>\n",
              "</div>"
            ],
            "text/plain": [
              "        X       Y\n",
              "t                \n",
              "1  0.2751  0.2162\n",
              "2  0.2648  0.2077\n",
              "3  0.2636  0.2123\n",
              "4  0.2625  0.2028\n",
              "5  0.2559  0.1857"
            ]
          },
          "execution_count": 34,
          "metadata": {},
          "output_type": "execute_result"
        }
      ],
      "source": [
        "RNN_data=illinois.rename(columns={\"DayAhead Price\":\"X\",\"Actual Price\":\"Y\"})/100\n",
        "RNN_data[\"t\"]=range(len(RNN_data))\n",
        "RNN_data=RNN_data.set_index(\"t\",append=False,drop=True)\n",
        "RNN_data.index+=1\n",
        "RNN_data.head()"
      ]
    },
    {
      "cell_type": "code",
      "execution_count": null,
      "metadata": {
        "id": "hdVtt20oUUWJ",
        "outputId": "b7b714c5-134f-48e9-c10d-3c59376400be"
      },
      "outputs": [
        {
          "name": "stdout",
          "output_type": "stream",
          "text": [
            "\\begin{tabular}{lrr}\n",
            "\\toprule\n",
            " & \\textbf{X} & \\textbf{Y} \\\\\n",
            "t &  &  \\\\\n",
            "\\midrule\n",
            "1 & 0.275 & 0.216 \\\\\n",
            "2 & 0.265 & 0.208 \\\\\n",
            "3 & 0.264 & 0.212 \\\\\n",
            "4 & 0.263 & 0.203 \\\\\n",
            "5 & 0.256 & 0.186 \\\\\n",
            "\\bottomrule\n",
            "\\end{tabular}\n",
            "\n"
          ]
        }
      ],
      "source": [
        "RNN_data_ltx=RNN_data.head().style\\\n",
        ".format(precision=3)\\\n",
        ".format_index(r\"\\textbf{{{}}}\",axis=\"columns\")\\\n",
        ".to_latex(hrules=True)\n",
        "ptf(RNN_data_ltx,\"RNN_data\")"
      ]
    },
    {
      "cell_type": "code",
      "execution_count": null,
      "metadata": {
        "id": "krKK2plUUUWJ",
        "outputId": "92f07a63-094d-44ea-d9bc-97e9acab5c10"
      },
      "outputs": [
        {
          "data": {
            "image/png": "[encoded data removed]",
            "text/plain": [
              "<Figure size 100x100 with 1 Axes>"
            ]
          },
          "metadata": {},
          "output_type": "display_data"
        }
      ],
      "source": [
        "text=[\"t corresponds to ({:})+(t-1) hours\".format(min(illinois.index))]\n",
        "textbox(text,\"timeshift\")"
      ]
    },
    {
      "cell_type": "markdown",
      "metadata": {
        "id": "ewW0-39qUUWJ"
      },
      "source": [
        "## Jordan network #"
      ]
    },
    {
      "cell_type": "code",
      "execution_count": null,
      "metadata": {
        "id": "tOw8u8hLUUWJ",
        "outputId": "a4c814eb-7e14-4ea0-ec75-2e2fba98c3d9"
      },
      "outputs": [
        {
          "data": {
            "text/html": [
              "<div>\n",
              "<style scoped>\n",
              "    .dataframe tbody tr th:only-of-type {\n",
              "        vertical-align: middle;\n",
              "    }\n",
              "\n",
              "    .dataframe tbody tr th {\n",
              "        vertical-align: top;\n",
              "    }\n",
              "\n",
              "    .dataframe thead tr th {\n",
              "        text-align: left;\n",
              "    }\n",
              "\n",
              "    .dataframe thead tr:last-of-type th {\n",
              "        text-align: right;\n",
              "    }\n",
              "</style>\n",
              "<table border=\"1\" class=\"dataframe\">\n",
              "  <thead>\n",
              "    <tr>\n",
              "      <th></th>\n",
              "      <th colspan=\"2\" halign=\"left\">Feature</th>\n",
              "      <th>Label</th>\n",
              "    </tr>\n",
              "    <tr>\n",
              "      <th></th>\n",
              "      <th>X</th>\n",
              "      <th>lagged Y</th>\n",
              "      <th>Y</th>\n",
              "    </tr>\n",
              "    <tr>\n",
              "      <th>t</th>\n",
              "      <th></th>\n",
              "      <th></th>\n",
              "      <th></th>\n",
              "    </tr>\n",
              "  </thead>\n",
              "  <tbody>\n",
              "    <tr>\n",
              "      <th>2</th>\n",
              "      <td>0.2648</td>\n",
              "      <td>0.2162</td>\n",
              "      <td>0.2077</td>\n",
              "    </tr>\n",
              "    <tr>\n",
              "      <th>3</th>\n",
              "      <td>0.2636</td>\n",
              "      <td>0.2077</td>\n",
              "      <td>0.2123</td>\n",
              "    </tr>\n",
              "    <tr>\n",
              "      <th>4</th>\n",
              "      <td>0.2625</td>\n",
              "      <td>0.2123</td>\n",
              "      <td>0.2028</td>\n",
              "    </tr>\n",
              "    <tr>\n",
              "      <th>5</th>\n",
              "      <td>0.2559</td>\n",
              "      <td>0.2028</td>\n",
              "      <td>0.1857</td>\n",
              "    </tr>\n",
              "    <tr>\n",
              "      <th>6</th>\n",
              "      <td>0.2598</td>\n",
              "      <td>0.1857</td>\n",
              "      <td>0.1948</td>\n",
              "    </tr>\n",
              "  </tbody>\n",
              "</table>\n",
              "</div>"
            ],
            "text/plain": [
              "  Feature            Label\n",
              "        X lagged Y       Y\n",
              "t                         \n",
              "2  0.2648   0.2162  0.2077\n",
              "3  0.2636   0.2077  0.2123\n",
              "4  0.2625   0.2123  0.2028\n",
              "5  0.2559   0.2028  0.1857\n",
              "6  0.2598   0.1857  0.1948"
            ]
          },
          "execution_count": 37,
          "metadata": {},
          "output_type": "execute_result"
        }
      ],
      "source": [
        "Jordan=RNN_data.copy()\n",
        "Jordan[\"lagged Y\"]=Jordan[\"Y\"].shift()\n",
        "Jordan=Jordan[[\"X\",\"lagged Y\",\"Y\"]]\n",
        "Jordan=Jordan.dropna(axis='index')\n",
        "Jordan.columns=pandas.MultiIndex.from_tuples(zip([\"Feature\",\"Feature\",\"Label\"],Jordan.columns))\n",
        "Jordan.head()"
      ]
    },
    {
      "cell_type": "code",
      "execution_count": null,
      "metadata": {
        "id": "IHe5poQSUUWJ",
        "outputId": "1703c2f5-6d5a-4ce6-ebdf-91576bc6e241"
      },
      "outputs": [
        {
          "name": "stdout",
          "output_type": "stream",
          "text": [
            "\\begin{tabular}{lrrr}\n",
            "\\toprule\n",
            " & \\multicolumn{2}{r}{\\textbf{Feature}} & \\textbf{Label} \\\\\n",
            " & \\textbf{X} & \\textbf{lagged Y} & \\textbf{Y} \\\\\n",
            "t &  &  &  \\\\\n",
            "\\midrule\n",
            "2 & 0.265 & 0.216 & 0.208 \\\\\n",
            "3 & 0.264 & 0.208 & 0.212 \\\\\n",
            "4 & 0.263 & 0.212 & 0.203 \\\\\n",
            "\\bottomrule\n",
            "\\end{tabular}\n",
            "\n"
          ]
        }
      ],
      "source": [
        "Jordan_ltx=Jordan.head(3).style\\\n",
        ".format(precision=3)\\\n",
        ".format_index(r\"\\textbf{{{}}}\",axis=\"columns\")\\\n",
        ".to_latex(hrules=True)\n",
        "ptf(Jordan_ltx,\"Jordan\")\n"
      ]
    },
    {
      "cell_type": "markdown",
      "metadata": {
        "id": "zIFhsW1uUUWJ"
      },
      "source": [
        "## Elman Network #"
      ]
    },
    {
      "cell_type": "code",
      "execution_count": null,
      "metadata": {
        "id": "myxWG3vGUUWK",
        "outputId": "28eb9a85-a5a2-46c8-808f-16afac3c55df"
      },
      "outputs": [
        {
          "data": {
            "text/html": [
              "<div>\n",
              "<style scoped>\n",
              "    .dataframe tbody tr th:only-of-type {\n",
              "        vertical-align: middle;\n",
              "    }\n",
              "\n",
              "    .dataframe tbody tr th {\n",
              "        vertical-align: top;\n",
              "    }\n",
              "\n",
              "    .dataframe thead th {\n",
              "        text-align: right;\n",
              "    }\n",
              "</style>\n",
              "<table border=\"1\" class=\"dataframe\">\n",
              "  <thead>\n",
              "    <tr style=\"text-align: right;\">\n",
              "      <th></th>\n",
              "      <th>X</th>\n",
              "      <th>Y</th>\n",
              "    </tr>\n",
              "    <tr>\n",
              "      <th>t</th>\n",
              "      <th></th>\n",
              "      <th></th>\n",
              "    </tr>\n",
              "  </thead>\n",
              "  <tbody>\n",
              "    <tr>\n",
              "      <th>1</th>\n",
              "      <td>0.2751</td>\n",
              "      <td>0.2162</td>\n",
              "    </tr>\n",
              "    <tr>\n",
              "      <th>2</th>\n",
              "      <td>0.2648</td>\n",
              "      <td>0.2077</td>\n",
              "    </tr>\n",
              "    <tr>\n",
              "      <th>3</th>\n",
              "      <td>0.2636</td>\n",
              "      <td>0.2123</td>\n",
              "    </tr>\n",
              "  </tbody>\n",
              "</table>\n",
              "</div>"
            ],
            "text/plain": [
              "        X       Y\n",
              "t                \n",
              "1  0.2751  0.2162\n",
              "2  0.2648  0.2077\n",
              "3  0.2636  0.2123"
            ]
          },
          "execution_count": 39,
          "metadata": {},
          "output_type": "execute_result"
        }
      ],
      "source": [
        "Elman_data=RNN_data.head(3).copy()\n",
        "Elman_data"
      ]
    },
    {
      "cell_type": "code",
      "execution_count": null,
      "metadata": {
        "id": "Mn3fUK6jUUWK",
        "outputId": "6abf1fcc-3053-4042-f15a-7089bb3c8055"
      },
      "outputs": [
        {
          "name": "stdout",
          "output_type": "stream",
          "text": [
            "\\begin{tabular}{lrr}\n",
            "\\toprule\n",
            " & \\textbf{X} & \\textbf{Y} \\\\\n",
            "t &  &  \\\\\n",
            "\\midrule\n",
            "1 & 0.275 & 0.216 \\\\\n",
            "2 & 0.265 & 0.208 \\\\\n",
            "3 & 0.264 & 0.212 \\\\\n",
            "\\bottomrule\n",
            "\\end{tabular}\n",
            "\n"
          ]
        }
      ],
      "source": [
        "Elman_data_ltx=Elman_data.head(3).style\\\n",
        ".format(precision=3)\\\n",
        ".format_index(r\"\\textbf{{{}}}\",axis=\"columns\")\\\n",
        ".to_latex(hrules=True)\n",
        "ptf(Elman_data_ltx,\"Elman\")"
      ]
    },
    {
      "cell_type": "code",
      "execution_count": null,
      "metadata": {
        "id": "EYFayFkxUUWK",
        "outputId": "4a4c9b34-7e0b-4940-b082-869df061838a"
      },
      "outputs": [
        {
          "data": {
            "image/png": "[encoded data removed]",
            "text/plain": [
              "<Figure size 100x100 with 1 Axes>"
            ]
          },
          "metadata": {},
          "output_type": "display_data"
        }
      ],
      "source": [
        "z_init=0.1\n",
        "text=[r\"$Z^{{\\mathfrak{{m}}}}_{{0}}={0:.1f}$\".format(z_init)]\n",
        "textbox(text,fname=\"initialElman\")"
      ]
    },
    {
      "cell_type": "code",
      "execution_count": null,
      "metadata": {
        "id": "o-JF9XzEUUWK",
        "outputId": "c88b6981-aea3-461a-e4c2-c0267dafc9ad"
      },
      "outputs": [
        {
          "data": {
            "image/png": "[encoded data removed]",
            "text/plain": [
              "<Figure size 100x100 with 1 Axes>"
            ]
          },
          "metadata": {},
          "output_type": "display_data"
        }
      ],
      "source": [
        "parameters=(0.2,-0.25,0.3,0.1,-0.15)\n",
        "(m_zi,m_zz,b_z,m_o,b_o)=parameters\n",
        "text=[r\"$\\mathbf{{p}}=(m_{{zi}},m_{{zz}},b_z,m_o,b_o)=({0:.2f},{1:.2f},{2:.2f},{3:.2f},{4:.2f})$\".format(*parameters)]\n",
        "textbox(text,fname=\"sampleparams\")"
      ]
    },
    {
      "cell_type": "code",
      "execution_count": null,
      "metadata": {
        "scrolled": false,
        "id": "1YfcplzcUUWK",
        "outputId": "72ac0ed7-5192-47a6-ac73-693a8325595f"
      },
      "outputs": [
        {
          "data": {
            "text/html": [
              "<div>\n",
              "<style scoped>\n",
              "    .dataframe tbody tr th:only-of-type {\n",
              "        vertical-align: middle;\n",
              "    }\n",
              "\n",
              "    .dataframe tbody tr th {\n",
              "        vertical-align: top;\n",
              "    }\n",
              "\n",
              "    .dataframe thead th {\n",
              "        text-align: right;\n",
              "    }\n",
              "</style>\n",
              "<table border=\"1\" class=\"dataframe\">\n",
              "  <thead>\n",
              "    <tr style=\"text-align: right;\">\n",
              "      <th></th>\n",
              "      <th>X</th>\n",
              "      <th>ZM</th>\n",
              "      <th>YM</th>\n",
              "      <th>Y</th>\n",
              "    </tr>\n",
              "    <tr>\n",
              "      <th>t</th>\n",
              "      <th></th>\n",
              "      <th></th>\n",
              "      <th></th>\n",
              "      <th></th>\n",
              "    </tr>\n",
              "  </thead>\n",
              "  <tbody>\n",
              "    <tr>\n",
              "      <th>0</th>\n",
              "      <td>NaN</td>\n",
              "      <td>0.100000</td>\n",
              "      <td>NaN</td>\n",
              "      <td>NaN</td>\n",
              "    </tr>\n",
              "    <tr>\n",
              "      <th>1</th>\n",
              "      <td>0.2751</td>\n",
              "      <td>0.318539</td>\n",
              "      <td>-0.117599</td>\n",
              "      <td>0.2162</td>\n",
              "    </tr>\n",
              "    <tr>\n",
              "      <th>2</th>\n",
              "      <td>0.2648</td>\n",
              "      <td>0.266716</td>\n",
              "      <td>-0.122707</td>\n",
              "      <td>0.2077</td>\n",
              "    </tr>\n",
              "    <tr>\n",
              "      <th>3</th>\n",
              "      <td>0.2636</td>\n",
              "      <td>0.278487</td>\n",
              "      <td>-0.121547</td>\n",
              "      <td>0.2123</td>\n",
              "    </tr>\n",
              "  </tbody>\n",
              "</table>\n",
              "</div>"
            ],
            "text/plain": [
              "        X        ZM        YM       Y\n",
              "t                                    \n",
              "0     NaN  0.100000       NaN     NaN\n",
              "1  0.2751  0.318539 -0.117599  0.2162\n",
              "2  0.2648  0.266716 -0.122707  0.2077\n",
              "3  0.2636  0.278487 -0.121547  0.2123"
            ]
          },
          "execution_count": 43,
          "metadata": {},
          "output_type": "execute_result"
        }
      ],
      "source": [
        "def generate(parameters,show_hidden_state=False):\n",
        "    (m_zi,m_zz,b_z,m_o,b_o)=parameters\n",
        "    out=Elman_data.copy()\n",
        "    out.loc[0,:]=numpy.nan\n",
        "    out=out.sort_index()\n",
        "    #out=out.to_frame()\n",
        "    z_state=z_init\n",
        "    z=[z_init]\n",
        "    Y=[numpy.nan]\n",
        "    for xx in out[\"X\"][1:]:\n",
        "        z_state=numpy.tanh(m_zz*z_state+m_zi*xx+b_z)\n",
        "        Y_current=numpy.tanh(m_o*z_state+b_o)\n",
        "        z.append(z_state)\n",
        "        Y.append(Y_current)\n",
        "    if show_hidden_state:\n",
        "        out[\"ZM\"]=z\n",
        "    out[\"YM\"]=Y\n",
        "    return out\n",
        "\n",
        "generated_data=generate(parameters,show_hidden_state=True)\n",
        "generated_data=generated_data[[\"X\",\"ZM\",\"YM\",\"Y\"]]\n",
        "generated_data"
      ]
    },
    {
      "cell_type": "code",
      "execution_count": null,
      "metadata": {
        "id": "VAMinF-KUUWK",
        "outputId": "a4357d62-76f9-495f-ecc9-e916772afbbf"
      },
      "outputs": [
        {
          "data": {
            "text/plain": [
              "0.11068162093340432"
            ]
          },
          "execution_count": 44,
          "metadata": {},
          "output_type": "execute_result"
        }
      ],
      "source": [
        "loss=numpy.mean((Elman_data[\"Y\"]-generated_data[\"YM\"])**2)\n",
        "loss"
      ]
    },
    {
      "cell_type": "code",
      "execution_count": null,
      "metadata": {
        "id": "_TnUIgqnUUWK",
        "outputId": "a251aa9b-d91f-40b1-8778-506c8ef8dafc"
      },
      "outputs": [
        {
          "data": {
            "image/png": "[encoded data removed]",
            "text/plain": [
              "<Figure size 100x100 with 1 Axes>"
            ]
          },
          "metadata": {},
          "output_type": "display_data"
        }
      ],
      "source": [
        "text=[]\n",
        "text.append(r\"$\\Lambda(\\mathbf{{p}})={:.3f}$\".format(loss))\n",
        "textbox(text,fname=\"lossvalue\")"
      ]
    },
    {
      "cell_type": "code",
      "execution_count": null,
      "metadata": {
        "id": "_OQz9mc1UUWK",
        "outputId": "7992247c-028c-4cea-de4b-03a3af82342b"
      },
      "outputs": [
        {
          "data": {
            "text/html": [
              "<div>\n",
              "<style scoped>\n",
              "    .dataframe tbody tr th:only-of-type {\n",
              "        vertical-align: middle;\n",
              "    }\n",
              "\n",
              "    .dataframe tbody tr th {\n",
              "        vertical-align: top;\n",
              "    }\n",
              "\n",
              "    .dataframe thead th {\n",
              "        text-align: right;\n",
              "    }\n",
              "</style>\n",
              "<table border=\"1\" class=\"dataframe\">\n",
              "  <thead>\n",
              "    <tr style=\"text-align: right;\">\n",
              "      <th></th>\n",
              "      <th>X</th>\n",
              "      <th>ZM</th>\n",
              "      <th>YM</th>\n",
              "      <th>Y</th>\n",
              "    </tr>\n",
              "    <tr>\n",
              "      <th>t</th>\n",
              "      <th></th>\n",
              "      <th></th>\n",
              "      <th></th>\n",
              "      <th></th>\n",
              "    </tr>\n",
              "  </thead>\n",
              "  <tbody>\n",
              "    <tr>\n",
              "      <th>0</th>\n",
              "      <td>NaN</td>\n",
              "      <td>0.100000</td>\n",
              "      <td>NaN</td>\n",
              "      <td>NaN</td>\n",
              "    </tr>\n",
              "    <tr>\n",
              "      <th>1</th>\n",
              "      <td>0.2751</td>\n",
              "      <td>0.318539</td>\n",
              "      <td>-0.117599</td>\n",
              "      <td>0.2162</td>\n",
              "    </tr>\n",
              "    <tr>\n",
              "      <th>2</th>\n",
              "      <td>0.2648</td>\n",
              "      <td>0.266716</td>\n",
              "      <td>-0.122707</td>\n",
              "      <td>0.2077</td>\n",
              "    </tr>\n",
              "    <tr>\n",
              "      <th>3</th>\n",
              "      <td>0.2636</td>\n",
              "      <td>0.278487</td>\n",
              "      <td>-0.121547</td>\n",
              "      <td>0.2123</td>\n",
              "    </tr>\n",
              "  </tbody>\n",
              "</table>\n",
              "</div>"
            ],
            "text/plain": [
              "        X        ZM        YM       Y\n",
              "t                                    \n",
              "0     NaN  0.100000       NaN     NaN\n",
              "1  0.2751  0.318539 -0.117599  0.2162\n",
              "2  0.2648  0.266716 -0.122707  0.2077\n",
              "3  0.2636  0.278487 -0.121547  0.2123"
            ]
          },
          "execution_count": 46,
          "metadata": {},
          "output_type": "execute_result"
        }
      ],
      "source": [
        "g=generated_data.copy()\n",
        "g"
      ]
    },
    {
      "cell_type": "code",
      "execution_count": null,
      "metadata": {
        "id": "qjovBLdUUUWK",
        "outputId": "e36caace-64ec-45ec-8fbf-de9d5c58a82d"
      },
      "outputs": [
        {
          "name": "stdout",
          "output_type": "stream",
          "text": [
            "\\begin{tabular}{lrrrr}\n",
            "\\toprule\n",
            " & $X$ & $Z^{\\mathfrak{m}}$ & $Y^{\\mathfrak{m}}$ & $Y$ \\\\\n",
            "t &  &  &  &  \\\\\n",
            "\\midrule\n",
            "0 & nan & 0.100 & nan & nan \\\\\n",
            "1 & 0.275 & 0.319 & -0.118 & 0.216 \\\\\n",
            "2 & 0.265 & 0.267 & -0.123 & 0.208 \\\\\n",
            "3 & 0.264 & 0.278 & -0.122 & 0.212 \\\\\n",
            "\\bottomrule\n",
            "\\end{tabular}\n",
            "\n"
          ]
        }
      ],
      "source": [
        "g.columns=[\"$X$\",\"$Z^{\\mathfrak{m}}$\",\"$Y^{\\mathfrak{m}}$\",\"$Y$\"]\n",
        "g_ltx=g.style\\\n",
        ".format(precision=3)\\\n",
        ".to_latex(hrules=True)\n",
        "ptf(g_ltx,\"Hidden\")"
      ]
    },
    {
      "cell_type": "code",
      "execution_count": null,
      "metadata": {
        "id": "QBhUE2AlUUWK",
        "outputId": "249238f7-0247-4849-830c-73c8e022475b"
      },
      "outputs": [
        {
          "data": {
            "text/plain": [
              "t\n",
              "0         NaN\n",
              "1    0.329183\n",
              "2    0.325432\n",
              "3    0.328915\n",
              "dtype: float64"
            ]
          },
          "execution_count": 48,
          "metadata": {},
          "output_type": "execute_result"
        }
      ],
      "source": [
        "temp=(Elman_data[\"Y\"]-generated_data[\"YM\"])*(1-(numpy.tanh(m_o*generated_data[\"ZM\"]+b_o))**2)\n",
        "temp"
      ]
    },
    {
      "cell_type": "code",
      "execution_count": null,
      "metadata": {
        "id": "0IjuuO7sUUWK"
      },
      "outputs": [],
      "source": [
        "dLossdb_o=-2*numpy.nanmean(temp)\n",
        "dLossdw_o=-2*numpy.nanmean(temp*generated_data[\"YM\"])"
      ]
    },
    {
      "cell_type": "code",
      "execution_count": null,
      "metadata": {
        "id": "tFVmP-dyUUWL",
        "outputId": "fbcfe485-7db8-4454-f515-e06ce843d9b1"
      },
      "outputs": [
        {
          "data": {
            "image/png": "[encoded data removed]",
            "text/plain": [
              "<Figure size 100x100 with 1 Axes>"
            ]
          },
          "metadata": {},
          "output_type": "display_data"
        }
      ],
      "source": [
        "text=[]\n",
        "text.append(r\"$\\frac{{\\partial \\Lambda}}{{\\partial m_o}}={:.3f}$\".format(dLossdw_o))\n",
        "text.append(r\"$\\frac{{\\partial \\Lambda}}{{\\partial b_o}}={:.3f}$\".format(dLossdb_o))\n",
        "textbox(text,fname=\"firstlosses\")"
      ]
    },
    {
      "cell_type": "code",
      "execution_count": null,
      "metadata": {
        "id": "rjg8gXu1UUWL",
        "outputId": "c8efa94a-72dd-4dd9-92bd-0b00c983ee0c"
      },
      "outputs": [
        {
          "data": {
            "text/html": [
              "<div>\n",
              "<style scoped>\n",
              "    .dataframe tbody tr th:only-of-type {\n",
              "        vertical-align: middle;\n",
              "    }\n",
              "\n",
              "    .dataframe tbody tr th {\n",
              "        vertical-align: top;\n",
              "    }\n",
              "\n",
              "    .dataframe thead th {\n",
              "        text-align: right;\n",
              "    }\n",
              "</style>\n",
              "<table border=\"1\" class=\"dataframe\">\n",
              "  <thead>\n",
              "    <tr style=\"text-align: right;\">\n",
              "      <th></th>\n",
              "      <th>dm_zi</th>\n",
              "      <th>dm_zz</th>\n",
              "      <th>db_z</th>\n",
              "    </tr>\n",
              "    <tr>\n",
              "      <th>t</th>\n",
              "      <th></th>\n",
              "      <th></th>\n",
              "      <th></th>\n",
              "    </tr>\n",
              "  </thead>\n",
              "  <tbody>\n",
              "    <tr>\n",
              "      <th>0</th>\n",
              "      <td>NaN</td>\n",
              "      <td>NaN</td>\n",
              "      <td>1</td>\n",
              "    </tr>\n",
              "    <tr>\n",
              "      <th>1</th>\n",
              "      <td>0.2751</td>\n",
              "      <td>0.100000</td>\n",
              "      <td>1</td>\n",
              "    </tr>\n",
              "    <tr>\n",
              "      <th>2</th>\n",
              "      <td>0.2648</td>\n",
              "      <td>0.318539</td>\n",
              "      <td>1</td>\n",
              "    </tr>\n",
              "    <tr>\n",
              "      <th>3</th>\n",
              "      <td>0.2636</td>\n",
              "      <td>0.266716</td>\n",
              "      <td>1</td>\n",
              "    </tr>\n",
              "  </tbody>\n",
              "</table>\n",
              "</div>"
            ],
            "text/plain": [
              "    dm_zi     dm_zz  db_z\n",
              "t                        \n",
              "0     NaN       NaN     1\n",
              "1  0.2751  0.100000     1\n",
              "2  0.2648  0.318539     1\n",
              "3  0.2636  0.266716     1"
            ]
          },
          "execution_count": 51,
          "metadata": {},
          "output_type": "execute_result"
        }
      ],
      "source": [
        "forcing=pandas.DataFrame({\"dm_zi\":generated_data[\"X\"],\"dm_zz\":generated_data[\"ZM\"].shift(),\n",
        "                         \"db_z\":1})\n",
        "forcing"
      ]
    },
    {
      "cell_type": "code",
      "execution_count": null,
      "metadata": {
        "id": "VR6JDWo1UUWL",
        "outputId": "e64b6b11-980c-4f17-869e-630765486a95"
      },
      "outputs": [
        {
          "data": {
            "text/plain": [
              "t\n",
              "0         NaN\n",
              "1    0.898533\n",
              "2    0.928862\n",
              "3    0.922445\n",
              "dtype: float64"
            ]
          },
          "execution_count": 52,
          "metadata": {},
          "output_type": "execute_result"
        }
      ],
      "source": [
        "multiplier=1-(numpy.tanh(m_zi*generated_data[\"X\"]+m_zz*generated_data[\"ZM\"].shift()+b_z))**2\n",
        "multiplier"
      ]
    },
    {
      "cell_type": "code",
      "execution_count": null,
      "metadata": {
        "id": "3Pv2CX2BUUWL",
        "outputId": "5e2c13fc-082b-47a6-a372-08f5d8b79584"
      },
      "outputs": [
        {
          "data": {
            "text/html": [
              "<div>\n",
              "<style scoped>\n",
              "    .dataframe tbody tr th:only-of-type {\n",
              "        vertical-align: middle;\n",
              "    }\n",
              "\n",
              "    .dataframe tbody tr th {\n",
              "        vertical-align: top;\n",
              "    }\n",
              "\n",
              "    .dataframe thead th {\n",
              "        text-align: right;\n",
              "    }\n",
              "</style>\n",
              "<table border=\"1\" class=\"dataframe\">\n",
              "  <thead>\n",
              "    <tr style=\"text-align: right;\">\n",
              "      <th></th>\n",
              "      <th>dm_zi</th>\n",
              "      <th>dm_zz</th>\n",
              "      <th>db_z</th>\n",
              "    </tr>\n",
              "    <tr>\n",
              "      <th>t</th>\n",
              "      <th></th>\n",
              "      <th></th>\n",
              "      <th></th>\n",
              "    </tr>\n",
              "  </thead>\n",
              "  <tbody>\n",
              "    <tr>\n",
              "      <th>0</th>\n",
              "      <td>0.000000</td>\n",
              "      <td>0.000000</td>\n",
              "      <td>0.000000</td>\n",
              "    </tr>\n",
              "    <tr>\n",
              "      <th>1</th>\n",
              "      <td>0.275100</td>\n",
              "      <td>0.100000</td>\n",
              "      <td>1.000000</td>\n",
              "    </tr>\n",
              "    <tr>\n",
              "      <th>2</th>\n",
              "      <td>0.200917</td>\n",
              "      <td>0.295317</td>\n",
              "      <td>0.767784</td>\n",
              "    </tr>\n",
              "    <tr>\n",
              "      <th>3</th>\n",
              "      <td>0.217266</td>\n",
              "      <td>0.198613</td>\n",
              "      <td>0.822940</td>\n",
              "    </tr>\n",
              "  </tbody>\n",
              "</table>\n",
              "</div>"
            ],
            "text/plain": [
              "      dm_zi     dm_zz      db_z\n",
              "t                              \n",
              "0  0.000000  0.000000  0.000000\n",
              "1  0.275100  0.100000  1.000000\n",
              "2  0.200917  0.295317  0.767784\n",
              "3  0.217266  0.198613  0.822940"
            ]
          },
          "execution_count": 53,
          "metadata": {},
          "output_type": "execute_result"
        }
      ],
      "source": [
        "dZ=pandas.DataFrame(float(0),index=forcing.index,columns=forcing.columns)\n",
        "for t in dZ.index[1:]:\n",
        "    dZ.loc[t,:]=multiplier.loc[t]*m_zz*dZ.loc[t-1,:]+forcing.loc[t,:]\n",
        "dZ"
      ]
    },
    {
      "cell_type": "code",
      "execution_count": null,
      "metadata": {
        "scrolled": true,
        "id": "abizerKzUUWL"
      },
      "outputs": [],
      "source": [
        "dLossdm_zz=-2*numpy.nanmean(temp*m_o*dZ[\"dm_zz\"])\n",
        "dLossdm_zi=-2*numpy.nanmean(temp*m_o*dZ[\"dm_zi\"])\n",
        "dLossdb_z=-2*numpy.nanmean(temp*m_o*dZ[\"db_z\"])"
      ]
    },
    {
      "cell_type": "code",
      "execution_count": null,
      "metadata": {
        "id": "m6sXw-olUUWL",
        "outputId": "38f7bae2-a42c-4d52-cafe-f2b15cc24245"
      },
      "outputs": [
        {
          "data": {
            "image/png": "[encoded data removed]",
            "text/plain": [
              "<Figure size 100x100 with 1 Axes>"
            ]
          },
          "metadata": {},
          "output_type": "display_data"
        }
      ],
      "source": [
        "text=[]\n",
        "text.append(r\"$\\frac{{\\partial \\Lambda}}{{\\partial m_{{zi}}}}={:.4f}$\".format(dLossdm_zi))\n",
        "text.append(r\"$\\frac{{\\partial \\Lambda}}{{\\partial m_{{zz}}}}={:.4f}$\".format(dLossdm_zz))\n",
        "text.append(r\"$\\frac{{\\partial \\Lambda}}{{\\partial b_z}}={:.4f}$\".format(dLossdb_z))\n",
        "textbox(text,fname=\"secondlosses\")"
      ]
    }
  ],
  "metadata": {
    "colab": {
      "provenance": []
    },
    "kernelspec": {
      "display_name": "Python 3 (ipykernel)",
      "language": "python",
      "name": "python3"
    },
    "language_info": {
      "codemirror_mode": {
        "name": "ipython",
        "version": 3
      },
      "file_extension": ".py",
      "mimetype": "text/x-python",
      "name": "python",
      "nbconvert_exporter": "python",
      "pygments_lexer": "ipython3",
      "version": "3.9.17"
    }
  },
  "nbformat": 4,
  "nbformat_minor": 0
}