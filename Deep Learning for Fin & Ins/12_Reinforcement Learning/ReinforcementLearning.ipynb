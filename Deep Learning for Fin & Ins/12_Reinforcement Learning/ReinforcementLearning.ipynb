{
  "cells": [
    {
      "cell_type": "markdown",
      "metadata": {
        "id": "EiT6Sfc8U0mB"
      },
      "source": [
        "<img src=\"https://news.illinois.edu/files/6367/543635/116641.jpg\" alt=\"University of Illinois\" width=\"250\"/>\n",
        "\n",
        "# Reinforcement Learning #\n",
        "By Richard Sowers\n",
        "* <r-sowers@illinois.edu>\n",
        "* <https://publish.illinois.edu/r-sowers/>\n",
        "\n",
        "Copyright 2022 University of Illinois Board of Trustees. All Rights Reserved."
      ]
    },
    {
      "cell_type": "markdown",
      "metadata": {
        "id": "isrd35rkU0mD"
      },
      "source": [
        "See\n",
        "* https://gym.openai.com/\n",
        "* https://github.com/openai/gym/blob/master/gym/envs/classic_control/continuous_mountain_car.py"
      ]
    },
    {
      "cell_type": "markdown",
      "metadata": {
        "id": "h5tm5z42U0mE"
      },
      "source": [
        "# Setup"
      ]
    },
    {
      "cell_type": "markdown",
      "metadata": {
        "id": "eh-Q79j2U0mE"
      },
      "source": [
        "## imports and graphics configurations"
      ]
    },
    {
      "cell_type": "code",
      "execution_count": null,
      "metadata": {
        "id": "nmG_U8fzU0mE"
      },
      "outputs": [],
      "source": [
        "import os\n",
        "import numpy\n",
        "import pandas\n",
        "import time\n",
        "import random\n",
        "import matplotlib\n",
        "#%matplotlib notebook\n",
        "import matplotlib.pyplot as plt\n",
        "import scipy.stats\n",
        "#from pandas.plotting import autocorrelation_plot\n",
        "import matplotlib.offsetbox as offsetbox\n",
        "from matplotlib.ticker import StrMethodFormatter\n",
        "from matplotlib.backends.backend_agg import FigureCanvasAgg\n",
        "import itertools\n",
        "\n",
        "def saver(fname,dpi=600):\n",
        "    plt.savefig(fname+\".png\",bbox_inches=\"tight\",dpi=dpi)\n",
        "\n",
        "def legend(pos=\"bottom\",ncol=3,below_offset=-0.2):\n",
        "    if pos==\"bottom\":\n",
        "        plt.legend(bbox_to_anchor=(0.5,below_offset), loc='upper center',facecolor=\"lightgray\",ncol=ncol)\n",
        "    elif pos==\"side\":\n",
        "        plt.legend(bbox_to_anchor=(1.1,0.5), loc='center left',facecolor=\"lightgray\",ncol=1)\n",
        "\n",
        "def textbox(txt,fname=None):\n",
        "    plt.figure(figsize=(1,1))\n",
        "    plt.gca().add_artist(offsetbox.AnchoredText(\"\\n\".join(txt), loc=\"center\",prop=dict(size=30)))\n",
        "    plt.axis('off')\n",
        "    if fname is not None:\n",
        "        saver(fname)\n",
        "    plt.show()\n",
        "    plt.close()"
      ]
    },
    {
      "cell_type": "code",
      "execution_count": null,
      "metadata": {
        "id": "0U7U3qzDU0mF"
      },
      "outputs": [],
      "source": [
        "#for some reason, this needs to be in a separate cell\n",
        "params={\n",
        "    \"font.size\":15,\n",
        "    \"lines.linewidth\":5,\n",
        "    #\"text.usetex\":True,\n",
        "    #\"text.latex.preamble\":r'\\usepackage{{amsmath}}'\n",
        "}\n",
        "plt.rcParams.update(params)"
      ]
    },
    {
      "cell_type": "code",
      "execution_count": null,
      "metadata": {
        "scrolled": true,
        "id": "hHn4y6J4U0mG",
        "outputId": "28616ed0-ef97-4c76-e332-6f062d621ad1"
      },
      "outputs": [
        {
          "name": "stdout",
          "output_type": "stream",
          "text": [
            "existing png files: ['gravity.png', 'landscape.png', 'strategy_1_summary.png', 'tangential.png']\n",
            "[None, None, None, None]\n"
          ]
        }
      ],
      "source": [
        "pngfiles=[f for f in os.listdir(\".\") if f.endswith(\".png\")]\n",
        "print(\"existing png files: \"+str(pngfiles))\n",
        "print([os.remove(f) for f in pngfiles])"
      ]
    },
    {
      "cell_type": "code",
      "execution_count": null,
      "metadata": {
        "id": "FLAOthn5U0mG"
      },
      "outputs": [],
      "source": [
        "def getfile(location_pair,**kwargs): #tries to get local version and then defaults to google drive version\n",
        "    (loc,gdrive)=location_pair\n",
        "    try:\n",
        "        out=pandas.read_csv(loc,**kwargs)\n",
        "    except FileNotFoundError:\n",
        "        print(\"local file not found; accessing Google Drive\")\n",
        "        loc = 'https://drive.google.com/uc?export=download&id='+gdrive.split('/')[-2]\n",
        "        out=pandas.read_csv(loc,**kwargs)\n",
        "    return out"
      ]
    },
    {
      "cell_type": "code",
      "execution_count": null,
      "metadata": {
        "id": "E-U2zOI_U0mH"
      },
      "outputs": [],
      "source": [
        "from matplotlib.backends.backend_agg import FigureCanvasAgg\n",
        "import imageio\n",
        "import PIL\n",
        "import gym\n",
        "import pyglet\n",
        "from PIL import Image"
      ]
    },
    {
      "cell_type": "markdown",
      "metadata": {
        "id": "218KA_fAU0mH"
      },
      "source": [
        "##  configuration variables"
      ]
    },
    {
      "cell_type": "code",
      "execution_count": null,
      "metadata": {
        "id": "lDZEeFonU0mH"
      },
      "outputs": [],
      "source": [
        "SEED=0\n",
        "fps=15"
      ]
    },
    {
      "cell_type": "markdown",
      "metadata": {
        "id": "qduSkiFMU0mH"
      },
      "source": [
        "# main"
      ]
    },
    {
      "cell_type": "code",
      "execution_count": null,
      "metadata": {
        "id": "dlOA1RKOU0mH"
      },
      "outputs": [],
      "source": [
        "m=0.7\n",
        "def U(x):\n",
        "    return m*x+0.2*x**2\n",
        "\n",
        "xlim=2"
      ]
    },
    {
      "cell_type": "code",
      "execution_count": null,
      "metadata": {
        "id": "p83zeC4nU0mI",
        "outputId": "174e672a-6b9c-4786-b471-948922440af3"
      },
      "outputs": [
        {
          "data": {
            "image/png": "[encoded data removed]",
            "text/plain": [
              "<Figure size 432x288 with 1 Axes>"
            ]
          },
          "metadata": {
            "needs_background": "light"
          },
          "output_type": "display_data"
        }
      ],
      "source": [
        "(position_min,position_max)=(-1.2,0.45)\n",
        "position_range=numpy.linspace(position_min,position_max)\n",
        "\n",
        "def force(position):\n",
        "    return -numpy.cos(3*position)\n",
        "\n",
        "\n",
        "def height(position):\n",
        "    return 0.45*numpy.sin(3*position)+.55\n",
        "\n",
        "\n",
        "critical=-numpy.pi/6\n",
        "\n",
        "plt.figure()\n",
        "c=\"blue\"\n",
        "plt.plot(position_range,height(position_range),color=c,label=\"Height (potential energy)\")\n",
        "plt.axvline(critical,color=\"black\",linewidth=3,ls=\"dotted\",label=r\"minimum; $x=-\\pi/6\\approx{0:.2f}$\".format(critical))\n",
        "plt.axvline(position_max,color=\"green\",label=\"goal; $x={0:.1f}$\".format(position_max))\n",
        "plt.ylabel(\"Height\")\n",
        "plt.xlabel(\"position\")\n",
        "title=[]\n",
        "title.append(\"Landscape\")\n",
        "plt.title(\"\\n\".join(title))\n",
        "legend(\"side\")\n",
        "saver(\"landscape\")\n",
        "plt.show()\n",
        "plt.close()"
      ]
    },
    {
      "cell_type": "code",
      "execution_count": null,
      "metadata": {
        "id": "ZCqKE019U0mI",
        "outputId": "4600d12e-1ceb-4bb9-fad1-5c87ce9c6bd7"
      },
      "outputs": [
        {
          "data": {
            "image/png": "[encoded data removed]",
            "text/plain": [
              "<Figure size 360x360 with 1 Axes>"
            ]
          },
          "metadata": {
            "needs_background": "light"
          },
          "output_type": "display_data"
        }
      ],
      "source": [
        "g=7\n",
        "px,py=(g*m/(m**2+1),g*m**2/(m**2+1))\n",
        "xrange=numpy.linspace(-xlim,xlim)\n",
        "plt.figure(figsize=(5,5))\n",
        "plt.gca().set_aspect('equal')\n",
        "plt.plot(xrange,U(xrange),color=\"black\",label=r\"$m=U'(x^*)$\",linewidth=1)\n",
        "\n",
        "mylinestyle=(0,(1,1))\n",
        "mylinewidth=9\n",
        "plt.plot([0,xlim],[0,m*xlim],color=\"red\",linestyle=mylinestyle,linewidth=mylinewidth,label=r\"$\\sqrt{m^2+1}$\")\n",
        "plt.plot([xlim,xlim],[0,m*xlim],color=\"blue\",linestyle=mylinestyle,linewidth=mylinewidth,label=r\"rise=m\")\n",
        "plt.plot([0,xlim],[0,0],color=\"green\",linestyle=mylinestyle,linewidth=mylinewidth,)\n",
        "\n",
        "mylinestyle=\"solid\"\n",
        "mylinewidth=.05\n",
        "myheadwidth=0.5\n",
        "plt.arrow(0,g,0,-g,color=\"red\",length_includes_head=True,width=mylinewidth,label=r\"$F_g=-g$\",head_width=myheadwidth)\n",
        "plt.arrow(px,py,-px,-py,color=\"blue\",length_includes_head=True,width=mylinewidth,label=r\"$F_T=-\\frac{gm}{\\sqrt{m^2+1}}$\",\n",
        "          head_width=myheadwidth)\n",
        "plt.arrow(0,g,px,-g+py,color=\"green\",length_includes_head=True,width=mylinewidth,head_width=myheadwidth)\n",
        "\n",
        "plt.xticks([0],[r\"$x^*$\"])\n",
        "plt.yticks([0],[r\"$U(x^*)$\"])\n",
        "legend(\"side\")\n",
        "title=[]\n",
        "title.append(\"Gravitational to Tangential Force\")\n",
        "plt.title(\"\\n\".join(title))\n",
        "saver(\"gravity\")\n",
        "plt.show()\n",
        "plt.close()"
      ]
    },
    {
      "cell_type": "code",
      "execution_count": null,
      "metadata": {
        "id": "Ne9ncuRvU0mI",
        "outputId": "c1794d74-e8ed-4b39-ad76-33387a59c2c4"
      },
      "outputs": [
        {
          "data": {
            "image/png": "[encoded data removed]",
            "text/plain": [
              "<Figure size 360x360 with 1 Axes>"
            ]
          },
          "metadata": {
            "needs_background": "light"
          },
          "output_type": "display_data"
        }
      ],
      "source": [
        "Force=5\n",
        "px,py=(Force/numpy.sqrt(m**2+1),Force*m/numpy.sqrt(m**2+1))\n",
        "xrange=numpy.linspace(-xlim,xlim)\n",
        "plt.figure(figsize=(5,5))\n",
        "plt.gca().set_aspect('equal')\n",
        "plt.plot(xrange,U(xrange),color=\"black\",label=r\"$m=U'(x^*)$\",linewidth=1)\n",
        "\n",
        "mylinestyle=(0,(1,1))\n",
        "mylinewidth=9\n",
        "plt.plot([0,xlim],[0,m*xlim],color=\"red\",linestyle=mylinestyle,linewidth=mylinewidth,label=r\"$\\sqrt{1+m^2}$\")\n",
        "plt.plot([xlim,xlim],[0,m*xlim],color=\"blue\",linestyle=mylinestyle,linewidth=mylinewidth)\n",
        "plt.plot([0,xlim],[0,0],color=\"green\",linestyle=mylinestyle,linewidth=mylinewidth,label=r\"run=1\")\n",
        "\n",
        "mylinestyle=\"solid\"\n",
        "mylinewidth=.05\n",
        "myheadwidth=0.5\n",
        "plt.arrow(px,py,-px,-py,color=\"red\",length_includes_head=True,width=mylinewidth,label=r\"$F_T$\",head_width=myheadwidth)\n",
        "plt.arrow(px,0,-px,0,color=\"green\",length_includes_head=True,width=mylinewidth,label=r\"$F_H=\\frac{F_T}{\\sqrt{1+m^2}}$\",head_width=myheadwidth)\n",
        "plt.arrow(px,py,0,-py,color=\"blue\",length_includes_head=True,width=mylinewidth,head_width=myheadwidth)\n",
        "\n",
        "plt.xticks([0],[r\"$x^*$\"])\n",
        "plt.yticks([0],[r\"$U(x^*)$\"])\n",
        "legend(\"side\")\n",
        "title=[]\n",
        "title.append(\"Tangential to Horizontal Force\")\n",
        "plt.title(\"\\n\".join(title))\n",
        "saver(\"tangential\")\n",
        "plt.show()\n",
        "plt.close()"
      ]
    },
    {
      "cell_type": "code",
      "execution_count": null,
      "metadata": {
        "id": "u9a3CFyVU0mI"
      },
      "outputs": [],
      "source": [
        "env = gym.make('MountainCarContinuous-v0')"
      ]
    },
    {
      "cell_type": "code",
      "execution_count": null,
      "metadata": {
        "id": "A3VGPENvU0mI",
        "outputId": "d1ba2a3c-2cca-4230-ab07-63c1d4439a87"
      },
      "outputs": [
        {
          "name": "stderr",
          "output_type": "stream",
          "text": [
            "C:\\Users\\richa\\anaconda3\\lib\\site-packages\\pyglet\\image\\codecs\\wic.py:289: UserWarning: [WinError -2147417850] Cannot change thread mode after it is set\n",
            "  warnings.warn(str(err))\n"
          ]
        },
        {
          "name": "stdout",
          "output_type": "stream",
          "text": [
            "run length: 100\n"
          ]
        }
      ],
      "source": [
        "env.reset()\n",
        "states=[]\n",
        "screens=[]\n",
        "action=0\n",
        "N_max=100\n",
        "for ctr in range(100):\n",
        "    screen=env.render(mode='rgb_array')\n",
        "    screens.append(screen)\n",
        "    #print(\"action.acceleration=\",action.item())\n",
        "    observation, reward, done, info = env.step([action])\n",
        "    states.append(observation)\n",
        "    (position,velocity)=observation\n",
        "    #print(\"observation.position={0:}, observation.velocity={1:}, reward={2:}, done={3:}\".format(position,velocity,reward,done))\n",
        "    #print(\"-----\")\n",
        "env.close()\n",
        "print(\"run length: {0:n}\".format(len(states)))"
      ]
    },
    {
      "cell_type": "code",
      "execution_count": null,
      "metadata": {
        "id": "tW_gZ_7KU0mI",
        "outputId": "aea4e477-f7f5-45ed-eb82-ff276c292100"
      },
      "outputs": [
        {
          "name": "stderr",
          "output_type": "stream",
          "text": [
            "IMAGEIO FFMPEG_WRITER WARNING: input image is not divisible by macro_block_size=16, resizing from (600, 400) to (608, 400) to ensure video compatibility with most codecs and players. To prevent resizing, make your input image divisible by the macro_block_size or set the macro_block_size to 1 (risking incompatibility).\n"
          ]
        },
        {
          "name": "stdout",
          "output_type": "stream",
          "text": [
            "0 0 0 0 0 0 0 0 0 0 0 0 0 0 0 0 1 2 3 4 5 6 7 8 9 10 11 12 13 14 15 16 17 18 19 20 21 22 23 24 25 26 27 28 29 30 31 32 33 34 35 36 37 38 39 40 41 42 43 44 45 46 47 48 49 50 51 52 53 54 55 56 57 58 59 60 61 62 63 64 65 66 67 68 69 70 71 72 73 74 75 76 77 78 79 80 81 82 83 84 85 86 87 88 89 90 91 92 93 94 95 96 97 98 99 99 99 99 99 99 99 99 99 99 99 99 99 99 99 99 99 99 99 99 99 99 99 99 99 99 99 99 99 99 99 done\n"
          ]
        }
      ],
      "source": [
        "indices=numpy.pad(range(len(screens)), (1*fps,2*fps), mode='edge')\n",
        "\n",
        "with imageio.get_writer(\"circular.mp4\", mode='I',fps=fps) as writer:\n",
        "    for n in indices:\n",
        "        print(n,end=\" \")\n",
        "        writer.append_data(screens[n])\n",
        "\n",
        "print(\"done\")"
      ]
    },
    {
      "cell_type": "code",
      "execution_count": null,
      "metadata": {
        "id": "yEpP2iIYU0mI",
        "outputId": "4b78dc70-0f05-42c3-a892-f584aa61214a"
      },
      "outputs": [
        {
          "data": {
            "image/png": "[encoded data removed]",
            "text/plain": [
              "<Figure size 432x288 with 1 Axes>"
            ]
          },
          "metadata": {
            "needs_background": "light"
          },
          "output_type": "display_data"
        }
      ],
      "source": [
        "(positions,velocities)=zip(*states)\n",
        "plt.figure()\n",
        "plt.scatter(positions,velocities,color=\"k\")\n",
        "plt.xlabel(\"position\")\n",
        "plt.ylabel(\"velocity\")\n",
        "plt.xticks(rotation=30)\n",
        "plt.title(\"State of Mountain Cart\")\n",
        "plt.title(\"a=0 (no forcing)\")\n",
        "#saver(\"tickerA\")\n",
        "plt.show()\n",
        "plt.close()"
      ]
    },
    {
      "cell_type": "code",
      "execution_count": null,
      "metadata": {
        "id": "dMk38sDlU0mI"
      },
      "outputs": [],
      "source": [
        "def mountainplot(n,screen,strategystring=None,force=None,save_fname=None,show=True,return_array=False):\n",
        "    fig=plt.figure(dpi=200)\n",
        "    canvas = FigureCanvasAgg(fig)\n",
        "    _,screenwidth,_=screen.shape\n",
        "    halfwidth=int(screenwidth/2)\n",
        "    plt.imshow(screen)\n",
        "    if force==1:\n",
        "        plt.arrow(halfwidth,50,100,0,color=\"red\",zorder=5,linewidth=7,head_width=10)\n",
        "        plt.text(halfwidth,70,\"force\",ha=\"center\",va=\"top\",zorder=6)\n",
        "    elif force==-1:\n",
        "        plt.arrow(halfwidth,50,-100,0,color=\"blue\",zorder=5,linewidth=7,head_width=10)\n",
        "        plt.text(halfwidth,70,\"force\",ha=\"center\",va=\"top\",zorder=6)\n",
        "    plt.xticks([],[])\n",
        "    plt.yticks([],[])\n",
        "    title=[]\n",
        "    title.append(\"Position of Mountain Cart\")\n",
        "    if strategystring is not None:\n",
        "        title.append(strategystring)\n",
        "    title.append(\"T={0:n}\".format(numpy.round(n,decimals=-1)))\n",
        "    plt.title(\"\\n\".join(title))\n",
        "    out=None\n",
        "    if save_fname is not None:\n",
        "        saver(save_fname)#fname_fmt.format(ctr)\n",
        "    if show:\n",
        "        plt.show()\n",
        "    if return_array:\n",
        "        plt.tight_layout(pad=2)\n",
        "        canvas.draw()       # draw the canvas, cache the renderer\n",
        "        s, (width, height) = canvas.print_to_buffer()\n",
        "        out=numpy.frombuffer(s, numpy.uint8).reshape((height, width, 4))\n",
        "    plt.close()\n",
        "    return out"
      ]
    },
    {
      "cell_type": "code",
      "execution_count": null,
      "metadata": {
        "id": "JvdjEud0U0mJ"
      },
      "outputs": [],
      "source": [
        "def mmountainplot(n,screen,strategystring=None,force=None,save_fname=None,show=True,return_array=False):\n",
        "    fig=plt.figure(dpi=200)\n",
        "    canvas = FigureCanvasAgg(fig)\n",
        "    _,screenwidth,_=screen.shape\n",
        "    halfwidth=int(screenwidth/2)\n",
        "    plt.imshow(screen)\n",
        "    if force==1:\n",
        "        plt.arrow(halfwidth,50,100,0,color=\"red\",zorder=5,linewidth=7,head_width=10)\n",
        "        plt.text(halfwidth,70,\"force\",ha=\"center\",va=\"top\",zorder=6)\n",
        "    elif force==-1:\n",
        "        plt.arrow(halfwidth,50,-100,0,color=\"blue\",zorder=5,linewidth=7,head_width=10)\n",
        "        plt.text(halfwidth,70,\"force\",ha=\"center\",va=\"top\",zorder=6)\n",
        "    plt.xticks([],[])\n",
        "    plt.yticks([],[])\n",
        "    title=[]\n",
        "    title.append(\"Position of Mountain Cart\")\n",
        "    if strategystring is not None:\n",
        "        title.append(strategystring)\n",
        "    title.append(\"T={0:n}\".format(numpy.round(n,decimals=-1)))\n",
        "    plt.title(\"\\n\".join(title))\n",
        "    out=None\n",
        "    if save_fname is not None:\n",
        "        saver(save_fname)#fname_fmt.format(ctr)\n",
        "    if show:\n",
        "        plt.show()\n",
        "    if return_array:\n",
        "        plt.tight_layout(pad=2)\n",
        "        canvas.draw()       # draw the canvas, cache the renderer\n",
        "        s, (width, height) = canvas.print_to_buffer()\n",
        "        out=numpy.frombuffer(s, numpy.uint8).reshape((height, width, 4))\n",
        "    plt.close()\n",
        "    return out"
      ]
    },
    {
      "cell_type": "markdown",
      "metadata": {
        "id": "cSOJyUaFU0mJ"
      },
      "source": [
        "## strategy 1:  Force=1 when velocity is positive and to the left of critical point"
      ]
    },
    {
      "cell_type": "code",
      "execution_count": null,
      "metadata": {
        "id": "YexmMhkjU0mJ"
      },
      "outputs": [],
      "source": [
        "def strategy_1(observation):\n",
        "    position,velocity=observation\n",
        "    if (velocity>0) and (position<critical):\n",
        "        return 1\n",
        "    else:\n",
        "        return 0"
      ]
    },
    {
      "cell_type": "code",
      "execution_count": null,
      "metadata": {
        "id": "RsVlL5M7U0mJ",
        "outputId": "e2d27e9a-8d83-4987-a9f8-87170c409123"
      },
      "outputs": [
        {
          "name": "stdout",
          "output_type": "stream",
          "text": [
            "0 1 2 3 4 5 6 7 8 9 10 11 12 13 14 15 16 17 18 19 20 21 22 23 24 25 26 27 28 29 30 31 32 33 34 35 36 37 38 39 40 41 42 43 44 45 46 47 48 49 50 51 52 53 54 55 56 57 58 59 60 61 62 63 64 65 66 67 68 69 70 71 72 73 74 75 76 77 78 79 80 81 82 83 84 85 86 87 88 89 90 91 92 93 94 95 96 97 98 99 100 101 102 103 104 105 106 107 108 109 110 111 112 113 114 115 116 117 118 119 120 121 122 123 124 125 126 127 128 129 130 131 132 133 134 135 136 137 138 139 140 141 142 143 144 145 146 147 148 149 150 151 152 153 154 155 156 157 158 159 160 161 162 163 164 165 166 167 168 169 170 171 172 173 174 175 176 177 178 179 180 181 182 183 184 185 186 187 188 189 190 191 192 193 194 195 196 197 198 199 200 201 202 203 204 205 206 207 208 209 210 211 212 213 214 215 216 217 218 219 220 221 222 223 224 225 226 227 228 229 230 231 232 233 234 235 236 237 238 239 240 241 242 243 244 245 246 247 248 249 250 251 252 253 254 255 256 257 258 259 260 261 262 263 264 265 266 267 268 269 270 271 272 273 274 275 276 277 278 279 280 281 282 283 284 285 286 287 288 289 290 291 292 293 294 295 296 297 298 299 300 301 302 303 304 305 306 307 308 309 310 311 312 313 314 315 316 317 318 319 320 321 322 323 324 325 326 327 328 329 330 331 332 333 334 335 336 337 338 339 340 341 342 343 344 345 346 347 348 349 350 351 352 353 354 355 356 357 358 359 360 361 362 363 364 365 366 367 368 369 370 371 372 373 374 375 376 377 378 379 380 381 382 383 384 385 run length: 386\n"
          ]
        }
      ],
      "source": [
        "strategy=strategy_1\n",
        "numpy.random.seed(SEED)\n",
        "env.reset()\n",
        "states=[]\n",
        "rewards=[]\n",
        "actions=[]\n",
        "screens=[]\n",
        "action=0\n",
        "strategystring=\"Force=1 to the left of valley\\n and when velocity is positive\"\n",
        "for ctr in range(1000):\n",
        "    print(ctr,end=\" \")\n",
        "    screen=env.render(mode='rgb_array')\n",
        "    observation, reward, done, info = env.step([action])\n",
        "    states.append(observation)\n",
        "    rewards.append(reward)\n",
        "    actions.append(action)\n",
        "    (position,velocity)=observation\n",
        "    action=strategy(observation)\n",
        "    screens.append(mountainplot(ctr,screen,strategystring,action,show=False,return_array=True))\n",
        "    if position>=env.goal_position:\n",
        "        break\n",
        "    #print(\"observation.position={0:}, observation.velocity={1:}, reward={2:}, done={3:}\".format(position,velocity,reward,done))\n",
        "    #print(\"-----\")\n",
        "env.close()\n",
        "print(\"run length: {0:n}\".format(len(states)))\n",
        "(positions,velocities)=zip(*states)"
      ]
    },
    {
      "cell_type": "code",
      "execution_count": null,
      "metadata": {
        "id": "AcaQrA-nU0mJ",
        "outputId": "d6104d4d-583c-411b-9141-4932d62f4479"
      },
      "outputs": [
        {
          "data": {
            "image/png": "[encoded data removed]",
            "text/plain": [
              "<Figure size 460.8x345.6 with 1 Axes>"
            ]
          },
          "metadata": {
            "needs_background": "light"
          },
          "output_type": "display_data"
        }
      ],
      "source": [
        "(XA,XB,YA,YB)=[None]*4\n",
        "\n",
        "def phaseplot_1(n=None,save_fname=None,show=True,return_array=False,dpi=None):\n",
        "    global XA, XB, YA, YB\n",
        "    if n is None:\n",
        "        n=len(positions)\n",
        "    n=min(n,len(positions))\n",
        "    d={\"figsize\":(6.4,4.8),\"tight_layout\":{\"pad\":2.0}}\n",
        "    if dpi is not None:\n",
        "        d[\"dpi\"]=dpi\n",
        "    fig=plt.figure(**d)\n",
        "    canvas = FigureCanvasAgg(fig)\n",
        "    plt.scatter(positions[:n],velocities[:n],color=\"k\")\n",
        "    plt.axvline(env.goal_position,label=\"Goal\",linewidth=2,linestyle=\"dashed\",color=\"red\")\n",
        "    if (YA is None) or (YB is None):\n",
        "        (YA,YB)=plt.ylim()\n",
        "    if (XA is None) or (XB is None):\n",
        "        (XA,XB)=plt.xlim()\n",
        "    plt.fill_between(x=[XA,critical],y1=0,y2=YB,label=\"Force=1\",zorder=-5,color=\"pink\")\n",
        "\n",
        "    plt.xlim(XA,XB)\n",
        "    plt.ylim(YA,YB)\n",
        "    plt.xlabel(\"position\")\n",
        "    plt.ylabel(\"velocity\")\n",
        "    title=[\"State of Mountain Cart\"]\n",
        "    title.append(\"Goal Reached in {0:n} steps\".format(len(positions)))\n",
        "    plt.title(\"\\n\".join(title))\n",
        "    legend(\"bottom\",below_offset=-0.25)\n",
        "    out=None\n",
        "    if save_fname is not None:\n",
        "        saver(save_fname)#fname_fmt.format(ctr)\n",
        "    if show:\n",
        "        plt.show()\n",
        "    if return_array:\n",
        "        canvas.draw()       # draw the canvas, cache the renderer\n",
        "        s, (width, height) = canvas.print_to_buffer()\n",
        "        out=numpy.frombuffer(s, numpy.uint8).reshape((height, width, 4))\n",
        "    plt.close()\n",
        "    return out\n",
        "\n",
        "phaseplot_1(save_fname=\"strategy_1_summary\")"
      ]
    },
    {
      "cell_type": "code",
      "execution_count": null,
      "metadata": {
        "id": "J0lkAY4pU0mJ",
        "outputId": "391e50b5-0a60-4514-c703-640b3a02ec83"
      },
      "outputs": [
        {
          "name": "stdout",
          "output_type": "stream",
          "text": [
            "0 0 0 0 0 0 0 0 0 0 0 0 0 0 0 0 1 2 3 4 5 6 7 8 9 10 11 12 13 14 15 16 17 18 19 20 21 22 23 24 25 26 27 28 29 30 31 32 33 34 35 36 37 38 39 40 41 42 43 44 45 46 47 48 49 50 51 52 53 54 55 56 57 58 59 60 61 62 63 64 65 66 67 68 69 70 71 72 73 74 75 76 77 78 79 80 81 82 83 84 85 86 87 88 89 90 91 92 93 94 95 96 97 98 99 100 101 102 103 104 105 106 107 108 109 110 111 112 113 114 115 116 117 118 119 120 121 122 123 124 125 126 127 128 129 130 131 132 133 134 135 136 137 138 139 140 141 142 143 144 145 146 147 148 149 150 151 152 153 154 155 156 157 158 159 160 161 162 163 164 165 166 167 168 169 170 171 172 173 174 175 176 177 178 179 180 181 182 183 184 185 186 187 188 189 190 191 192 193 194 195 196 197 198 199 200 201 202 203 204 205 206 207 208 209 210 211 212 213 214 215 216 217 218 219 220 221 222 223 224 225 226 227 228 229 230 231 232 233 234 235 236 237 238 239 240 241 242 243 244 245 246 247 248 249 250 251 252 253 254 255 256 257 258 259 260 261 262 263 264 265 266 267 268 269 270 271 272 273 274 275 276 277 278 279 280 281 282 283 284 285 286 287 288 289 290 291 292 293 294 295 296 297 298 299 300 301 302 303 304 305 306 307 308 309 310 311 312 313 314 315 316 317 318 319 320 321 322 323 324 325 326 327 328 329 330 331 332 333 334 335 336 337 338 339 340 341 342 343 344 345 346 347 348 349 350 351 352 353 354 355 356 357 358 359 360 361 362 363 364 365 366 367 368 369 370 371 372 373 374 375 376 377 378 379 380 381 382 383 384 385 385 385 385 385 385 385 385 385 385 385 385 385 385 385 385 385 385 385 385 385 385 385 385 385 385 385 385 385 385 385 done\n"
          ]
        }
      ],
      "source": [
        "indices=numpy.pad(range(len(screens)), (1*fps,2*fps), mode='edge')\n",
        "\n",
        "with imageio.get_writer(\"mountain_1.mp4\", mode='I',fps=fps) as writer:\n",
        "    for n in indices:\n",
        "        print(n,end=\" \")\n",
        "        writer.append_data(screens[n])\n",
        "\n",
        "print(\"done\")"
      ]
    },
    {
      "cell_type": "code",
      "execution_count": null,
      "metadata": {
        "id": "eVCV10VcU0mJ",
        "outputId": "816d6acc-208e-495f-ae42-2ff59aa39b5a"
      },
      "outputs": [
        {
          "name": "stdout",
          "output_type": "stream",
          "text": [
            "0 0 0 0 0 0 0 0 0 0 0 0 0 0 0 0 1 2 3 4 5 6 7 8 9 10 11 12 13 14 15 16 17 18 19 20 21 22 23 24 25 26 27 28 29 30 31 32 33 34 35 36 37 38 39 40 41 42 43 44 45 46 47 48 49 50 51 52 53 54 55 56 57 58 59 60 61 62 63 64 65 66 67 68 69 70 71 72 73 74 75 76 77 78 79 80 81 82 83 84 85 86 87 88 89 90 91 92 93 94 95 96 97 98 99 100 101 102 103 104 105 106 107 108 109 110 111 112 113 114 115 116 117 118 119 120 121 122 123 124 125 126 127 128 129 130 131 132 133 134 135 136 137 138 139 140 141 142 143 144 145 146 147 148 149 150 151 152 153 154 155 156 157 158 159 160 161 162 163 164 165 166 167 168 169 170 171 172 173 174 175 176 177 178 179 180 181 182 183 184 185 186 187 188 189 190 191 192 193 194 195 196 197 198 199 200 201 202 203 204 205 206 207 208 209 210 211 212 213 214 215 216 217 218 219 220 221 222 223 224 225 226 227 228 229 230 231 232 233 234 235 236 237 238 239 240 241 242 243 244 245 246 247 248 249 250 251 252 253 254 255 256 257 258 259 260 261 262 263 264 265 266 267 268 269 270 271 272 273 274 275 276 277 278 279 280 281 282 283 284 285 286 287 288 289 290 291 292 293 294 295 296 297 298 299 300 301 302 303 304 305 306 307 308 309 310 311 312 313 314 315 316 317 318 319 320 321 322 323 324 325 326 327 328 329 330 331 332 333 334 335 336 337 338 339 340 341 342 343 344 345 346 347 348 349 350 351 352 353 354 355 356 357 358 359 360 361 362 363 364 365 366 367 368 369 370 371 372 373 374 375 376 377 378 379 380 381 382 383 384 385 385 385 385 385 385 385 385 385 385 385 385 385 385 385 385 385 385 385 385 385 385 385 385 385 385 385 385 385 385 385 done\n"
          ]
        }
      ],
      "source": [
        "indices=numpy.pad(range(len(positions)), (1*fps,2*fps), mode='edge')\n",
        "\n",
        "with imageio.get_writer(\"phase_1.mp4\", mode='I',fps=fps) as writer:\n",
        "    for n in indices:\n",
        "        print(n,end=\" \")\n",
        "        plot_array=phaseplot_1(n,show=False,return_array=True,dpi=300)\n",
        "        writer.append_data(plot_array.astype(numpy.uint8))\n",
        "\n",
        "print(\"done\")"
      ]
    },
    {
      "cell_type": "markdown",
      "metadata": {
        "id": "beYok7q9U0mJ"
      },
      "source": [
        "## strategy 2:  Force=1 when velocity is positive"
      ]
    },
    {
      "cell_type": "code",
      "execution_count": null,
      "metadata": {
        "id": "pkJlnhA8U0mJ"
      },
      "outputs": [],
      "source": [
        "def strategy_2(observation):\n",
        "    position,velocity=observation\n",
        "    if velocity>0:\n",
        "        return 1\n",
        "    else:\n",
        "        return 0"
      ]
    },
    {
      "cell_type": "code",
      "execution_count": null,
      "metadata": {
        "id": "TuB4JGCxU0mK",
        "outputId": "31ad2588-9f7a-48b3-a2ed-e7ddcd91d563"
      },
      "outputs": [
        {
          "name": "stdout",
          "output_type": "stream",
          "text": [
            "0 1 2 3 4 5 6 7 8 9 10 11 12 13 14 15 16 17 18 19 20 21 22 23 24 25 26 27 28 29 30 31 32 33 34 35 36 37 38 39 40 41 42 43 44 45 46 47 48 49 50 51 52 53 54 55 56 57 58 59 60 61 62 63 64 65 66 67 68 69 70 71 72 73 74 75 76 77 78 79 80 81 82 83 84 85 86 87 88 89 90 91 92 93 94 95 96 97 98 99 100 101 102 103 104 105 106 107 108 109 110 111 112 113 114 115 116 117 118 119 120 121 122 run length: 123\n"
          ]
        }
      ],
      "source": [
        "strategy=strategy_2\n",
        "numpy.random.seed(SEED)\n",
        "env.reset()\n",
        "states=[]\n",
        "rewards=[]\n",
        "actions=[]\n",
        "screens=[]\n",
        "action=0\n",
        "strategystring=\"Force=1 when velocity is positive\"\n",
        "for ctr in range(1000):\n",
        "    print(ctr,end=\" \")\n",
        "    screen=env.render(mode='rgb_array')\n",
        "    observation, reward, done, info = env.step([action])\n",
        "    states.append(observation)\n",
        "    rewards.append(reward)\n",
        "    actions.append(action)\n",
        "    (position,velocity)=observation\n",
        "    action=strategy(observation)\n",
        "    screens.append(mountainplot(ctr,screen,strategystring,action,show=False,return_array=True))\n",
        "    if position>=env.goal_position:\n",
        "        break\n",
        "    #print(\"observation.position={0:}, observation.velocity={1:}, reward={2:}, done={3:}\".format(position,velocity,reward,done))\n",
        "    #print(\"-----\")\n",
        "env.close()\n",
        "print(\"run length: {0:n}\".format(len(states)))\n",
        "(positions,velocities)=zip(*states)"
      ]
    },
    {
      "cell_type": "code",
      "execution_count": null,
      "metadata": {
        "id": "AgQ67HpoU0mK",
        "outputId": "b872ca44-bc7c-4466-a2c7-b9d1c092c44d"
      },
      "outputs": [
        {
          "data": {
            "image/png": "[encoded data removed]",
            "text/plain": [
              "<Figure size 460.8x345.6 with 1 Axes>"
            ]
          },
          "metadata": {
            "needs_background": "light"
          },
          "output_type": "display_data"
        }
      ],
      "source": [
        "(XA,XB,YA,YB)=[None]*4\n",
        "\n",
        "def phaseplot_2(n=None,save_fname=None,show=True,return_array=False,dpi=None):\n",
        "    global XA, XB, YA, YB\n",
        "    if n is None:\n",
        "        n=len(positions)\n",
        "    n=min(n,len(positions))\n",
        "    d={\"figsize\":(6.4,4.8),\"tight_layout\":{\"pad\":2.0}}\n",
        "    if dpi is not None:\n",
        "        d[\"dpi\"]=dpi\n",
        "    fig=plt.figure(**d)\n",
        "    canvas = FigureCanvasAgg(fig)\n",
        "    plt.scatter(positions[:n],velocities[:n],color=\"k\")\n",
        "    plt.axvline(env.goal_position,label=\"Goal\",linewidth=2,linestyle=\"dashed\",color=\"red\")\n",
        "    if (YA is None) or (YB is None):\n",
        "        (YA,YB)=plt.ylim()\n",
        "    if (XA is None) or (XB is None):\n",
        "        (XA,XB)=plt.xlim()\n",
        "    plt.fill_between(x=[XA,XB],y1=0,y2=YB,label=\"Force=1\",zorder=-5,color=\"pink\")\n",
        "\n",
        "    plt.xlim(XA,XB)\n",
        "    plt.ylim(YA,YB)\n",
        "    plt.xlabel(\"position\")\n",
        "    plt.ylabel(\"velocity\")\n",
        "    title=[\"State of Mountain Cart\"]\n",
        "    title.append(\"Goal Reached in {0:n} steps\".format(len(positions)))\n",
        "    plt.title(\"\\n\".join(title))\n",
        "    legend(\"bottom\",below_offset=-0.25)\n",
        "    out=None\n",
        "    if save_fname is not None:\n",
        "        saver(save_fname)#fname_fmt.format(ctr)\n",
        "    if show:\n",
        "        plt.show()\n",
        "    if return_array:\n",
        "        canvas.draw()       # draw the canvas, cache the renderer\n",
        "        s, (width, height) = canvas.print_to_buffer()\n",
        "        out=numpy.frombuffer(s, numpy.uint8).reshape((height, width, 4))\n",
        "    plt.close()\n",
        "    return out\n",
        "\n",
        "phaseplot_2(save_fname=\"strategy_2_summary\")"
      ]
    },
    {
      "cell_type": "code",
      "execution_count": null,
      "metadata": {
        "id": "KttxTaJ8U0mK",
        "outputId": "c2ad9373-bcae-432b-c0d0-0ccb049c233b"
      },
      "outputs": [
        {
          "name": "stdout",
          "output_type": "stream",
          "text": [
            "0 0 0 0 0 0 0 0 0 0 0 0 0 0 0 0 1 2 3 4 5 6 7 8 9 10 11 12 13 14 15 16 17 18 19 20 21 22 23 24 25 26 27 28 29 30 31 32 33 34 35 36 37 38 39 40 41 42 43 44 45 46 47 48 49 50 51 52 53 54 55 56 57 58 59 60 61 62 63 64 65 66 67 68 69 70 71 72 73 74 75 76 77 78 79 80 81 82 83 84 85 86 87 88 89 90 91 92 93 94 95 96 97 98 99 100 101 102 103 104 105 106 107 108 109 110 111 112 113 114 115 116 117 118 119 120 121 122 122 122 122 122 122 122 122 122 122 122 122 122 122 122 122 122 122 122 122 122 122 122 122 122 122 122 122 122 122 122 done\n"
          ]
        }
      ],
      "source": [
        "indices=numpy.pad(range(len(screens)), (1*fps,2*fps), mode='edge')\n",
        "\n",
        "with imageio.get_writer(\"mountain_2.mp4\", mode='I',fps=fps) as writer:\n",
        "    for n in indices:\n",
        "        print(n,end=\" \")\n",
        "        writer.append_data(screens[n])\n",
        "\n",
        "print(\"done\")"
      ]
    },
    {
      "cell_type": "code",
      "execution_count": null,
      "metadata": {
        "id": "lpesMakTU0mK",
        "outputId": "5ca56bd3-17ca-415c-febc-bcf581769b35"
      },
      "outputs": [
        {
          "name": "stdout",
          "output_type": "stream",
          "text": [
            "0 0 0 0 0 0 0 0 0 0 0 0 0 0 0 0 1 2 3 4 5 6 7 8 9 10 11 12 13 14 15 16 17 18 19 20 21 22 23 24 25 26 27 28 29 30 31 32 33 34 35 36 37 38 39 40 41 42 43 44 45 46 47 48 49 50 51 52 53 54 55 56 57 58 59 60 61 62 63 64 65 66 67 68 69 70 71 72 73 74 75 76 77 78 79 80 81 82 83 84 85 86 87 88 89 90 91 92 93 94 95 96 97 98 99 100 101 102 103 104 105 106 107 108 109 110 111 112 113 114 115 116 117 118 119 120 121 122 122 122 122 122 122 122 122 122 122 122 122 122 122 122 122 122 122 122 122 122 122 122 122 122 122 122 122 122 122 122 done\n"
          ]
        }
      ],
      "source": [
        "indices=numpy.pad(range(len(positions)), (1*fps,2*fps), mode='edge')\n",
        "\n",
        "with imageio.get_writer(\"phase_2.mp4\", mode='I',fps=fps) as writer:\n",
        "    for n in indices:\n",
        "        print(n,end=\" \")\n",
        "        plot_array=phaseplot_2(n,show=False,return_array=True,dpi=300)\n",
        "        writer.append_data(plot_array.astype(numpy.uint8))\n",
        "\n",
        "print(\"done\")"
      ]
    },
    {
      "cell_type": "markdown",
      "metadata": {
        "id": "sJazfEnpU0mK"
      },
      "source": [
        "## strategy 3:  Force=sign of velocity"
      ]
    },
    {
      "cell_type": "code",
      "execution_count": null,
      "metadata": {
        "id": "8w5hfNTkU0mK"
      },
      "outputs": [],
      "source": [
        "def strategy_3(observation):\n",
        "    position,velocity=observation\n",
        "    if velocity>0:\n",
        "        return 1\n",
        "    elif velocity<0:\n",
        "        return -1\n",
        "    else:\n",
        "        return 0"
      ]
    },
    {
      "cell_type": "code",
      "execution_count": null,
      "metadata": {
        "id": "kyOIV0B-U0mK",
        "outputId": "66eca31a-84e9-4acc-cd0a-f384f137a079"
      },
      "outputs": [
        {
          "name": "stdout",
          "output_type": "stream",
          "text": [
            "0 1 2 3 4 5 6 7 8 9 10 11 12 13 14 15 16 17 18 19 20 21 22 23 24 25 26 27 28 29 30 31 32 33 34 35 36 37 38 39 40 41 42 43 44 45 46 47 48 49 50 51 52 53 54 55 56 57 58 59 60 61 62 63 64 65 66 67 68 69 70 71 72 73 74 75 76 77 run length: 78\n"
          ]
        }
      ],
      "source": [
        "strategy=strategy_3\n",
        "numpy.random.seed(SEED)\n",
        "env.reset()\n",
        "states=[]\n",
        "rewards=[]\n",
        "actions=[]\n",
        "screens=[]\n",
        "action=0\n",
        "strategystring=\"Force=sign of velocity\"\n",
        "for ctr in range(1000):\n",
        "    print(ctr,end=\" \")\n",
        "    screen=env.render(mode='rgb_array')\n",
        "    observation, reward, done, info = env.step([action])\n",
        "    states.append(observation)\n",
        "    rewards.append(reward)\n",
        "    actions.append(action)\n",
        "    (position,velocity)=observation\n",
        "    action=strategy(observation)\n",
        "    screens.append(mountainplot(ctr,screen,strategystring,action,show=False,return_array=True))\n",
        "    if position>=env.goal_position:\n",
        "        break\n",
        "    #print(\"observation.position={0:}, observation.velocity={1:}, reward={2:}, done={3:}\".format(position,velocity,reward,done))\n",
        "    #print(\"-----\")\n",
        "env.close()\n",
        "print(\"run length: {0:n}\".format(len(states)))\n",
        "(positions,velocities)=zip(*states)"
      ]
    },
    {
      "cell_type": "code",
      "execution_count": null,
      "metadata": {
        "id": "9Z7k465dU0mK",
        "outputId": "4924f6c6-039d-4618-ce23-75554560338a"
      },
      "outputs": [
        {
          "data": {
            "image/png": "[encoded data removed]",
            "text/plain": [
              "<Figure size 460.8x345.6 with 1 Axes>"
            ]
          },
          "metadata": {
            "needs_background": "light"
          },
          "output_type": "display_data"
        }
      ],
      "source": [
        "(XA,XB,YA,YB)=[None]*4\n",
        "\n",
        "def phaseplot_3(n=None,save_fname=None,show=True,return_array=False,dpi=None):\n",
        "    global XA, XB, YA, YB\n",
        "    if n is None:\n",
        "        n=len(positions)\n",
        "    n=min(n,len(positions))\n",
        "    d={\"figsize\":(6.4,4.8),\"tight_layout\":{\"pad\":2.0}}\n",
        "    if dpi is not None:\n",
        "        d[\"dpi\"]=dpi\n",
        "    fig=plt.figure(**d)\n",
        "    canvas = FigureCanvasAgg(fig)\n",
        "    plt.scatter(positions[:n],velocities[:n],color=\"k\")\n",
        "    plt.axvline(env.goal_position,label=\"Goal\",linewidth=2,linestyle=\"dashed\",color=\"red\")\n",
        "    if (YA is None) or (YB is None):\n",
        "        (YA,YB)=plt.ylim()\n",
        "    if (XA is None) or (XB is None):\n",
        "        (XA,XB)=plt.xlim()\n",
        "    plt.fill_between(x=[XA,XB],y1=0,y2=YB,label=\"Force=1\",zorder=-5,color=\"pink\")\n",
        "    plt.fill_between(x=[XA,XB],y1=YA,y2=0,label=\"Force=-1\",zorder=-5,color=\"lightblue\")\n",
        "\n",
        "    plt.xlim(XA,XB)\n",
        "    plt.ylim(YA,YB)\n",
        "    plt.xlabel(\"position\")\n",
        "    plt.ylabel(\"velocity\")\n",
        "    title=[\"State of Mountain Cart\"]\n",
        "    title.append(\"Goal Reached in {0:n} steps\".format(len(positions)))\n",
        "    plt.title(\"\\n\".join(title))\n",
        "    legend(\"bottom\",below_offset=-0.25)\n",
        "    out=None\n",
        "    if save_fname is not None:\n",
        "        saver(save_fname)#fname_fmt.format(ctr)\n",
        "    if show:\n",
        "        plt.show()\n",
        "    if return_array:\n",
        "        canvas.draw()       # draw the canvas, cache the renderer\n",
        "        s, (width, height) = canvas.print_to_buffer()\n",
        "        out=numpy.frombuffer(s, numpy.uint8).reshape((height, width, 4))\n",
        "    plt.close()\n",
        "    return out\n",
        "\n",
        "phaseplot_3(save_fname=\"strategy_3_summary\")"
      ]
    },
    {
      "cell_type": "code",
      "execution_count": null,
      "metadata": {
        "scrolled": true,
        "id": "XCBHA6nDU0mK",
        "outputId": "17efa541-3799-4e07-e265-2e234a16a85f"
      },
      "outputs": [
        {
          "name": "stdout",
          "output_type": "stream",
          "text": [
            "0 0 0 0 0 0 0 0 0 0 0 0 0 0 0 0 1 2 3 4 5 6 7 8 9 10 11 12 13 14 15 16 17 18 19 20 21 22 23 24 25 26 27 28 29 30 31 32 33 34 35 36 37 38 39 40 41 42 43 44 45 46 47 48 49 50 51 52 53 54 55 56 57 58 59 60 61 62 63 64 65 66 67 68 69 70 71 72 73 74 75 76 77 77 77 77 77 77 77 77 77 77 77 77 77 77 77 77 77 77 77 77 77 77 77 77 77 77 77 77 77 77 77 done\n"
          ]
        }
      ],
      "source": [
        "indices=numpy.pad(range(len(screens)), (1*fps,2*fps), mode='edge')\n",
        "\n",
        "with imageio.get_writer(\"mountain_3.mp4\", mode='I',fps=fps) as writer:\n",
        "    for n in indices:\n",
        "        print(n,end=\" \")\n",
        "        writer.append_data(screens[n])\n",
        "\n",
        "print(\"done\")"
      ]
    },
    {
      "cell_type": "code",
      "execution_count": null,
      "metadata": {
        "id": "gWJCFM66U0mO",
        "outputId": "90a74e85-ffeb-44d0-b841-ecb52d862783"
      },
      "outputs": [
        {
          "name": "stdout",
          "output_type": "stream",
          "text": [
            "0 0 0 0 0 0 0 0 0 0 0 0 0 0 0 0 1 2 3 4 5 6 7 8 9 10 11 12 13 14 15 16 17 18 19 20 21 22 23 24 25 26 27 28 29 30 31 32 33 34 35 36 37 38 39 40 41 42 43 44 45 46 47 48 49 50 51 52 53 54 55 56 57 58 59 60 61 62 63 64 65 66 67 68 69 70 71 72 73 74 75 76 77 77 77 77 77 77 77 77 77 77 77 77 77 77 77 77 77 77 77 77 77 77 77 77 77 77 77 77 77 77 77 done\n"
          ]
        }
      ],
      "source": [
        "indices=numpy.pad(range(len(positions)), (1*fps,2*fps), mode='edge')\n",
        "\n",
        "with imageio.get_writer(\"phase_3.mp4\", mode='I',fps=fps) as writer:\n",
        "    for n in indices:\n",
        "        print(n,end=\" \")\n",
        "        plot_array=phaseplot_3(n,show=False,return_array=True,dpi=300)\n",
        "        writer.append_data(plot_array.astype(numpy.uint8))\n",
        "\n",
        "print(\"done\")"
      ]
    },
    {
      "cell_type": "code",
      "execution_count": null,
      "metadata": {
        "id": "zQpnYlgjU0mO"
      },
      "outputs": [],
      "source": []
    }
  ],
  "metadata": {
    "kernelspec": {
      "display_name": "Python 3 (ipykernel)",
      "language": "python",
      "name": "python3"
    },
    "language_info": {
      "codemirror_mode": {
        "name": "ipython",
        "version": 3
      },
      "file_extension": ".py",
      "mimetype": "text/x-python",
      "name": "python",
      "nbconvert_exporter": "python",
      "pygments_lexer": "ipython3",
      "version": "3.9.7"
    },
    "colab": {
      "provenance": []
    }
  },
  "nbformat": 4,
  "nbformat_minor": 0
}