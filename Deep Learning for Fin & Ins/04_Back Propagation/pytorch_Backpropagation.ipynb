{
 "cells": [
  {
   "cell_type": "markdown",
   "metadata": {
    "id": "_qoo0FsAPSdX"
   },
   "source": [
    "<img src=\"https://news.illinois.edu/files/6367/543635/116641.jpg\" alt=\"University of Illinois\" width=\"250\"/>\n",
    "\n",
    "# PyTorch Backpropagation #\n",
    "By Richard Sowers\n",
    "* <r-sowers@illinois.edu>\n",
    "* <https://publish.illinois.edu/r-sowers/>\n",
    "\n",
    "Copyright 2022 University of Illinois Board of Trustees. All Rights Reserved."
   ]
  },
  {
   "cell_type": "code",
   "execution_count": null,
   "metadata": {
    "id": "2YvIIuojPccN"
   },
   "outputs": [],
   "source": [
    "import os\n",
    "import numpy\n",
    "import pandas\n",
    "import time\n",
    "import random\n",
    "import matplotlib\n",
    "#%matplotlib notebook\n",
    "import matplotlib.pyplot as plt\n",
    "import scipy.stats\n",
    "#from pandas.plotting import autocorrelation_plot\n",
    "import matplotlib.offsetbox as offsetbox\n",
    "from matplotlib.ticker import StrMethodFormatter\n",
    "import sklearn.linear_model\n",
    "import sklearn.model_selection\n",
    "import itertools\n",
    "\n",
    "\n",
    "def saver(fname):\n",
    "    plt.savefig(fname+\".png\",bbox_inches=\"tight\")\n",
    "\n",
    "def legend(pos=\"bottom\",ncol=3):\n",
    "    if pos==\"bottom\":\n",
    "        plt.legend(bbox_to_anchor=(0.5,-0.2), loc='upper center',facecolor=\"lightgray\",ncol=ncol)\n",
    "    elif pos==\"side\":\n",
    "        plt.legend(bbox_to_anchor=(1.1,0.5), loc='center left',facecolor=\"lightgray\",ncol=1)\n",
    "\n",
    "def textbox(txt,fname=None):\n",
    "    plt.figure(figsize=(1,1))\n",
    "    plt.gca().add_artist(offsetbox.AnchoredText(\"\\n\".join(txt), loc=\"center\",prop=dict(size=30)))\n",
    "    plt.axis('off')\n",
    "    if fname is not None:\n",
    "        saver(fname)\n",
    "    plt.show()\n",
    "    plt.close()"
   ]
  },
  {
   "cell_type": "code",
   "execution_count": null,
   "metadata": {
    "id": "XEQ2mNw3WXw3"
   },
   "outputs": [],
   "source": [
    "import torch\n",
    "import numpy"
   ]
  },
  {
   "cell_type": "code",
   "execution_count": null,
   "metadata": {
    "id": "E6TRhuBaPhAq"
   },
   "outputs": [],
   "source": [
    "#for some reason, this needs to be in a separate cell\n",
    "params={\n",
    "    \"font.size\":15,\n",
    "    \"lines.linewidth\":5\n",
    "}\n",
    "plt.rcParams.update(params)"
   ]
  },
  {
   "cell_type": "code",
   "execution_count": null,
   "metadata": {
    "colab": {
     "base_uri": "https://localhost:8080/"
    },
    "id": "uMLTStLoPjtw",
    "outputId": "ef0b4b01-cf60-4f39-c432-c0beaa624225"
   },
   "outputs": [
    {
     "name": "stdout",
     "output_type": "stream",
     "text": [
      "existing png files: []\n"
     ]
    }
   ],
   "source": [
    "pngfiles=[f for f in os.listdir(\".\") if f.endswith(\".png\")]\n",
    "print(\"existing png files: \"+str(pngfiles))\n",
    "#print([os.remove(f) for f in pngfiles])"
   ]
  },
  {
   "cell_type": "code",
   "execution_count": null,
   "metadata": {
    "id": "CQ7l-sHNPmH3"
   },
   "outputs": [],
   "source": [
    "def getfile(location_pair,**kwargs): #tries to get local version and then defaults to google drive version\n",
    "    (loc,gdrive)=location_pair\n",
    "    try:\n",
    "        out=pandas.read_csv(loc,**kwargs)\n",
    "    except FileNotFoundError:\n",
    "        print(\"local file not found; accessing Google Drive\")\n",
    "        loc = 'https://drive.google.com/uc?export=download&id='+gdrive.split('/')[-2]\n",
    "        out=pandas.read_csv(loc,**kwargs)\n",
    "    return out"
   ]
  },
  {
   "cell_type": "markdown",
   "metadata": {
    "id": "-kvsUGeUPor3"
   },
   "source": [
    "# configuration variables"
   ]
  },
  {
   "cell_type": "markdown",
   "metadata": {
    "id": "XrilKKeNPwVd"
   },
   "source": [
    "# main"
   ]
  },
  {
   "cell_type": "code",
   "execution_count": null,
   "metadata": {
    "colab": {
     "base_uri": "https://localhost:8080/"
    },
    "id": "KOM_8aG2shpC",
    "outputId": "6fd8eb7d-9ce8-4e00-a0d1-b7b6dc4da831"
   },
   "outputs": [
    {
     "name": "stdout",
     "output_type": "stream",
     "text": [
      "df/dm1=-0.316\n",
      "df/dm2=0.093\n",
      "df/dm3=-0.405\n"
     ]
    }
   ],
   "source": [
    "import torch\n",
    "from torch.autograd import Variable\n",
    "m1 = Variable(torch.tensor(0.1), requires_grad=True)\n",
    "m2 = Variable(torch.tensor(2.0), requires_grad=True)\n",
    "m3 = Variable(torch.tensor(0.9), requires_grad=True)\n",
    "x = 4\n",
    "f = (1/(1+(m3*torch.sin(m2*torch.cos(m1*x)))**2))**4\n",
    "f.backward()\n",
    "print(\"df/dm1={0:.3f}\".format(m1.grad.item()))\n",
    "print(\"df/dm2={0:.3f}\".format(m2.grad.item()))\n",
    "print(\"df/dm3={0:.3f}\".format(m3.grad.item()))"
   ]
  }
 ],
 "metadata": {
  "colab": {
   "provenance": []
  },
  "kernelspec": {
   "display_name": "Python 3 (ipykernel)",
   "language": "python",
   "name": "python3"
  },
  "language_info": {
   "codemirror_mode": {
    "name": "ipython",
    "version": 3
   },
   "file_extension": ".py",
   "mimetype": "text/x-python",
   "name": "python",
   "nbconvert_exporter": "python",
   "pygments_lexer": "ipython3",
   "version": "3.9.12"
  }
 },
 "nbformat": 4,
 "nbformat_minor": 1
}
