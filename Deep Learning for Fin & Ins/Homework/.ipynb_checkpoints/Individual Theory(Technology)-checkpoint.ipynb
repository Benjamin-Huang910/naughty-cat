{
 "cells": [
  {
   "cell_type": "markdown",
   "id": "3f8182f7",
   "metadata": {},
   "source": [
    "Compute $1+1$"
   ]
  },
  {
   "cell_type": "code",
   "execution_count": 1,
   "id": "e905c528",
   "metadata": {},
   "outputs": [
    {
     "name": "stdout",
     "output_type": "stream",
     "text": [
      "solution:2\n"
     ]
    }
   ],
   "source": [
    "print(\"solution:\"+str(1+1))"
   ]
  },
  {
   "cell_type": "code",
   "execution_count": null,
   "id": "d15bd104",
   "metadata": {},
   "outputs": [],
   "source": []
  }
 ],
 "metadata": {
  "kernelspec": {
   "display_name": "Python 3 (ipykernel)",
   "language": "python",
   "name": "python3"
  },
  "language_info": {
   "codemirror_mode": {
    "name": "ipython",
    "version": 3
   },
   "file_extension": ".py",
   "mimetype": "text/x-python",
   "name": "python",
   "nbconvert_exporter": "python",
   "pygments_lexer": "ipython3",
   "version": "3.9.12"
  }
 },
 "nbformat": 4,
 "nbformat_minor": 5
}
