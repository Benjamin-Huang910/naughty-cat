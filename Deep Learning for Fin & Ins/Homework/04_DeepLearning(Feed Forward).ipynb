{
 "cells": [
  {
   "cell_type": "markdown",
   "id": "dc5cc065",
   "metadata": {},
   "source": [
    "<img src=\"https://news.illinois.edu/files/6367/543635/116641.jpg\" alt=\"University of Illinois\" width=\"250\"/>\n",
    "\n",
    "## HW: Deep Learning ##\n",
    "\n",
    "HW submission by group (up to 4 people)\n",
    "* John Doe <johndoe@illinois.edu>\n",
    "* Jane Roes <janeroe@illinois.edu>"
   ]
  },
  {
   "cell_type": "markdown",
   "id": "12d6dae3",
   "metadata": {},
   "source": [
    "**Redfin Price Prediction**:  Download property data from Redfin <https://www.redfin.com/> for several neighborhoods of Chicago.  Use multilayer neural networks to predict price based upon the feature set\n",
    "* Square Feet\n",
    "* Property Type\n",
    "* number of Beds\n",
    "* number of Baths\n",
    "* Year built\n",
    "* HOA/Month"
   ]
  },
  {
   "cell_type": "code",
   "execution_count": 1,
   "id": "ffbb26be",
   "metadata": {},
   "outputs": [],
   "source": [
    "import torch\n",
    "import numpy\n",
    "import pandas as pd\n",
    "import random\n",
    "import matplotlib\n",
    "#%matplotlib notebook\n",
    "import matplotlib.pyplot as plt\n",
    "import scipy.stats\n",
    "#from pandas.plotting import autocorrelation_plot\n",
    "import matplotlib.offsetbox as offsetbox\n",
    "from matplotlib.ticker import StrMethodFormatter\n",
    "import itertools\n",
    "import time\n",
    "import torch\n",
    "import torch.nn as nn\n",
    "import torch.nn.functional as F"
   ]
  },
  {
   "cell_type": "code",
   "execution_count": 2,
   "id": "2ce0c96d",
   "metadata": {},
   "outputs": [],
   "source": [
    "def getfile(location_pair,**kwargs): #tries to get local version and then defaults to google drive version\n",
    "    (loc,gdrive)=location_pair\n",
    "    try:\n",
    "        out=pd.read_csv(loc,**kwargs)\n",
    "    except FileNotFoundError:\n",
    "        print(\"local file not found; accessing Google Drive\")\n",
    "        loc = 'https://drive.google.com/uc?export=download&id='+gdrive.split('/')[-2]\n",
    "        out=pd.read_csv(loc,**kwargs)\n",
    "    return out"
   ]
  },
  {
   "cell_type": "code",
   "execution_count": 3,
   "id": "167c160e",
   "metadata": {},
   "outputs": [],
   "source": [
    "url=\"https://www.redfin.com\"\n",
    "fname=(\"redfin_data.csv\",\"https://drive.google.com/file/d/1BFgKwV58YkPX_PRWMuKRHQoT6T0de_Qf/view?usp=sharing\")\n",
    "plot_title=\"Home Asking Price (Redfin)\"\n",
    "data_color=\"red\"\n",
    "markersize=2\n",
    "thinlinesize=2\n",
    "SEED=0"
   ]
  },
  {
   "cell_type": "code",
   "execution_count": 4,
   "id": "16fe0651",
   "metadata": {},
   "outputs": [
    {
     "name": "stdout",
     "output_type": "stream",
     "text": [
      "local file not found; accessing Google Drive\n"
     ]
    }
   ],
   "source": [
    "data_raw=getfile(fname)\n",
    "data_raw\n",
    "\n",
    "data = data_raw.copy()\n",
    "data[\"SQUARE FEET/1000\"]=data[\"SQUARE FEET\"]/1000\n",
    "data[\"PRICE/$1M\"]=data[\"PRICE\"]/1.0E6\n",
    "data = data[['SALE TYPE', 'SOLD DATE', 'PROPERTY TYPE', 'ADDRESS', 'CITY',\n",
    "       'STATE OR PROVINCE', 'ZIP OR POSTAL CODE', 'PRICE/$1M', 'BEDS', 'BATHS',\n",
    "       'LOCATION', 'SQUARE FEET/1000', 'LOT SIZE', 'YEAR BUILT', 'DAYS ON MARKET',\n",
    "       '$/SQUARE FEET', 'HOA/MONTH', 'STATUS', 'NEXT OPEN HOUSE START TIME',\n",
    "       'NEXT OPEN HOUSE END TIME',\n",
    "       'URL (SEE https://www.redfin.com/buy-a-home/comparative-market-analysis FOR INFO ON PRICING)',\n",
    "       'SOURCE', 'MLS#', 'FAVORITE', 'INTERESTED', 'LATITUDE', 'LONGITUDE']]"
   ]
  },
  {
   "cell_type": "code",
   "execution_count": 5,
   "id": "b8dbcb71",
   "metadata": {},
   "outputs": [
    {
     "data": {
      "text/html": [
       "<div>\n",
       "<style scoped>\n",
       "    .dataframe tbody tr th:only-of-type {\n",
       "        vertical-align: middle;\n",
       "    }\n",
       "\n",
       "    .dataframe tbody tr th {\n",
       "        vertical-align: top;\n",
       "    }\n",
       "\n",
       "    .dataframe thead th {\n",
       "        text-align: right;\n",
       "    }\n",
       "</style>\n",
       "<table border=\"1\" class=\"dataframe\">\n",
       "  <thead>\n",
       "    <tr style=\"text-align: right;\">\n",
       "      <th></th>\n",
       "      <th>PRICE/$1M</th>\n",
       "      <th>BEDS</th>\n",
       "      <th>BATHS</th>\n",
       "      <th>SQUARE FEET/1000</th>\n",
       "      <th>YEAR BUILT</th>\n",
       "      <th>HOA/MONTH</th>\n",
       "      <th>PROPERTY TYPE_Condo/Co-op</th>\n",
       "      <th>PROPERTY TYPE_Multi-Family (2-4 Unit)</th>\n",
       "      <th>PROPERTY TYPE_Single Family Residential</th>\n",
       "      <th>PROPERTY TYPE_Townhouse</th>\n",
       "      <th>PROPERTY TYPE_Vacant Land</th>\n",
       "    </tr>\n",
       "  </thead>\n",
       "  <tbody>\n",
       "    <tr>\n",
       "      <th>0</th>\n",
       "      <td>0.3399</td>\n",
       "      <td>3.0</td>\n",
       "      <td>2.0</td>\n",
       "      <td>1.520</td>\n",
       "      <td>1958.0</td>\n",
       "      <td>749.0</td>\n",
       "      <td>0</td>\n",
       "      <td>0</td>\n",
       "      <td>1</td>\n",
       "      <td>0</td>\n",
       "      <td>0</td>\n",
       "    </tr>\n",
       "    <tr>\n",
       "      <th>1</th>\n",
       "      <td>0.1990</td>\n",
       "      <td>2.0</td>\n",
       "      <td>1.0</td>\n",
       "      <td>0.900</td>\n",
       "      <td>1959.0</td>\n",
       "      <td>452.0</td>\n",
       "      <td>1</td>\n",
       "      <td>0</td>\n",
       "      <td>0</td>\n",
       "      <td>0</td>\n",
       "      <td>0</td>\n",
       "    </tr>\n",
       "    <tr>\n",
       "      <th>2</th>\n",
       "      <td>1.0750</td>\n",
       "      <td>5.0</td>\n",
       "      <td>3.5</td>\n",
       "      <td>3.135</td>\n",
       "      <td>2023.0</td>\n",
       "      <td>749.0</td>\n",
       "      <td>0</td>\n",
       "      <td>0</td>\n",
       "      <td>1</td>\n",
       "      <td>0</td>\n",
       "      <td>0</td>\n",
       "    </tr>\n",
       "    <tr>\n",
       "      <th>3</th>\n",
       "      <td>0.8250</td>\n",
       "      <td>4.0</td>\n",
       "      <td>2.5</td>\n",
       "      <td>3.219</td>\n",
       "      <td>2019.0</td>\n",
       "      <td>749.0</td>\n",
       "      <td>0</td>\n",
       "      <td>0</td>\n",
       "      <td>0</td>\n",
       "      <td>1</td>\n",
       "      <td>0</td>\n",
       "    </tr>\n",
       "    <tr>\n",
       "      <th>4</th>\n",
       "      <td>0.5250</td>\n",
       "      <td>3.0</td>\n",
       "      <td>1.5</td>\n",
       "      <td>1.600</td>\n",
       "      <td>1949.0</td>\n",
       "      <td>749.0</td>\n",
       "      <td>0</td>\n",
       "      <td>0</td>\n",
       "      <td>1</td>\n",
       "      <td>0</td>\n",
       "      <td>0</td>\n",
       "    </tr>\n",
       "  </tbody>\n",
       "</table>\n",
       "</div>"
      ],
      "text/plain": [
       "   PRICE/$1M  BEDS  BATHS  SQUARE FEET/1000  YEAR BUILT  HOA/MONTH  \\\n",
       "0     0.3399   3.0    2.0             1.520      1958.0      749.0   \n",
       "1     0.1990   2.0    1.0             0.900      1959.0      452.0   \n",
       "2     1.0750   5.0    3.5             3.135      2023.0      749.0   \n",
       "3     0.8250   4.0    2.5             3.219      2019.0      749.0   \n",
       "4     0.5250   3.0    1.5             1.600      1949.0      749.0   \n",
       "\n",
       "   PROPERTY TYPE_Condo/Co-op  PROPERTY TYPE_Multi-Family (2-4 Unit)  \\\n",
       "0                          0                                      0   \n",
       "1                          1                                      0   \n",
       "2                          0                                      0   \n",
       "3                          0                                      0   \n",
       "4                          0                                      0   \n",
       "\n",
       "   PROPERTY TYPE_Single Family Residential  PROPERTY TYPE_Townhouse  \\\n",
       "0                                        1                        0   \n",
       "1                                        0                        0   \n",
       "2                                        1                        0   \n",
       "3                                        0                        1   \n",
       "4                                        1                        0   \n",
       "\n",
       "   PROPERTY TYPE_Vacant Land  \n",
       "0                          0  \n",
       "1                          0  \n",
       "2                          0  \n",
       "3                          0  \n",
       "4                          0  "
      ]
     },
     "execution_count": 5,
     "metadata": {},
     "output_type": "execute_result"
    }
   ],
   "source": [
    "#Convert PROPERTY TYPE\n",
    "df_encoded = pd.get_dummies(data, columns=['PROPERTY TYPE'])\n",
    "\n",
    "df_encoded = df_encoded.select_dtypes(exclude=['object'])\n",
    "columns_to_remove = ['SOLD DATE', 'ZIP OR POSTAL CODE', 'LOT SIZE', 'DAYS ON MARKET', '$/SQUARE FEET', 'MLS#', 'LATITUDE', 'LONGITUDE']\n",
    "df_encoded = df_encoded.drop(columns=columns_to_remove)\n",
    "df_encoded = df_encoded.fillna(df_encoded.mean())\n",
    "\n",
    "df_encoded.head()"
   ]
  },
  {
   "cell_type": "markdown",
   "id": "20aa2739",
   "metadata": {},
   "source": [
    "# Method 1"
   ]
  },
  {
   "cell_type": "code",
   "execution_count": 10,
   "id": "962778a5",
   "metadata": {},
   "outputs": [
    {
     "name": "stdout",
     "output_type": "stream",
     "text": [
      "FeedForwardNN(\n",
      "  (fc1): Linear(in_features=10, out_features=64, bias=True)\n",
      "  (fc2): Linear(in_features=64, out_features=32, bias=True)\n",
      "  (fc3): Linear(in_features=32, out_features=1, bias=True)\n",
      ")\n"
     ]
    }
   ],
   "source": [
    "class FeedForwardNN(nn.Module):\n",
    "    def __init__(self, input_size, layer_size1=64, layer_size2=32):\n",
    "        super(FeedForwardNN, self).__init__()\n",
    "\n",
    "        self.fc1 = nn.Linear(input_size, layer_size1)\n",
    "\n",
    "        self.fc2 = nn.Linear(layer_size1, layer_size2)\n",
    "\n",
    "        self.fc3 = nn.Linear(layer_size2, 1)\n",
    "\n",
    "    def forward(self, x):\n",
    "\n",
    "        x = F.relu(self.fc1(x))\n",
    "        x = F.relu(self.fc2(x))\n",
    "        return F.relu(self.fc3(x))\n",
    "\n",
    "input_size = 10  # 10 predictors after turning Property Type into 5 predictors\n",
    "model = FeedForwardNN(input_size)\n",
    "\n",
    "print(model)"
   ]
  },
  {
   "cell_type": "code",
   "execution_count": 11,
   "id": "d2af1997",
   "metadata": {},
   "outputs": [],
   "source": [
    "X_tensor = torch.FloatTensor(df_encoded.drop('PRICE/$1M', axis=1).values)\n",
    "y_tensor = torch.FloatTensor(df_encoded['PRICE/$1M'].values).view(-1, 1)"
   ]
  },
  {
   "cell_type": "code",
   "execution_count": 12,
   "id": "7b53a7ae",
   "metadata": {},
   "outputs": [
    {
     "name": "stdout",
     "output_type": "stream",
     "text": [
      "Epoch [10/100], Loss: 1.3361\n",
      "Epoch [20/100], Loss: 1.3361\n",
      "Epoch [30/100], Loss: 1.3361\n",
      "Epoch [40/100], Loss: 1.3361\n",
      "Epoch [50/100], Loss: 1.3361\n",
      "Epoch [60/100], Loss: 1.3361\n",
      "Epoch [70/100], Loss: 1.3361\n",
      "Epoch [80/100], Loss: 1.3361\n",
      "Epoch [90/100], Loss: 1.3361\n",
      "Epoch [100/100], Loss: 1.3361\n"
     ]
    }
   ],
   "source": [
    "loss_function = nn.MSELoss()\n",
    "optimizer = torch.optim.Adam(model.parameters(), lr=0.01) # Experimented with learning rate\n",
    "\n",
    "epochs = 100\n",
    "for epoch in range(epochs):\n",
    "    outputs = model(X_tensor)\n",
    "    loss = loss_function(outputs, y_tensor)\n",
    "\n",
    "    optimizer.zero_grad()\n",
    "    loss.backward()\n",
    "    optimizer.step()\n",
    "\n",
    "    if (epoch+1) % 10 == 0:\n",
    "        print(f'Epoch [{epoch+1}/{epochs}], Loss: {loss.item():.4f}')"
   ]
  },
  {
   "cell_type": "code",
   "execution_count": 13,
   "id": "cb4d2898",
   "metadata": {},
   "outputs": [],
   "source": [
    "X_tensor_20 = X_tensor[:20]  # Testing model performance on first 20 rows"
   ]
  },
  {
   "cell_type": "code",
   "execution_count": 14,
   "id": "6ff66277",
   "metadata": {},
   "outputs": [],
   "source": [
    "model.eval()\n",
    "with torch.no_grad():\n",
    "    predictions_20 = model(X_tensor_20)"
   ]
  },
  {
   "cell_type": "code",
   "execution_count": 15,
   "id": "0da432a7",
   "metadata": {},
   "outputs": [
    {
     "name": "stdout",
     "output_type": "stream",
     "text": [
      "Row 1: Predicted Price = 0.00\n",
      "Row 2: Predicted Price = 0.00\n",
      "Row 3: Predicted Price = 0.00\n",
      "Row 4: Predicted Price = 0.00\n",
      "Row 5: Predicted Price = 0.00\n",
      "Row 6: Predicted Price = 0.00\n",
      "Row 7: Predicted Price = 0.00\n",
      "Row 8: Predicted Price = 0.00\n",
      "Row 9: Predicted Price = 0.00\n",
      "Row 10: Predicted Price = 0.00\n",
      "Row 11: Predicted Price = 0.00\n",
      "Row 12: Predicted Price = 0.00\n",
      "Row 13: Predicted Price = 0.00\n",
      "Row 14: Predicted Price = 0.00\n",
      "Row 15: Predicted Price = 0.00\n",
      "Row 16: Predicted Price = 0.00\n",
      "Row 17: Predicted Price = 0.00\n",
      "Row 18: Predicted Price = 0.00\n",
      "Row 19: Predicted Price = 0.00\n",
      "Row 20: Predicted Price = 0.00\n"
     ]
    }
   ],
   "source": [
    "predicted_prices = predictions_20.numpy()\n",
    "for i, price in enumerate(predicted_prices):\n",
    "    print(f\"Row {i + 1}: Predicted Price = {price[0]:.2f}\")"
   ]
  },
  {
   "cell_type": "code",
   "execution_count": 16,
   "id": "1c4c7a1c",
   "metadata": {},
   "outputs": [],
   "source": [
    "actual_prices_20 = y_tensor[:20].numpy()\n",
    "predicted_prices = predicted_prices.reshape(-1)\n",
    "actual_prices_20 = actual_prices_20.reshape(-1)"
   ]
  },
  {
   "cell_type": "code",
   "execution_count": 17,
   "id": "a21e6801",
   "metadata": {},
   "outputs": [],
   "source": [
    "comparison_df = pd.DataFrame({\n",
    "    'Actual Price': actual_prices_20,\n",
    "    'Predicted Price': predicted_prices\n",
    "})"
   ]
  },
  {
   "cell_type": "code",
   "execution_count": 18,
   "id": "a961aa46",
   "metadata": {},
   "outputs": [
    {
     "name": "stdout",
     "output_type": "stream",
     "text": [
      "    Actual Price  Predicted Price\n",
      "0       0.339900              0.0\n",
      "1       0.199000              0.0\n",
      "2       1.075000              0.0\n",
      "3       0.825000              0.0\n",
      "4       0.525000              0.0\n",
      "5       0.450000              0.0\n",
      "6       0.525000              0.0\n",
      "7       1.350000              0.0\n",
      "8       0.785000              0.0\n",
      "9       0.859500              0.0\n",
      "10      1.285000              0.0\n",
      "11      0.850000              0.0\n",
      "12      0.195000              0.0\n",
      "13      0.315000              0.0\n",
      "14      0.899000              0.0\n",
      "15      0.230000              0.0\n",
      "16      0.299999              0.0\n",
      "17      0.340000              0.0\n",
      "18      0.350000              0.0\n",
      "19      1.999999              0.0\n",
      "0.68486995\n",
      "1.0\n",
      "1.0\n"
     ]
    }
   ],
   "source": [
    "mae = numpy.mean(numpy.abs(predicted_prices - actual_prices_20))\n",
    "normalized_mae = mae / numpy.mean(actual_prices_20)\n",
    "mean_relative_error = numpy.mean(numpy.abs(predicted_prices - actual_prices_20)/actual_prices_20)\n",
    "print(comparison_df)\n",
    "print(mae)\n",
    "print(normalized_mae)\n",
    "print(mean_relative_error)"
   ]
  },
  {
   "cell_type": "markdown",
   "id": "5ef19c58",
   "metadata": {},
   "source": [
    "# Method 2"
   ]
  },
  {
   "cell_type": "code",
   "execution_count": 8,
   "id": "e9899a09",
   "metadata": {},
   "outputs": [],
   "source": [
    "X_tensor = torch.FloatTensor(df_encoded.drop('PRICE/$1M', axis=1).values)\n",
    "y_tensor = torch.FloatTensor(df_encoded['PRICE/$1M'].values).view(-1, 1)"
   ]
  },
  {
   "cell_type": "code",
   "execution_count": 13,
   "id": "fa3b3759",
   "metadata": {},
   "outputs": [],
   "source": [
    "#Making Dataset Iterable\n",
    "batch_size = 50\n",
    "n_iters = 1000\n",
    "num_epochs = n_iters / (len(df_encoded) / batch_size)\n",
    "num_epochs = int(num_epochs)\n",
    "\n",
    "train_loader = torch.utils.data.TensorDataset(*[X_tensor,y_tensor])\n",
    "\n",
    "test_loader = torch.utils.data.DataLoader(train_loader, \n",
    "                                          batch_size=batch_size, \n",
    "                                          shuffle=False)\n"
   ]
  },
  {
   "cell_type": "code",
   "execution_count": 14,
   "id": "944769c6",
   "metadata": {},
   "outputs": [],
   "source": [
    "class FeedforwardNeuralNetModel(nn.Module):\n",
    "    def __init__(self, input_dim, hidden_dim, output_dim):\n",
    "        super(FeedforwardNeuralNetModel, self).__init__()\n",
    "        # Linear function 1: 10*10 --> 100\n",
    "        self.fc1 = nn.Linear(input_dim, hidden_dim) \n",
    "        # Non-linearity 1\n",
    "        self.relu1 = nn.ReLU()\n",
    "\n",
    "        # Linear function 2: 100 --> 100\n",
    "        self.fc2 = nn.Linear(hidden_dim, hidden_dim)\n",
    "        # Non-linearity 2\n",
    "        self.relu2 = nn.ReLU()\n",
    "\n",
    "        # Linear function 3: 100 --> 100\n",
    "        self.fc3 = nn.Linear(hidden_dim, hidden_dim)\n",
    "        # Non-linearity 3\n",
    "        self.relu3 = nn.ReLU()\n",
    "\n",
    "        # Linear function 4 (readout): 100 --> 1\n",
    "        self.fc4 = nn.Linear(hidden_dim, output_dim)  \n",
    "\n",
    "    def forward(self, x):\n",
    "        # Linear function 1\n",
    "        out = self.fc1(x)\n",
    "        # Non-linearity 1\n",
    "        out = self.relu1(out)\n",
    "\n",
    "        # Linear function 2\n",
    "        out = self.fc2(out)\n",
    "        # Non-linearity 2\n",
    "        out = self.relu2(out)\n",
    "\n",
    "        # Linear function 2\n",
    "        out = self.fc3(out)\n",
    "        # Non-linearity 2\n",
    "        out = self.relu3(out)\n",
    "\n",
    "        # Linear function 4 (readout)\n",
    "        out = self.fc4(out)\n",
    "        return out"
   ]
  },
  {
   "cell_type": "code",
   "execution_count": 15,
   "id": "199f43c2",
   "metadata": {},
   "outputs": [],
   "source": [
    "input_dim = 10\n",
    "hidden_dim = 100\n",
    "output_dim = 1\n",
    "\n",
    "model = FeedforwardNeuralNetModel(input_dim, hidden_dim, output_dim)"
   ]
  },
  {
   "cell_type": "code",
   "execution_count": 16,
   "id": "c1ba121c",
   "metadata": {},
   "outputs": [],
   "source": [
    "criterion = nn.CrossEntropyLoss()"
   ]
  },
  {
   "cell_type": "code",
   "execution_count": 17,
   "id": "9f8feb77",
   "metadata": {},
   "outputs": [],
   "source": [
    "learning_rate = 0.1\n",
    "\n",
    "optimizer = torch.optim.SGD(model.parameters(), lr=learning_rate)"
   ]
  },
  {
   "cell_type": "code",
   "execution_count": 18,
   "id": "2e90261c",
   "metadata": {},
   "outputs": [
    {
     "ename": "RuntimeError",
     "evalue": "expected scalar type Long but found Float",
     "output_type": "error",
     "traceback": [
      "\u001b[1;31m---------------------------------------------------------------------------\u001b[0m",
      "\u001b[1;31mRuntimeError\u001b[0m                              Traceback (most recent call last)",
      "Input \u001b[1;32mIn [18]\u001b[0m, in \u001b[0;36m<cell line: 2>\u001b[1;34m()\u001b[0m\n\u001b[0;32m     11\u001b[0m outputs \u001b[38;5;241m=\u001b[39m model(images)\n\u001b[0;32m     13\u001b[0m \u001b[38;5;66;03m# Calculate Loss: softmax --> cross entropy loss\u001b[39;00m\n\u001b[1;32m---> 14\u001b[0m loss \u001b[38;5;241m=\u001b[39m \u001b[43mcriterion\u001b[49m\u001b[43m(\u001b[49m\u001b[43moutputs\u001b[49m\u001b[43m,\u001b[49m\u001b[43m \u001b[49m\u001b[43mlabels\u001b[49m\u001b[43m)\u001b[49m\n\u001b[0;32m     16\u001b[0m \u001b[38;5;66;03m# Getting gradients w.r.t. parameters\u001b[39;00m\n\u001b[0;32m     17\u001b[0m loss\u001b[38;5;241m.\u001b[39mbackward()\n",
      "File \u001b[1;32m~\\anaconda3\\lib\\site-packages\\torch\\nn\\modules\\module.py:1501\u001b[0m, in \u001b[0;36mModule._call_impl\u001b[1;34m(self, *args, **kwargs)\u001b[0m\n\u001b[0;32m   1496\u001b[0m \u001b[38;5;66;03m# If we don't have any hooks, we want to skip the rest of the logic in\u001b[39;00m\n\u001b[0;32m   1497\u001b[0m \u001b[38;5;66;03m# this function, and just call forward.\u001b[39;00m\n\u001b[0;32m   1498\u001b[0m \u001b[38;5;28;01mif\u001b[39;00m \u001b[38;5;129;01mnot\u001b[39;00m (\u001b[38;5;28mself\u001b[39m\u001b[38;5;241m.\u001b[39m_backward_hooks \u001b[38;5;129;01mor\u001b[39;00m \u001b[38;5;28mself\u001b[39m\u001b[38;5;241m.\u001b[39m_backward_pre_hooks \u001b[38;5;129;01mor\u001b[39;00m \u001b[38;5;28mself\u001b[39m\u001b[38;5;241m.\u001b[39m_forward_hooks \u001b[38;5;129;01mor\u001b[39;00m \u001b[38;5;28mself\u001b[39m\u001b[38;5;241m.\u001b[39m_forward_pre_hooks\n\u001b[0;32m   1499\u001b[0m         \u001b[38;5;129;01mor\u001b[39;00m _global_backward_pre_hooks \u001b[38;5;129;01mor\u001b[39;00m _global_backward_hooks\n\u001b[0;32m   1500\u001b[0m         \u001b[38;5;129;01mor\u001b[39;00m _global_forward_hooks \u001b[38;5;129;01mor\u001b[39;00m _global_forward_pre_hooks):\n\u001b[1;32m-> 1501\u001b[0m     \u001b[38;5;28;01mreturn\u001b[39;00m forward_call(\u001b[38;5;241m*\u001b[39margs, \u001b[38;5;241m*\u001b[39m\u001b[38;5;241m*\u001b[39mkwargs)\n\u001b[0;32m   1502\u001b[0m \u001b[38;5;66;03m# Do not call functions when jit is used\u001b[39;00m\n\u001b[0;32m   1503\u001b[0m full_backward_hooks, non_full_backward_hooks \u001b[38;5;241m=\u001b[39m [], []\n",
      "File \u001b[1;32m~\\anaconda3\\lib\\site-packages\\torch\\nn\\modules\\loss.py:1174\u001b[0m, in \u001b[0;36mCrossEntropyLoss.forward\u001b[1;34m(self, input, target)\u001b[0m\n\u001b[0;32m   1173\u001b[0m \u001b[38;5;28;01mdef\u001b[39;00m \u001b[38;5;21mforward\u001b[39m(\u001b[38;5;28mself\u001b[39m, \u001b[38;5;28minput\u001b[39m: Tensor, target: Tensor) \u001b[38;5;241m-\u001b[39m\u001b[38;5;241m>\u001b[39m Tensor:\n\u001b[1;32m-> 1174\u001b[0m     \u001b[38;5;28;01mreturn\u001b[39;00m \u001b[43mF\u001b[49m\u001b[38;5;241;43m.\u001b[39;49m\u001b[43mcross_entropy\u001b[49m\u001b[43m(\u001b[49m\u001b[38;5;28;43minput\u001b[39;49m\u001b[43m,\u001b[49m\u001b[43m \u001b[49m\u001b[43mtarget\u001b[49m\u001b[43m,\u001b[49m\u001b[43m \u001b[49m\u001b[43mweight\u001b[49m\u001b[38;5;241;43m=\u001b[39;49m\u001b[38;5;28;43mself\u001b[39;49m\u001b[38;5;241;43m.\u001b[39;49m\u001b[43mweight\u001b[49m\u001b[43m,\u001b[49m\n\u001b[0;32m   1175\u001b[0m \u001b[43m                           \u001b[49m\u001b[43mignore_index\u001b[49m\u001b[38;5;241;43m=\u001b[39;49m\u001b[38;5;28;43mself\u001b[39;49m\u001b[38;5;241;43m.\u001b[39;49m\u001b[43mignore_index\u001b[49m\u001b[43m,\u001b[49m\u001b[43m \u001b[49m\u001b[43mreduction\u001b[49m\u001b[38;5;241;43m=\u001b[39;49m\u001b[38;5;28;43mself\u001b[39;49m\u001b[38;5;241;43m.\u001b[39;49m\u001b[43mreduction\u001b[49m\u001b[43m,\u001b[49m\n\u001b[0;32m   1176\u001b[0m \u001b[43m                           \u001b[49m\u001b[43mlabel_smoothing\u001b[49m\u001b[38;5;241;43m=\u001b[39;49m\u001b[38;5;28;43mself\u001b[39;49m\u001b[38;5;241;43m.\u001b[39;49m\u001b[43mlabel_smoothing\u001b[49m\u001b[43m)\u001b[49m\n",
      "File \u001b[1;32m~\\anaconda3\\lib\\site-packages\\torch\\nn\\functional.py:3029\u001b[0m, in \u001b[0;36mcross_entropy\u001b[1;34m(input, target, weight, size_average, ignore_index, reduce, reduction, label_smoothing)\u001b[0m\n\u001b[0;32m   3027\u001b[0m \u001b[38;5;28;01mif\u001b[39;00m size_average \u001b[38;5;129;01mis\u001b[39;00m \u001b[38;5;129;01mnot\u001b[39;00m \u001b[38;5;28;01mNone\u001b[39;00m \u001b[38;5;129;01mor\u001b[39;00m reduce \u001b[38;5;129;01mis\u001b[39;00m \u001b[38;5;129;01mnot\u001b[39;00m \u001b[38;5;28;01mNone\u001b[39;00m:\n\u001b[0;32m   3028\u001b[0m     reduction \u001b[38;5;241m=\u001b[39m _Reduction\u001b[38;5;241m.\u001b[39mlegacy_get_string(size_average, reduce)\n\u001b[1;32m-> 3029\u001b[0m \u001b[38;5;28;01mreturn\u001b[39;00m \u001b[43mtorch\u001b[49m\u001b[38;5;241;43m.\u001b[39;49m\u001b[43m_C\u001b[49m\u001b[38;5;241;43m.\u001b[39;49m\u001b[43m_nn\u001b[49m\u001b[38;5;241;43m.\u001b[39;49m\u001b[43mcross_entropy_loss\u001b[49m\u001b[43m(\u001b[49m\u001b[38;5;28;43minput\u001b[39;49m\u001b[43m,\u001b[49m\u001b[43m \u001b[49m\u001b[43mtarget\u001b[49m\u001b[43m,\u001b[49m\u001b[43m \u001b[49m\u001b[43mweight\u001b[49m\u001b[43m,\u001b[49m\u001b[43m \u001b[49m\u001b[43m_Reduction\u001b[49m\u001b[38;5;241;43m.\u001b[39;49m\u001b[43mget_enum\u001b[49m\u001b[43m(\u001b[49m\u001b[43mreduction\u001b[49m\u001b[43m)\u001b[49m\u001b[43m,\u001b[49m\u001b[43m \u001b[49m\u001b[43mignore_index\u001b[49m\u001b[43m,\u001b[49m\u001b[43m \u001b[49m\u001b[43mlabel_smoothing\u001b[49m\u001b[43m)\u001b[49m\n",
      "\u001b[1;31mRuntimeError\u001b[0m: expected scalar type Long but found Float"
     ]
    }
   ],
   "source": [
    "iter = 0\n",
    "for epoch in range(num_epochs):\n",
    "    for i, (images, labels) in enumerate(train_loader):\n",
    "        # Load images with gradient accumulation capabilities\n",
    "        images = images.view(-1, 10).requires_grad_()\n",
    "\n",
    "        # Clear gradients w.r.t. parameters\n",
    "        optimizer.zero_grad()\n",
    "\n",
    "        # Forward pass to get output/logits\n",
    "        outputs = model(images)\n",
    "\n",
    "        # Calculate Loss: softmax --> cross entropy loss\n",
    "        loss = criterion(outputs, labels)\n",
    "\n",
    "        # Getting gradients w.r.t. parameters\n",
    "        loss.backward()\n",
    "\n",
    "        # Updating parameters\n",
    "        optimizer.step()\n",
    "\n",
    "        iter += 1\n",
    "\n",
    "        if iter % 500 == 0:\n",
    "            # Calculate Accuracy         \n",
    "            correct = 0\n",
    "            total = 0\n",
    "            # Iterate through test dataset\n",
    "            for images, labels in test_loader:\n",
    "                # Load images with gradient accumulation capabilities\n",
    "                images = images.view(-1, 28*28).requires_grad_()\n",
    "\n",
    "                # Forward pass only to get logits/output\n",
    "                outputs = model(images)\n",
    "\n",
    "                # Get predictions from the maximum value\n",
    "                _, predicted = torch.max(outputs.data, 1)\n",
    "\n",
    "                # Total number of labels\n",
    "                total += labels.size(0)\n",
    "\n",
    "                # Total correct predictions\n",
    "                correct += (predicted == labels).sum()\n",
    "\n",
    "            accuracy = 100 * correct / total\n",
    "\n",
    "            # Print Loss\n",
    "            print('Iteration: {}. Loss: {}. Accuracy: {}'.format(iter, loss.item(), accuracy))"
   ]
  },
  {
   "cell_type": "code",
   "execution_count": 19,
   "id": "1b8348a9",
   "metadata": {},
   "outputs": [],
   "source": [
    "X_tensor_20 = X_tensor[:20]"
   ]
  },
  {
   "cell_type": "code",
   "execution_count": 20,
   "id": "cefb5176",
   "metadata": {},
   "outputs": [],
   "source": [
    "model.eval()\n",
    "with torch.no_grad():\n",
    "    predictions_20 = model(X_tensor_20)"
   ]
  },
  {
   "cell_type": "code",
   "execution_count": 21,
   "id": "a1ab0a85",
   "metadata": {},
   "outputs": [
    {
     "name": "stdout",
     "output_type": "stream",
     "text": [
      "Row 1: Predicted Price = -14.44\n",
      "Row 2: Predicted Price = -12.56\n",
      "Row 3: Predicted Price = -14.82\n",
      "Row 4: Predicted Price = -14.78\n",
      "Row 5: Predicted Price = -14.38\n",
      "Row 6: Predicted Price = -14.49\n",
      "Row 7: Predicted Price = -12.13\n",
      "Row 8: Predicted Price = -14.48\n",
      "Row 9: Predicted Price = -14.27\n",
      "Row 10: Predicted Price = -14.48\n",
      "Row 11: Predicted Price = -14.31\n",
      "Row 12: Predicted Price = -14.26\n",
      "Row 13: Predicted Price = -12.34\n",
      "Row 14: Predicted Price = -14.47\n",
      "Row 15: Predicted Price = -14.19\n",
      "Row 16: Predicted Price = -12.32\n",
      "Row 17: Predicted Price = -13.73\n",
      "Row 18: Predicted Price = -14.07\n",
      "Row 19: Predicted Price = -12.82\n",
      "Row 20: Predicted Price = -33.85\n"
     ]
    }
   ],
   "source": [
    "predicted_prices = predictions_20.numpy()\n",
    "for i, price in enumerate(predicted_prices):\n",
    "    print(f\"Row {i + 1}: Predicted Price = {price[0]:.2f}\")"
   ]
  },
  {
   "cell_type": "markdown",
   "id": "42717103",
   "metadata": {},
   "source": [
    "# Method 3"
   ]
  },
  {
   "cell_type": "code",
   "execution_count": 29,
   "id": "1012e938",
   "metadata": {},
   "outputs": [],
   "source": [
    "data = data_raw.copy()\n",
    "\n",
    "data[\"SQUARE FEET/1000\"]=data[\"SQUARE FEET\"]/1000\n",
    "data[\"PRICE/$1M\"]=data[\"PRICE\"]/1.0E6\n",
    "data = data[[\"PRICE\", \"SQUARE FEET/1000\", \"PROPERTY TYPE\", \"BEDS\", \"BATHS\", \"YEAR BUILT\", \"HOA/MONTH\"]]"
   ]
  },
  {
   "cell_type": "code",
   "execution_count": 30,
   "id": "d71db789",
   "metadata": {},
   "outputs": [],
   "source": [
    "from sklearn.preprocessing import StandardScaler, MinMaxScaler"
   ]
  },
  {
   "cell_type": "code",
   "execution_count": 31,
   "id": "10c962b3",
   "metadata": {},
   "outputs": [
    {
     "data": {
      "text/html": [
       "<div>\n",
       "<style scoped>\n",
       "    .dataframe tbody tr th:only-of-type {\n",
       "        vertical-align: middle;\n",
       "    }\n",
       "\n",
       "    .dataframe tbody tr th {\n",
       "        vertical-align: top;\n",
       "    }\n",
       "\n",
       "    .dataframe thead th {\n",
       "        text-align: right;\n",
       "    }\n",
       "</style>\n",
       "<table border=\"1\" class=\"dataframe\">\n",
       "  <thead>\n",
       "    <tr style=\"text-align: right;\">\n",
       "      <th></th>\n",
       "      <th>PRICE</th>\n",
       "      <th>SQUARE FEET/1000</th>\n",
       "      <th>PROPERTY TYPE</th>\n",
       "      <th>BEDS</th>\n",
       "      <th>BATHS</th>\n",
       "      <th>YEAR BUILT</th>\n",
       "      <th>HOA/MONTH</th>\n",
       "    </tr>\n",
       "  </thead>\n",
       "  <tbody>\n",
       "    <tr>\n",
       "      <th>0</th>\n",
       "      <td>339900</td>\n",
       "      <td>1.520</td>\n",
       "      <td>Single Family Residential</td>\n",
       "      <td>3.0</td>\n",
       "      <td>2.0</td>\n",
       "      <td>1958.0</td>\n",
       "      <td>NaN</td>\n",
       "    </tr>\n",
       "    <tr>\n",
       "      <th>1</th>\n",
       "      <td>199000</td>\n",
       "      <td>0.900</td>\n",
       "      <td>Condo/Co-op</td>\n",
       "      <td>2.0</td>\n",
       "      <td>1.0</td>\n",
       "      <td>1959.0</td>\n",
       "      <td>452.0</td>\n",
       "    </tr>\n",
       "    <tr>\n",
       "      <th>2</th>\n",
       "      <td>1075000</td>\n",
       "      <td>3.135</td>\n",
       "      <td>Single Family Residential</td>\n",
       "      <td>5.0</td>\n",
       "      <td>3.5</td>\n",
       "      <td>2023.0</td>\n",
       "      <td>NaN</td>\n",
       "    </tr>\n",
       "    <tr>\n",
       "      <th>3</th>\n",
       "      <td>825000</td>\n",
       "      <td>3.219</td>\n",
       "      <td>Townhouse</td>\n",
       "      <td>4.0</td>\n",
       "      <td>2.5</td>\n",
       "      <td>2019.0</td>\n",
       "      <td>NaN</td>\n",
       "    </tr>\n",
       "    <tr>\n",
       "      <th>4</th>\n",
       "      <td>525000</td>\n",
       "      <td>1.600</td>\n",
       "      <td>Single Family Residential</td>\n",
       "      <td>3.0</td>\n",
       "      <td>1.5</td>\n",
       "      <td>1949.0</td>\n",
       "      <td>NaN</td>\n",
       "    </tr>\n",
       "  </tbody>\n",
       "</table>\n",
       "</div>"
      ],
      "text/plain": [
       "     PRICE  SQUARE FEET/1000              PROPERTY TYPE  BEDS  BATHS  \\\n",
       "0   339900             1.520  Single Family Residential   3.0    2.0   \n",
       "1   199000             0.900                Condo/Co-op   2.0    1.0   \n",
       "2  1075000             3.135  Single Family Residential   5.0    3.5   \n",
       "3   825000             3.219                  Townhouse   4.0    2.5   \n",
       "4   525000             1.600  Single Family Residential   3.0    1.5   \n",
       "\n",
       "   YEAR BUILT  HOA/MONTH  \n",
       "0      1958.0        NaN  \n",
       "1      1959.0      452.0  \n",
       "2      2023.0        NaN  \n",
       "3      2019.0        NaN  \n",
       "4      1949.0        NaN  "
      ]
     },
     "execution_count": 31,
     "metadata": {},
     "output_type": "execute_result"
    }
   ],
   "source": [
    "data.head()"
   ]
  },
  {
   "cell_type": "markdown",
   "id": "5e2698c1",
   "metadata": {},
   "source": [
    "# Preprocessing and building model"
   ]
  },
  {
   "cell_type": "code",
   "execution_count": 32,
   "id": "6b3cffad",
   "metadata": {},
   "outputs": [
    {
     "data": {
      "text/html": [
       "<div>\n",
       "<style scoped>\n",
       "    .dataframe tbody tr th:only-of-type {\n",
       "        vertical-align: middle;\n",
       "    }\n",
       "\n",
       "    .dataframe tbody tr th {\n",
       "        vertical-align: top;\n",
       "    }\n",
       "\n",
       "    .dataframe thead th {\n",
       "        text-align: right;\n",
       "    }\n",
       "</style>\n",
       "<table border=\"1\" class=\"dataframe\">\n",
       "  <thead>\n",
       "    <tr style=\"text-align: right;\">\n",
       "      <th></th>\n",
       "      <th>PRICE</th>\n",
       "      <th>SQUARE FEET/1000</th>\n",
       "      <th>BEDS</th>\n",
       "      <th>BATHS</th>\n",
       "      <th>YEAR BUILT</th>\n",
       "      <th>HOA/MONTH</th>\n",
       "      <th>PROPERTY TYPE_Condo/Co-op</th>\n",
       "      <th>PROPERTY TYPE_Multi-Family (2-4 Unit)</th>\n",
       "      <th>PROPERTY TYPE_Single Family Residential</th>\n",
       "      <th>PROPERTY TYPE_Townhouse</th>\n",
       "      <th>PROPERTY TYPE_Vacant Land</th>\n",
       "    </tr>\n",
       "  </thead>\n",
       "  <tbody>\n",
       "    <tr>\n",
       "      <th>0</th>\n",
       "      <td>0.044490</td>\n",
       "      <td>0.088436</td>\n",
       "      <td>0.285714</td>\n",
       "      <td>0.181818</td>\n",
       "      <td>0.591195</td>\n",
       "      <td>0.153929</td>\n",
       "      <td>0</td>\n",
       "      <td>0</td>\n",
       "      <td>1</td>\n",
       "      <td>0</td>\n",
       "      <td>0</td>\n",
       "    </tr>\n",
       "    <tr>\n",
       "      <th>1</th>\n",
       "      <td>0.019604</td>\n",
       "      <td>0.028838</td>\n",
       "      <td>0.142857</td>\n",
       "      <td>0.000000</td>\n",
       "      <td>0.597484</td>\n",
       "      <td>0.074283</td>\n",
       "      <td>1</td>\n",
       "      <td>0</td>\n",
       "      <td>0</td>\n",
       "      <td>0</td>\n",
       "      <td>0</td>\n",
       "    </tr>\n",
       "    <tr>\n",
       "      <th>2</th>\n",
       "      <td>0.174320</td>\n",
       "      <td>0.243680</td>\n",
       "      <td>0.571429</td>\n",
       "      <td>0.454545</td>\n",
       "      <td>1.000000</td>\n",
       "      <td>0.153929</td>\n",
       "      <td>0</td>\n",
       "      <td>0</td>\n",
       "      <td>1</td>\n",
       "      <td>0</td>\n",
       "      <td>0</td>\n",
       "    </tr>\n",
       "    <tr>\n",
       "      <th>3</th>\n",
       "      <td>0.130166</td>\n",
       "      <td>0.251754</td>\n",
       "      <td>0.428571</td>\n",
       "      <td>0.272727</td>\n",
       "      <td>0.974843</td>\n",
       "      <td>0.153929</td>\n",
       "      <td>0</td>\n",
       "      <td>0</td>\n",
       "      <td>0</td>\n",
       "      <td>1</td>\n",
       "      <td>0</td>\n",
       "    </tr>\n",
       "    <tr>\n",
       "      <th>4</th>\n",
       "      <td>0.077181</td>\n",
       "      <td>0.096126</td>\n",
       "      <td>0.285714</td>\n",
       "      <td>0.090909</td>\n",
       "      <td>0.534591</td>\n",
       "      <td>0.153929</td>\n",
       "      <td>0</td>\n",
       "      <td>0</td>\n",
       "      <td>1</td>\n",
       "      <td>0</td>\n",
       "      <td>0</td>\n",
       "    </tr>\n",
       "  </tbody>\n",
       "</table>\n",
       "</div>"
      ],
      "text/plain": [
       "      PRICE  SQUARE FEET/1000      BEDS     BATHS  YEAR BUILT  HOA/MONTH  \\\n",
       "0  0.044490          0.088436  0.285714  0.181818    0.591195   0.153929   \n",
       "1  0.019604          0.028838  0.142857  0.000000    0.597484   0.074283   \n",
       "2  0.174320          0.243680  0.571429  0.454545    1.000000   0.153929   \n",
       "3  0.130166          0.251754  0.428571  0.272727    0.974843   0.153929   \n",
       "4  0.077181          0.096126  0.285714  0.090909    0.534591   0.153929   \n",
       "\n",
       "   PROPERTY TYPE_Condo/Co-op  PROPERTY TYPE_Multi-Family (2-4 Unit)  \\\n",
       "0                          0                                      0   \n",
       "1                          1                                      0   \n",
       "2                          0                                      0   \n",
       "3                          0                                      0   \n",
       "4                          0                                      0   \n",
       "\n",
       "   PROPERTY TYPE_Single Family Residential  PROPERTY TYPE_Townhouse  \\\n",
       "0                                        1                        0   \n",
       "1                                        0                        0   \n",
       "2                                        1                        0   \n",
       "3                                        0                        1   \n",
       "4                                        1                        0   \n",
       "\n",
       "   PROPERTY TYPE_Vacant Land  \n",
       "0                          0  \n",
       "1                          0  \n",
       "2                          0  \n",
       "3                          0  \n",
       "4                          0  "
      ]
     },
     "execution_count": 32,
     "metadata": {},
     "output_type": "execute_result"
    }
   ],
   "source": [
    "df_preprocessed = data.copy()\n",
    "\n",
    "minmax_scaler_label = MinMaxScaler()\n",
    "minmax_scaler_features = MinMaxScaler()\n",
    "label = \"PRICE\"\n",
    "numerical_vars = [\"SQUARE FEET/1000\", \"BEDS\", \"BATHS\", \"YEAR BUILT\", \"HOA/MONTH\"]\n",
    "df_preprocessed[numerical_vars] = df_preprocessed[numerical_vars].fillna(df_preprocessed[numerical_vars].mean())\n",
    "df_preprocessed[numerical_vars] = minmax_scaler_features.fit_transform(df_preprocessed[numerical_vars])\n",
    "\n",
    "df_preprocessed[label] = minmax_scaler_label.fit_transform(df_preprocessed[label].values.reshape(-1,1))\n",
    "\n",
    "\n",
    "#Convert PROPERTY TYPE as a set of binary variables for each modality (One-Hot Encoding)\n",
    "df_preprocessed = pd.get_dummies(df_preprocessed, columns=['PROPERTY TYPE'])\n",
    "df_preprocessed.head()\n"
   ]
  },
  {
   "cell_type": "code",
   "execution_count": 33,
   "id": "b492ebb5",
   "metadata": {},
   "outputs": [
    {
     "name": "stdout",
     "output_type": "stream",
     "text": [
      "FeedForwardNN(\n",
      "  (fc1): Linear(in_features=10, out_features=64, bias=True)\n",
      "  (fc2): Linear(in_features=64, out_features=32, bias=True)\n",
      "  (fc3): Linear(in_features=32, out_features=1, bias=True)\n",
      ")\n"
     ]
    }
   ],
   "source": [
    "class FeedForwardNN(nn.Module):\n",
    "    def __init__(self, input_size, layer_size1=64, layer_size2=32):\n",
    "        super(FeedForwardNN, self).__init__()\n",
    "\n",
    "        self.fc1 = nn.Linear(input_size, layer_size1)\n",
    "\n",
    "        self.fc2 = nn.Linear(layer_size1, layer_size2)\n",
    "\n",
    "        self.fc3 = nn.Linear(layer_size2, 1)\n",
    "\n",
    "    def forward(self, x):\n",
    "\n",
    "        x = F.relu(self.fc1(x))\n",
    "        x = F.relu(self.fc2(x))\n",
    "        return F.relu(self.fc3(x))\n",
    "\n",
    "input_size = 10  # 10 predictors after turning Property Type into 5 predictors\n",
    "model = FeedForwardNN(input_size)\n",
    "\n",
    "print(model)"
   ]
  },
  {
   "cell_type": "code",
   "execution_count": 34,
   "id": "8265309b",
   "metadata": {},
   "outputs": [],
   "source": [
    "X_tensor = torch.FloatTensor(df_preprocessed.drop(label, axis=1).values)\n",
    "y_tensor = torch.FloatTensor(df_preprocessed[label].values).view(-1, 1)"
   ]
  },
  {
   "cell_type": "code",
   "execution_count": 35,
   "id": "cf2dc301",
   "metadata": {},
   "outputs": [
    {
     "name": "stdout",
     "output_type": "stream",
     "text": [
      "Epoch [500/10000], Loss: 0.0026\n",
      "Epoch [1000/10000], Loss: 0.0024\n",
      "Epoch [1500/10000], Loss: 0.0024\n",
      "Epoch [2000/10000], Loss: 0.0024\n",
      "Epoch [2500/10000], Loss: 0.0024\n",
      "Epoch [3000/10000], Loss: 0.0023\n",
      "Epoch [3500/10000], Loss: 0.0025\n",
      "Epoch [4000/10000], Loss: 0.0024\n",
      "Epoch [4500/10000], Loss: 0.0024\n",
      "Epoch [5000/10000], Loss: 0.0024\n",
      "Epoch [5500/10000], Loss: 0.0024\n",
      "Epoch [6000/10000], Loss: 0.0024\n",
      "Epoch [6500/10000], Loss: 0.0024\n",
      "Epoch [7000/10000], Loss: 0.0024\n",
      "Epoch [7500/10000], Loss: 0.0024\n",
      "Epoch [8000/10000], Loss: 0.0024\n",
      "Epoch [8500/10000], Loss: 0.0024\n",
      "Epoch [9000/10000], Loss: 0.0024\n",
      "Epoch [9500/10000], Loss: 0.0024\n",
      "Epoch [10000/10000], Loss: 0.0024\n"
     ]
    }
   ],
   "source": [
    "loss_function = nn.MSELoss()\n",
    "optimizer = torch.optim.Adam(model.parameters(), lr=0.01) # Experimented with learning rate\n",
    "\n",
    "epochs = 10000\n",
    "for epoch in range(epochs):\n",
    "    outputs = model(X_tensor)\n",
    "    loss = loss_function(outputs, y_tensor)\n",
    "\n",
    "    optimizer.zero_grad()\n",
    "    loss.backward()\n",
    "    optimizer.step()\n",
    "\n",
    "    if (epoch+1) % 500 == 0:\n",
    "        print(f'Epoch [{epoch+1}/{epochs}], Loss: {loss.item():.4f}')"
   ]
  },
  {
   "cell_type": "markdown",
   "id": "64513f1f",
   "metadata": {},
   "source": [
    "# Testing performances"
   ]
  },
  {
   "cell_type": "code",
   "execution_count": 36,
   "id": "d73c4e30",
   "metadata": {},
   "outputs": [],
   "source": [
    "model.eval()\n",
    "with torch.no_grad():\n",
    "    predictions = model(X_tensor)"
   ]
  },
  {
   "cell_type": "code",
   "execution_count": 37,
   "id": "afeb0d41",
   "metadata": {},
   "outputs": [
    {
     "name": "stdout",
     "output_type": "stream",
     "text": [
      "Row 1: Predicted Price = 0.06\n",
      "Row 2: Predicted Price = 0.02\n",
      "Row 3: Predicted Price = 0.18\n",
      "Row 4: Predicted Price = 0.13\n",
      "Row 5: Predicted Price = 0.08\n",
      "Row 6: Predicted Price = 0.06\n",
      "Row 7: Predicted Price = 0.08\n",
      "Row 8: Predicted Price = 0.22\n",
      "Row 9: Predicted Price = 0.12\n",
      "Row 10: Predicted Price = 0.14\n",
      "Row 11: Predicted Price = 0.21\n",
      "Row 12: Predicted Price = 0.13\n",
      "Row 13: Predicted Price = 0.02\n",
      "Row 14: Predicted Price = 0.04\n",
      "Row 15: Predicted Price = 0.14\n",
      "Row 16: Predicted Price = 0.03\n",
      "Row 17: Predicted Price = 0.04\n",
      "Row 18: Predicted Price = 0.04\n",
      "Row 19: Predicted Price = 0.05\n",
      "Row 20: Predicted Price = 0.34\n"
     ]
    }
   ],
   "source": [
    "predicted_prices = predictions.numpy()\n",
    "for i, price in enumerate(predicted_prices[:20]):\n",
    "    print(f\"Row {i + 1}: Predicted Price = {price[0]:.2f}\")"
   ]
  },
  {
   "cell_type": "code",
   "execution_count": 38,
   "id": "e45fda5e",
   "metadata": {},
   "outputs": [],
   "source": [
    "df_preprocessed[\"Predicted_price\"] = predicted_prices"
   ]
  },
  {
   "cell_type": "code",
   "execution_count": 39,
   "id": "cb7f0b19",
   "metadata": {},
   "outputs": [
    {
     "data": {
      "text/html": [
       "<div>\n",
       "<style scoped>\n",
       "    .dataframe tbody tr th:only-of-type {\n",
       "        vertical-align: middle;\n",
       "    }\n",
       "\n",
       "    .dataframe tbody tr th {\n",
       "        vertical-align: top;\n",
       "    }\n",
       "\n",
       "    .dataframe thead th {\n",
       "        text-align: right;\n",
       "    }\n",
       "</style>\n",
       "<table border=\"1\" class=\"dataframe\">\n",
       "  <thead>\n",
       "    <tr style=\"text-align: right;\">\n",
       "      <th></th>\n",
       "      <th>PRICE</th>\n",
       "      <th>Predicted_price</th>\n",
       "    </tr>\n",
       "  </thead>\n",
       "  <tbody>\n",
       "    <tr>\n",
       "      <th>0</th>\n",
       "      <td>339900.0</td>\n",
       "      <td>4.193407e+05</td>\n",
       "    </tr>\n",
       "    <tr>\n",
       "      <th>1</th>\n",
       "      <td>199000.0</td>\n",
       "      <td>2.037115e+05</td>\n",
       "    </tr>\n",
       "    <tr>\n",
       "      <th>2</th>\n",
       "      <td>1075000.0</td>\n",
       "      <td>1.082220e+06</td>\n",
       "    </tr>\n",
       "    <tr>\n",
       "      <th>3</th>\n",
       "      <td>825000.0</td>\n",
       "      <td>8.254069e+05</td>\n",
       "    </tr>\n",
       "    <tr>\n",
       "      <th>4</th>\n",
       "      <td>525000.0</td>\n",
       "      <td>5.242911e+05</td>\n",
       "    </tr>\n",
       "    <tr>\n",
       "      <th>...</th>\n",
       "      <td>...</td>\n",
       "      <td>...</td>\n",
       "    </tr>\n",
       "    <tr>\n",
       "      <th>103</th>\n",
       "      <td>350000.0</td>\n",
       "      <td>8.841541e+05</td>\n",
       "    </tr>\n",
       "    <tr>\n",
       "      <th>104</th>\n",
       "      <td>344900.0</td>\n",
       "      <td>3.512430e+05</td>\n",
       "    </tr>\n",
       "    <tr>\n",
       "      <th>105</th>\n",
       "      <td>5750000.0</td>\n",
       "      <td>5.775078e+06</td>\n",
       "    </tr>\n",
       "    <tr>\n",
       "      <th>106</th>\n",
       "      <td>110000.0</td>\n",
       "      <td>8.841541e+05</td>\n",
       "    </tr>\n",
       "    <tr>\n",
       "      <th>107</th>\n",
       "      <td>2700000.0</td>\n",
       "      <td>8.841541e+05</td>\n",
       "    </tr>\n",
       "  </tbody>\n",
       "</table>\n",
       "<p>108 rows × 2 columns</p>\n",
       "</div>"
      ],
      "text/plain": [
       "         PRICE  Predicted_price\n",
       "0     339900.0     4.193407e+05\n",
       "1     199000.0     2.037115e+05\n",
       "2    1075000.0     1.082220e+06\n",
       "3     825000.0     8.254069e+05\n",
       "4     525000.0     5.242911e+05\n",
       "..         ...              ...\n",
       "103   350000.0     8.841541e+05\n",
       "104   344900.0     3.512430e+05\n",
       "105  5750000.0     5.775078e+06\n",
       "106   110000.0     8.841541e+05\n",
       "107  2700000.0     8.841541e+05\n",
       "\n",
       "[108 rows x 2 columns]"
      ]
     },
     "execution_count": 39,
     "metadata": {},
     "output_type": "execute_result"
    }
   ],
   "source": [
    "df_results = df_preprocessed[[\"PRICE\", \"Predicted_price\"]]\n",
    "df_results = pd.DataFrame(minmax_scaler_label.inverse_transform(df_results))\n",
    "df_results.columns = [\"PRICE\", \"Predicted_price\"]\n",
    "df_results"
   ]
  },
  {
   "cell_type": "code",
   "execution_count": 40,
   "id": "bf2aa8ee",
   "metadata": {},
   "outputs": [
    {
     "ename": "ModuleNotFoundError",
     "evalue": "No module named 'google.colab'",
     "output_type": "error",
     "traceback": [
      "\u001b[1;31m---------------------------------------------------------------------------\u001b[0m",
      "\u001b[1;31mModuleNotFoundError\u001b[0m                       Traceback (most recent call last)",
      "Input \u001b[1;32mIn [40]\u001b[0m, in \u001b[0;36m<cell line: 1>\u001b[1;34m()\u001b[0m\n\u001b[1;32m----> 1\u001b[0m \u001b[38;5;28;01mfrom\u001b[39;00m \u001b[38;5;21;01mgoogle\u001b[39;00m\u001b[38;5;21;01m.\u001b[39;00m\u001b[38;5;21;01mcolab\u001b[39;00m \u001b[38;5;28;01mimport\u001b[39;00m autoviz\n\u001b[0;32m      3\u001b[0m \u001b[38;5;28;01mdef\u001b[39;00m \u001b[38;5;21mscatter_plots\u001b[39m(df, colname_pairs, figscale\u001b[38;5;241m=\u001b[39m\u001b[38;5;241m1\u001b[39m, alpha\u001b[38;5;241m=\u001b[39m\u001b[38;5;241m.8\u001b[39m):\n\u001b[0;32m      4\u001b[0m   \u001b[38;5;28;01mfrom\u001b[39;00m \u001b[38;5;21;01mmatplotlib\u001b[39;00m \u001b[38;5;28;01mimport\u001b[39;00m pyplot \u001b[38;5;28;01mas\u001b[39;00m plt\n",
      "\u001b[1;31mModuleNotFoundError\u001b[0m: No module named 'google.colab'"
     ]
    }
   ],
   "source": [
    "from google.colab import autoviz\n",
    "\n",
    "def scatter_plots(df, colname_pairs, figscale=1, alpha=.8):\n",
    "  from matplotlib import pyplot as plt\n",
    "  plt.figure(figsize=(len(colname_pairs) * 6 * figscale, 6 * figscale))\n",
    "  for plot_i, (x_colname, y_colname) in enumerate(colname_pairs, start=1):\n",
    "    ax = plt.subplot(1, len(colname_pairs), plot_i)\n",
    "    df.plot(kind='scatter', x=x_colname, y=y_colname, s=(32 * figscale), alpha=alpha, ax=ax)\n",
    "    ax.spines[['top', 'right',]].set_visible(False)\n",
    "  plt.tight_layout()\n",
    "  return autoviz.MplChart.from_current_mpl_state()\n",
    "\n",
    "chart = scatter_plots(df_results, *[[['PRICE', 'Predicted_price']]], **{})\n",
    "chart"
   ]
  },
  {
   "cell_type": "code",
   "execution_count": 41,
   "id": "4c2608d9",
   "metadata": {},
   "outputs": [
    {
     "ename": "AttributeError",
     "evalue": "'DataFrame' object has no attribute 'Predicted_prices'",
     "output_type": "error",
     "traceback": [
      "\u001b[1;31m---------------------------------------------------------------------------\u001b[0m",
      "\u001b[1;31mAttributeError\u001b[0m                            Traceback (most recent call last)",
      "Input \u001b[1;32mIn [41]\u001b[0m, in \u001b[0;36m<cell line: 1>\u001b[1;34m()\u001b[0m\n\u001b[1;32m----> 1\u001b[0m mae \u001b[38;5;241m=\u001b[39m numpy\u001b[38;5;241m.\u001b[39mmean(numpy\u001b[38;5;241m.\u001b[39mabs(\u001b[43mdf_results\u001b[49m\u001b[38;5;241;43m.\u001b[39;49m\u001b[43mPredicted_prices\u001b[49m \u001b[38;5;241m-\u001b[39m df_results\u001b[38;5;241m.\u001b[39mPRICE))\n\u001b[0;32m      2\u001b[0m mean_relative_error \u001b[38;5;241m=\u001b[39m numpy\u001b[38;5;241m.\u001b[39mmean(numpy\u001b[38;5;241m.\u001b[39mabs(df_results\u001b[38;5;241m.\u001b[39mPredicted_prices \u001b[38;5;241m-\u001b[39m df_results\u001b[38;5;241m.\u001b[39mPRICE)\u001b[38;5;241m/\u001b[39mdf_results\u001b[38;5;241m.\u001b[39mPRICE)\n\u001b[0;32m      4\u001b[0m \u001b[38;5;28mprint\u001b[39m(mae)\n",
      "File \u001b[1;32m~\\anaconda3\\lib\\site-packages\\pandas\\core\\generic.py:5575\u001b[0m, in \u001b[0;36mNDFrame.__getattr__\u001b[1;34m(self, name)\u001b[0m\n\u001b[0;32m   5568\u001b[0m \u001b[38;5;28;01mif\u001b[39;00m (\n\u001b[0;32m   5569\u001b[0m     name \u001b[38;5;129;01mnot\u001b[39;00m \u001b[38;5;129;01min\u001b[39;00m \u001b[38;5;28mself\u001b[39m\u001b[38;5;241m.\u001b[39m_internal_names_set\n\u001b[0;32m   5570\u001b[0m     \u001b[38;5;129;01mand\u001b[39;00m name \u001b[38;5;129;01mnot\u001b[39;00m \u001b[38;5;129;01min\u001b[39;00m \u001b[38;5;28mself\u001b[39m\u001b[38;5;241m.\u001b[39m_metadata\n\u001b[0;32m   5571\u001b[0m     \u001b[38;5;129;01mand\u001b[39;00m name \u001b[38;5;129;01mnot\u001b[39;00m \u001b[38;5;129;01min\u001b[39;00m \u001b[38;5;28mself\u001b[39m\u001b[38;5;241m.\u001b[39m_accessors\n\u001b[0;32m   5572\u001b[0m     \u001b[38;5;129;01mand\u001b[39;00m \u001b[38;5;28mself\u001b[39m\u001b[38;5;241m.\u001b[39m_info_axis\u001b[38;5;241m.\u001b[39m_can_hold_identifiers_and_holds_name(name)\n\u001b[0;32m   5573\u001b[0m ):\n\u001b[0;32m   5574\u001b[0m     \u001b[38;5;28;01mreturn\u001b[39;00m \u001b[38;5;28mself\u001b[39m[name]\n\u001b[1;32m-> 5575\u001b[0m \u001b[38;5;28;01mreturn\u001b[39;00m \u001b[38;5;28;43mobject\u001b[39;49m\u001b[38;5;241;43m.\u001b[39;49m\u001b[38;5;21;43m__getattribute__\u001b[39;49m\u001b[43m(\u001b[49m\u001b[38;5;28;43mself\u001b[39;49m\u001b[43m,\u001b[49m\u001b[43m \u001b[49m\u001b[43mname\u001b[49m\u001b[43m)\u001b[49m\n",
      "\u001b[1;31mAttributeError\u001b[0m: 'DataFrame' object has no attribute 'Predicted_prices'"
     ]
    }
   ],
   "source": [
    "mae = numpy.mean(numpy.abs(df_results.Predicted_prices - df_results.PRICE))\n",
    "mean_relative_error = numpy.mean(numpy.abs(df_results.Predicted_prices - df_results.PRICE)/df_results.PRICE)\n",
    "\n",
    "print(mae)\n",
    "print(mean_relative_error)"
   ]
  },
  {
   "cell_type": "code",
   "execution_count": null,
   "id": "05627cd1",
   "metadata": {},
   "outputs": [],
   "source": []
  }
 ],
 "metadata": {
  "kernelspec": {
   "display_name": "Python 3 (ipykernel)",
   "language": "python",
   "name": "python3"
  },
  "language_info": {
   "codemirror_mode": {
    "name": "ipython",
    "version": 3
   },
   "file_extension": ".py",
   "mimetype": "text/x-python",
   "name": "python",
   "nbconvert_exporter": "python",
   "pygments_lexer": "ipython3",
   "version": "3.9.12"
  }
 },
 "nbformat": 4,
 "nbformat_minor": 5
}
