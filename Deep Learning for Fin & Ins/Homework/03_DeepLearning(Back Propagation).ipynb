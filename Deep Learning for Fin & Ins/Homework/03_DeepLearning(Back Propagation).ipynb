{
 "cells": [
  {
   "cell_type": "markdown",
   "metadata": {
    "id": "rnpk6PJry21v"
   },
   "source": [
    "<img src=\"https://news.illinois.edu/files/6367/543635/116641.jpg\" alt=\"University of Illinois\" width=\"250\"/>\n",
    "\n",
    "## HW: Deep Learning ##\n",
    "\n",
    "HW submission by group (up to 4 people)\n",
    "* John Doe <johndoe@illinois.edu>\n",
    "* Jane Roes <janeroe@illinois.edu>"
   ]
  },
  {
   "cell_type": "markdown",
   "metadata": {
    "id": "b2CU_7Bgy212"
   },
   "source": [
    "### imports and graphics configurations ###"
   ]
  },
  {
   "cell_type": "code",
   "execution_count": null,
   "metadata": {
    "id": "6elr9Ogwy213"
   },
   "outputs": [],
   "source": [
    "import numpy\n",
    "import pandas\n",
    "import time\n",
    "import random\n",
    "import matplotlib\n",
    "#%matplotlib notebook\n",
    "import matplotlib.pyplot as plt\n",
    "import scipy.stats\n",
    "import matplotlib.offsetbox as offsetbox\n",
    "from matplotlib.ticker import StrMethodFormatter"
   ]
  },
  {
   "cell_type": "code",
   "execution_count": null,
   "metadata": {
    "id": "ydypCNbYy213"
   },
   "outputs": [],
   "source": [
    "#for some reason, this needs to be in a separate cell\n",
    "params={\n",
    "    \"font.size\":15,\n",
    "    \"lines.linewidth\":5,\n",
    "}\n",
    "plt.rcParams.update(params)"
   ]
  },
  {
   "cell_type": "markdown",
   "metadata": {
    "id": "Vxa_BAz36MZY"
   },
   "source": [
    "# **Technology** #"
   ]
  },
  {
   "cell_type": "markdown",
   "metadata": {
    "id": "MTcO0Y5n6Pnm"
   },
   "source": [
    "**Technology:** Compute $\\cos(k\\pi/10)$ for $k\\in \\{0,1,2,\\dots 20\\}$"
   ]
  },
  {
   "cell_type": "markdown",
   "metadata": {
    "id": "-v7OKcoHzH-t"
   },
   "source": [
    "# **Linear Regression** #"
   ]
  },
  {
   "cell_type": "markdown",
   "metadata": {
    "id": "4i86xM4MpjoP"
   },
   "source": [
    "**Feature Importance:** Consider linear regression of price upon the feature set\n",
    "* Square Feet\n",
    "* number of Beds\n",
    "* number of Baths\n",
    "* Year built\n",
    "* HOA/Month\n",
    "\n",
    "One by one, remove (using sklearn if you like) each of these features and repeat linear regression.\n",
    "* Rank features by how the loss (mean square error) changes as each of the features is removed\n",
    "* Rank features by how the metric (mean absolute error) changes as each of the features is removed"
   ]
  },
  {
   "cell_type": "markdown",
   "metadata": {
    "id": "zPaxaH3Uy214"
   },
   "source": [
    "# **Logistic Regression** #"
   ]
  },
  {
   "cell_type": "markdown",
   "metadata": {
    "id": "Pz_7G6JG1gPG"
   },
   "source": [
    "**Categorical Complexity:** Using the data from the lecture, try to use Logistic Regression (you can use sklearn) to predict Townhouse vs Not-Townhouse.  What happens?  Discuss the loss, compared to what we did in lecture."
   ]
  },
  {
   "cell_type": "markdown",
   "metadata": {
    "id": "wC5Bfl6-XXJu"
   },
   "source": [
    "\n",
    "# **Backpropagation** #"
   ]
  },
  {
   "cell_type": "markdown",
   "metadata": {
    "id": "kjszNQ0XR092"
   },
   "source": [
    "**Numerical Backpropagation** Define\n",
    "$\\phi_n(x)= \\cos(2^nx)$ for $x\\in \\mathbb{R}$ and $n\\in \\{1,2,3\\}$.  Set $x=5$ and define\n",
    "$$f_5(m_1,m_2,m_3)= \\exp\\left[\\pi \\phi_3(m_3\\phi_2(m_2\\phi_1(m_1x)))\\right]$$\n",
    "for $(m_1,b_1.m_2,b_2.m_3,b_3)\\in \\mathbb{R}^6$.\n",
    "* Numerically compute $\\lim_{\\varepsilon\\to 0}\\{f_5(10,9,8+\\varepsilon)-f_5(10,9,8)\\}/\\varepsilon$\n",
    "* Compute $\\frac{\\partial f_5}{\\partial m_3}(10,9,8)$ using pytorch\n",
    "* Numerically compute $\\lim_{\\varepsilon\\to 0}\\{f_5(10,9+\\varepsilon,8)-f_5(10,9,8)\\}/\\varepsilon$\n",
    "* Compute $\\frac{\\partial f_5}{\\partial m_2}(10,9,8)$ using pytorch\n",
    "* Numerically compute $\\lim_{\\varepsilon\\to 0}\\{f_5(10+\\varepsilon,9,8)-f_5(10,9,8)\\}/\\varepsilon$\n",
    "* Compute $\\frac{\\partial f_5}{\\partial m_1}(10,9,8)$ using pytorch."
   ]
  },
  {
   "cell_type": "code",
   "execution_count": 8,
   "metadata": {},
   "outputs": [],
   "source": [
    "import os\n",
    "import numpy as np\n",
    "import pandas\n",
    "import time\n",
    "import random\n",
    "import matplotlib\n",
    "#%matplotlib notebook\n",
    "import matplotlib.pyplot as plt\n",
    "import scipy.stats\n",
    "#from pandas.plotting import autocorrelation_plot\n",
    "import matplotlib.offsetbox as offsetbox\n",
    "from matplotlib.ticker import StrMethodFormatter\n",
    "import sklearn.linear_model\n",
    "import sklearn.model_selection\n",
    "import itertools\n",
    "\n",
    "\n",
    "def saver(fname):\n",
    "    plt.savefig(fname+\".png\",bbox_inches=\"tight\")\n",
    "\n",
    "def legend(pos=\"bottom\",ncol=3):\n",
    "    if pos==\"bottom\":\n",
    "        plt.legend(bbox_to_anchor=(0.5,-0.2), loc='upper center',facecolor=\"lightgray\",ncol=ncol)\n",
    "    elif pos==\"side\":\n",
    "        plt.legend(bbox_to_anchor=(1.1,0.5), loc='center left',facecolor=\"lightgray\",ncol=1)\n",
    "\n",
    "def textbox(txt,fname=None):\n",
    "    plt.figure(figsize=(1,1))\n",
    "    plt.gca().add_artist(offsetbox.AnchoredText(\"\\n\".join(txt), loc=\"center\",prop=dict(size=30)))\n",
    "    plt.axis('off')\n",
    "    if fname is not None:\n",
    "        saver(fname)\n",
    "    plt.show()\n",
    "    plt.close()"
   ]
  },
  {
   "cell_type": "code",
   "execution_count": 2,
   "metadata": {},
   "outputs": [],
   "source": [
    "import torch\n",
    "import numpy"
   ]
  },
  {
   "cell_type": "code",
   "execution_count": 3,
   "metadata": {},
   "outputs": [],
   "source": [
    "#for some reason, this needs to be in a separate cell\n",
    "params={\n",
    "    \"font.size\":15,\n",
    "    \"lines.linewidth\":5\n",
    "}\n",
    "plt.rcParams.update(params)"
   ]
  },
  {
   "cell_type": "code",
   "execution_count": 4,
   "metadata": {},
   "outputs": [
    {
     "name": "stdout",
     "output_type": "stream",
     "text": [
      "existing png files: ['dataset.png']\n"
     ]
    }
   ],
   "source": [
    "pngfiles=[f for f in os.listdir(\".\") if f.endswith(\".png\")]\n",
    "print(\"existing png files: \"+str(pngfiles))\n",
    "#print([os.remove(f) for f in pngfiles])"
   ]
  },
  {
   "cell_type": "code",
   "execution_count": 5,
   "metadata": {},
   "outputs": [],
   "source": [
    "def getfile(location_pair,**kwargs): #tries to get local version and then defaults to google drive version\n",
    "    (loc,gdrive)=location_pair\n",
    "    try:\n",
    "        out=pandas.read_csv(loc,**kwargs)\n",
    "    except FileNotFoundError:\n",
    "        print(\"local file not found; accessing Google Drive\")\n",
    "        loc = 'https://drive.google.com/uc?export=download&id='+gdrive.split('/')[-2]\n",
    "        out=pandas.read_csv(loc,**kwargs)\n",
    "    return out"
   ]
  },
  {
   "cell_type": "code",
   "execution_count": 7,
   "metadata": {},
   "outputs": [
    {
     "name": "stdout",
     "output_type": "stream",
     "text": [
      "df/dm1=-45.408\n",
      "df/dm2=-0.859\n",
      "df/dm3=-0.080\n"
     ]
    }
   ],
   "source": [
    "from torch.autograd import Variable\n",
    "m1 = Variable(torch.tensor(10.0), requires_grad=True)\n",
    "m2 = Variable(torch.tensor(9.0), requires_grad=True)\n",
    "m3 = Variable(torch.tensor(8.0), requires_grad=True)\n",
    "x = 5\n",
    "f = torch.exp(torch.pi*torch.cos(8*m3*torch.cos(4*m2*torch.cos(2*x*m1))))\n",
    "f.backward()\n",
    "print(\"df/dm1={0:.3f}\".format(m1.grad.item()))\n",
    "print(\"df/dm2={0:.3f}\".format(m2.grad.item()))\n",
    "print(\"df/dm3={0:.3f}\".format(m3.grad.item()))"
   ]
  },
  {
   "cell_type": "code",
   "execution_count": 10,
   "metadata": {},
   "outputs": [
    {
     "name": "stdout",
     "output_type": "stream",
     "text": [
      "0.1903870049025721 4.942395421647324 0.13800803779648446\n",
      "0.4110421763951727 36.28343078516956 34.499219074021\n",
      "-0.041519183964310036 4.495466642259322 258.5440048977864\n",
      "-0.07585113891179357 -0.415842832777194 23096.374457213762\n",
      "-0.07932501762626665 -0.8141329631292799 78.91095290327867\n",
      "-0.07967294623351107 -0.8548032975737306 -32.91356145962501\n",
      "-0.07970774458521124 -0.8588806134565696 -44.15079576482878\n",
      "-0.07971122407968156 -0.8592884444269533 -45.2885551043003\n",
      "-0.0797115824735517 -0.8593292973035904 -45.40249018136766\n",
      "-0.0797116400663711 -0.8593335973361427 -45.41391728646315\n"
     ]
    }
   ],
   "source": [
    "#simple way\n",
    "m1 = 10\n",
    "m2 = 9\n",
    "m3 = 8\n",
    "x = 5\n",
    "f_base = np.exp(np.pi*np.cos(8*m3*np.cos(4*m2*np.cos(2*x*m1))))\n",
    "for i in range(10):\n",
    "    ep = 10**(-i)\n",
    "    f_wiggle1 = np.exp(np.pi*np.cos(8*(m3+ep)*np.cos(4*m2*np.cos(2*x*m1))))\n",
    "    f_wiggle2 = np.exp(np.pi*np.cos(8*m3*np.cos(4*(m2+ep)*np.cos(2*x*m1))))\n",
    "    f_wiggle3 = np.exp(np.pi*np.cos(8*m3*np.cos(4*m2*np.cos(2*x*(m1+ep)))))\n",
    "    print((f_wiggle1 - f_base)/ep, (f_wiggle2 - f_base)/ep, (f_wiggle3 - f_base)/ep)"
   ]
  },
  {
   "cell_type": "code",
   "execution_count": 26,
   "metadata": {},
   "outputs": [
    {
     "ename": "TypeError",
     "evalue": "loop of ufunc does not support argument 0 of type Add which has no callable cos method",
     "output_type": "error",
     "traceback": [
      "\u001b[1;31m---------------------------------------------------------------------------\u001b[0m",
      "\u001b[1;31mAttributeError\u001b[0m                            Traceback (most recent call last)",
      "\u001b[1;31mAttributeError\u001b[0m: 'Add' object has no attribute 'cos'",
      "\nThe above exception was the direct cause of the following exception:\n",
      "\u001b[1;31mTypeError\u001b[0m                                 Traceback (most recent call last)",
      "Input \u001b[1;32mIn [26]\u001b[0m, in \u001b[0;36m<cell line: 11>\u001b[1;34m()\u001b[0m\n\u001b[0;32m      9\u001b[0m e_sympy \u001b[38;5;241m=\u001b[39m cos(e)\n\u001b[0;32m     10\u001b[0m e_numpy \u001b[38;5;241m=\u001b[39m lambdify(e, e_sympy, \u001b[38;5;124m\"\u001b[39m\u001b[38;5;124mnumpy\u001b[39m\u001b[38;5;124m\"\u001b[39m)\n\u001b[1;32m---> 11\u001b[0m f \u001b[38;5;241m=\u001b[39m ( np\u001b[38;5;241m.\u001b[39mexp(np\u001b[38;5;241m.\u001b[39mpi\u001b[38;5;241m*\u001b[39m\u001b[43mnp\u001b[49m\u001b[38;5;241;43m.\u001b[39;49m\u001b[43mcos\u001b[49m\u001b[43m(\u001b[49m\u001b[38;5;241;43m8\u001b[39;49m\u001b[38;5;241;43m*\u001b[39;49m\u001b[43m(\u001b[49m\u001b[43mm3\u001b[49m\u001b[38;5;241;43m+\u001b[39;49m\u001b[43me_sympy\u001b[49m\u001b[43m)\u001b[49m\u001b[38;5;241;43m*\u001b[39;49m\u001b[43mnp\u001b[49m\u001b[38;5;241;43m.\u001b[39;49m\u001b[43mcos\u001b[49m\u001b[43m(\u001b[49m\u001b[38;5;241;43m4\u001b[39;49m\u001b[38;5;241;43m*\u001b[39;49m\u001b[43mm2\u001b[49m\u001b[38;5;241;43m*\u001b[39;49m\u001b[43mnp\u001b[49m\u001b[38;5;241;43m.\u001b[39;49m\u001b[43mcos\u001b[49m\u001b[43m(\u001b[49m\u001b[38;5;241;43m2\u001b[39;49m\u001b[38;5;241;43m*\u001b[39;49m\u001b[43mx\u001b[49m\u001b[38;5;241;43m*\u001b[39;49m\u001b[43mm1\u001b[49m\u001b[43m)\u001b[49m\u001b[43m)\u001b[49m\u001b[43m)\u001b[49m) \u001b[38;5;241m-\u001b[39m\n\u001b[0;32m     12\u001b[0m      np\u001b[38;5;241m.\u001b[39mexp(np\u001b[38;5;241m.\u001b[39mpi\u001b[38;5;241m*\u001b[39mnp\u001b[38;5;241m.\u001b[39mcos(\u001b[38;5;241m8\u001b[39m\u001b[38;5;241m*\u001b[39mm3\u001b[38;5;241m*\u001b[39mnp\u001b[38;5;241m.\u001b[39mcos(\u001b[38;5;241m4\u001b[39m\u001b[38;5;241m*\u001b[39mm2\u001b[38;5;241m*\u001b[39mnp\u001b[38;5;241m.\u001b[39mcos(\u001b[38;5;241m2\u001b[39m\u001b[38;5;241m*\u001b[39mx\u001b[38;5;241m*\u001b[39mm1)))) )\u001b[38;5;241m/\u001b[39me_sympy\n\u001b[0;32m     13\u001b[0m y \u001b[38;5;241m=\u001b[39m limit(f, e_sympy, \u001b[38;5;241m0\u001b[39m)\n\u001b[0;32m     14\u001b[0m \u001b[38;5;28mprint\u001b[39m(y)\n",
      "\u001b[1;31mTypeError\u001b[0m: loop of ufunc does not support argument 0 of type Add which has no callable cos method"
     ]
    }
   ],
   "source": [
    "#alternate way\n",
    "from sympy import *\n",
    "from sympy import symbols, cos, lambdify\n",
    "m1 = 10\n",
    "m2 = 9\n",
    "m3 = 8\n",
    "x = 5\n",
    "e = symbols('e')\n",
    "e_sympy = cos(e)\n",
    "e_numpy = lambdify(e, e_sympy, \"numpy\")\n",
    "f = ( np.exp(np.pi*np.cos(8*(m3+e_sympy)*np.cos(4*m2*np.cos(2*x*m1)))) -\n",
    "     np.exp(np.pi*np.cos(8*m3*np.cos(4*m2*np.cos(2*x*m1)))) )/e_sympy\n",
    "y = limit(f, e_sympy, 0)\n",
    "print(y)"
   ]
  },
  {
   "cell_type": "code",
   "execution_count": 22,
   "metadata": {},
   "outputs": [
    {
     "name": "stdout",
     "output_type": "stream",
     "text": [
      "Expression : sin(x)/x\n",
      "Limit of the expression tends to 0 : 1\n"
     ]
    }
   ],
   "source": [
    "# import sympy\n",
    "from sympy import *\n",
    " \n",
    "x = symbols('x')\n",
    "expr = sin(x)/x;\n",
    "   \n",
    "print(\"Expression : {}\".format(expr))\n",
    "     \n",
    "# Use sympy.limit() method\n",
    "limit_expr = limit(expr, x, 0) \n",
    "     \n",
    "print(\"Limit of the expression tends to 0 : {}\".format(limit_expr)) "
   ]
  },
  {
   "cell_type": "code",
   "execution_count": 21,
   "metadata": {},
   "outputs": [
    {
     "data": {
      "text/latex": [
       "$\\displaystyle \\sin{\\left(1 \\right)}$"
      ],
      "text/plain": [
       "sin(1)"
      ]
     },
     "execution_count": 21,
     "metadata": {},
     "output_type": "execute_result"
    }
   ],
   "source": [
    "sin(1)"
   ]
  },
  {
   "cell_type": "markdown",
   "metadata": {
    "id": "KfW93IePXKx7"
   },
   "source": [
    "# **FeedForward networks** #"
   ]
  },
  {
   "cell_type": "markdown",
   "metadata": {
    "id": "MTGJ_cUwnOJ5"
   },
   "source": [
    "**Redfin Price Prediction**:  Download propery data from Redfin <https://www.redfin.com/> for several neighborhoods of Chicago.  Use multilayer neural networks to predict price based upon the feature set\n",
    "* Square Feet\n",
    "* Property Type\n",
    "* number of Beds\n",
    "* number of Baths\n",
    "* Year built\n",
    "* HOA/Month"
   ]
  },
  {
   "cell_type": "markdown",
   "metadata": {
    "id": "krI_tk7Sj5tz"
   },
   "source": [
    "---"
   ]
  }
 ],
 "metadata": {
  "celltoolbar": "Raw Cell Format",
  "colab": {
   "provenance": []
  },
  "kernelspec": {
   "display_name": "Python 3 (ipykernel)",
   "language": "python",
   "name": "python3"
  },
  "language_info": {
   "codemirror_mode": {
    "name": "ipython",
    "version": 3
   },
   "file_extension": ".py",
   "mimetype": "text/x-python",
   "name": "python",
   "nbconvert_exporter": "python",
   "pygments_lexer": "ipython3",
   "version": "3.9.12"
  }
 },
 "nbformat": 4,
 "nbformat_minor": 1
}
