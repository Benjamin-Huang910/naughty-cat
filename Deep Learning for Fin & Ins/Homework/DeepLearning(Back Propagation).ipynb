{
  "nbformat": 4,
  "nbformat_minor": 0,
  "metadata": {
    "celltoolbar": "Raw Cell Format",
    "kernelspec": {
      "display_name": "Python 3",
      "language": "python",
      "name": "python3"
    },
    "language_info": {
      "codemirror_mode": {
        "name": "ipython",
        "version": 3
      },
      "file_extension": ".py",
      "mimetype": "text/x-python",
      "name": "python",
      "nbconvert_exporter": "python",
      "pygments_lexer": "ipython3",
      "version": "3.7.3"
    },
    "colab": {
      "provenance": []
    }
  },
  "cells": [
    {
      "cell_type": "markdown",
      "metadata": {
        "id": "rnpk6PJry21v"
      },
      "source": [
        "<img src=\"https://news.illinois.edu/files/6367/543635/116641.jpg\" alt=\"University of Illinois\" width=\"250\"/>\n",
        "\n",
        "## HW: Deep Learning ##\n",
        "\n",
        "HW submission by group (up to 4 people)\n",
        "* John Doe <johndoe@illinois.edu>\n",
        "* Jane Roes <janeroe@illinois.edu>"
      ]
    },
    {
      "cell_type": "markdown",
      "metadata": {
        "id": "b2CU_7Bgy212"
      },
      "source": [
        "### imports and graphics configurations ###"
      ]
    },
    {
      "cell_type": "code",
      "metadata": {
        "id": "6elr9Ogwy213"
      },
      "source": [
        "import numpy\n",
        "import pandas\n",
        "import time\n",
        "import random\n",
        "import matplotlib\n",
        "#%matplotlib notebook\n",
        "import matplotlib.pyplot as plt\n",
        "import scipy.stats\n",
        "import matplotlib.offsetbox as offsetbox\n",
        "from matplotlib.ticker import StrMethodFormatter"
      ],
      "execution_count": null,
      "outputs": []
    },
    {
      "cell_type": "code",
      "metadata": {
        "id": "ydypCNbYy213"
      },
      "source": [
        "#for some reason, this needs to be in a separate cell\n",
        "params={\n",
        "    \"font.size\":15,\n",
        "    \"lines.linewidth\":5,\n",
        "}\n",
        "plt.rcParams.update(params)"
      ],
      "execution_count": null,
      "outputs": []
    },
    {
      "cell_type": "markdown",
      "metadata": {
        "id": "Vxa_BAz36MZY"
      },
      "source": [
        "# **Technology** #"
      ]
    },
    {
      "cell_type": "markdown",
      "metadata": {
        "id": "MTcO0Y5n6Pnm"
      },
      "source": [
        "**Technology:** Compute $\\cos(k\\pi/10)$ for $k\\in \\{0,1,2,\\dots 20\\}$"
      ]
    },
    {
      "cell_type": "markdown",
      "metadata": {
        "id": "-v7OKcoHzH-t"
      },
      "source": [
        "# **Linear Regression** #"
      ]
    },
    {
      "cell_type": "markdown",
      "metadata": {
        "id": "4i86xM4MpjoP"
      },
      "source": [
        "**Feature Importance:** Consider linear regression of price upon the feature set\n",
        "* Square Feet\n",
        "* number of Beds\n",
        "* number of Baths\n",
        "* Year built\n",
        "* HOA/Month\n",
        "\n",
        "One by one, remove (using sklearn if you like) each of these features and repeat linear regression.\n",
        "* Rank features by how the loss (mean square error) changes as each of the features is removed\n",
        "* Rank features by how the metric (mean absolute error) changes as each of the features is removed"
      ]
    },
    {
      "cell_type": "markdown",
      "metadata": {
        "id": "zPaxaH3Uy214"
      },
      "source": [
        "# **Logistic Regression** #"
      ]
    },
    {
      "cell_type": "markdown",
      "metadata": {
        "id": "Pz_7G6JG1gPG"
      },
      "source": [
        "**Categorical Complexity:** Using the data from the lecture, try to use Logistic Regression (you can use sklearn) to predict Townhouse vs Not-Townhouse.  What happens?  Discuss the loss, compared to what we did in lecture."
      ]
    },
    {
      "cell_type": "markdown",
      "metadata": {
        "id": "wC5Bfl6-XXJu"
      },
      "source": [
        "\n",
        "# **Backpropagation** #"
      ]
    },
    {
      "cell_type": "markdown",
      "metadata": {
        "id": "kjszNQ0XR092"
      },
      "source": [
        "**Numerical Backpropagation** Define\n",
        "$\\phi_n(x)= \\cos(2^nx)$ for $x\\in \\mathbb{R}$ and $n\\in \\{1,2,3\\}$.  Set $x=5$ and define\n",
        "$$f_5(m_1,m_2,m_3)= \\exp\\left[\\pi \\phi_3(m_3\\phi_2(m_2\\phi_1(m_1x)))\\right]$$\n",
        "for $(m_1,b_1.m_2,b_2.m_3,b_3)\\in \\mathbb{R}^6$.\n",
        "* Numerically compute $\\lim_{\\varepsilon\\to 0}\\{f_5(10,9,8+\\varepsilon)-f_5(10,9,8)\\}/\\varepsilon$\n",
        "* Compute $\\frac{\\partial f_5}{\\partial m_3}(10,9,8)$ using pytorch\n",
        "* Numerically compute $\\lim_{\\varepsilon\\to 0}\\{f_5(10,9+\\varepsilon,8)-f_5(10,9,8)\\}/\\varepsilon$\n",
        "* Compute $\\frac{\\partial f_5}{\\partial m_2}(10,9,8)$ using pytorch\n",
        "* Numerically compute $\\lim_{\\varepsilon\\to 0}\\{f_5(10+\\varepsilon,9,8)-f_5(10,9,8)\\}/\\varepsilon$\n",
        "* Compute $\\frac{\\partial f_5}{\\partial m_1}(10,9,8)$ using pytorch."
      ]
    },
    {
      "cell_type": "markdown",
      "metadata": {
        "id": "KfW93IePXKx7"
      },
      "source": [
        "# **FeedForward networks** #"
      ]
    },
    {
      "cell_type": "markdown",
      "metadata": {
        "id": "MTGJ_cUwnOJ5"
      },
      "source": [
        "**Redfin Price Prediction**:  Download propery data from Redfin <https://www.redfin.com/> for several neighborhoods of Chicago.  Use multilayer neural networks to predict price based upon the feature set\n",
        "* Square Feet\n",
        "* Property Type\n",
        "* number of Beds\n",
        "* number of Baths\n",
        "* Year built\n",
        "* HOA/Month"
      ]
    },
    {
      "cell_type": "markdown",
      "source": [
        "---"
      ],
      "metadata": {
        "id": "krI_tk7Sj5tz"
      }
    }
  ]
}