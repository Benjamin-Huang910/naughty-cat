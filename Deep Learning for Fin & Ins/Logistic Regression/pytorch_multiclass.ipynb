{
  "nbformat": 4,
  "nbformat_minor": 0,
  "metadata": {
    "colab": {
      "provenance": [],
      "toc_visible": true
    },
    "kernelspec": {
      "name": "python3",
      "display_name": "Python 3"
    }
  },
  "cells": [
    {
      "cell_type": "markdown",
      "metadata": {
        "id": "2Xy4WRXUPuGt"
      },
      "source": [
        "\n",
        "<img src=\"https://news.illinois.edu/files/6367/543635/116641.jpg\" alt=\"University of Illinois\" width=\"250\"/>\n",
        "\n",
        "# PyTorch Multiclass Classification #\n",
        "By Richard Sowers\n",
        "* <r-sowers@illinois.edu>\n",
        "* <https://publish.illinois.edu/r-sowers/>\n",
        "\n",
        "Copyright 2020 University of Illinois Board of Trustees. All Rights Reserved.\n",
        "\n",
        "Pytorch documentation: <https://pytorch.org/docs/stable/index.html>"
      ]
    },
    {
      "cell_type": "markdown",
      "metadata": {
        "id": "-GzB2hdURw4L"
      },
      "source": [
        "data source: https://archive.ics.uci.edu/ml/datasets/QSAR+fish+toxicity"
      ]
    },
    {
      "cell_type": "markdown",
      "metadata": {
        "id": "UXjrKNajK5Sj"
      },
      "source": [
        "# imports and graphics configurations #"
      ]
    },
    {
      "cell_type": "code",
      "metadata": {
        "id": "2OUEneFBK93E"
      },
      "source": [
        "import os\n",
        "import numpy\n",
        "import pandas\n",
        "idx=pandas.IndexSlice\n",
        "import time\n",
        "import random\n",
        "import matplotlib\n",
        "#%matplotlib notebook\n",
        "import matplotlib.pyplot as plt\n",
        "import scipy.stats\n",
        "#from pandas.plotting import autocorrelation_plot\n",
        "import matplotlib.offsetbox as offsetbox\n",
        "from matplotlib.ticker import StrMethodFormatter\n",
        "import sklearn.linear_model\n",
        "\n",
        "import imageio\n",
        "import PIL\n",
        "\n",
        "def saver(fname):\n",
        "    plt.savefig(fname+\".png\",bbox_inches=\"tight\")\n",
        "\n",
        "def legend(pos=\"bottom\",ncol=3,extra=False):\n",
        "    if pos==\"bottom\":\n",
        "        extra = 0.15 if extra else 0\n",
        "        plt.legend(bbox_to_anchor=(0.5,-0.2-extra), loc='upper center',facecolor=\"lightgray\",ncol=ncol)\n",
        "    elif pos==\"side\":\n",
        "        plt.legend(bbox_to_anchor=(1.1,0.5), loc='center left',facecolor=\"lightgray\",ncol=1)\n",
        "\n",
        "def textbox(txt,fname=None):\n",
        "    plt.figure(figsize=(1,1))\n",
        "    plt.gca().add_artist(offsetbox.AnchoredText(\"\\n\".join(txt), loc=\"center\",prop=dict(size=30)))\n",
        "    plt.axis('off')\n",
        "    if fname is not None:\n",
        "        saver(fname)\n",
        "    plt.show()\n",
        "    plt.close()"
      ],
      "execution_count": null,
      "outputs": []
    },
    {
      "cell_type": "code",
      "metadata": {
        "id": "7RFJabjCndcV"
      },
      "source": [
        "import torch"
      ],
      "execution_count": null,
      "outputs": []
    },
    {
      "cell_type": "code",
      "metadata": {
        "id": "lvPmRC9drha5"
      },
      "source": [
        "#for some reason, this needs to be in a separate cell\n",
        "params={\n",
        "    \"font.size\":15,\n",
        "    \"lines.linewidth\":5\n",
        "}\n",
        "plt.rcParams.update(params)"
      ],
      "execution_count": null,
      "outputs": []
    },
    {
      "cell_type": "code",
      "metadata": {
        "colab": {
          "base_uri": "https://localhost:8080/"
        },
        "id": "uWCGEF2ERZtD",
        "outputId": "48c50c9f-97a0-4fa9-e723-9ab49bf5c17e"
      },
      "source": [
        "pngfiles=[f for f in os.listdir(\".\") if f.endswith(\".png\")]\n",
        "print(\"existing png files: \"+str(pngfiles))\n",
        "#print([os.remove(f) for f in pngfiles])"
      ],
      "execution_count": null,
      "outputs": [
        {
          "output_type": "stream",
          "name": "stdout",
          "text": [
            "existing png files: ['multiclass_scatterplot.png', 'polytope.png']\n"
          ]
        }
      ]
    },
    {
      "cell_type": "code",
      "metadata": {
        "id": "DKges_xRRfPa"
      },
      "source": [
        "def getfile(location_pair,**kwargs): #tries to get local version and then defaults to google drive version\n",
        "    (loc,gdrive)=location_pair\n",
        "    try:\n",
        "        out=pandas.read_csv(loc,**kwargs)\n",
        "    except FileNotFoundError:\n",
        "        print(\"local file not found; accessing Google Drive\")\n",
        "        loc = 'https://drive.google.com/uc?export=download&id='+gdrive.split('/')[-2]\n",
        "        out=pandas.read_csv(loc,**kwargs)\n",
        "    return out"
      ],
      "execution_count": null,
      "outputs": []
    },
    {
      "cell_type": "markdown",
      "metadata": {
        "id": "Z2s1rIF1LP5c"
      },
      "source": [
        "# configuration variables #"
      ]
    },
    {
      "cell_type": "code",
      "metadata": {
        "id": "xn9N9ixjLTWc"
      },
      "source": [
        "url=\"https://www.redfin.com\"\n",
        "fname=(\"redfin_data.csv\",\"https://drive.google.com/file/d/1BFgKwV58YkPX_PRWMuKRHQoT6T0de_Qf/view?usp=sharing\")\n",
        "data_color=\"red\"\n",
        "markersize=2\n",
        "thinlinesize=2\n",
        "SEED=0"
      ],
      "execution_count": null,
      "outputs": []
    },
    {
      "cell_type": "code",
      "metadata": {
        "id": "Xio2Flirha1B"
      },
      "source": [
        "featuredata=[(\"SQUARE FEET\",1000,\"SQUARE FEET/1000\"),(\"$/SQUARE FEET\",100,\"$/100 SQUARE FEET\")]\n",
        "classname=\"PROPERTY TYPE\"\n",
        "classdata=[(\"Condo/Co-op\",0),(\"Townhouse\",1),(\"Single Family Residential\",2)]"
      ],
      "execution_count": null,
      "outputs": []
    },
    {
      "cell_type": "markdown",
      "metadata": {
        "id": "rknnQTJ0LXio"
      },
      "source": [
        "# load data #"
      ]
    },
    {
      "cell_type": "code",
      "metadata": {
        "id": "uoQjj64OLi9_",
        "colab": {
          "base_uri": "https://localhost:8080/",
          "height": 560
        },
        "outputId": "10cd8bd9-adfa-4fed-f85f-21b75b2ef281"
      },
      "source": [
        "data_raw=getfile(fname)\n",
        "data_raw.head()"
      ],
      "execution_count": null,
      "outputs": [
        {
          "output_type": "stream",
          "name": "stdout",
          "text": [
            "local file not found; accessing Google Drive\n"
          ]
        },
        {
          "output_type": "execute_result",
          "data": {
            "text/plain": [
              "     SALE TYPE  SOLD DATE              PROPERTY TYPE                 ADDRESS  \\\n",
              "0  MLS Listing        NaN                Condo/Co-op  1316 Maple Ave Unit A3   \n",
              "1  MLS Listing        NaN                Condo/Co-op    1640 Maple Ave #1608   \n",
              "2  MLS Listing        NaN  Single Family Residential          9400 Drake Ave   \n",
              "3  MLS Listing        NaN                Condo/Co-op    2320 Central St #304   \n",
              "4  MLS Listing        NaN                  Townhouse      9032 Forestview Rd   \n",
              "\n",
              "       CITY STATE OR PROVINCE  ZIP OR POSTAL CODE   PRICE  BEDS  BATHS  ...  \\\n",
              "0  Evanston                IL               60201  549000   3.0    2.5  ...   \n",
              "1  Evanston                IL               60201  925000   2.0    2.5  ...   \n",
              "2  Evanston                IL               60203  699900   5.0    2.0  ...   \n",
              "3  Evanston                IL               60201  315000   2.0    2.0  ...   \n",
              "4  Evanston                IL               60203  385000   2.0    2.5  ...   \n",
              "\n",
              "   STATUS  NEXT OPEN HOUSE START TIME  NEXT OPEN HOUSE END TIME  \\\n",
              "0  Active                         NaN                       NaN   \n",
              "1  Active                         NaN                       NaN   \n",
              "2  Active                         NaN                       NaN   \n",
              "3  Active                         NaN                       NaN   \n",
              "4  Active                         NaN                       NaN   \n",
              "\n",
              "   URL (SEE https://www.redfin.com/buy-a-home/comparative-market-analysis FOR INFO ON PRICING)  \\\n",
              "0  https://www.redfin.com/IL/Evanston/1316-Maple-...                                             \n",
              "1  https://www.redfin.com/IL/Evanston/1640-Maple-...                                             \n",
              "2  https://www.redfin.com/IL/Evanston/9400-Drake-...                                             \n",
              "3  https://www.redfin.com/IL/Evanston/2320-Centra...                                             \n",
              "4  https://www.redfin.com/IL/Evanston/9032-Forest...                                             \n",
              "\n",
              "   SOURCE      MLS#  FAVORITE INTERESTED   LATITUDE  LONGITUDE  \n",
              "0    MRED  11329016         N          Y  42.041893 -87.685418  \n",
              "1    MRED  11324990         N          Y  42.048207 -87.685582  \n",
              "2    MRED  11328594         N          Y  42.051958 -87.717069  \n",
              "3    MRED  11328430         N          Y  42.064059 -87.705756  \n",
              "4    MRED  11328152         N          Y  42.045487 -87.714740  \n",
              "\n",
              "[5 rows x 27 columns]"
            ],
            "text/html": [
              "\n",
              "  <div id=\"df-83dace00-de1a-431a-b531-4dd7a366eb9d\">\n",
              "    <div class=\"colab-df-container\">\n",
              "      <div>\n",
              "<style scoped>\n",
              "    .dataframe tbody tr th:only-of-type {\n",
              "        vertical-align: middle;\n",
              "    }\n",
              "\n",
              "    .dataframe tbody tr th {\n",
              "        vertical-align: top;\n",
              "    }\n",
              "\n",
              "    .dataframe thead th {\n",
              "        text-align: right;\n",
              "    }\n",
              "</style>\n",
              "<table border=\"1\" class=\"dataframe\">\n",
              "  <thead>\n",
              "    <tr style=\"text-align: right;\">\n",
              "      <th></th>\n",
              "      <th>SALE TYPE</th>\n",
              "      <th>SOLD DATE</th>\n",
              "      <th>PROPERTY TYPE</th>\n",
              "      <th>ADDRESS</th>\n",
              "      <th>CITY</th>\n",
              "      <th>STATE OR PROVINCE</th>\n",
              "      <th>ZIP OR POSTAL CODE</th>\n",
              "      <th>PRICE</th>\n",
              "      <th>BEDS</th>\n",
              "      <th>BATHS</th>\n",
              "      <th>...</th>\n",
              "      <th>STATUS</th>\n",
              "      <th>NEXT OPEN HOUSE START TIME</th>\n",
              "      <th>NEXT OPEN HOUSE END TIME</th>\n",
              "      <th>URL (SEE https://www.redfin.com/buy-a-home/comparative-market-analysis FOR INFO ON PRICING)</th>\n",
              "      <th>SOURCE</th>\n",
              "      <th>MLS#</th>\n",
              "      <th>FAVORITE</th>\n",
              "      <th>INTERESTED</th>\n",
              "      <th>LATITUDE</th>\n",
              "      <th>LONGITUDE</th>\n",
              "    </tr>\n",
              "  </thead>\n",
              "  <tbody>\n",
              "    <tr>\n",
              "      <th>0</th>\n",
              "      <td>MLS Listing</td>\n",
              "      <td>NaN</td>\n",
              "      <td>Condo/Co-op</td>\n",
              "      <td>1316 Maple Ave Unit A3</td>\n",
              "      <td>Evanston</td>\n",
              "      <td>IL</td>\n",
              "      <td>60201</td>\n",
              "      <td>549000</td>\n",
              "      <td>3.0</td>\n",
              "      <td>2.5</td>\n",
              "      <td>...</td>\n",
              "      <td>Active</td>\n",
              "      <td>NaN</td>\n",
              "      <td>NaN</td>\n",
              "      <td>https://www.redfin.com/IL/Evanston/1316-Maple-...</td>\n",
              "      <td>MRED</td>\n",
              "      <td>11329016</td>\n",
              "      <td>N</td>\n",
              "      <td>Y</td>\n",
              "      <td>42.041893</td>\n",
              "      <td>-87.685418</td>\n",
              "    </tr>\n",
              "    <tr>\n",
              "      <th>1</th>\n",
              "      <td>MLS Listing</td>\n",
              "      <td>NaN</td>\n",
              "      <td>Condo/Co-op</td>\n",
              "      <td>1640 Maple Ave #1608</td>\n",
              "      <td>Evanston</td>\n",
              "      <td>IL</td>\n",
              "      <td>60201</td>\n",
              "      <td>925000</td>\n",
              "      <td>2.0</td>\n",
              "      <td>2.5</td>\n",
              "      <td>...</td>\n",
              "      <td>Active</td>\n",
              "      <td>NaN</td>\n",
              "      <td>NaN</td>\n",
              "      <td>https://www.redfin.com/IL/Evanston/1640-Maple-...</td>\n",
              "      <td>MRED</td>\n",
              "      <td>11324990</td>\n",
              "      <td>N</td>\n",
              "      <td>Y</td>\n",
              "      <td>42.048207</td>\n",
              "      <td>-87.685582</td>\n",
              "    </tr>\n",
              "    <tr>\n",
              "      <th>2</th>\n",
              "      <td>MLS Listing</td>\n",
              "      <td>NaN</td>\n",
              "      <td>Single Family Residential</td>\n",
              "      <td>9400 Drake Ave</td>\n",
              "      <td>Evanston</td>\n",
              "      <td>IL</td>\n",
              "      <td>60203</td>\n",
              "      <td>699900</td>\n",
              "      <td>5.0</td>\n",
              "      <td>2.0</td>\n",
              "      <td>...</td>\n",
              "      <td>Active</td>\n",
              "      <td>NaN</td>\n",
              "      <td>NaN</td>\n",
              "      <td>https://www.redfin.com/IL/Evanston/9400-Drake-...</td>\n",
              "      <td>MRED</td>\n",
              "      <td>11328594</td>\n",
              "      <td>N</td>\n",
              "      <td>Y</td>\n",
              "      <td>42.051958</td>\n",
              "      <td>-87.717069</td>\n",
              "    </tr>\n",
              "    <tr>\n",
              "      <th>3</th>\n",
              "      <td>MLS Listing</td>\n",
              "      <td>NaN</td>\n",
              "      <td>Condo/Co-op</td>\n",
              "      <td>2320 Central St #304</td>\n",
              "      <td>Evanston</td>\n",
              "      <td>IL</td>\n",
              "      <td>60201</td>\n",
              "      <td>315000</td>\n",
              "      <td>2.0</td>\n",
              "      <td>2.0</td>\n",
              "      <td>...</td>\n",
              "      <td>Active</td>\n",
              "      <td>NaN</td>\n",
              "      <td>NaN</td>\n",
              "      <td>https://www.redfin.com/IL/Evanston/2320-Centra...</td>\n",
              "      <td>MRED</td>\n",
              "      <td>11328430</td>\n",
              "      <td>N</td>\n",
              "      <td>Y</td>\n",
              "      <td>42.064059</td>\n",
              "      <td>-87.705756</td>\n",
              "    </tr>\n",
              "    <tr>\n",
              "      <th>4</th>\n",
              "      <td>MLS Listing</td>\n",
              "      <td>NaN</td>\n",
              "      <td>Townhouse</td>\n",
              "      <td>9032 Forestview Rd</td>\n",
              "      <td>Evanston</td>\n",
              "      <td>IL</td>\n",
              "      <td>60203</td>\n",
              "      <td>385000</td>\n",
              "      <td>2.0</td>\n",
              "      <td>2.5</td>\n",
              "      <td>...</td>\n",
              "      <td>Active</td>\n",
              "      <td>NaN</td>\n",
              "      <td>NaN</td>\n",
              "      <td>https://www.redfin.com/IL/Evanston/9032-Forest...</td>\n",
              "      <td>MRED</td>\n",
              "      <td>11328152</td>\n",
              "      <td>N</td>\n",
              "      <td>Y</td>\n",
              "      <td>42.045487</td>\n",
              "      <td>-87.714740</td>\n",
              "    </tr>\n",
              "  </tbody>\n",
              "</table>\n",
              "<p>5 rows × 27 columns</p>\n",
              "</div>\n",
              "      <button class=\"colab-df-convert\" onclick=\"convertToInteractive('df-83dace00-de1a-431a-b531-4dd7a366eb9d')\"\n",
              "              title=\"Convert this dataframe to an interactive table.\"\n",
              "              style=\"display:none;\">\n",
              "        \n",
              "  <svg xmlns=\"http://www.w3.org/2000/svg\" height=\"24px\"viewBox=\"0 0 24 24\"\n",
              "       width=\"24px\">\n",
              "    <path d=\"M0 0h24v24H0V0z\" fill=\"none\"/>\n",
              "    <path d=\"M18.56 5.44l.94 2.06.94-2.06 2.06-.94-2.06-.94-.94-2.06-.94 2.06-2.06.94zm-11 1L8.5 8.5l.94-2.06 2.06-.94-2.06-.94L8.5 2.5l-.94 2.06-2.06.94zm10 10l.94 2.06.94-2.06 2.06-.94-2.06-.94-.94-2.06-.94 2.06-2.06.94z\"/><path d=\"M17.41 7.96l-1.37-1.37c-.4-.4-.92-.59-1.43-.59-.52 0-1.04.2-1.43.59L10.3 9.45l-7.72 7.72c-.78.78-.78 2.05 0 2.83L4 21.41c.39.39.9.59 1.41.59.51 0 1.02-.2 1.41-.59l7.78-7.78 2.81-2.81c.8-.78.8-2.07 0-2.86zM5.41 20L4 18.59l7.72-7.72 1.47 1.35L5.41 20z\"/>\n",
              "  </svg>\n",
              "      </button>\n",
              "      \n",
              "  <style>\n",
              "    .colab-df-container {\n",
              "      display:flex;\n",
              "      flex-wrap:wrap;\n",
              "      gap: 12px;\n",
              "    }\n",
              "\n",
              "    .colab-df-convert {\n",
              "      background-color: #E8F0FE;\n",
              "      border: none;\n",
              "      border-radius: 50%;\n",
              "      cursor: pointer;\n",
              "      display: none;\n",
              "      fill: #1967D2;\n",
              "      height: 32px;\n",
              "      padding: 0 0 0 0;\n",
              "      width: 32px;\n",
              "    }\n",
              "\n",
              "    .colab-df-convert:hover {\n",
              "      background-color: #E2EBFA;\n",
              "      box-shadow: 0px 1px 2px rgba(60, 64, 67, 0.3), 0px 1px 3px 1px rgba(60, 64, 67, 0.15);\n",
              "      fill: #174EA6;\n",
              "    }\n",
              "\n",
              "    [theme=dark] .colab-df-convert {\n",
              "      background-color: #3B4455;\n",
              "      fill: #D2E3FC;\n",
              "    }\n",
              "\n",
              "    [theme=dark] .colab-df-convert:hover {\n",
              "      background-color: #434B5C;\n",
              "      box-shadow: 0px 1px 3px 1px rgba(0, 0, 0, 0.15);\n",
              "      filter: drop-shadow(0px 1px 2px rgba(0, 0, 0, 0.3));\n",
              "      fill: #FFFFFF;\n",
              "    }\n",
              "  </style>\n",
              "\n",
              "      <script>\n",
              "        const buttonEl =\n",
              "          document.querySelector('#df-83dace00-de1a-431a-b531-4dd7a366eb9d button.colab-df-convert');\n",
              "        buttonEl.style.display =\n",
              "          google.colab.kernel.accessAllowed ? 'block' : 'none';\n",
              "\n",
              "        async function convertToInteractive(key) {\n",
              "          const element = document.querySelector('#df-83dace00-de1a-431a-b531-4dd7a366eb9d');\n",
              "          const dataTable =\n",
              "            await google.colab.kernel.invokeFunction('convertToInteractive',\n",
              "                                                     [key], {});\n",
              "          if (!dataTable) return;\n",
              "\n",
              "          const docLinkHtml = 'Like what you see? Visit the ' +\n",
              "            '<a target=\"_blank\" href=https://colab.research.google.com/notebooks/data_table.ipynb>data table notebook</a>'\n",
              "            + ' to learn more about interactive tables.';\n",
              "          element.innerHTML = '';\n",
              "          dataTable['output_type'] = 'display_data';\n",
              "          await google.colab.output.renderOutput(dataTable, element);\n",
              "          const docLink = document.createElement('div');\n",
              "          docLink.innerHTML = docLinkHtml;\n",
              "          element.appendChild(docLink);\n",
              "        }\n",
              "      </script>\n",
              "    </div>\n",
              "  </div>\n",
              "  "
            ]
          },
          "metadata": {},
          "execution_count": 8
        }
      ]
    },
    {
      "cell_type": "code",
      "metadata": {
        "id": "CMQUh-JR7vPR"
      },
      "source": [
        "data=data_raw.copy()\n",
        "data.index+=1\n",
        "data.index.name=\"record number\""
      ],
      "execution_count": null,
      "outputs": []
    },
    {
      "cell_type": "code",
      "metadata": {
        "id": "UhO6T8_Or2CH"
      },
      "source": [
        "(featurenames,featurescales,revisedfeaturenames)=list(zip(*featuredata))"
      ],
      "execution_count": null,
      "outputs": []
    },
    {
      "cell_type": "code",
      "metadata": {
        "colab": {
          "base_uri": "https://localhost:8080/",
          "height": 358
        },
        "id": "pn4PuOJ6r3yP",
        "outputId": "ff9dd872-28da-4404-93f0-7d3a604122e0"
      },
      "source": [
        "XY=pandas.DataFrame(0,index=data.index,columns=pandas.MultiIndex.from_product([[\"feature\"],revisedfeaturenames]))\n",
        "for (fname,scale,revisedfeaturename) in featuredata:\n",
        "    XY[(\"feature\",revisedfeaturename)]=data[fname]/scale\n",
        "\n",
        "XY[(\"label\",\"class\")]=numpy.nan\n",
        "for c,n in classdata:\n",
        "    XY.loc[data[\"PROPERTY TYPE\"]==c,(\"label\",\"class\")]=n\n",
        "\n",
        "beforedrop=XY.shape[0]\n",
        "XY=XY.dropna(axis='index')\n",
        "XY[(\"label\",\"class\")]=XY[(\"label\",\"class\")].astype(numpy.int)\n",
        "afterdrop=XY.shape[0]\n",
        "print(\"{0:d} records dropped\".format(beforedrop-afterdrop))\n",
        "XY.head()"
      ],
      "execution_count": null,
      "outputs": [
        {
          "output_type": "stream",
          "name": "stdout",
          "text": [
            "26 records dropped\n"
          ]
        },
        {
          "output_type": "stream",
          "name": "stderr",
          "text": [
            "/usr/local/lib/python3.7/dist-packages/ipykernel_launcher.py:11: DeprecationWarning: `np.int` is a deprecated alias for the builtin `int`. To silence this warning, use `int` by itself. Doing this will not modify any behavior and is safe. When replacing `np.int`, you may wish to use e.g. `np.int64` or `np.int32` to specify the precision. If you wish to review your current use, check the release note link for additional information.\n",
            "Deprecated in NumPy 1.20; for more details and guidance: https://numpy.org/devdocs/release/1.20.0-notes.html#deprecations\n",
            "  # This is added back by InteractiveShellApp.init_path()\n"
          ]
        },
        {
          "output_type": "execute_result",
          "data": {
            "text/plain": [
              "                       feature                   label\n",
              "              SQUARE FEET/1000 $/100 SQUARE FEET class\n",
              "record number                                         \n",
              "1                        2.000              2.75     0\n",
              "2                        2.138              4.33     0\n",
              "3                        2.198              3.18     2\n",
              "4                        1.426              2.21     0\n",
              "7                        2.170              3.41     2"
            ],
            "text/html": [
              "\n",
              "  <div id=\"df-2738e40c-4439-4167-bd1d-1f6153a7cfc2\">\n",
              "    <div class=\"colab-df-container\">\n",
              "      <div>\n",
              "<style scoped>\n",
              "    .dataframe tbody tr th:only-of-type {\n",
              "        vertical-align: middle;\n",
              "    }\n",
              "\n",
              "    .dataframe tbody tr th {\n",
              "        vertical-align: top;\n",
              "    }\n",
              "\n",
              "    .dataframe thead tr th {\n",
              "        text-align: left;\n",
              "    }\n",
              "\n",
              "    .dataframe thead tr:last-of-type th {\n",
              "        text-align: right;\n",
              "    }\n",
              "</style>\n",
              "<table border=\"1\" class=\"dataframe\">\n",
              "  <thead>\n",
              "    <tr>\n",
              "      <th></th>\n",
              "      <th colspan=\"2\" halign=\"left\">feature</th>\n",
              "      <th>label</th>\n",
              "    </tr>\n",
              "    <tr>\n",
              "      <th></th>\n",
              "      <th>SQUARE FEET/1000</th>\n",
              "      <th>$/100 SQUARE FEET</th>\n",
              "      <th>class</th>\n",
              "    </tr>\n",
              "    <tr>\n",
              "      <th>record number</th>\n",
              "      <th></th>\n",
              "      <th></th>\n",
              "      <th></th>\n",
              "    </tr>\n",
              "  </thead>\n",
              "  <tbody>\n",
              "    <tr>\n",
              "      <th>1</th>\n",
              "      <td>2.000</td>\n",
              "      <td>2.75</td>\n",
              "      <td>0</td>\n",
              "    </tr>\n",
              "    <tr>\n",
              "      <th>2</th>\n",
              "      <td>2.138</td>\n",
              "      <td>4.33</td>\n",
              "      <td>0</td>\n",
              "    </tr>\n",
              "    <tr>\n",
              "      <th>3</th>\n",
              "      <td>2.198</td>\n",
              "      <td>3.18</td>\n",
              "      <td>2</td>\n",
              "    </tr>\n",
              "    <tr>\n",
              "      <th>4</th>\n",
              "      <td>1.426</td>\n",
              "      <td>2.21</td>\n",
              "      <td>0</td>\n",
              "    </tr>\n",
              "    <tr>\n",
              "      <th>7</th>\n",
              "      <td>2.170</td>\n",
              "      <td>3.41</td>\n",
              "      <td>2</td>\n",
              "    </tr>\n",
              "  </tbody>\n",
              "</table>\n",
              "</div>\n",
              "      <button class=\"colab-df-convert\" onclick=\"convertToInteractive('df-2738e40c-4439-4167-bd1d-1f6153a7cfc2')\"\n",
              "              title=\"Convert this dataframe to an interactive table.\"\n",
              "              style=\"display:none;\">\n",
              "        \n",
              "  <svg xmlns=\"http://www.w3.org/2000/svg\" height=\"24px\"viewBox=\"0 0 24 24\"\n",
              "       width=\"24px\">\n",
              "    <path d=\"M0 0h24v24H0V0z\" fill=\"none\"/>\n",
              "    <path d=\"M18.56 5.44l.94 2.06.94-2.06 2.06-.94-2.06-.94-.94-2.06-.94 2.06-2.06.94zm-11 1L8.5 8.5l.94-2.06 2.06-.94-2.06-.94L8.5 2.5l-.94 2.06-2.06.94zm10 10l.94 2.06.94-2.06 2.06-.94-2.06-.94-.94-2.06-.94 2.06-2.06.94z\"/><path d=\"M17.41 7.96l-1.37-1.37c-.4-.4-.92-.59-1.43-.59-.52 0-1.04.2-1.43.59L10.3 9.45l-7.72 7.72c-.78.78-.78 2.05 0 2.83L4 21.41c.39.39.9.59 1.41.59.51 0 1.02-.2 1.41-.59l7.78-7.78 2.81-2.81c.8-.78.8-2.07 0-2.86zM5.41 20L4 18.59l7.72-7.72 1.47 1.35L5.41 20z\"/>\n",
              "  </svg>\n",
              "      </button>\n",
              "      \n",
              "  <style>\n",
              "    .colab-df-container {\n",
              "      display:flex;\n",
              "      flex-wrap:wrap;\n",
              "      gap: 12px;\n",
              "    }\n",
              "\n",
              "    .colab-df-convert {\n",
              "      background-color: #E8F0FE;\n",
              "      border: none;\n",
              "      border-radius: 50%;\n",
              "      cursor: pointer;\n",
              "      display: none;\n",
              "      fill: #1967D2;\n",
              "      height: 32px;\n",
              "      padding: 0 0 0 0;\n",
              "      width: 32px;\n",
              "    }\n",
              "\n",
              "    .colab-df-convert:hover {\n",
              "      background-color: #E2EBFA;\n",
              "      box-shadow: 0px 1px 2px rgba(60, 64, 67, 0.3), 0px 1px 3px 1px rgba(60, 64, 67, 0.15);\n",
              "      fill: #174EA6;\n",
              "    }\n",
              "\n",
              "    [theme=dark] .colab-df-convert {\n",
              "      background-color: #3B4455;\n",
              "      fill: #D2E3FC;\n",
              "    }\n",
              "\n",
              "    [theme=dark] .colab-df-convert:hover {\n",
              "      background-color: #434B5C;\n",
              "      box-shadow: 0px 1px 3px 1px rgba(0, 0, 0, 0.15);\n",
              "      filter: drop-shadow(0px 1px 2px rgba(0, 0, 0, 0.3));\n",
              "      fill: #FFFFFF;\n",
              "    }\n",
              "  </style>\n",
              "\n",
              "      <script>\n",
              "        const buttonEl =\n",
              "          document.querySelector('#df-2738e40c-4439-4167-bd1d-1f6153a7cfc2 button.colab-df-convert');\n",
              "        buttonEl.style.display =\n",
              "          google.colab.kernel.accessAllowed ? 'block' : 'none';\n",
              "\n",
              "        async function convertToInteractive(key) {\n",
              "          const element = document.querySelector('#df-2738e40c-4439-4167-bd1d-1f6153a7cfc2');\n",
              "          const dataTable =\n",
              "            await google.colab.kernel.invokeFunction('convertToInteractive',\n",
              "                                                     [key], {});\n",
              "          if (!dataTable) return;\n",
              "\n",
              "          const docLinkHtml = 'Like what you see? Visit the ' +\n",
              "            '<a target=\"_blank\" href=https://colab.research.google.com/notebooks/data_table.ipynb>data table notebook</a>'\n",
              "            + ' to learn more about interactive tables.';\n",
              "          element.innerHTML = '';\n",
              "          dataTable['output_type'] = 'display_data';\n",
              "          await google.colab.output.renderOutput(dataTable, element);\n",
              "          const docLink = document.createElement('div');\n",
              "          docLink.innerHTML = docLinkHtml;\n",
              "          element.appendChild(docLink);\n",
              "        }\n",
              "      </script>\n",
              "    </div>\n",
              "  </div>\n",
              "  "
            ]
          },
          "metadata": {},
          "execution_count": 11
        }
      ]
    },
    {
      "cell_type": "code",
      "metadata": {
        "colab": {
          "base_uri": "https://localhost:8080/"
        },
        "id": "WcZby2DpzRAM",
        "outputId": "e20c1a61-99b4-4a13-f1d4-327391252b67"
      },
      "source": [
        "frequencies=XY.groupby((\"label\",\"class\")).size().sort_index()\n",
        "frequencies.name=\"frequencies\"\n",
        "print(frequencies)\n",
        "weights=len(XY)/frequencies\n",
        "weights.name=\"weights\"\n",
        "print(weights)"
      ],
      "execution_count": null,
      "outputs": [
        {
          "output_type": "stream",
          "name": "stdout",
          "text": [
            "(label, class)\n",
            "0    46\n",
            "1     6\n",
            "2    23\n",
            "Name: frequencies, dtype: int64\n",
            "(label, class)\n",
            "0     1.630435\n",
            "1    12.500000\n",
            "2     3.260870\n",
            "Name: weights, dtype: float64\n"
          ]
        }
      ]
    },
    {
      "cell_type": "code",
      "metadata": {
        "id": "NyB035NAhvhV"
      },
      "source": [
        "X=XY.loc[:,idx[\"feature\",:]]\n",
        "Y=XY[(\"label\",\"class\")]\n",
        "X_1=XY.iloc[:,0]\n",
        "X_2=XY.iloc[:,1]\n",
        "X_1.name,_=X_1.name\n",
        "X_2.name,_=X_2.name\n",
        "flags=[(Y==c) for c in range(3)]"
      ],
      "execution_count": null,
      "outputs": []
    },
    {
      "cell_type": "code",
      "source": [
        "plt.figure()\n",
        "for (cname,cvalue),f,c in zip(classdata,flags,[\"green\",\"red\",\"blue\"]):\n",
        "    ff=flags[cvalue]\n",
        "    plt.scatter(X_1[ff],X_2[ff],color=c,label=\"{0:s} ({1:d} points in class {2:n})\".format(cname,ff.sum(),cvalue))\n",
        "plt.xlabel(X_1.name)\n",
        "plt.ylabel(X_2.name)\n",
        "legend(\"bottom\",ncol=1)\n",
        "title=[]\n",
        "title.append(\"Scatterplot by Class\")\n",
        "plt.title(\"\\n\".join(title))\n",
        "saver(\"multiclass_scatterplot\")\n",
        "plt.show()\n",
        "plt.close()"
      ],
      "metadata": {
        "colab": {
          "base_uri": "https://localhost:8080/",
          "height": 391
        },
        "id": "VDOwU3REKW2A",
        "outputId": "0586b072-58d2-47ec-bfce-5bdb7d0b7981"
      },
      "execution_count": null,
      "outputs": [
        {
          "output_type": "display_data",
          "data": {
            "text/plain": [
              "<Figure size 432x288 with 1 Axes>"
            ],
            "image/png": "[encoded data removed]"
          },
          "metadata": {
            "needs_background": "light"
          }
        }
      ]
    },
    {
      "cell_type": "code",
      "metadata": {
        "id": "yGFF3q8wiSJX",
        "colab": {
          "base_uri": "https://localhost:8080/"
        },
        "outputId": "afa4facf-0a0b-4607-8e99-7a56bab2cea5"
      },
      "source": [
        "features=torch.from_numpy(XY.loc[:,idx[\"feature\",:]].values.astype(numpy.float32).reshape(-1,len(featuredata)))\n",
        "labels=torch.from_numpy(XY[(\"label\",\"class\")].values.astype(numpy.int))\n",
        "\n",
        "if torch.cuda.is_available():\n",
        "  print(\"cuda is available\")\n",
        "  features = features.cuda()\n",
        "  labels = labels.cuda()"
      ],
      "execution_count": null,
      "outputs": [
        {
          "output_type": "stream",
          "name": "stderr",
          "text": [
            "/usr/local/lib/python3.7/dist-packages/ipykernel_launcher.py:2: DeprecationWarning: `np.int` is a deprecated alias for the builtin `int`. To silence this warning, use `int` by itself. Doing this will not modify any behavior and is safe. When replacing `np.int`, you may wish to use e.g. `np.int64` or `np.int32` to specify the precision. If you wish to review your current use, check the release note link for additional information.\n",
            "Deprecated in NumPy 1.20; for more details and guidance: https://numpy.org/devdocs/release/1.20.0-notes.html#deprecations\n",
            "  \n"
          ]
        }
      ]
    },
    {
      "cell_type": "code",
      "metadata": {
        "id": "Y5TU9D71nLTD"
      },
      "source": [
        "class feedForwardMultiClass(torch.nn.Module):\n",
        "    def __init__(self,inputSize=1,NumClasses=2,SEED=0): #default to one-dimensional feature and response\n",
        "        super().__init__() #run init of torch.nn.Module\n",
        "        if SEED is not None:\n",
        "          torch.manual_seed(SEED)\n",
        "        self.linear = torch.nn.Linear(inputSize,NumClasses)\n",
        "        self.logSoftmax=torch.nn.LogSoftmax(dim=1)\n",
        "        self.softmax=torch.nn.Softmax(dim=1)\n",
        "        if torch.cuda.is_available():\n",
        "          self=self.cuda()\n",
        "\n",
        "\n",
        "    def forward(self,x,output=\"class\"):\n",
        "        out=self.linear(x)\n",
        "        if output==\"class\":\n",
        "          out=self.quantizer(out)\n",
        "        elif output==\"logprobability\":\n",
        "          out=self.logSoftmax(out)\n",
        "        elif output==\"probability\":\n",
        "          out=self.softmax(out)\n",
        "        return out\n",
        "\n",
        "    def quantizer(self,x):\n",
        "      return torch.argmax(x,dim=1)\n"
      ],
      "execution_count": null,
      "outputs": []
    },
    {
      "cell_type": "code",
      "metadata": {
        "id": "rwQqkvb4EsTq",
        "colab": {
          "base_uri": "https://localhost:8080/"
        },
        "outputId": "467e92be-5ad7-49bf-c662-b9116a20b8f8"
      },
      "source": [
        "model=feedForwardMultiClass(inputSize=2,NumClasses=3)\n",
        "Loss=torch.nn.NLLLoss()\n",
        "optimizer = torch.optim.Adam(model.parameters())\n",
        "print(\"set up complete\")"
      ],
      "execution_count": null,
      "outputs": [
        {
          "output_type": "stream",
          "name": "stdout",
          "text": [
            "set up complete\n"
          ]
        }
      ]
    },
    {
      "cell_type": "code",
      "metadata": {
        "id": "XScxMzVZq1pp",
        "colab": {
          "base_uri": "https://localhost:8080/"
        },
        "outputId": "40d7cd46-62f4-4721-c9ba-828cb1fe4082"
      },
      "source": [
        "MAX_iter = 50000\n",
        "losses=[]\n",
        "errors=[]\n",
        "tic=time.perf_counter()\n",
        "for itr in range(MAX_iter):\n",
        "\n",
        "\n",
        "    # Clear gradient buffers because we don't want any gradient from previous epoch to carry forward, dont want to cummulate gradients\n",
        "    optimizer.zero_grad()\n",
        "\n",
        "    # get output from the model, given the inputs\n",
        "    output_x = model(features,output=\"logprobability\")\n",
        "\n",
        "    # get loss for the predicted output\n",
        "    lossvalue = Loss(output_x, labels) #note order of labels and outputs\n",
        "    losses.append(lossvalue.detach().numpy().item())\n",
        "    output_classes=model.quantizer(output_x)\n",
        "    error=(output_classes!=labels).to(torch.float).mean().item()\n",
        "    errors.append(error)\n",
        "\n",
        "    # get gradients w.r.t to parameters\n",
        "    lossvalue.backward()\n",
        "\n",
        "    # update parameters\n",
        "    optimizer.step()\n",
        "    if itr%int(MAX_iter/10)==0:\n",
        "      output_distribution=numpy.unique(output_classes.detach().cpu().numpy(),return_counts=True)\n",
        "      print(\"iteration {}: loss={:.5f}, errors={:.1%}%\".\n",
        "            format(itr, lossvalue.item(),error))\n",
        "\n",
        "toc=time.perf_counter()\n",
        "dt=toc-tic\n",
        "print(\"done\")"
      ],
      "execution_count": null,
      "outputs": [
        {
          "output_type": "stream",
          "name": "stdout",
          "text": [
            "iteration 0: loss=1.04134, errors=38.7%%\n",
            "iteration 5000: loss=0.48555, errors=16.0%%\n",
            "iteration 10000: loss=0.45413, errors=16.0%%\n",
            "iteration 15000: loss=0.45372, errors=16.0%%\n",
            "iteration 20000: loss=0.45372, errors=16.0%%\n",
            "iteration 25000: loss=0.45372, errors=16.0%%\n",
            "iteration 30000: loss=0.45372, errors=16.0%%\n",
            "iteration 35000: loss=0.45372, errors=16.0%%\n",
            "iteration 40000: loss=0.45372, errors=16.0%%\n",
            "iteration 45000: loss=0.45372, errors=16.0%%\n",
            "done\n"
          ]
        }
      ]
    },
    {
      "cell_type": "code",
      "source": [
        "def polytope(mb1,mbothers,radius=1):\n",
        "    #returns vertex and other points to plot in a ball around vertex of radius\n",
        "    (m1,b1)=mb1\n",
        "    ((m2,b2),(m3,b3))=mbothers\n",
        "    A=numpy.vstack([numpy.array(m1)-numpy.array(m2),numpy.array(m1)-numpy.array(m3)])\n",
        "    b=numpy.vstack([b1-b2,b1-b3])\n",
        "    vertex=numpy.linalg.solve(A,-b).squeeze()\n",
        "    p1=numpy.array([-A[0,1],A[0,0]])\n",
        "    p2=numpy.array([A[1,1],-A[1,0]])\n",
        "    dp=(p1-p2)/numpy.linalg.norm(p1-p2)\n",
        "    nu=2*radius/numpy.linalg.norm(p2-p2.dot(dp)*dp)\n",
        "    return vertex,[vertex+nu*p1,vertex+nu*p2]"
      ],
      "metadata": {
        "id": "QHwXcVP4gI62"
      },
      "execution_count": null,
      "outputs": []
    },
    {
      "cell_type": "code",
      "metadata": {
        "id": "ss9vk--lq6_e",
        "colab": {
          "base_uri": "https://localhost:8080/",
          "height": 643
        },
        "outputId": "fd226d1d-01c9-4151-d359-f2d3e3fb8904"
      },
      "source": [
        "plt.figure()\n",
        "plt.plot(losses,color=\"red\")\n",
        "plt.xlabel(\"Iteration\")\n",
        "plt.ylabel(\"loss\")\n",
        "plt.ylim(-0.1,)\n",
        "title=[]\n",
        "title.append(\"Losses\")\n",
        "title.append(\"Elapsed time: {0:.02f} seconds\".format(dt))\n",
        "plt.title(\"\\n\".join(title))\n",
        "plt.axhline(0,linewidth=2,linestyle=\":\",color=\"black\")\n",
        "plt.show()\n",
        "plt.close()\n",
        "\n",
        "plt.figure()\n",
        "plt.plot(errors,color=\"red\")\n",
        "plt.xlabel(\"Iteration\")\n",
        "plt.ylabel(\"percent wrong\")\n",
        "plt.ylim(-0.05,)\n",
        "plt.gca().yaxis.set_major_formatter(StrMethodFormatter('{x:.1%}'))\n",
        "plt.axhline(0,linewidth=2,linestyle=\":\",color=\"black\")\n",
        "title=[]\n",
        "title.append(\"Classification Errors\")\n",
        "title.append(\"Elapsed time: {0:.02f} seconds\".format(dt))\n",
        "plt.title(\"\\n\".join(title))\n",
        "plt.show()\n",
        "plt.close()"
      ],
      "execution_count": null,
      "outputs": [
        {
          "output_type": "display_data",
          "data": {
            "text/plain": [
              "<Figure size 432x288 with 1 Axes>"
            ],
            "image/png": "[encoded data removed]"
          },
          "metadata": {
            "needs_background": "light"
          }
        },
        {
          "output_type": "display_data",
          "data": {
            "text/plain": [
              "<Figure size 432x288 with 1 Axes>"
            ],
            "image/png": "[encoded data removed]"
          },
          "metadata": {
            "needs_background": "light"
          }
        }
      ]
    },
    {
      "cell_type": "code",
      "source": [
        " print(model.linear.weight.data)\n",
        " print(model.linear.bias.data)"
      ],
      "metadata": {
        "colab": {
          "base_uri": "https://localhost:8080/"
        },
        "id": "88Cm_5b0LriS",
        "outputId": "e540e38f-30f9-4b82-88f1-f4401a29d369"
      },
      "execution_count": null,
      "outputs": [
        {
          "output_type": "stream",
          "name": "stdout",
          "text": [
            "tensor([[-1.9908, -0.6915],\n",
            "        [-0.3291, -0.4572],\n",
            "        [ 1.7671,  1.4570]])\n",
            "tensor([ 6.5228,  1.6416, -6.7862])\n"
          ]
        }
      ]
    },
    {
      "cell_type": "code",
      "source": [
        "clf = sklearn.linear_model.LogisticRegression(random_state=0,solver=\"newton-cg\").fit(XY.loc[:,idx[\"feature\",:]].values, XY[(\"label\",\"class\")].values)\n",
        "print(clf.coef_)\n",
        "print(clf.intercept_)"
      ],
      "metadata": {
        "colab": {
          "base_uri": "https://localhost:8080/"
        },
        "id": "k1fvZEEHq3XD",
        "outputId": "409538d3-65f8-47f5-ac4e-fab6205ad383"
      },
      "execution_count": null,
      "outputs": [
        {
          "output_type": "stream",
          "name": "stdout",
          "text": [
            "[[-1.23240377 -0.63075061]\n",
            " [-0.09156908 -0.33441082]\n",
            " [ 1.32397285  0.96516144]]\n",
            "[ 4.66326399  0.32411241 -4.9873764 ]\n"
          ]
        }
      ]
    },
    {
      "cell_type": "code",
      "source": [
        "print(XY.loc[:,idx[\"feature\",:]].head())\n",
        "print(XY[(\"label\",\"class\")].head())"
      ],
      "metadata": {
        "colab": {
          "base_uri": "https://localhost:8080/"
        },
        "id": "F_KlQypRuV_U",
        "outputId": "8f65b53b-a7ed-49ce-c0e9-177ae2492738"
      },
      "execution_count": null,
      "outputs": [
        {
          "output_type": "stream",
          "name": "stdout",
          "text": [
            "                       feature                  \n",
            "              SQUARE FEET/1000 $/100 SQUARE FEET\n",
            "record number                                   \n",
            "1                        2.000              2.75\n",
            "2                        2.138              4.33\n",
            "3                        2.198              3.18\n",
            "4                        1.426              2.21\n",
            "7                        2.170              3.41\n",
            "record number\n",
            "1    0\n",
            "2    0\n",
            "3    2\n",
            "4    0\n",
            "7    2\n",
            "Name: (label, class), dtype: int64\n"
          ]
        }
      ]
    },
    {
      "cell_type": "code",
      "source": [
        "(m1,m2,m3)=model.linear.weight.data\n",
        "(b1,b2,b3)=model.linear.bias.data"
      ],
      "metadata": {
        "id": "pGRRYmnqe3og"
      },
      "execution_count": null,
      "outputs": []
    },
    {
      "cell_type": "code",
      "source": [
        "def polytope(mb1,mbothers,radius=1):\n",
        "    #returns vertex and other points to plot in a ball around vertex of radius\n",
        "    (m1,b1)=mb1\n",
        "    ((m2,b2),(m3,b3))=mbothers\n",
        "    A=numpy.vstack([numpy.array(m1)-numpy.array(m2),numpy.array(m1)-numpy.array(m3)])\n",
        "    b=numpy.vstack([b1-b2,b1-b3])\n",
        "    signdet=numpy.sign(numpy.linalg.det(A))\n",
        "    vertex=numpy.linalg.solve(A,-b).squeeze()\n",
        "    p1=signdet*numpy.array([-A[0,1],A[0,0]])\n",
        "    p2=signdet*numpy.array([A[1,1],-A[1,0]])\n",
        "    dp=(p1-p2)/numpy.linalg.norm(p1-p2)\n",
        "    nu=2*radius/numpy.linalg.norm(p2-p2.dot(dp)*dp)\n",
        "    return vertex,[vertex+nu*p1,vertex+nu*p2]"
      ],
      "metadata": {
        "id": "_piTlC5GlR3Z"
      },
      "execution_count": null,
      "outputs": []
    },
    {
      "cell_type": "code",
      "source": [
        "plt.figure()\n",
        "radius=3\n",
        "v,[p1,p2]=polytope((m1,b1),[(m2,b2),(m3,b3)],radius=radius*2)\n",
        "(xstar,ystar)=v\n",
        "x,y=zip(*list([v,p1,p2]))\n",
        "\n",
        "plt.xlim(xstar-3,xstar+3)\n",
        "plt.ylim(ystar-3,ystar+3)\n",
        "plt.fill(x,y,color=\"lightgreen\",label=\"Class 0 (Condo/Co-op)\")\n",
        "\n",
        "v,[p1,p2]=polytope((m2,b2),[(m3,b3),(m1,b1)],radius=radius*2)\n",
        "(xstar,ystar)=v\n",
        "x,y=zip(*list([v,p1,p2]))\n",
        "plt.fill(x,y,color=\"pink\",label=\"Class 1 (Townhouse)\")\n",
        "\n",
        "v,[p1,p2]=polytope((m3,b3),[(m1,b1),(m2,b2)],radius=radius*2)\n",
        "(xstar,ystar)=v\n",
        "x,y=zip(*list([v,p1,p2]))\n",
        "plt.fill(x,y,color=\"lightblue\",label=\"Class 2 (Single Family Residential)\")\n",
        "\n",
        "\n",
        "for (cname,cvalue),f,c in zip(classdata,flags,[\"green\",\"red\",\"blue\"]):\n",
        "    ff=flags[cvalue]\n",
        "    plt.scatter(X_1[ff],X_2[ff],color=c,label=\"{0:s} ({1:d} points in class {2:n})\".format(cname,ff.sum(),cvalue),zorder=5)\n",
        "plt.xlabel(X_1.name)\n",
        "plt.ylabel(X_2.name)\n",
        "legend(\"bottom\",ncol=1)\n",
        "legend(\"side\")\n",
        "\n",
        "plt.ylabel(\"$/SQUARE FOOT\")\n",
        "plt.xlabel(\"SQUARE FEET/1000\")\n",
        "title=[]\n",
        "title.append(\"Decision Classes\")\n",
        "plt.title(\"\\n\".join(title))\n",
        "saver(\"polytope\")\n",
        "plt.show()\n",
        "plt.close()"
      ],
      "metadata": {
        "id": "K2DjFNw2fNK8",
        "colab": {
          "base_uri": "https://localhost:8080/",
          "height": 309
        },
        "outputId": "84c2a99a-682b-4494-e6be-d1c9fd191fff"
      },
      "execution_count": null,
      "outputs": [
        {
          "output_type": "display_data",
          "data": {
            "text/plain": [
              "<Figure size 432x288 with 1 Axes>"
            ],
            "image/png": "[encoded data removed]"
          },
          "metadata": {
            "needs_background": "light"
          }
        }
      ]
    }
  ]
}