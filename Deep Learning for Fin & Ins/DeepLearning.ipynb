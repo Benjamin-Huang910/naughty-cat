{
 "cells": [
  {
   "cell_type": "markdown",
   "metadata": {
    "id": "rnpk6PJry21v"
   },
   "source": [
    "<img src=\"https://news.illinois.edu/files/6367/543635/116641.jpg\" alt=\"University of Illinois\" width=\"250\"/>\n",
    "\n",
    "## HW: Deep Learning ##\n",
    "\n",
    "HW submission by group (up to 4 people)\n",
    "* John Doe <johndoe@illinois.edu>\n",
    "* Jane Roes <janeroe@illinois.edu>"
   ]
  },
  {
   "cell_type": "markdown",
   "metadata": {
    "id": "b2CU_7Bgy212"
   },
   "source": [
    "### imports and graphics configurations ###"
   ]
  },
  {
   "cell_type": "code",
   "execution_count": null,
   "metadata": {
    "id": "6elr9Ogwy213"
   },
   "outputs": [],
   "source": [
    "import numpy\n",
    "import pandas\n",
    "import time\n",
    "import random\n",
    "import matplotlib\n",
    "#%matplotlib notebook\n",
    "import matplotlib.pyplot as plt\n",
    "import scipy.stats\n",
    "import matplotlib.offsetbox as offsetbox\n",
    "from matplotlib.ticker import StrMethodFormatter"
   ]
  },
  {
   "cell_type": "code",
   "execution_count": null,
   "metadata": {
    "id": "ydypCNbYy213"
   },
   "outputs": [],
   "source": [
    "#for some reason, this needs to be in a separate cell\n",
    "params={\n",
    "    \"font.size\":15,\n",
    "    \"lines.linewidth\":5,\n",
    "}\n",
    "plt.rcParams.update(params)"
   ]
  },
  {
   "cell_type": "markdown",
   "metadata": {
    "id": "Vxa_BAz36MZY"
   },
   "source": [
    "# **Technology** #"
   ]
  },
  {
   "cell_type": "markdown",
   "metadata": {
    "id": "MTcO0Y5n6Pnm"
   },
   "source": [
    "**Technology:** Compute $\\cos(k\\pi/10)$ for $k\\in \\{0,1,2,\\dots 20\\}$"
   ]
  },
  {
   "cell_type": "code",
   "execution_count": 1,
   "metadata": {
    "id": "krI_tk7Sj5tz"
   },
   "outputs": [],
   "source": [
    "import math"
   ]
  },
  {
   "cell_type": "code",
   "execution_count": 2,
   "metadata": {},
   "outputs": [
    {
     "name": "stdout",
     "output_type": "stream",
     "text": [
      "1.0\n",
      "0.9510565162951535\n",
      "0.8090169943749475\n",
      "0.5877852522924731\n",
      "0.30901699437494745\n",
      "6.123233995736766e-17\n",
      "-0.30901699437494734\n",
      "-0.587785252292473\n",
      "-0.8090169943749473\n",
      "-0.9510565162951535\n",
      "-1.0\n",
      "-0.9510565162951538\n",
      "-0.8090169943749475\n",
      "-0.5877852522924732\n",
      "-0.30901699437494756\n",
      "-1.8369701987210297e-16\n",
      "0.30901699437494723\n",
      "0.5877852522924729\n",
      "0.8090169943749473\n",
      "0.9510565162951535\n",
      "1.0\n"
     ]
    }
   ],
   "source": [
    "for k in range(21):\n",
    "    print(math.cos(k*math. pi/ 10))"
   ]
  },
  {
   "cell_type": "code",
   "execution_count": null,
   "metadata": {},
   "outputs": [],
   "source": []
  }
 ],
 "metadata": {
  "celltoolbar": "Raw Cell Format",
  "colab": {
   "provenance": []
  },
  "kernelspec": {
   "display_name": "Python 3 (ipykernel)",
   "language": "python",
   "name": "python3"
  },
  "language_info": {
   "codemirror_mode": {
    "name": "ipython",
    "version": 3
   },
   "file_extension": ".py",
   "mimetype": "text/x-python",
   "name": "python",
   "nbconvert_exporter": "python",
   "pygments_lexer": "ipython3",
   "version": "3.9.12"
  }
 },
 "nbformat": 4,
 "nbformat_minor": 1
}
