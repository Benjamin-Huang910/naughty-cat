{
 "cells": [
  {
   "cell_type": "markdown",
   "metadata": {
    "id": "2Xy4WRXUPuGt"
   },
   "source": [
    "\n",
    "<img src=\"https://news.illinois.edu/files/6367/543635/116641.jpg\" alt=\"University of Illinois\" width=\"250\"/>\n",
    "\n",
    "# PyTorch implementation of Logistic Regression #\n",
    "By Richard Sowers\n",
    "* <r-sowers@illinois.edu>\n",
    "* <https://publish.illinois.edu/r-sowers/>\n",
    "\n",
    "Copyright 2020 University of Illinois Board of Trustees. All Rights Reserved.\n",
    "\n",
    "Pytorch documentation: <https://pytorch.org/docs/stable/index.html>"
   ]
  },
  {
   "cell_type": "markdown",
   "metadata": {
    "id": "-GzB2hdURw4L"
   },
   "source": [
    "data source: https://archive.ics.uci.edu/ml/datasets/QSAR+fish+toxicity"
   ]
  },
  {
   "cell_type": "markdown",
   "metadata": {
    "id": "UXjrKNajK5Sj"
   },
   "source": [
    "# imports and graphics configurations #"
   ]
  },
  {
   "cell_type": "code",
   "execution_count": null,
   "metadata": {
    "id": "2OUEneFBK93E"
   },
   "outputs": [],
   "source": [
    "import os\n",
    "import numpy\n",
    "import pandas\n",
    "import time\n",
    "import random\n",
    "import matplotlib\n",
    "#%matplotlib notebook\n",
    "import matplotlib.pyplot as plt\n",
    "import scipy.stats\n",
    "#from pandas.plotting import autocorrelation_plot\n",
    "import matplotlib.offsetbox as offsetbox\n",
    "from matplotlib.ticker import StrMethodFormatter\n",
    "import sklearn.linear_model\n",
    "\n",
    "import imageio\n",
    "import PIL\n",
    "\n",
    "def saver(fname):\n",
    "    plt.savefig(fname+\".png\",bbox_inches=\"tight\")\n",
    "\n",
    "def legend(pos=\"bottom\",ncol=3,extra=False):\n",
    "    if pos==\"bottom\":\n",
    "        extra = 0.15 if extra else 0\n",
    "        plt.legend(bbox_to_anchor=(0.5,-0.2-extra), loc='upper center',facecolor=\"lightgray\",ncol=ncol)\n",
    "    elif pos==\"side\":\n",
    "        plt.legend(bbox_to_anchor=(1.1,0.5), loc='center left',facecolor=\"lightgray\",ncol=1)\n",
    "\n",
    "def textbox(txt,fname=None):\n",
    "    plt.figure(figsize=(1,1))\n",
    "    plt.gca().add_artist(offsetbox.AnchoredText(\"\\n\".join(txt), loc=\"center\",prop=dict(size=30)))\n",
    "    plt.axis('off')\n",
    "    if fname is not None:\n",
    "        saver(fname)\n",
    "    plt.show()\n",
    "    plt.close()"
   ]
  },
  {
   "cell_type": "code",
   "execution_count": null,
   "metadata": {
    "id": "7RFJabjCndcV"
   },
   "outputs": [],
   "source": [
    "import torch"
   ]
  },
  {
   "cell_type": "code",
   "execution_count": null,
   "metadata": {
    "id": "lvPmRC9drha5"
   },
   "outputs": [],
   "source": [
    "#for some reason, this needs to be in a separate cell\n",
    "params={\n",
    "    \"font.size\":15,\n",
    "    \"lines.linewidth\":5\n",
    "}\n",
    "plt.rcParams.update(params)"
   ]
  },
  {
   "cell_type": "code",
   "execution_count": null,
   "metadata": {
    "colab": {
     "base_uri": "https://localhost:8080/"
    },
    "id": "uWCGEF2ERZtD",
    "outputId": "12d33bb2-c244-471c-d93c-ee46568313fe"
   },
   "outputs": [
    {
     "name": "stdout",
     "output_type": "stream",
     "text": [
      "existing png files: []\n"
     ]
    }
   ],
   "source": [
    "pngfiles=[f for f in os.listdir(\".\") if f.endswith(\".png\")]\n",
    "print(\"existing png files: \"+str(pngfiles))\n",
    "#print([os.remove(f) for f in pngfiles])"
   ]
  },
  {
   "cell_type": "code",
   "execution_count": null,
   "metadata": {
    "id": "DKges_xRRfPa"
   },
   "outputs": [],
   "source": [
    "def getfile(location_pair,**kwargs): #tries to get local version and then defaults to google drive version\n",
    "    (loc,gdrive)=location_pair\n",
    "    try:\n",
    "        out=pandas.read_csv(loc,**kwargs)\n",
    "    except FileNotFoundError:\n",
    "        print(\"local file not found; accessing Google Drive\")\n",
    "        loc = 'https://drive.google.com/uc?export=download&id='+gdrive.split('/')[-2]\n",
    "        out=pandas.read_csv(loc,**kwargs)\n",
    "    return out"
   ]
  },
  {
   "cell_type": "markdown",
   "metadata": {
    "id": "Z2s1rIF1LP5c"
   },
   "source": [
    "# configuration variables #"
   ]
  },
  {
   "cell_type": "code",
   "execution_count": null,
   "metadata": {
    "id": "xn9N9ixjLTWc"
   },
   "outputs": [],
   "source": [
    "url=\"https://www.redfin.com\"\n",
    "fname=(\"redfin_data.csv\",\"https://drive.google.com/file/d/1BFgKwV58YkPX_PRWMuKRHQoT6T0de_Qf/view?usp=sharing\")\n",
    "plot_title=\"Home Asking Price (Redfin)\"\n",
    "data_color=\"red\"\n",
    "markersize=2\n",
    "thinlinesize=2\n",
    "SEED=0"
   ]
  },
  {
   "cell_type": "code",
   "execution_count": null,
   "metadata": {
    "id": "ypsSB58Pluv-"
   },
   "outputs": [],
   "source": [
    "(feature,featurescale,featurename)=(\"SQUARE FEET\",1000,\"SQUARE FEET/1000\")\n",
    "#(feature,featurescale,featurename)=(\"PRICE\",1.0E6,\"PRICE/$1M\")\n",
    "(label,class1_value,labelname)=(\"PROPERTY TYPE\",\"Single Family Residential\",\"SFR\")"
   ]
  },
  {
   "cell_type": "markdown",
   "metadata": {
    "id": "rknnQTJ0LXio"
   },
   "source": [
    "# load data #"
   ]
  },
  {
   "cell_type": "code",
   "execution_count": null,
   "metadata": {
    "colab": {
     "base_uri": "https://localhost:8080/",
     "height": 513
    },
    "id": "uoQjj64OLi9_",
    "outputId": "c6f37ad3-e348-4204-ba75-5152d517f824"
   },
   "outputs": [
    {
     "name": "stdout",
     "output_type": "stream",
     "text": [
      "local file not found; accessing Google Drive\n"
     ]
    },
    {
     "data": {
      "text/html": [
       "<div>\n",
       "<style scoped>\n",
       "    .dataframe tbody tr th:only-of-type {\n",
       "        vertical-align: middle;\n",
       "    }\n",
       "\n",
       "    .dataframe tbody tr th {\n",
       "        vertical-align: top;\n",
       "    }\n",
       "\n",
       "    .dataframe thead th {\n",
       "        text-align: right;\n",
       "    }\n",
       "</style>\n",
       "<table border=\"1\" class=\"dataframe\">\n",
       "  <thead>\n",
       "    <tr style=\"text-align: right;\">\n",
       "      <th></th>\n",
       "      <th>SALE TYPE</th>\n",
       "      <th>SOLD DATE</th>\n",
       "      <th>PROPERTY TYPE</th>\n",
       "      <th>ADDRESS</th>\n",
       "      <th>CITY</th>\n",
       "      <th>STATE OR PROVINCE</th>\n",
       "      <th>ZIP OR POSTAL CODE</th>\n",
       "      <th>PRICE</th>\n",
       "      <th>BEDS</th>\n",
       "      <th>BATHS</th>\n",
       "      <th>LOCATION</th>\n",
       "      <th>SQUARE FEET</th>\n",
       "      <th>LOT SIZE</th>\n",
       "      <th>YEAR BUILT</th>\n",
       "      <th>DAYS ON MARKET</th>\n",
       "      <th>$/SQUARE FEET</th>\n",
       "      <th>HOA/MONTH</th>\n",
       "      <th>STATUS</th>\n",
       "      <th>NEXT OPEN HOUSE START TIME</th>\n",
       "      <th>NEXT OPEN HOUSE END TIME</th>\n",
       "      <th>URL (SEE http://www.redfin.com/buy-a-home/comparative-market-analysis FOR INFO ON PRICING)</th>\n",
       "      <th>SOURCE</th>\n",
       "      <th>MLS#</th>\n",
       "      <th>FAVORITE</th>\n",
       "      <th>INTERESTED</th>\n",
       "      <th>LATITUDE</th>\n",
       "      <th>LONGITUDE</th>\n",
       "    </tr>\n",
       "  </thead>\n",
       "  <tbody>\n",
       "    <tr>\n",
       "      <th>0</th>\n",
       "      <td>MLS Listing</td>\n",
       "      <td>NaN</td>\n",
       "      <td>Condo/Co-op</td>\n",
       "      <td>1503 Oak Ave #413</td>\n",
       "      <td>Evanston</td>\n",
       "      <td>IL</td>\n",
       "      <td>60201</td>\n",
       "      <td>304995</td>\n",
       "      <td>2.0</td>\n",
       "      <td>2.0</td>\n",
       "      <td>Evanston</td>\n",
       "      <td>1400.0</td>\n",
       "      <td>NaN</td>\n",
       "      <td>1980.0</td>\n",
       "      <td>6</td>\n",
       "      <td>218.0</td>\n",
       "      <td>470.0</td>\n",
       "      <td>Active</td>\n",
       "      <td>NaN</td>\n",
       "      <td>NaN</td>\n",
       "      <td>http://www.redfin.com/IL/Evanston/1503-Oak-Ave...</td>\n",
       "      <td>MRED</td>\n",
       "      <td>11217620</td>\n",
       "      <td>N</td>\n",
       "      <td>Y</td>\n",
       "      <td>42.044726</td>\n",
       "      <td>-87.686055</td>\n",
       "    </tr>\n",
       "    <tr>\n",
       "      <th>1</th>\n",
       "      <td>MLS Listing</td>\n",
       "      <td>NaN</td>\n",
       "      <td>Condo/Co-op</td>\n",
       "      <td>2730 Central St Unit 3C</td>\n",
       "      <td>Evanston</td>\n",
       "      <td>IL</td>\n",
       "      <td>60201</td>\n",
       "      <td>194500</td>\n",
       "      <td>2.0</td>\n",
       "      <td>2.0</td>\n",
       "      <td>Evanston</td>\n",
       "      <td>1100.0</td>\n",
       "      <td>NaN</td>\n",
       "      <td>1965.0</td>\n",
       "      <td>13</td>\n",
       "      <td>177.0</td>\n",
       "      <td>460.0</td>\n",
       "      <td>Active</td>\n",
       "      <td>NaN</td>\n",
       "      <td>NaN</td>\n",
       "      <td>http://www.redfin.com/IL/Evanston/2730-Central...</td>\n",
       "      <td>MRED</td>\n",
       "      <td>11212367</td>\n",
       "      <td>N</td>\n",
       "      <td>Y</td>\n",
       "      <td>42.064150</td>\n",
       "      <td>-87.712220</td>\n",
       "    </tr>\n",
       "    <tr>\n",
       "      <th>2</th>\n",
       "      <td>MLS Listing</td>\n",
       "      <td>NaN</td>\n",
       "      <td>Single Family Residential</td>\n",
       "      <td>9509 Crawford Ave</td>\n",
       "      <td>Evanston</td>\n",
       "      <td>IL</td>\n",
       "      <td>60203</td>\n",
       "      <td>419000</td>\n",
       "      <td>3.0</td>\n",
       "      <td>2.5</td>\n",
       "      <td>Evanston</td>\n",
       "      <td>1317.0</td>\n",
       "      <td>3075.0</td>\n",
       "      <td>1951.0</td>\n",
       "      <td>20</td>\n",
       "      <td>318.0</td>\n",
       "      <td>NaN</td>\n",
       "      <td>Active</td>\n",
       "      <td>NaN</td>\n",
       "      <td>NaN</td>\n",
       "      <td>http://www.redfin.com/IL/Evanston/9509-Crawfor...</td>\n",
       "      <td>MRED</td>\n",
       "      <td>11206027</td>\n",
       "      <td>N</td>\n",
       "      <td>Y</td>\n",
       "      <td>42.053761</td>\n",
       "      <td>-87.727131</td>\n",
       "    </tr>\n",
       "    <tr>\n",
       "      <th>3</th>\n",
       "      <td>MLS Listing</td>\n",
       "      <td>NaN</td>\n",
       "      <td>Single Family Residential</td>\n",
       "      <td>2508 Cowper Ave</td>\n",
       "      <td>Evanston</td>\n",
       "      <td>IL</td>\n",
       "      <td>60201</td>\n",
       "      <td>479000</td>\n",
       "      <td>2.0</td>\n",
       "      <td>2.0</td>\n",
       "      <td>Evanston</td>\n",
       "      <td>NaN</td>\n",
       "      <td>NaN</td>\n",
       "      <td>1937.0</td>\n",
       "      <td>1</td>\n",
       "      <td>NaN</td>\n",
       "      <td>NaN</td>\n",
       "      <td>Active</td>\n",
       "      <td>NaN</td>\n",
       "      <td>NaN</td>\n",
       "      <td>http://www.redfin.com/IL/Evanston/2508-Cowper-...</td>\n",
       "      <td>MRED</td>\n",
       "      <td>11224357</td>\n",
       "      <td>N</td>\n",
       "      <td>Y</td>\n",
       "      <td>42.062908</td>\n",
       "      <td>-87.724631</td>\n",
       "    </tr>\n",
       "    <tr>\n",
       "      <th>4</th>\n",
       "      <td>MLS Listing</td>\n",
       "      <td>NaN</td>\n",
       "      <td>Condo/Co-op</td>\n",
       "      <td>525 Hinman Ave Unit 3N</td>\n",
       "      <td>Evanston</td>\n",
       "      <td>IL</td>\n",
       "      <td>60202</td>\n",
       "      <td>499900</td>\n",
       "      <td>2.0</td>\n",
       "      <td>2.0</td>\n",
       "      <td>Evanston</td>\n",
       "      <td>1600.0</td>\n",
       "      <td>NaN</td>\n",
       "      <td>2006.0</td>\n",
       "      <td>1</td>\n",
       "      <td>312.0</td>\n",
       "      <td>376.0</td>\n",
       "      <td>Active</td>\n",
       "      <td>NaN</td>\n",
       "      <td>NaN</td>\n",
       "      <td>http://www.redfin.com/IL/Evanston/525-Hinman-A...</td>\n",
       "      <td>MRED</td>\n",
       "      <td>11223793</td>\n",
       "      <td>N</td>\n",
       "      <td>Y</td>\n",
       "      <td>42.027601</td>\n",
       "      <td>-87.676143</td>\n",
       "    </tr>\n",
       "  </tbody>\n",
       "</table>\n",
       "</div>"
      ],
      "text/plain": [
       "     SALE TYPE  SOLD DATE  ...   LATITUDE  LONGITUDE\n",
       "0  MLS Listing        NaN  ...  42.044726 -87.686055\n",
       "1  MLS Listing        NaN  ...  42.064150 -87.712220\n",
       "2  MLS Listing        NaN  ...  42.053761 -87.727131\n",
       "3  MLS Listing        NaN  ...  42.062908 -87.724631\n",
       "4  MLS Listing        NaN  ...  42.027601 -87.676143\n",
       "\n",
       "[5 rows x 27 columns]"
      ]
     },
     "execution_count": 8,
     "metadata": {},
     "output_type": "execute_result"
    }
   ],
   "source": [
    "data_raw=getfile(fname)\n",
    "data_raw.head()"
   ]
  },
  {
   "cell_type": "code",
   "execution_count": null,
   "metadata": {
    "id": "CMQUh-JR7vPR"
   },
   "outputs": [],
   "source": [
    "data=data_raw.copy()\n",
    "data.index+=1\n",
    "data.index.name=\"record number\""
   ]
  },
  {
   "cell_type": "code",
   "execution_count": null,
   "metadata": {
    "colab": {
     "base_uri": "https://localhost:8080/",
     "height": 235
    },
    "id": "8lhbhnsKSgtj",
    "outputId": "8e76aa5e-b1a3-4c32-ed83-c81dc0b3459a"
   },
   "outputs": [
    {
     "data": {
      "text/html": [
       "<div>\n",
       "<style scoped>\n",
       "    .dataframe tbody tr th:only-of-type {\n",
       "        vertical-align: middle;\n",
       "    }\n",
       "\n",
       "    .dataframe tbody tr th {\n",
       "        vertical-align: top;\n",
       "    }\n",
       "\n",
       "    .dataframe thead th {\n",
       "        text-align: right;\n",
       "    }\n",
       "</style>\n",
       "<table border=\"1\" class=\"dataframe\">\n",
       "  <thead>\n",
       "    <tr style=\"text-align: right;\">\n",
       "      <th></th>\n",
       "      <th>SQUARE FEET/1000</th>\n",
       "      <th>SFR</th>\n",
       "    </tr>\n",
       "    <tr>\n",
       "      <th>record number</th>\n",
       "      <th></th>\n",
       "      <th></th>\n",
       "    </tr>\n",
       "  </thead>\n",
       "  <tbody>\n",
       "    <tr>\n",
       "      <th>1</th>\n",
       "      <td>1.400</td>\n",
       "      <td>0</td>\n",
       "    </tr>\n",
       "    <tr>\n",
       "      <th>2</th>\n",
       "      <td>1.100</td>\n",
       "      <td>0</td>\n",
       "    </tr>\n",
       "    <tr>\n",
       "      <th>3</th>\n",
       "      <td>1.317</td>\n",
       "      <td>1</td>\n",
       "    </tr>\n",
       "    <tr>\n",
       "      <th>5</th>\n",
       "      <td>1.600</td>\n",
       "      <td>0</td>\n",
       "    </tr>\n",
       "    <tr>\n",
       "      <th>9</th>\n",
       "      <td>2.362</td>\n",
       "      <td>1</td>\n",
       "    </tr>\n",
       "  </tbody>\n",
       "</table>\n",
       "</div>"
      ],
      "text/plain": [
       "               SQUARE FEET/1000  SFR\n",
       "record number                       \n",
       "1                         1.400    0\n",
       "2                         1.100    0\n",
       "3                         1.317    1\n",
       "5                         1.600    0\n",
       "9                         2.362    1"
      ]
     },
     "execution_count": 10,
     "metadata": {},
     "output_type": "execute_result"
    }
   ],
   "source": [
    "XY=data[[feature,label]].dropna(axis='index')\n",
    "XY.columns=[featurename,labelname]\n",
    "XY[featurename]=XY[featurename]/featurescale\n",
    "XY[labelname]=(XY[labelname]==class1_value).astype(numpy.int)\n",
    "X=XY[featurename]\n",
    "Y=XY[labelname]\n",
    "X_1=X[Y==1]\n",
    "X_0=X[Y==0]\n",
    "XY.head()"
   ]
  },
  {
   "cell_type": "code",
   "execution_count": null,
   "metadata": {
    "colab": {
     "base_uri": "https://localhost:8080/",
     "height": 118
    },
    "id": "hB124RsHPvAo",
    "outputId": "d9986a4b-99a1-4cb5-96ae-54cad7b621fc"
   },
   "outputs": [
    {
     "data": {
      "image/png": "[encoded data removed]",
      "text/plain": [
       "<Figure size 72x72 with 1 Axes>"
      ]
     },
     "metadata": {
      "needs_background": "light"
     },
     "output_type": "display_data"
    }
   ],
   "source": [
    "bias=(Y==1).mean()\n",
    "text=[]\n",
    "text.append(\"bias of data:\")\n",
    "text.append(\"   {0:.1%} class 0; {1:.1%} class 1\".format(1-bias,bias))\n",
    "textbox(text)"
   ]
  },
  {
   "cell_type": "markdown",
   "metadata": {
    "id": "Yk26BdRCUe6c"
   },
   "source": [
    "Let's normalize data"
   ]
  },
  {
   "cell_type": "code",
   "execution_count": null,
   "metadata": {
    "id": "5u8yAXnN88Wb"
   },
   "outputs": [],
   "source": [
    "X_scored=scipy.stats.zscore(X)"
   ]
  },
  {
   "cell_type": "code",
   "execution_count": null,
   "metadata": {
    "colab": {
     "base_uri": "https://localhost:8080/"
    },
    "id": "-e89jx1nTFdF",
    "outputId": "7f50d4d1-e13c-4983-fa64-abc1d69c5cc6"
   },
   "outputs": [
    {
     "name": "stdout",
     "output_type": "stream",
     "text": [
      "sklearn coefficients for normalizd data: m=2.155, b=-0.52\n"
     ]
    }
   ],
   "source": [
    "lr=sklearn.linear_model.LogisticRegression(solver=\"lbfgs\",random_state=0,penalty=\"none\").fit(X_scored.reshape(-1,1),Y.values)\n",
    "(m_sk,b_sk)=(lr.coef_.item(),lr.intercept_.item())\n",
    "print(\"sklearn coefficients for normalizd data: m={0:.3f}, b={1:.2f}\".format(m_sk,b_sk))"
   ]
  },
  {
   "cell_type": "markdown",
   "metadata": {
    "id": "1oQTFgClXBmA"
   },
   "source": [
    "# Implement with PyTorch #"
   ]
  },
  {
   "cell_type": "code",
   "execution_count": null,
   "metadata": {
    "colab": {
     "base_uri": "https://localhost:8080/"
    },
    "id": "y7tjI5AAMhuQ",
    "outputId": "b841e884-5102-46cf-8a5c-c89d58d2ab55"
   },
   "outputs": [
    {
     "name": "stdout",
     "output_type": "stream",
     "text": [
      "cuda available: False\n"
     ]
    }
   ],
   "source": [
    "features=torch.from_numpy(X_scored.astype(numpy.float32).reshape(-1,1))\n",
    "labels=torch.from_numpy(Y.values.astype(numpy.float32).reshape(-1,1))\n",
    "\n",
    "print(\"cuda available: {:}\".format(torch.cuda.is_available()))\n",
    "features = features.cuda() if torch.cuda.is_available() else features\n",
    "labels = labels.cuda() if torch.cuda.is_available() else labels"
   ]
  },
  {
   "cell_type": "code",
   "execution_count": null,
   "metadata": {
    "id": "b2zhr5pfiDNw"
   },
   "outputs": [],
   "source": [
    "learningRate=0.5"
   ]
  },
  {
   "cell_type": "code",
   "execution_count": null,
   "metadata": {
    "colab": {
     "base_uri": "https://localhost:8080/",
     "height": 232
    },
    "id": "t3DyEANHQHYQ",
    "outputId": "4884fb2b-a60b-4cde-c319-88f526144baf"
   },
   "outputs": [
    {
     "ename": "NameError",
     "evalue": "ignored",
     "output_type": "error",
     "traceback": [
      "\u001b[0;31m---------------------------------------------------------------------------\u001b[0m",
      "\u001b[0;31mNameError\u001b[0m                                 Traceback (most recent call last)",
      "\u001b[0;32m<ipython-input-1-5afc726ba95a>\u001b[0m in \u001b[0;36m<module>\u001b[0;34m()\u001b[0m\n\u001b[0;32m----> 1\u001b[0;31m \u001b[0;32mclass\u001b[0m \u001b[0mlogisticRegression\u001b[0m\u001b[0;34m(\u001b[0m\u001b[0mtorch\u001b[0m\u001b[0;34m.\u001b[0m\u001b[0mnn\u001b[0m\u001b[0;34m.\u001b[0m\u001b[0mModule\u001b[0m\u001b[0;34m)\u001b[0m\u001b[0;34m:\u001b[0m\u001b[0;34m\u001b[0m\u001b[0;34m\u001b[0m\u001b[0m\n\u001b[0m\u001b[1;32m      2\u001b[0m     \u001b[0;32mdef\u001b[0m \u001b[0m__init__\u001b[0m\u001b[0;34m(\u001b[0m\u001b[0mself\u001b[0m\u001b[0;34m,\u001b[0m \u001b[0minputSize\u001b[0m\u001b[0;34m=\u001b[0m\u001b[0;36m1\u001b[0m\u001b[0;34m,\u001b[0m \u001b[0moutputSize\u001b[0m\u001b[0;34m=\u001b[0m\u001b[0;36m1\u001b[0m\u001b[0;34m,\u001b[0m\u001b[0mSEED\u001b[0m\u001b[0;34m=\u001b[0m\u001b[0;36m0\u001b[0m\u001b[0;34m)\u001b[0m\u001b[0;34m:\u001b[0m \u001b[0;31m#default to one-dimensional feature and response\u001b[0m\u001b[0;34m\u001b[0m\u001b[0;34m\u001b[0m\u001b[0m\n\u001b[1;32m      3\u001b[0m         \u001b[0msuper\u001b[0m\u001b[0;34m(\u001b[0m\u001b[0;34m)\u001b[0m\u001b[0;34m.\u001b[0m\u001b[0m__init__\u001b[0m\u001b[0;34m(\u001b[0m\u001b[0;34m)\u001b[0m \u001b[0;31m#run init of torch.nn.Module\u001b[0m\u001b[0;34m\u001b[0m\u001b[0;34m\u001b[0m\u001b[0m\n\u001b[1;32m      4\u001b[0m         \u001b[0;32mif\u001b[0m \u001b[0mSEED\u001b[0m \u001b[0;32mis\u001b[0m \u001b[0;32mnot\u001b[0m \u001b[0;32mNone\u001b[0m\u001b[0;34m:\u001b[0m\u001b[0;34m\u001b[0m\u001b[0;34m\u001b[0m\u001b[0m\n\u001b[1;32m      5\u001b[0m           \u001b[0mtorch\u001b[0m\u001b[0;34m.\u001b[0m\u001b[0mmanual_seed\u001b[0m\u001b[0;34m(\u001b[0m\u001b[0mSEED\u001b[0m\u001b[0;34m)\u001b[0m\u001b[0;34m\u001b[0m\u001b[0;34m\u001b[0m\u001b[0m\n",
      "\u001b[0;31mNameError\u001b[0m: name 'torch' is not defined"
     ]
    }
   ],
   "source": [
    "class logisticRegression(torch.nn.Module):\n",
    "    def __init__(self, inputSize=1, outputSize=1,SEED=0): #default to one-dimensional feature and response\n",
    "        super().__init__() #run init of torch.nn.Module\n",
    "        if SEED is not None:\n",
    "          torch.manual_seed(SEED)\n",
    "        self.linear = torch.nn.Linear(inputSize,outputSize)\n",
    "        self.sigmoid=torch.nn.Sigmoid()\n",
    "        if torch.cuda.is_available():\n",
    "          self=self.cuda()\n",
    "\n",
    "\n",
    "    def forward(self, x,quantize=False):\n",
    "        out=self.linear(x)\n",
    "        out=self.sigmoid(out)\n",
    "        if quantize:\n",
    "          out=self.quantizer(out)\n",
    "        return out\n",
    "\n",
    "    def quantizer(self,probabilities):\n",
    "      return (probabilities>0.5).to(torch.float)\n",
    "\n",
    "model=logisticRegression()\n",
    "Loss = torch.nn.BCELoss()\n",
    "\n",
    "optimizer = torch.optim.SGD(model.parameters(), lr=learningRate)"
   ]
  },
  {
   "cell_type": "code",
   "execution_count": null,
   "metadata": {
    "colab": {
     "base_uri": "https://localhost:8080/"
    },
    "id": "-tSfPvUCl6uc",
    "outputId": "240249e0-f7d2-4fe7-e928-4b4be3ffb481"
   },
   "outputs": [
    {
     "name": "stdout",
     "output_type": "stream",
     "text": [
      "iteration 0: loss=0.81407, m=0.128, b=0.39, d/dm=-2.72e-01, d/db=2.86e-01\n",
      "iteration 10: loss=0.50639, m=0.912, b=-0.34, d/dm=-1.01e-01, d/db=7.37e-02\n",
      "iteration 20: loss=0.46671, m=1.271, b=-0.54, d/dm=-5.51e-02, d/db=2.09e-02\n",
      "iteration 30: loss=0.45570, m=1.488, b=-0.59, d/dm=-3.57e-02, d/db=5.23e-03\n",
      "iteration 40: loss=0.45104, m=1.635, b=-0.60, d/dm=-2.52e-02, d/db=3.76e-05\n",
      "iteration 50: loss=0.44862, m=1.742, b=-0.59, d/dm=-1.87e-02, d/db=-1.63e-03\n",
      "iteration 60: loss=0.44724, m=1.823, b=-0.58, d/dm=-1.43e-02, d/db=-2.02e-03\n",
      "iteration 70: loss=0.44640, m=1.885, b=-0.57, d/dm=-1.12e-02, d/db=-1.94e-03\n",
      "iteration 80: loss=0.44588, m=1.935, b=-0.57, d/dm=-8.91e-03, d/db=-1.72e-03\n",
      "iteration 90: loss=0.44554, m=1.974, b=-0.56, d/dm=-7.16e-03, d/db=-1.47e-03\n",
      "iteration 100: loss=0.44532, m=2.006, b=-0.55, d/dm=-5.80e-03, d/db=-1.23e-03\n",
      "iteration 110: loss=0.44517, m=2.032, b=-0.55, d/dm=-4.72e-03, d/db=-1.02e-03\n",
      "iteration 120: loss=0.44508, m=2.053, b=-0.54, d/dm=-3.87e-03, d/db=-8.51e-04\n",
      "iteration 130: loss=0.44501, m=2.071, b=-0.54, d/dm=-3.18e-03, d/db=-7.06e-04\n",
      "iteration 140: loss=0.44497, m=2.085, b=-0.53, d/dm=-2.62e-03, d/db=-5.85e-04\n",
      "iteration 150: loss=0.44494, m=2.097, b=-0.53, d/dm=-2.16e-03, d/db=-4.86e-04\n",
      "iteration 160: loss=0.44491, m=2.107, b=-0.53, d/dm=-1.79e-03, d/db=-4.03e-04\n",
      "iteration 170: loss=0.44490, m=2.115, b=-0.53, d/dm=-1.48e-03, d/db=-3.35e-04\n",
      "iteration 180: loss=0.44489, m=2.121, b=-0.53, d/dm=-1.23e-03, d/db=-2.79e-04\n",
      "iteration 190: loss=0.44488, m=2.127, b=-0.52, d/dm=-1.02e-03, d/db=-2.32e-04\n",
      "iteration 200: loss=0.44488, m=2.132, b=-0.52, d/dm=-8.50e-04, d/db=-1.93e-04\n",
      "iteration 210: loss=0.44488, m=2.136, b=-0.52, d/dm=-7.07e-04, d/db=-1.61e-04\n",
      "iteration 220: loss=0.44487, m=2.139, b=-0.52, d/dm=-5.88e-04, d/db=-1.34e-04\n",
      "iteration 230: loss=0.44487, m=2.141, b=-0.52, d/dm=-4.90e-04, d/db=-1.12e-04\n",
      "iteration 240: loss=0.44487, m=2.144, b=-0.52, d/dm=-4.08e-04, d/db=-9.30e-05\n",
      "iteration 250: loss=0.44487, m=2.145, b=-0.52, d/dm=-3.40e-04, d/db=-7.76e-05\n",
      "iteration 260: loss=0.44487, m=2.147, b=-0.52, d/dm=-2.84e-04, d/db=-6.47e-05\n",
      "iteration 270: loss=0.44487, m=2.148, b=-0.52, d/dm=-2.36e-04, d/db=-5.39e-05\n",
      "iteration 280: loss=0.44487, m=2.149, b=-0.52, d/dm=-1.97e-04, d/db=-4.50e-05\n",
      "iteration 290: loss=0.44487, m=2.150, b=-0.52, d/dm=-1.64e-04, d/db=-3.76e-05\n",
      "iteration 300: loss=0.44487, m=2.151, b=-0.52, d/dm=-1.37e-04, d/db=-3.13e-05\n",
      "iteration 310: loss=0.44487, m=2.152, b=-0.52, d/dm=-1.14e-04, d/db=-2.61e-05\n",
      "iteration 320: loss=0.44487, m=2.152, b=-0.52, d/dm=-9.55e-05, d/db=-2.18e-05\n",
      "iteration 330: loss=0.44487, m=2.153, b=-0.52, d/dm=-7.97e-05, d/db=-1.82e-05\n",
      "iteration 340: loss=0.44487, m=2.153, b=-0.52, d/dm=-6.65e-05, d/db=-1.52e-05\n",
      "iteration 350: loss=0.44487, m=2.153, b=-0.52, d/dm=-5.55e-05, d/db=-1.27e-05\n",
      "iteration 360: loss=0.44487, m=2.153, b=-0.52, d/dm=-4.63e-05, d/db=-1.06e-05\n",
      "iteration 370: loss=0.44487, m=2.154, b=-0.52, d/dm=-3.87e-05, d/db=-8.84e-06\n",
      "iteration 380: loss=0.44487, m=2.154, b=-0.52, d/dm=-3.23e-05, d/db=-7.38e-06\n",
      "iteration 390: loss=0.44487, m=2.154, b=-0.52, d/dm=-2.69e-05, d/db=-6.15e-06\n"
     ]
    }
   ],
   "source": [
    "MAX_iter = 400\n",
    "for itr in range(MAX_iter):\n",
    "\n",
    "    # Clear gradient buffers because we don't want any gradient from previous epoch to carry forward, dont want to cummulate gradients\n",
    "    optimizer.zero_grad()\n",
    "\n",
    "    # get output from the model, given the inputs\n",
    "    outputs = model(features)\n",
    "\n",
    "    # get loss for the predicted output\n",
    "    lossvalue = Loss(outputs, labels) #note order of labels and outputs\n",
    "\n",
    "    # get gradients w.r.t to parameters\n",
    "    lossvalue.backward()\n",
    "    #print(model.linear.weight.grad.item(),model.linear.bias.grad.item())\n",
    "\n",
    "    # update parameters\n",
    "    optimizer.step()\n",
    "    if itr%10==0:\n",
    "      print(\"iteration {}: loss={:.5f}, m={:.3f}, b={:.2f}, d/dm={:.2e}, d/db={:.2e}\".format(itr, lossvalue.item(),\n",
    "        model.linear.weight.item(),model.linear.bias.item(),model.linear.weight.grad.item(),model.linear.bias.grad.item()))"
   ]
  },
  {
   "cell_type": "code",
   "execution_count": null,
   "metadata": {
    "colab": {
     "base_uri": "https://localhost:8080/"
    },
    "id": "RZ0wpKYSpNyB",
    "outputId": "98334b94-5895-4fff-e579-3d8c9693fa2f"
   },
   "outputs": [
    {
     "name": "stdout",
     "output_type": "stream",
     "text": [
      "-0.00029156168389710564 -0.0002780310650440546\n"
     ]
    }
   ],
   "source": [
    "(m_pt,b_pt)=(model.linear.weight.item(),model.linear.bias.item())\n",
    "m_err=2*(m_pt-m_sk)/(numpy.abs(m_pt)+numpy.abs(m_sk))\n",
    "b_err=2*(b_pt-b_sk)/(numpy.abs(b_pt)+numpy.abs(b_sk))\n",
    "print(m_err,b_err)"
   ]
  },
  {
   "cell_type": "code",
   "execution_count": null,
   "metadata": {
    "colab": {
     "base_uri": "https://localhost:8080/",
     "height": 120
    },
    "id": "Qb8bjY3li7LK",
    "outputId": "90b3f794-128d-4a43-ec7d-1673fe9deb90"
   },
   "outputs": [
    {
     "data": {
      "image/png": "[encoded data removed]",
      "text/plain": [
       "<Figure size 72x72 with 1 Axes>"
      ]
     },
     "metadata": {
      "needs_background": "light"
     },
     "output_type": "display_data"
    }
   ],
   "source": [
    "text=[]\n",
    "text.append(\"Results of sklearn.linear_model.LogisticRegression: $m_{{sp}}={0:.2f}$, $b_{{sp}}={1:.2f}$\".format(m_sk,b_sk))\n",
    "text.append(\"Results of pytorch: $m_{{pt}}={0:.2f}$, $b_{{pt}}={1:.2f}$\".format(m_pt,b_pt))\n",
    "text.append(\"error in m: {0:0.1e}; error in b: {1:0.1e}\".format(m_err,b_err))\n",
    "textbox(text)"
   ]
  }
 ],
 "metadata": {
  "accelerator": "TPU",
  "colab": {
   "provenance": []
  },
  "kernelspec": {
   "display_name": "Python 3 (ipykernel)",
   "language": "python",
   "name": "python3"
  },
  "language_info": {
   "codemirror_mode": {
    "name": "ipython",
    "version": 3
   },
   "file_extension": ".py",
   "mimetype": "text/x-python",
   "name": "python",
   "nbconvert_exporter": "python",
   "pygments_lexer": "ipython3",
   "version": "3.9.12"
  }
 },
 "nbformat": 4,
 "nbformat_minor": 1
}
