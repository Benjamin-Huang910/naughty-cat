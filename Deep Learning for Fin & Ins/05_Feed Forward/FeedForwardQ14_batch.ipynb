{
  "nbformat": 4,
  "nbformat_minor": 0,
  "metadata": {
    "kernelspec": {
      "display_name": "Python 3",
      "language": "python",
      "name": "python3"
    },
    "language_info": {
      "codemirror_mode": {
        "name": "ipython",
        "version": 3
      },
      "file_extension": ".py",
      "mimetype": "text/x-python",
      "name": "python",
      "nbconvert_exporter": "python",
      "pygments_lexer": "ipython3",
      "version": "3.7.3"
    },
    "colab": {
      "provenance": []
    }
  },
  "cells": [
    {
      "cell_type": "markdown",
      "metadata": {
        "id": "Tl0eoA_Ru_gi"
      },
      "source": [
        "<img src=\"https://news.illinois.edu/files/6367/543635/116641.jpg\" alt=\"University of Illinois\" width=\"250\"/>\n",
        "\n",
        "# Feed Forward Networks (Part 1)#\n",
        "By Richard Sowers\n",
        "* <r-sowers@illinois.edu>\n",
        "* <https://publish.illinois.edu/r-sowers/>\n",
        "\n",
        "Copyright 2020 University of Illinois Board of Trustees. All Rights Reserved."
      ]
    },
    {
      "cell_type": "markdown",
      "metadata": {
        "id": "xIclLxgdu_gx"
      },
      "source": [
        "# imports and graphics configurations #"
      ]
    },
    {
      "cell_type": "code",
      "metadata": {
        "id": "lLDEAqsJu_gz"
      },
      "source": [
        "import torch\n",
        "import numpy\n",
        "import matplotlib\n",
        "#%matplotlib notebook\n",
        "import matplotlib.pyplot as plt\n",
        "import scipy.stats\n",
        "#from pandas.plotting import autocorrelation_plot\n",
        "import matplotlib.offsetbox as offsetbox\n",
        "from matplotlib.ticker import StrMethodFormatter\n",
        "import graphviz\n",
        "import itertools\n",
        "import time\n",
        "\n",
        "def saver(fname):\n",
        "    plt.savefig(fname+\".png\",bbox_inches=\"tight\")\n",
        "\n",
        "def legend(pos=\"bottom\",ncol=3):\n",
        "    if pos==\"bottom\":\n",
        "        plt.legend(bbox_to_anchor=(0.5,-0.2), loc='upper center',facecolor=\"lightgray\",ncol=ncol)\n",
        "    elif pos==\"side\":\n",
        "        plt.legend(bbox_to_anchor=(1.1,0.5), loc='center left',facecolor=\"lightgray\",ncol=1)\n",
        "\n",
        "def textbox(txt,fname=None):\n",
        "    plt.figure(figsize=(1,1))\n",
        "    plt.gca().add_artist(offsetbox.AnchoredText(\"\\n\".join(txt), loc=\"center\",prop=dict(size=30)))\n",
        "    plt.axis('off')\n",
        "    if fname is not None:\n",
        "        saver(fname)\n",
        "    plt.show()\n",
        "    plt.close()"
      ],
      "execution_count": null,
      "outputs": []
    },
    {
      "cell_type": "code",
      "metadata": {
        "id": "bQWa4jMbu_g1"
      },
      "source": [
        "#for some reason, this needs to be in a separate cell\n",
        "params={\n",
        "    \"font.size\":15,\n",
        "    \"lines.linewidth\":5\n",
        "}\n",
        "plt.rcParams.update(params)"
      ],
      "execution_count": null,
      "outputs": []
    },
    {
      "cell_type": "markdown",
      "metadata": {
        "id": "n-vYNlX9u_g4"
      },
      "source": [
        "# configuration variables #"
      ]
    },
    {
      "cell_type": "markdown",
      "metadata": {
        "id": "OOnnUeD4QX3Q"
      },
      "source": []
    },
    {
      "cell_type": "code",
      "metadata": {
        "id": "tI0LwNRmu_g5"
      },
      "source": [
        "SEED=0\n",
        "N_points=100"
      ],
      "execution_count": null,
      "outputs": []
    },
    {
      "cell_type": "code",
      "metadata": {
        "id": "z0YBD_wZu_g5"
      },
      "source": [
        "x_min=-3\n",
        "x_max=3\n",
        "markersize=5\n",
        "thinlinewidth=2\n",
        "textboxsize=(5,0.5)"
      ],
      "execution_count": null,
      "outputs": []
    },
    {
      "cell_type": "markdown",
      "metadata": {
        "id": "eCXAUB7ju_g6"
      },
      "source": [
        "# Generate training data in the plane #\n",
        "\n",
        "points in the right-half plane will have label 1\n",
        "points in the left-half plane will have label 0"
      ]
    },
    {
      "cell_type": "code",
      "metadata": {
        "id": "ZaMTpU8Mu_g-"
      },
      "source": [
        "xy=scipy.stats.norm.rvs(size=(N_points,2),random_state=SEED)"
      ],
      "execution_count": null,
      "outputs": []
    },
    {
      "cell_type": "code",
      "metadata": {
        "id": "m6m6SJ1cu_hM"
      },
      "source": [
        "flags=xy[:,0]>0\n",
        "xy=numpy.array(xy,dtype=numpy.float32)\n",
        "z=numpy.array(flags,dtype=numpy.float32).reshape(-1,1)"
      ],
      "execution_count": null,
      "outputs": []
    },
    {
      "cell_type": "code",
      "metadata": {
        "colab": {
          "base_uri": "https://localhost:8080/",
          "height": 290
        },
        "id": "MVl4-zWACitU",
        "outputId": "0f903f88-15af-4190-a13d-b617fc201a4b"
      },
      "source": [
        "plt.figure()\n",
        "plt.scatter(xy[flags,0],xy[flags,1],color=\"red\",label=\"1\")\n",
        "plt.scatter(xy[~flags,0],xy[~flags,1],color=\"blue\",label=\"0\")\n",
        "plt.xlim(x_min,x_max)\n",
        "plt.ylim(x_min,x_max)\n",
        "title=[]\n",
        "title.append(\"Labelled Training Data\")\n",
        "plt.title(\"\\n\".join(title))\n",
        "legend(\"side\")\n",
        "#saver(\"tt_123\")\n",
        "plt.show()\n",
        "plt.close()"
      ],
      "execution_count": null,
      "outputs": [
        {
          "output_type": "display_data",
          "data": {
            "image/png": "[encoded data removed]",
            "text/plain": [
              "<Figure size 432x288 with 1 Axes>"
            ]
          },
          "metadata": {
            "needs_background": "light"
          }
        }
      ]
    },
    {
      "cell_type": "markdown",
      "metadata": {
        "id": "QOOlGjfSF7YR"
      },
      "source": [
        "feature-label pairs $\\left\\{((x_n,y_n),z_n)\\right\\}_{n=1}^N\\subset R^2\\times \\{0,1\\}$.\n",
        "Sigmoid function is\n",
        "$$S(z)=\\frac{1}{1+e^{-z}}$$\n",
        "Model is\n",
        "$$ S\\left(M^{(2)}S\\left(M^{(1)}\\begin{pmatrix} x \\\\ y \\end{pmatrix} + B^{(1)}\\right)+B^{(2)}\\right)$$\n",
        "where\n",
        "* $M^{(1)}\\in R^{2\\times 2}$\n",
        "* $B^{(1)}\\in R^2$\n",
        "* $M^{(2)}\\in R^{1\\times 2}$\n",
        "* $B^{(2)}\\in R$\n",
        "\n",
        "\n",
        "We have\n",
        "$$ a_1=M^{(1)}\\begin{pmatrix} x \\\\ y \\end{pmatrix} + B^{(1)}$$\n",
        "$$ a_2=M^{(2)}S(a_1)+B^{(2)}$$\n",
        "\n"
      ]
    },
    {
      "cell_type": "code",
      "metadata": {
        "colab": {
          "base_uri": "https://localhost:8080/",
          "height": 151
        },
        "id": "gUdwSxzZFFU3",
        "outputId": "8f8bc124-5254-4adc-f8f2-e60cb773664e"
      },
      "source": [
        "g=graphviz.Digraph()\n",
        "g.attr(rankdir='LR')\n",
        "features=[\"x\",\"y\"]\n",
        "for feature in features:\n",
        "    g.node(feature)\n",
        "a1=[\"a11\",\"a12\"]\n",
        "for node in a1:\n",
        "    g.node(node,label=\"\")\n",
        "for f,node in itertools.product(features,a1):\n",
        "    g.edge(f,node)\n",
        "labels=[\"label\"]\n",
        "for label in labels:\n",
        "    g.node(label)\n",
        "for (i2,l) in itertools.product(a1,labels):\n",
        "    g.edge(i2,l)\n",
        "\n",
        "g"
      ],
      "execution_count": null,
      "outputs": [
        {
          "output_type": "execute_result",
          "data": {
            "text/plain": [
              "<graphviz.dot.Digraph at 0x7f71dfc93090>"
            ],
            "image/svg+xml": "<?xml version=\"1.0\" encoding=\"UTF-8\" standalone=\"no\"?>\n<!DOCTYPE svg PUBLIC \"-//W3C//DTD SVG 1.1//EN\"\n \"http://www.w3.org/Graphics/SVG/1.1/DTD/svg11.dtd\">\n<!-- Generated by graphviz version 2.40.1 (20161225.0304)\n -->\n<!-- Title: %3 Pages: 1 -->\n<svg width=\"245pt\" height=\"98pt\"\n viewBox=\"0.00 0.00 245.19 98.00\" xmlns=\"http://www.w3.org/2000/svg\" xmlns:xlink=\"http://www.w3.org/1999/xlink\">\n<g id=\"graph0\" class=\"graph\" transform=\"scale(1 1) rotate(0) translate(4 94)\">\n<title>%3</title>\n<polygon fill=\"#ffffff\" stroke=\"transparent\" points=\"-4,4 -4,-94 241.1949,-94 241.1949,4 -4,4\"/>\n<!-- x -->\n<g id=\"node1\" class=\"node\">\n<title>x</title>\n<ellipse fill=\"none\" stroke=\"#000000\" cx=\"27\" cy=\"-72\" rx=\"27\" ry=\"18\"/>\n<text text-anchor=\"middle\" x=\"27\" y=\"-68.3\" font-family=\"Times,serif\" font-size=\"14.00\" fill=\"#000000\">x</text>\n</g>\n<!-- a11 -->\n<g id=\"node3\" class=\"node\">\n<title>a11</title>\n<ellipse fill=\"none\" stroke=\"#000000\" cx=\"117\" cy=\"-72\" rx=\"27\" ry=\"18\"/>\n</g>\n<!-- x&#45;&gt;a11 -->\n<g id=\"edge1\" class=\"edge\">\n<title>x&#45;&gt;a11</title>\n<path fill=\"none\" stroke=\"#000000\" d=\"M54.003,-72C62.0277,-72 70.9665,-72 79.5309,-72\"/>\n<polygon fill=\"#000000\" stroke=\"#000000\" points=\"79.7051,-75.5001 89.705,-72 79.705,-68.5001 79.7051,-75.5001\"/>\n</g>\n<!-- a12 -->\n<g id=\"node4\" class=\"node\">\n<title>a12</title>\n<ellipse fill=\"none\" stroke=\"#000000\" cx=\"117\" cy=\"-18\" rx=\"27\" ry=\"18\"/>\n</g>\n<!-- x&#45;&gt;a12 -->\n<g id=\"edge2\" class=\"edge\">\n<title>x&#45;&gt;a12</title>\n<path fill=\"none\" stroke=\"#000000\" d=\"M47.4224,-59.7466C59.3897,-52.5662 74.7024,-43.3785 87.9143,-35.4514\"/>\n<polygon fill=\"#000000\" stroke=\"#000000\" points=\"89.8842,-38.3512 96.6584,-30.2049 86.2827,-32.3487 89.8842,-38.3512\"/>\n</g>\n<!-- y -->\n<g id=\"node2\" class=\"node\">\n<title>y</title>\n<ellipse fill=\"none\" stroke=\"#000000\" cx=\"27\" cy=\"-18\" rx=\"27\" ry=\"18\"/>\n<text text-anchor=\"middle\" x=\"27\" y=\"-14.3\" font-family=\"Times,serif\" font-size=\"14.00\" fill=\"#000000\">y</text>\n</g>\n<!-- y&#45;&gt;a11 -->\n<g id=\"edge3\" class=\"edge\">\n<title>y&#45;&gt;a11</title>\n<path fill=\"none\" stroke=\"#000000\" d=\"M47.4224,-30.2534C59.3897,-37.4338 74.7024,-46.6215 87.9143,-54.5486\"/>\n<polygon fill=\"#000000\" stroke=\"#000000\" points=\"86.2827,-57.6513 96.6584,-59.7951 89.8842,-51.6488 86.2827,-57.6513\"/>\n</g>\n<!-- y&#45;&gt;a12 -->\n<g id=\"edge4\" class=\"edge\">\n<title>y&#45;&gt;a12</title>\n<path fill=\"none\" stroke=\"#000000\" d=\"M54.003,-18C62.0277,-18 70.9665,-18 79.5309,-18\"/>\n<polygon fill=\"#000000\" stroke=\"#000000\" points=\"79.7051,-21.5001 89.705,-18 79.705,-14.5001 79.7051,-21.5001\"/>\n</g>\n<!-- label -->\n<g id=\"node5\" class=\"node\">\n<title>label</title>\n<ellipse fill=\"none\" stroke=\"#000000\" cx=\"208.5975\" cy=\"-45\" rx=\"28.6953\" ry=\"18\"/>\n<text text-anchor=\"middle\" x=\"208.5975\" y=\"-41.3\" font-family=\"Times,serif\" font-size=\"14.00\" fill=\"#000000\">label</text>\n</g>\n<!-- a11&#45;&gt;label -->\n<g id=\"edge5\" class=\"edge\">\n<title>a11&#45;&gt;label</title>\n<path fill=\"none\" stroke=\"#000000\" d=\"M142.0294,-64.6221C151.5829,-61.8061 162.6662,-58.5391 173.0159,-55.4883\"/>\n<polygon fill=\"#000000\" stroke=\"#000000\" points=\"174.0378,-58.836 182.6402,-52.6514 172.0586,-52.1217 174.0378,-58.836\"/>\n</g>\n<!-- a12&#45;&gt;label -->\n<g id=\"edge6\" class=\"edge\">\n<title>a12&#45;&gt;label</title>\n<path fill=\"none\" stroke=\"#000000\" d=\"M142.0294,-25.3779C151.5829,-28.1939 162.6662,-31.4609 173.0159,-34.5117\"/>\n<polygon fill=\"#000000\" stroke=\"#000000\" points=\"172.0586,-37.8783 182.6402,-37.3486 174.0378,-31.164 172.0586,-37.8783\"/>\n</g>\n</g>\n</svg>\n"
          },
          "metadata": {},
          "execution_count": 8
        }
      ]
    },
    {
      "cell_type": "markdown",
      "metadata": {
        "id": "5V1NR7R48net"
      },
      "source": [
        "# PyTorch #"
      ]
    },
    {
      "cell_type": "code",
      "metadata": {
        "id": "0Q-v9nnP76j0"
      },
      "source": [
        "inputs=torch.from_numpy(xy)\n",
        "labels=torch.from_numpy(z)\n",
        "\n",
        "if torch.cuda.is_available():\n",
        "    print(\"cuda is available\")\n",
        "    inputs = inputs.cuda()\n",
        "    labels = labels.cuda()"
      ],
      "execution_count": null,
      "outputs": []
    },
    {
      "cell_type": "code",
      "metadata": {
        "id": "EzsK4IBc8GnK"
      },
      "source": [
        "class SimpleFeedForward(torch.nn.Module):\n",
        "    def __init__(self,SEED=0): #default to one-dimensional feature and response\n",
        "        if SEED is not None:\n",
        "          torch.manual_seed(SEED)\n",
        "        super().__init__() #run init of torch.nn.Module\n",
        "        self.linear1 = torch.nn.Linear(2,2)\n",
        "        self.linear2 = torch.nn.Linear(2,1)\n",
        "        self.sigmoid=torch.nn.Sigmoid()\n",
        "        if torch.cuda.is_available():\n",
        "          self=self.cuda()\n",
        "\n",
        "    def forward(self, x,quantize=False):\n",
        "        out=self.linear1(x) #a1\n",
        "        out=self.sigmoid(out)\n",
        "        out=self.linear2(out) #a2\n",
        "        out=self.sigmoid(out)\n",
        "        if quantize:\n",
        "          out=self.quantizer(out)\n",
        "        return out\n",
        "\n",
        "    def quantizer(self,probabilities):\n",
        "      return (probabilities>0.5).to(torch.float)"
      ],
      "execution_count": null,
      "outputs": []
    },
    {
      "cell_type": "code",
      "metadata": {
        "id": "d583ts6yCsV_"
      },
      "source": [
        "BATCHSIZE=50\n",
        "EPOCHS=100\n",
        "learningRate=0.25\n",
        "mydataset=torch.utils.data.TensorDataset(*[inputs,labels])\n",
        "mydataloader=torch.utils.data.DataLoader(mydataset,batch_size=BATCHSIZE,shuffle=True)"
      ],
      "execution_count": null,
      "outputs": []
    },
    {
      "cell_type": "code",
      "metadata": {
        "id": "BNtjFl1Wswh-",
        "colab": {
          "base_uri": "https://localhost:8080/"
        },
        "outputId": "95ff5ff9-8489-4cb8-e0af-8b16f36dd753"
      },
      "source": [
        "model=SimpleFeedForward()\n",
        "Loss = torch.nn.BCELoss()\n",
        "errorlist=[]\n",
        "optimizer = torch.optim.SGD(model.parameters(), lr=learningRate) #gradient descent\n",
        "tic=time.perf_counter()\n",
        "for epoch_ctr in range(EPOCHS):\n",
        "  for iter_ctr,(trainingfeatures,traininglabels) in enumerate(mydataloader):\n",
        "    # Clear gradient buffers because we don't want any gradient from previous epoch to carry forward, dont want to cummulate gradients\n",
        "    optimizer.zero_grad()\n",
        "\n",
        "    # get output from the model, given the inputs\n",
        "    outputs = model(trainingfeatures)\n",
        "\n",
        "    # get loss for the predicted output\n",
        "    lossvalue = Loss(outputs, traininglabels)\n",
        "\n",
        "    # get gradients w.r.t to parameters\n",
        "    lossvalue.backward()\n",
        "    #print(model.linear.weight.grad.item(),model.linear.bias.grad.item())\n",
        "\n",
        "    # update parameters\n",
        "    optimizer.step()\n",
        "\n",
        "    error=torch.sum((model(inputs)>0.5)!=(labels==1))/len(labels)\n",
        "    errorlist.append(error)\n",
        "toc=time.perf_counter()\n",
        "\n",
        "print(\"\\n\")\n",
        "print(\"M^{(1)}=\\n\",model.linear1.weight.data.cpu().numpy(),\"\\nB^{(1)}=\",model.linear1.bias.data.cpu().numpy())\n",
        "print(\"\\n\")\n",
        "print(\"M^{(2)}=\\n\",model.linear2.weight.data.cpu().numpy(),\"\\nB^{(2)}=\",model.linear2.bias.data.cpu().numpy())\n",
        "dt=toc-tic\n",
        "\n",
        "\n"
      ],
      "execution_count": null,
      "outputs": [
        {
          "output_type": "stream",
          "name": "stdout",
          "text": [
            "\n",
            "\n",
            "M^{(1)}=\n",
            " [[-1.0396982   0.29561   ]\n",
            " [-1.7057191  -0.31537682]] \n",
            "B^{(1)}= [-0.31568563  0.00169903]\n",
            "\n",
            "\n",
            "M^{(2)}=\n",
            " [[-0.8958197 -1.660286 ]] \n",
            "B^{(2)}= [0.9518563]\n"
          ]
        }
      ]
    },
    {
      "cell_type": "code",
      "metadata": {
        "colab": {
          "base_uri": "https://localhost:8080/",
          "height": 270
        },
        "id": "AHPhXIbea6UO",
        "outputId": "874a7d52-756f-45e4-d79d-a8086ea4828e"
      },
      "source": [
        "plt.figure()\n",
        "plt.plot(errorlist)\n",
        "plt.show()\n",
        "plt.close()"
      ],
      "execution_count": null,
      "outputs": [
        {
          "output_type": "display_data",
          "data": {
            "image/png": "[encoded data removed]",
            "text/plain": [
              "<Figure size 432x288 with 1 Axes>"
            ]
          },
          "metadata": {
            "needs_background": "light"
          }
        }
      ]
    },
    {
      "cell_type": "code",
      "metadata": {
        "id": "RlI3gK140XDP"
      },
      "source": [
        "def visualizer(model):\n",
        "  outputs=model(inputs,quantize=True)\n",
        "  flags_correct=(labels==1)==(outputs==1)\n",
        "  accuracy=flags_correct.to(torch.float).mean()\n",
        "  flags=outputs.cpu().flatten()==1\n",
        "  plt.figure()\n",
        "  plt.scatter(xy[flags,0],xy[flags,1],color=\"red\",label=\"1\")\n",
        "  plt.scatter(xy[~flags,0],xy[~flags,1],color=\"blue\",label=\"0\")\n",
        "  title=[]\n",
        "  title.append(\"Computed Labels on Training Data\")\n",
        "  title.append(\"Accuracy={:.1%}\".format(accuracy))\n",
        "  plt.title(\"\\n\".join(title))\n",
        "  plt.xlim(x_min,x_max)\n",
        "  plt.ylim(x_min,x_max)\n",
        "  legend(\"side\")\n",
        "  #saver(\"tt_123\")\n",
        "  plt.show()\n",
        "  plt.close()"
      ],
      "execution_count": null,
      "outputs": []
    },
    {
      "cell_type": "markdown",
      "metadata": {
        "id": "aRAHu5Kv7CQQ"
      },
      "source": [
        "First layer: approximately\n",
        "$$S\\left(M^{(1)}\\begin{pmatrix} x \\\\ y \\end{pmatrix}+B^{(1)}\\right)\\approx \\begin{pmatrix} s_\\varepsilon(x)\\\\ s_\\varepsilon(x)\\end{pmatrix}$$\n",
        "with $\\varepsilon\\approx 1/6$.\n",
        "\n",
        "Second layer:  approximately\n",
        "$$S\\left(M^{(2)}S\\left(M^{(1)}\\begin{pmatrix} x \\\\ y \\end{pmatrix} +B^{(1)}\\right)+B^{(2)}\\right)\\approx S(8.2s_\\varepsilon(x)+6.0s_\\varepsilon(x)-6.2)\\\\\n",
        "\\approx s_{\\varepsilon'}(s_\\varepsilon(x)-0.43))$$\n",
        "with $\\varepsilon'=1/14.2$\n"
      ]
    },
    {
      "cell_type": "code",
      "metadata": {
        "id": "FdOdB_sgyLEJ",
        "colab": {
          "base_uri": "https://localhost:8080/",
          "height": 311
        },
        "outputId": "5bf5404e-e108-4ab6-db40-8221954cfc9d"
      },
      "source": [
        "visualizer(model)"
      ],
      "execution_count": null,
      "outputs": [
        {
          "output_type": "display_data",
          "data": {
            "image/png": "[encoded data removed]",
            "text/plain": [
              "<Figure size 432x288 with 1 Axes>"
            ]
          },
          "metadata": {
            "needs_background": "light"
          }
        }
      ]
    }
  ]
}