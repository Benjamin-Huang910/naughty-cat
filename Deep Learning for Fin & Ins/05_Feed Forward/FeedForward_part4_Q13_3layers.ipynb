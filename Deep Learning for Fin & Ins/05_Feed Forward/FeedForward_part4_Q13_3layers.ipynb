{
 "cells": [
  {
   "cell_type": "markdown",
   "metadata": {
    "id": "Tl0eoA_Ru_gi"
   },
   "source": [
    "<img src=\"https://news.illinois.edu/files/6367/543635/116641.jpg\" alt=\"University of Illinois\" width=\"250\"/>\n",
    "\n",
    "# Feed Forward Networks (Part 4)#\n",
    "By Richard Sowers\n",
    "* <r-sowers@illinois.edu>\n",
    "* <https://publish.illinois.edu/r-sowers/>\n",
    "\n",
    "Copyright 2020 University of Illinois Board of Trustees. All Rights Reserved."
   ]
  },
  {
   "cell_type": "markdown",
   "metadata": {
    "id": "xIclLxgdu_gx"
   },
   "source": [
    "# imports and graphics configurations #"
   ]
  },
  {
   "cell_type": "code",
   "execution_count": null,
   "metadata": {
    "id": "lLDEAqsJu_gz"
   },
   "outputs": [],
   "source": [
    "import torch\n",
    "import numpy\n",
    "import matplotlib\n",
    "#%matplotlib notebook\n",
    "import matplotlib.pyplot as plt\n",
    "import scipy.stats\n",
    "#from pandas.plotting import autocorrelation_plot\n",
    "import matplotlib.offsetbox as offsetbox\n",
    "from matplotlib.ticker import StrMethodFormatter\n",
    "import graphviz\n",
    "import itertools\n",
    "import time\n",
    "\n",
    "def saver(fname):\n",
    "    plt.savefig(fname+\".png\",bbox_inches=\"tight\")\n",
    "\n",
    "def legend(pos=\"bottom\",ncol=3):\n",
    "    if pos==\"bottom\":\n",
    "        plt.legend(bbox_to_anchor=(0.5,-0.2), loc='upper center',facecolor=\"lightgray\",ncol=ncol)\n",
    "    elif pos==\"side\":\n",
    "        plt.legend(bbox_to_anchor=(1.1,0.5), loc='center left',facecolor=\"lightgray\",ncol=1)\n",
    "\n",
    "def textbox(txt,fname=None):\n",
    "    plt.figure(figsize=(1,1))\n",
    "    plt.gca().add_artist(offsetbox.AnchoredText(\"\\n\".join(txt), loc=\"center\",prop=dict(size=30)))\n",
    "    plt.axis('off')\n",
    "    if fname is not None:\n",
    "        saver(fname)\n",
    "    plt.show()\n",
    "    plt.close()"
   ]
  },
  {
   "cell_type": "code",
   "execution_count": null,
   "metadata": {
    "id": "bQWa4jMbu_g1"
   },
   "outputs": [],
   "source": [
    "#for some reason, this needs to be in a separate cell\n",
    "params={\n",
    "    \"font.size\":15,\n",
    "    \"lines.linewidth\":5\n",
    "}\n",
    "plt.rcParams.update(params)"
   ]
  },
  {
   "cell_type": "markdown",
   "metadata": {
    "id": "n-vYNlX9u_g4"
   },
   "source": [
    "# configuration variables #"
   ]
  },
  {
   "cell_type": "markdown",
   "metadata": {
    "id": "OOnnUeD4QX3Q"
   },
   "source": []
  },
  {
   "cell_type": "code",
   "execution_count": null,
   "metadata": {
    "id": "tI0LwNRmu_g5"
   },
   "outputs": [],
   "source": [
    "SEED=0\n",
    "N_points=100"
   ]
  },
  {
   "cell_type": "code",
   "execution_count": null,
   "metadata": {
    "id": "z0YBD_wZu_g5"
   },
   "outputs": [],
   "source": [
    "x_min=-3\n",
    "x_max=3\n",
    "markersize=5\n",
    "thinlinewidth=2\n",
    "textboxsize=(5,0.5)"
   ]
  },
  {
   "cell_type": "markdown",
   "metadata": {
    "id": "eCXAUB7ju_g6"
   },
   "source": [
    "# Generate training data in the plane #\n",
    "\n",
    "points in the first and third quadrantes will have label 1\n",
    "points in the second and fourth quadrants will have label 0"
   ]
  },
  {
   "cell_type": "code",
   "execution_count": null,
   "metadata": {
    "id": "ZaMTpU8Mu_g-"
   },
   "outputs": [],
   "source": [
    "xy=scipy.stats.norm.rvs(size=(N_points,2),random_state=SEED)"
   ]
  },
  {
   "cell_type": "code",
   "execution_count": null,
   "metadata": {
    "id": "m6m6SJ1cu_hM"
   },
   "outputs": [],
   "source": [
    "flags=((xy[:,0]>0)&(xy[:,1]>0))|((xy[:,0]<0)&(xy[:,1]<0))\n",
    "xy=numpy.array(xy,dtype=numpy.float32)\n",
    "z=numpy.array(flags,dtype=numpy.float32).reshape(-1,1)"
   ]
  },
  {
   "cell_type": "code",
   "execution_count": null,
   "metadata": {
    "colab": {
     "base_uri": "https://localhost:8080/",
     "height": 290
    },
    "id": "MVl4-zWACitU",
    "outputId": "fb7783d1-b238-48fc-d9af-befbda33c224"
   },
   "outputs": [
    {
     "data": {
      "image/png": "[encoded data removed]",
      "text/plain": [
       "<Figure size 432x288 with 1 Axes>"
      ]
     },
     "metadata": {
      "needs_background": "light"
     },
     "output_type": "display_data"
    }
   ],
   "source": [
    "plt.figure()\n",
    "plt.scatter(xy[flags,0],xy[flags,1],color=\"red\",label=\"1\")\n",
    "plt.scatter(xy[~flags,0],xy[~flags,1],color=\"blue\",label=\"0\")\n",
    "plt.xlim(x_min,x_max)\n",
    "plt.ylim(x_min,x_max)\n",
    "title=[]\n",
    "title.append(\"Labelled Training Data\")\n",
    "plt.title(\"\\n\".join(title))\n",
    "legend(\"side\")\n",
    "#saver(\"tt_123\")\n",
    "plt.show()\n",
    "plt.close()"
   ]
  },
  {
   "cell_type": "markdown",
   "metadata": {
    "id": "QOOlGjfSF7YR"
   },
   "source": [
    "feature-label pairs $\\left\\{((x_n,y_n),z_n)\\right\\}_{n=1}^N\\subset \\mathbb{R}^2\\times \\{0,1\\}$.\n",
    "Sigmoid function is\n",
    "$$S(z)=\\frac{1}{1+e^{-z}}$$\n",
    "Model is\n",
    "$$ S\\left(M^{(3)}S\\left(M^{(2)}S\\left(M^{(1)}\\begin{pmatrix} x \\\\ y \\end{pmatrix} + B^{(1)}\\right)+B^{(2)}\\right)+B^{(3)}\\right)$$\n",
    "where\n",
    "* $M^{(1)}\\in \\mathbb{R}^{2\\times 2}$\n",
    "* $B^{(1)}\\in \\mathbb{R}^2$\n",
    "* $M^{(2)}\\in \\mathbb{R}^{2\\times 2}$\n",
    "* $B^{(2)}\\in \\mathbb{R}^2$\n",
    "* $M^{(3)}\\in \\mathbb{R}^{1\\times 2}$\n",
    "* $B^{(3)}\\in \\mathbb{R}$\n",
    "\n"
   ]
  },
  {
   "cell_type": "code",
   "execution_count": null,
   "metadata": {
    "colab": {
     "base_uri": "https://localhost:8080/",
     "height": 152
    },
    "id": "gUdwSxzZFFU3",
    "outputId": "05145a32-e7eb-4cf2-8fb0-414781114b29"
   },
   "outputs": [
    {
     "data": {
      "image/svg+xml": [
       "<?xml version=\"1.0\" encoding=\"UTF-8\" standalone=\"no\"?>\n",
       "<!DOCTYPE svg PUBLIC \"-//W3C//DTD SVG 1.1//EN\"\n",
       " \"http://www.w3.org/Graphics/SVG/1.1/DTD/svg11.dtd\">\n",
       "<!-- Generated by graphviz version 2.40.1 (20161225.0304)\n",
       " -->\n",
       "<!-- Title: %3 Pages: 1 -->\n",
       "<svg width=\"335pt\" height=\"98pt\"\n",
       " viewBox=\"0.00 0.00 335.19 98.00\" xmlns=\"http://www.w3.org/2000/svg\" xmlns:xlink=\"http://www.w3.org/1999/xlink\">\n",
       "<g id=\"graph0\" class=\"graph\" transform=\"scale(1 1) rotate(0) translate(4 94)\">\n",
       "<title>%3</title>\n",
       "<polygon fill=\"#ffffff\" stroke=\"transparent\" points=\"-4,4 -4,-94 331.1949,-94 331.1949,4 -4,4\"/>\n",
       "<!-- x -->\n",
       "<g id=\"node1\" class=\"node\">\n",
       "<title>x</title>\n",
       "<ellipse fill=\"none\" stroke=\"#000000\" cx=\"27\" cy=\"-72\" rx=\"27\" ry=\"18\"/>\n",
       "<text text-anchor=\"middle\" x=\"27\" y=\"-68.3\" font-family=\"Times,serif\" font-size=\"14.00\" fill=\"#000000\">x</text>\n",
       "</g>\n",
       "<!-- a11 -->\n",
       "<g id=\"node3\" class=\"node\">\n",
       "<title>a11</title>\n",
       "<ellipse fill=\"none\" stroke=\"#000000\" cx=\"117\" cy=\"-72\" rx=\"27\" ry=\"18\"/>\n",
       "</g>\n",
       "<!-- x&#45;&gt;a11 -->\n",
       "<g id=\"edge1\" class=\"edge\">\n",
       "<title>x&#45;&gt;a11</title>\n",
       "<path fill=\"none\" stroke=\"#000000\" d=\"M54.003,-72C62.0277,-72 70.9665,-72 79.5309,-72\"/>\n",
       "<polygon fill=\"#000000\" stroke=\"#000000\" points=\"79.7051,-75.5001 89.705,-72 79.705,-68.5001 79.7051,-75.5001\"/>\n",
       "</g>\n",
       "<!-- a12 -->\n",
       "<g id=\"node4\" class=\"node\">\n",
       "<title>a12</title>\n",
       "<ellipse fill=\"none\" stroke=\"#000000\" cx=\"117\" cy=\"-18\" rx=\"27\" ry=\"18\"/>\n",
       "</g>\n",
       "<!-- x&#45;&gt;a12 -->\n",
       "<g id=\"edge2\" class=\"edge\">\n",
       "<title>x&#45;&gt;a12</title>\n",
       "<path fill=\"none\" stroke=\"#000000\" d=\"M47.4224,-59.7466C59.3897,-52.5662 74.7024,-43.3785 87.9143,-35.4514\"/>\n",
       "<polygon fill=\"#000000\" stroke=\"#000000\" points=\"89.8842,-38.3512 96.6584,-30.2049 86.2827,-32.3487 89.8842,-38.3512\"/>\n",
       "</g>\n",
       "<!-- y -->\n",
       "<g id=\"node2\" class=\"node\">\n",
       "<title>y</title>\n",
       "<ellipse fill=\"none\" stroke=\"#000000\" cx=\"27\" cy=\"-18\" rx=\"27\" ry=\"18\"/>\n",
       "<text text-anchor=\"middle\" x=\"27\" y=\"-14.3\" font-family=\"Times,serif\" font-size=\"14.00\" fill=\"#000000\">y</text>\n",
       "</g>\n",
       "<!-- y&#45;&gt;a11 -->\n",
       "<g id=\"edge3\" class=\"edge\">\n",
       "<title>y&#45;&gt;a11</title>\n",
       "<path fill=\"none\" stroke=\"#000000\" d=\"M47.4224,-30.2534C59.3897,-37.4338 74.7024,-46.6215 87.9143,-54.5486\"/>\n",
       "<polygon fill=\"#000000\" stroke=\"#000000\" points=\"86.2827,-57.6513 96.6584,-59.7951 89.8842,-51.6488 86.2827,-57.6513\"/>\n",
       "</g>\n",
       "<!-- y&#45;&gt;a12 -->\n",
       "<g id=\"edge4\" class=\"edge\">\n",
       "<title>y&#45;&gt;a12</title>\n",
       "<path fill=\"none\" stroke=\"#000000\" d=\"M54.003,-18C62.0277,-18 70.9665,-18 79.5309,-18\"/>\n",
       "<polygon fill=\"#000000\" stroke=\"#000000\" points=\"79.7051,-21.5001 89.705,-18 79.705,-14.5001 79.7051,-21.5001\"/>\n",
       "</g>\n",
       "<!-- a21 -->\n",
       "<g id=\"node5\" class=\"node\">\n",
       "<title>a21</title>\n",
       "<ellipse fill=\"none\" stroke=\"#000000\" cx=\"207\" cy=\"-72\" rx=\"27\" ry=\"18\"/>\n",
       "</g>\n",
       "<!-- a11&#45;&gt;a21 -->\n",
       "<g id=\"edge5\" class=\"edge\">\n",
       "<title>a11&#45;&gt;a21</title>\n",
       "<path fill=\"none\" stroke=\"#000000\" d=\"M144.003,-72C152.0277,-72 160.9665,-72 169.5309,-72\"/>\n",
       "<polygon fill=\"#000000\" stroke=\"#000000\" points=\"169.7051,-75.5001 179.705,-72 169.705,-68.5001 169.7051,-75.5001\"/>\n",
       "</g>\n",
       "<!-- a22 -->\n",
       "<g id=\"node6\" class=\"node\">\n",
       "<title>a22</title>\n",
       "<ellipse fill=\"none\" stroke=\"#000000\" cx=\"207\" cy=\"-18\" rx=\"27\" ry=\"18\"/>\n",
       "</g>\n",
       "<!-- a11&#45;&gt;a22 -->\n",
       "<g id=\"edge6\" class=\"edge\">\n",
       "<title>a11&#45;&gt;a22</title>\n",
       "<path fill=\"none\" stroke=\"#000000\" d=\"M137.4224,-59.7466C149.3897,-52.5662 164.7024,-43.3785 177.9143,-35.4514\"/>\n",
       "<polygon fill=\"#000000\" stroke=\"#000000\" points=\"179.8842,-38.3512 186.6584,-30.2049 176.2827,-32.3487 179.8842,-38.3512\"/>\n",
       "</g>\n",
       "<!-- a12&#45;&gt;a21 -->\n",
       "<g id=\"edge7\" class=\"edge\">\n",
       "<title>a12&#45;&gt;a21</title>\n",
       "<path fill=\"none\" stroke=\"#000000\" d=\"M137.4224,-30.2534C149.3897,-37.4338 164.7024,-46.6215 177.9143,-54.5486\"/>\n",
       "<polygon fill=\"#000000\" stroke=\"#000000\" points=\"176.2827,-57.6513 186.6584,-59.7951 179.8842,-51.6488 176.2827,-57.6513\"/>\n",
       "</g>\n",
       "<!-- a12&#45;&gt;a22 -->\n",
       "<g id=\"edge8\" class=\"edge\">\n",
       "<title>a12&#45;&gt;a22</title>\n",
       "<path fill=\"none\" stroke=\"#000000\" d=\"M144.003,-18C152.0277,-18 160.9665,-18 169.5309,-18\"/>\n",
       "<polygon fill=\"#000000\" stroke=\"#000000\" points=\"169.7051,-21.5001 179.705,-18 169.705,-14.5001 169.7051,-21.5001\"/>\n",
       "</g>\n",
       "<!-- label -->\n",
       "<g id=\"node7\" class=\"node\">\n",
       "<title>label</title>\n",
       "<ellipse fill=\"none\" stroke=\"#000000\" cx=\"298.5975\" cy=\"-45\" rx=\"28.6953\" ry=\"18\"/>\n",
       "<text text-anchor=\"middle\" x=\"298.5975\" y=\"-41.3\" font-family=\"Times,serif\" font-size=\"14.00\" fill=\"#000000\">label</text>\n",
       "</g>\n",
       "<!-- a21&#45;&gt;label -->\n",
       "<g id=\"edge9\" class=\"edge\">\n",
       "<title>a21&#45;&gt;label</title>\n",
       "<path fill=\"none\" stroke=\"#000000\" d=\"M232.0294,-64.6221C241.5829,-61.8061 252.6662,-58.5391 263.0159,-55.4883\"/>\n",
       "<polygon fill=\"#000000\" stroke=\"#000000\" points=\"264.0378,-58.836 272.6402,-52.6514 262.0586,-52.1217 264.0378,-58.836\"/>\n",
       "</g>\n",
       "<!-- a22&#45;&gt;label -->\n",
       "<g id=\"edge10\" class=\"edge\">\n",
       "<title>a22&#45;&gt;label</title>\n",
       "<path fill=\"none\" stroke=\"#000000\" d=\"M232.0294,-25.3779C241.5829,-28.1939 252.6662,-31.4609 263.0159,-34.5117\"/>\n",
       "<polygon fill=\"#000000\" stroke=\"#000000\" points=\"262.0586,-37.8783 272.6402,-37.3486 264.0378,-31.164 262.0586,-37.8783\"/>\n",
       "</g>\n",
       "</g>\n",
       "</svg>\n"
      ],
      "text/plain": [
       "<graphviz.dot.Digraph at 0x7f123aa313d0>"
      ]
     },
     "execution_count": 8,
     "metadata": {},
     "output_type": "execute_result"
    }
   ],
   "source": [
    "g=graphviz.Digraph()\n",
    "g.attr(rankdir='LR')\n",
    "features=[\"x\",\"y\"]\n",
    "for feature in features:\n",
    "    g.node(feature)\n",
    "a1=[\"a11\",\"a12\"]\n",
    "for node in a1:\n",
    "    g.node(node,label=\"\")\n",
    "for f,node in itertools.product(features,a1):\n",
    "    g.edge(f,node)\n",
    "a2=[\"a21\",\"a22\"]\n",
    "for node in a2:\n",
    "    g.node(node,label=\"\")\n",
    "for node1,node2 in itertools.product(a1,a2):\n",
    "    g.edge(node1,node2)\n",
    "labels=[\"label\"]\n",
    "for label in labels:\n",
    "    g.node(label)\n",
    "for (i2,l) in itertools.product(a2,labels):\n",
    "    g.edge(i2,l)\n",
    "\n",
    "g"
   ]
  },
  {
   "cell_type": "markdown",
   "metadata": {
    "id": "cpk96AGG7SS2"
   },
   "source": [
    "# PyTorch #"
   ]
  },
  {
   "cell_type": "code",
   "execution_count": null,
   "metadata": {
    "id": "0Q-v9nnP76j0"
   },
   "outputs": [],
   "source": [
    "inputs=torch.from_numpy(xy)\n",
    "labels=torch.from_numpy(z)\n",
    "\n",
    "if torch.cuda.is_available():\n",
    "    print(\"cuda is available\")\n",
    "    inputs = inputs.cuda()\n",
    "    labels = labels.cuda()"
   ]
  },
  {
   "cell_type": "code",
   "execution_count": null,
   "metadata": {
    "id": "EzsK4IBc8GnK"
   },
   "outputs": [],
   "source": [
    "class SimpleFeedForward(torch.nn.Module):\n",
    "    def __init__(self,SEED=0): #default to one-dimensional feature and response\n",
    "        if SEED is not None:\n",
    "          torch.manual_seed(SEED)\n",
    "        super().__init__() #run init of torch.nn.Module\n",
    "        self.linear1 = torch.nn.Linear(2,2)\n",
    "        self.linear2 = torch.nn.Linear(2,2)\n",
    "        self.linear3 = torch.nn.Linear(2,1)\n",
    "        self.sigmoid=torch.nn.Sigmoid()\n",
    "        if torch.cuda.is_available():\n",
    "          self=self.cuda()\n",
    "\n",
    "    def setweights(self,weight1=None,bias1=None,weight2=None,bias2=None,weight3=None,bias3=None):\n",
    "      if weight1 is not None:\n",
    "        self.linear1.weight.data=weight1\n",
    "      if bias1 is not None:\n",
    "        self.linear1.bias.data=bias1\n",
    "      if weight2 is not None:\n",
    "        self.linear2.weight.data=weight2\n",
    "      if bias2 is not None:\n",
    "        self.bias2.data=bias2\n",
    "      if weight3 is not None:\n",
    "        self.linear3.weight.data=weight3\n",
    "      if bias3 is not None:\n",
    "        self.bias3.data=bias3\n",
    "\n",
    "    def forward(self, x,quantize=False):\n",
    "        out=self.linear1(x) #a1\n",
    "        out=self.sigmoid(out)\n",
    "        out=self.linear2(out) #a2\n",
    "        out=self.sigmoid(out)\n",
    "        out=self.linear3(out)\n",
    "        out=self.sigmoid(out)\n",
    "        if quantize:\n",
    "          out=self.quantizer(out)\n",
    "        return out\n",
    "\n",
    "    def quantizer(self,probabilities):\n",
    "      return (probabilities>0.5).to(torch.float)"
   ]
  },
  {
   "cell_type": "code",
   "execution_count": null,
   "metadata": {
    "id": "BNtjFl1Wswh-"
   },
   "outputs": [],
   "source": [
    "def explore_initial_weights(initialweights,learningRate=1,MAX_iter=1000):\n",
    "  model=SimpleFeedForward()\n",
    "  model.setweights(weight1=torch.from_numpy(numpy.array(initialweights,dtype=numpy.float32)))\n",
    "  Loss = torch.nn.BCELoss()\n",
    "  losses=[]\n",
    "  errors=[]\n",
    "  optimizer = torch.optim.SGD(model.parameters(), lr=learningRate) #gradient descent\n",
    "  tic=time.perf_counter()\n",
    "  for ctr in range(MAX_iter):\n",
    "\n",
    "    # Clear gradient buffers because we don't want any gradient from previous epoch to carry forward, dont want to cummulate gradients\n",
    "    optimizer.zero_grad()\n",
    "\n",
    "    # get output from the model, given the inputs\n",
    "    outputs = model(inputs)\n",
    "\n",
    "    # get loss for the predicted output\n",
    "    lossvalue = Loss(outputs, labels)\n",
    "    error=(model.quantizer(outputs)==1)!=(labels==1)\n",
    "    errors.append(error.to(torch.float).mean())\n",
    "    losses.append(lossvalue.detach().numpy())\n",
    "\n",
    "    # get gradients w.r.t to parameters\n",
    "    lossvalue.backward()\n",
    "    #print(model.linear.weight.grad.item(),model.linear.bias.grad.item())\n",
    "\n",
    "    # update parameters\n",
    "    optimizer.step()\n",
    "    if ctr%int(MAX_iter/10)==0: #print out data for 10 intermediate steps\n",
    "      print(\"iteration {}: loss={:.5f}\".format(ctr, lossvalue.item()))\n",
    "  toc=time.perf_counter()\n",
    "\n",
    "  print(\"\\n\")\n",
    "  print(\"M^{(1)}=\\n\",model.linear1.weight.data.cpu().numpy(),\"\\nB^{(1)}=\",model.linear1.bias.data.cpu().numpy())\n",
    "  print(\"\\n\")\n",
    "  print(\"M^{(2)}=\\n\",model.linear2.weight.data.cpu().numpy(),\"\\nB^{(2)}=\",model.linear2.bias.data.cpu().numpy())\n",
    "  print(\"\\n\")\n",
    "  print(\"M^{(3)}=\\n\",model.linear3.weight.data.cpu().numpy(),\"\\nB^{(3)}=\",model.linear3.bias.data.cpu().numpy())\n",
    "  dt=toc-tic\n",
    "\n",
    "\n",
    "  return model,losses,errors,dt"
   ]
  },
  {
   "cell_type": "code",
   "execution_count": null,
   "metadata": {
    "id": "RlI3gK140XDP"
   },
   "outputs": [],
   "source": [
    "def visualizer(model,losses,errors,dt):\n",
    "  outputs=model(inputs,quantize=True).detach().numpy()\n",
    "  flags_correct=1-numpy.abs(labels-outputs)\n",
    "  accuracy=flags_correct.mean()\n",
    "  flags=outputs.flatten()==1\n",
    "  plt.figure()\n",
    "  plt.scatter(xy[flags,0],xy[flags,1],color=\"red\",label=\"1\")\n",
    "  plt.scatter(xy[~flags,0],xy[~flags,1],color=\"blue\",label=\"0\")\n",
    "  title=[]\n",
    "  title.append(\"Computed Labels on Training Data\")\n",
    "  title.append(\"Accuracy={:.1%}\".format(accuracy))\n",
    "  plt.title(\"\\n\".join(title))\n",
    "  plt.xlim(x_min,x_max)\n",
    "  plt.ylim(x_min,x_max)\n",
    "  legend(\"side\")\n",
    "  #saver(\"tt_123\")\n",
    "  plt.show()\n",
    "  plt.close()\n",
    "\n",
    "  plt.figure()\n",
    "  plt.plot(losses,color=\"red\")\n",
    "  plt.xlabel(\"Iteration\")\n",
    "  plt.ylabel(\"loss\")\n",
    "  plt.ylim(-0.1,)\n",
    "  title=[]\n",
    "  title.append(\"Losses\")\n",
    "  title.append(\"Elapsed time: {0:.02f} seconds\".format(dt))\n",
    "  plt.title(\"\\n\".join(title))\n",
    "  plt.axhline(0,linewidth=2,linestyle=\":\",color=\"black\")\n",
    "  plt.show()\n",
    "  plt.close()\n",
    "\n",
    "  plt.figure()\n",
    "  plt.plot(errors,color=\"red\")\n",
    "  plt.xlabel(\"Iteration\")\n",
    "  plt.ylabel(\"percent wrong\")\n",
    "  plt.ylim(-0.05,)\n",
    "  plt.gca().yaxis.set_major_formatter(StrMethodFormatter('{x:.1%}'))\n",
    "  plt.axhline(0,linewidth=2,linestyle=\":\",color=\"black\")\n",
    "  title=[]\n",
    "  title.append(\"Classification Errors\")\n",
    "  title.append(\"Elapsed time: {0:.02f} seconds\".format(dt))\n",
    "  plt.title(\"\\n\".join(title))\n",
    "  plt.show()\n",
    "  plt.close()"
   ]
  },
  {
   "cell_type": "code",
   "execution_count": null,
   "metadata": {
    "colab": {
     "base_uri": "https://localhost:8080/"
    },
    "id": "eNRaEV3Tv2g5",
    "outputId": "57360af6-6cba-443b-bd30-9715d6681a3d"
   },
   "outputs": [
    {
     "name": "stdout",
     "output_type": "stream",
     "text": [
      "iteration 0: loss=0.76746\n",
      "iteration 2500: loss=0.56589\n",
      "iteration 5000: loss=0.56394\n",
      "iteration 7500: loss=0.03774\n",
      "iteration 10000: loss=0.00464\n",
      "iteration 12500: loss=0.00225\n",
      "iteration 15000: loss=0.00146\n",
      "iteration 17500: loss=0.00107\n",
      "iteration 20000: loss=0.00084\n",
      "iteration 22500: loss=0.00069\n",
      "\n",
      "\n",
      "M^{(1)}=\n",
      " [[14.116726    0.5018015 ]\n",
      " [ 0.20829506 12.7440815 ]] \n",
      "B^{(1)}= [ 0.09642127 -0.07278337]\n",
      "\n",
      "\n",
      "M^{(2)}=\n",
      " [[-11.705883  10.778421]\n",
      " [ -9.275299   9.442327]] \n",
      "B^{(2)}= [-3.4231248  3.7661684]\n",
      "\n",
      "\n",
      "M^{(3)}=\n",
      " [[-17.51917   16.439692]] \n",
      "B^{(3)}= [-7.62651]\n"
     ]
    }
   ],
   "source": [
    "m,losses,errors,dt=explore_initial_weights([[1,0],[0,0]],MAX_iter=25000)"
   ]
  },
  {
   "cell_type": "code",
   "execution_count": null,
   "metadata": {
    "cellView": "form",
    "colab": {
     "base_uri": "https://localhost:8080/"
    },
    "id": "PafWXroeNfZt",
    "outputId": "f9752607-e3d8-4fa4-9630-d30bdb59d442"
   },
   "outputs": [
    {
     "name": "stdout",
     "output_type": "stream",
     "text": [
      "eps=1/13.4, epsprime=10.3, offsetprime=0.3, epsprimeprime=17.0, offsetprimeprime=-0.4\n"
     ]
    }
   ],
   "source": [
    "#@title\n",
    "M1=m.linear1.weight.data\n",
    "b1=m.linear1.bias.data.squeeze()\n",
    "M2=m.linear2.weight.data\n",
    "b2=m.linear2.bias.data.squeeze()\n",
    "M3=m.linear3.weight.data.squeeze()\n",
    "b3=m.linear3.bias.data.item()\n",
    "eps_recip=M1.diag().mean()\n",
    "epsprime_recip=M2.abs().mean()\n",
    "offsetprime=b2.abs().mean()/epsprime_recip\n",
    "epsprimeprime_recip=M3.abs().mean()\n",
    "ofsetprimeprime=b3/epsprimeprime_recip\n",
    "print(\"eps=1/{0:.1f}, epsprime={1:.1f}, offsetprime={2:.1f}, epsprimeprime={3:.1f}, offsetprimeprime={4:.1f}\".format(eps_recip,epsprime_recip,offsetprime,\n",
    "                                                                    epsprimeprime_recip,ofsetprimeprime))\n",
    "#print(\"eps=1/{0:.1f}, epsprime=1/{1:.1f}, offsetprime={2:.2f}\".format(eps_recip,epsprime_recip,offsetprime))"
   ]
  },
  {
   "cell_type": "markdown",
   "metadata": {
    "id": "krB-kilWNgSS"
   },
   "source": [
    "First layer: approximately\n",
    "$$S\\left(M^{(1)}\\begin{pmatrix} x \\\\ y \\end{pmatrix}+B^{(1)}\\right)\\approx \\begin{pmatrix} s_\\varepsilon(x)\\\\ s_\\varepsilon(y)\\end{pmatrix}$$\n",
    "with $\\varepsilon\\approx 1/13.4$.\n",
    "\n",
    "Second layer:  approximately\n",
    "$$S\\left(M^{(2)}S\\left(M^{(1)}\\begin{pmatrix} x \\\\ y \\end{pmatrix} +B^{(1)}\\right)+B^{(2)}\\right)\\approx \\begin{pmatrix} s_\\varepsilon(-s_\\varepsilon(x)+s_\\varepsilon(y)-0.3)\\\\ s_\\varepsilon(-s_\\varepsilon(x)+s_\\varepsilon(y)+0.3)\\end{pmatrix} \\\\\n",
    "\\approx \\begin{pmatrix} 1_{Q2}(x,y) \\\\ 1_{Q1+Q2+Q3}(x,y)\\end{pmatrix}$$\n",
    "with $\\varepsilon'\\approx 1/10.3$\n",
    "\n",
    "Third layer:  approximately\n",
    "$$S\\left(M^{(3)}S\\left(M^{(2)}S\\left(M^{(1)}\\begin{pmatrix} x \\\\ y \\end{pmatrix} +B^{(1)}\\right)+B^{(2)}\\right)+B^{(3)}\\right)\n",
    "\\approx S\\left(-17\\times 1_{Q2}(x,y)+17\\times 1_{Q1+Q2+Q3}(x,y)-7.6\\right)\\\\\n",
    "\\approx S_{\\varepsilon^{\\prime \\prime}}\\left(1_{Q1+Q3}(x,y)-0.4\\right)$$\n",
    "with $\\varepsilon^{\\prime \\prime}\\approx 17.0$"
   ]
  },
  {
   "cell_type": "code",
   "execution_count": null,
   "metadata": {
    "colab": {
     "base_uri": "https://localhost:8080/",
     "height": 937
    },
    "id": "FdOdB_sgyLEJ",
    "outputId": "8813bf20-2457-4604-ad1c-81bca8f9235e"
   },
   "outputs": [
    {
     "data": {
      "image/png": "[encoded data removed]",
      "text/plain": [
       "<Figure size 432x288 with 1 Axes>"
      ]
     },
     "metadata": {
      "needs_background": "light"
     },
     "output_type": "display_data"
    },
    {
     "data": {
      "image/png": "[encoded data removed]",
      "text/plain": [
       "<Figure size 432x288 with 1 Axes>"
      ]
     },
     "metadata": {
      "needs_background": "light"
     },
     "output_type": "display_data"
    },
    {
     "data": {
      "image/png": "[encoded data removed]",
      "text/plain": [
       "<Figure size 432x288 with 1 Axes>"
      ]
     },
     "metadata": {
      "needs_background": "light"
     },
     "output_type": "display_data"
    }
   ],
   "source": [
    "visualizer(m,losses,errors,dt)"
   ]
  },
  {
   "cell_type": "code",
   "execution_count": null,
   "metadata": {
    "colab": {
     "base_uri": "https://localhost:8080/"
    },
    "id": "8T9m4TfItE56",
    "outputId": "eb242cd1-0c78-44af-8bb4-d7cf474af0e6"
   },
   "outputs": [
    {
     "name": "stdout",
     "output_type": "stream",
     "text": [
      "iteration 0: loss=0.76948\n",
      "iteration 2500: loss=0.44225\n",
      "iteration 5000: loss=0.44049\n",
      "iteration 7500: loss=0.44230\n",
      "iteration 10000: loss=0.44123\n",
      "iteration 12500: loss=0.44020\n",
      "iteration 15000: loss=0.43960\n",
      "iteration 17500: loss=0.43927\n",
      "iteration 20000: loss=0.43875\n",
      "iteration 22500: loss=0.43696\n",
      "\n",
      "\n",
      "M^{(1)}=\n",
      " [[ 2.849212  -2.7539043]\n",
      " [ 1.9629565 -1.464426 ]] \n",
      "B^{(1)}= [-4.071521  2.218327]\n",
      "\n",
      "\n",
      "M^{(2)}=\n",
      " [[-6.0411563  5.085968 ]\n",
      " [ 6.551706  -6.882248 ]] \n",
      "B^{(2)}= [-5.4573994  0.5094333]\n",
      "\n",
      "\n",
      "M^{(3)}=\n",
      " [[  8.559732 -11.000212]] \n",
      "B^{(3)}= [-0.57368994]\n"
     ]
    }
   ],
   "source": [
    "m,losses,errors,dt=explore_initial_weights([[0,0],[1,0]],MAX_iter=25000)"
   ]
  },
  {
   "cell_type": "code",
   "execution_count": null,
   "metadata": {
    "colab": {
     "base_uri": "https://localhost:8080/",
     "height": 937
    },
    "id": "z6PE_C0o6v1h",
    "outputId": "b61c2cbd-cb1e-4f55-9c15-ea3644e92e45"
   },
   "outputs": [
    {
     "data": {
      "image/png": "[encoded data removed]",
      "text/plain": [
       "<Figure size 432x288 with 1 Axes>"
      ]
     },
     "metadata": {
      "needs_background": "light"
     },
     "output_type": "display_data"
    },
    {
     "data": {
      "image/png": "[encoded data removed]",
      "text/plain": [
       "<Figure size 432x288 with 1 Axes>"
      ]
     },
     "metadata": {
      "needs_background": "light"
     },
     "output_type": "display_data"
    },
    {
     "data": {
      "image/png": "[encoded data removed]",
      "text/plain": [
       "<Figure size 432x288 with 1 Axes>"
      ]
     },
     "metadata": {
      "needs_background": "light"
     },
     "output_type": "display_data"
    }
   ],
   "source": [
    "visualizer(m,losses,errors,dt)"
   ]
  }
 ],
 "metadata": {
  "colab": {
   "provenance": [],
   "toc_visible": true
  },
  "kernelspec": {
   "display_name": "Python 3 (ipykernel)",
   "language": "python",
   "name": "python3"
  },
  "language_info": {
   "codemirror_mode": {
    "name": "ipython",
    "version": 3
   },
   "file_extension": ".py",
   "mimetype": "text/x-python",
   "name": "python",
   "nbconvert_exporter": "python",
   "pygments_lexer": "ipython3",
   "version": "3.9.12"
  }
 },
 "nbformat": 4,
 "nbformat_minor": 1
}
