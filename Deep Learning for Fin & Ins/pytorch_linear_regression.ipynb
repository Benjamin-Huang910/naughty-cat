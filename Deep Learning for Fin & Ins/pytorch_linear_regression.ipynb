{
  "nbformat": 4,
  "nbformat_minor": 0,
  "metadata": {
    "colab": {
      "provenance": []
    },
    "kernelspec": {
      "name": "python3",
      "display_name": "Python 3"
    }
  },
  "cells": [
    {
      "cell_type": "markdown",
      "metadata": {
        "id": "2Xy4WRXUPuGt"
      },
      "source": [
        "\n",
        "<img src=\"https://news.illinois.edu/files/6367/543635/116641.jpg\" alt=\"University of Illinois\" width=\"250\"/>\n",
        "\n",
        "# PyTorch implementation of Linear Regression #\n",
        "By Richard Sowers\n",
        "* <r-sowers@illinois.edu>\n",
        "* <https://publish.illinois.edu/r-sowers/>\n",
        "\n",
        "Copyright 2020 University of Illinois Board of Trustees. All Rights Reserved.\n",
        "\n",
        "Pytorch documentation: <https://pytorch.org/docs/stable/index.html>"
      ]
    },
    {
      "cell_type": "markdown",
      "metadata": {
        "id": "UXjrKNajK5Sj"
      },
      "source": [
        "# imports and graphics configurations #"
      ]
    },
    {
      "cell_type": "code",
      "metadata": {
        "id": "2OUEneFBK93E"
      },
      "source": [
        "import os\n",
        "import numpy\n",
        "import pandas\n",
        "import time\n",
        "import random\n",
        "import matplotlib\n",
        "#%matplotlib notebook\n",
        "import matplotlib.pyplot as plt\n",
        "import matplotlib.ticker as mtick\n",
        "import scipy.stats\n",
        "#from pandas.plotting import autocorrelation_plot\n",
        "import matplotlib.offsetbox as offsetbox\n",
        "from matplotlib.ticker import StrMethodFormatter\n",
        "\n",
        "import imageio\n",
        "import PIL\n",
        "\n",
        "def saver(fname):\n",
        "    plt.savefig(fname+\".png\",bbox_inches=\"tight\")\n",
        "\n",
        "def legend(pos=\"bottom\",ncol=3,extra=False):\n",
        "    if pos==\"bottom\":\n",
        "        extra = 0.15 if extra else 0\n",
        "        plt.legend(bbox_to_anchor=(0.5,-0.2-extra), loc='upper center',facecolor=\"lightgray\",ncol=ncol)\n",
        "    elif pos==\"side\":\n",
        "        plt.legend(bbox_to_anchor=(1.1,0.5), loc='center left',facecolor=\"lightgray\",ncol=1)\n",
        "\n",
        "def textbox(txt,fname=None):\n",
        "    plt.figure(figsize=(1,1))\n",
        "    plt.gca().add_artist(offsetbox.AnchoredText(\"\\n\".join(txt), loc=\"center\",prop=dict(size=30)))\n",
        "    plt.axis('off')\n",
        "    if fname is not None:\n",
        "        saver(fname)\n",
        "    plt.show()\n",
        "    plt.close()"
      ],
      "execution_count": null,
      "outputs": []
    },
    {
      "cell_type": "code",
      "metadata": {
        "id": "-VSms83Hj9Z6"
      },
      "source": [
        "import torch\n",
        "import scipy"
      ],
      "execution_count": null,
      "outputs": []
    },
    {
      "cell_type": "code",
      "metadata": {
        "id": "lvPmRC9drha5"
      },
      "source": [
        "#for some reason, this needs to be in a separate cell\n",
        "params={\n",
        "    \"font.size\":15,\n",
        "    \"lines.linewidth\":5\n",
        "}\n",
        "plt.rcParams.update(params)"
      ],
      "execution_count": null,
      "outputs": []
    },
    {
      "cell_type": "code",
      "metadata": {
        "colab": {
          "base_uri": "https://localhost:8080/"
        },
        "id": "uWCGEF2ERZtD",
        "outputId": "5a569927-0fbd-4e96-c93c-048e966564e1"
      },
      "source": [
        "pngfiles=[f for f in os.listdir(\".\") if f.endswith(\".png\")]\n",
        "print(\"existing png files: \"+str(pngfiles))\n",
        "#print([os.remove(f) for f in pngfiles])"
      ],
      "execution_count": null,
      "outputs": [
        {
          "output_type": "stream",
          "name": "stdout",
          "text": [
            "existing png files: []\n"
          ]
        }
      ]
    },
    {
      "cell_type": "code",
      "metadata": {
        "id": "DKges_xRRfPa"
      },
      "source": [
        "def getfile(location_pair,**kwargs): #tries to get local version and then defaults to google drive version\n",
        "    (loc,gdrive)=location_pair\n",
        "    try:\n",
        "        out=pandas.read_csv(loc,**kwargs)\n",
        "    except FileNotFoundError:\n",
        "        print(\"local file not found; accessing Google Drive\")\n",
        "        loc = 'https://drive.google.com/uc?export=download&id='+gdrive.split('/')[-2]\n",
        "        out=pandas.read_csv(loc,**kwargs)\n",
        "    return out"
      ],
      "execution_count": null,
      "outputs": []
    },
    {
      "cell_type": "markdown",
      "metadata": {
        "id": "Z2s1rIF1LP5c"
      },
      "source": [
        "# configuration variables #"
      ]
    },
    {
      "cell_type": "code",
      "metadata": {
        "id": "HK-IsPPCfYpp"
      },
      "source": [
        "url=\"https://www.redfin.com\"\n",
        "fname=(\"redfin_data.csv\",\"https://drive.google.com/file/d/1ei7JaZ4M1lrw3TyYcWozESi8HrHccnUx/view?usp=sharing\")\n",
        "plot_title=\"Home Asking Price (Redfin)\"\n",
        "data_color=\"red\"\n",
        "markersize=2\n",
        "thinlinesize=2"
      ],
      "execution_count": null,
      "outputs": []
    },
    {
      "cell_type": "code",
      "metadata": {
        "id": "rURuGphHfc7_"
      },
      "source": [
        "(feature,featurescale,featurename)=(\"SQUARE FEET\",1000,\"SQUARE FEET/1000\")\n",
        "(label,labelscale,labelname)=(\"PRICE\",1.0E6,\"PRICE/$1M\")"
      ],
      "execution_count": null,
      "outputs": []
    },
    {
      "cell_type": "markdown",
      "metadata": {
        "id": "rknnQTJ0LXio"
      },
      "source": [
        "# load data #"
      ]
    },
    {
      "cell_type": "code",
      "metadata": {
        "colab": {
          "base_uri": "https://localhost:8080/",
          "height": 560
        },
        "id": "-UxaL-1gf9bR",
        "outputId": "700e0916-5b41-4668-ec6b-66b6b59f0c5a"
      },
      "source": [
        "data_raw=getfile(fname)\n",
        "data_raw.head()"
      ],
      "execution_count": null,
      "outputs": [
        {
          "output_type": "stream",
          "name": "stdout",
          "text": [
            "local file not found; accessing Google Drive\n"
          ]
        },
        {
          "output_type": "execute_result",
          "data": {
            "text/plain": [
              "     SALE TYPE  SOLD DATE              PROPERTY TYPE                 ADDRESS  \\\n",
              "0  MLS Listing        NaN                Condo/Co-op  1316 Maple Ave Unit A3   \n",
              "1  MLS Listing        NaN                Condo/Co-op    1640 Maple Ave #1608   \n",
              "2  MLS Listing        NaN  Single Family Residential          9400 Drake Ave   \n",
              "3  MLS Listing        NaN                Condo/Co-op    2320 Central St #304   \n",
              "4  MLS Listing        NaN                  Townhouse      9032 Forestview Rd   \n",
              "\n",
              "       CITY STATE OR PROVINCE  ZIP OR POSTAL CODE   PRICE  BEDS  BATHS  ...  \\\n",
              "0  Evanston                IL               60201  549000   3.0    2.5  ...   \n",
              "1  Evanston                IL               60201  925000   2.0    2.5  ...   \n",
              "2  Evanston                IL               60203  699900   5.0    2.0  ...   \n",
              "3  Evanston                IL               60201  315000   2.0    2.0  ...   \n",
              "4  Evanston                IL               60203  385000   2.0    2.5  ...   \n",
              "\n",
              "   STATUS  NEXT OPEN HOUSE START TIME  NEXT OPEN HOUSE END TIME  \\\n",
              "0  Active                         NaN                       NaN   \n",
              "1  Active                         NaN                       NaN   \n",
              "2  Active                         NaN                       NaN   \n",
              "3  Active                         NaN                       NaN   \n",
              "4  Active                         NaN                       NaN   \n",
              "\n",
              "   URL (SEE https://www.redfin.com/buy-a-home/comparative-market-analysis FOR INFO ON PRICING)  \\\n",
              "0  https://www.redfin.com/IL/Evanston/1316-Maple-...                                             \n",
              "1  https://www.redfin.com/IL/Evanston/1640-Maple-...                                             \n",
              "2  https://www.redfin.com/IL/Evanston/9400-Drake-...                                             \n",
              "3  https://www.redfin.com/IL/Evanston/2320-Centra...                                             \n",
              "4  https://www.redfin.com/IL/Evanston/9032-Forest...                                             \n",
              "\n",
              "   SOURCE      MLS#  FAVORITE INTERESTED   LATITUDE  LONGITUDE  \n",
              "0    MRED  11329016         N          Y  42.041893 -87.685418  \n",
              "1    MRED  11324990         N          Y  42.048207 -87.685582  \n",
              "2    MRED  11328594         N          Y  42.051958 -87.717069  \n",
              "3    MRED  11328430         N          Y  42.064059 -87.705756  \n",
              "4    MRED  11328152         N          Y  42.045487 -87.714740  \n",
              "\n",
              "[5 rows x 27 columns]"
            ],
            "text/html": [
              "\n",
              "  <div id=\"df-b08cd5e3-4904-4de4-9eae-0f9ed980c6b0\">\n",
              "    <div class=\"colab-df-container\">\n",
              "      <div>\n",
              "<style scoped>\n",
              "    .dataframe tbody tr th:only-of-type {\n",
              "        vertical-align: middle;\n",
              "    }\n",
              "\n",
              "    .dataframe tbody tr th {\n",
              "        vertical-align: top;\n",
              "    }\n",
              "\n",
              "    .dataframe thead th {\n",
              "        text-align: right;\n",
              "    }\n",
              "</style>\n",
              "<table border=\"1\" class=\"dataframe\">\n",
              "  <thead>\n",
              "    <tr style=\"text-align: right;\">\n",
              "      <th></th>\n",
              "      <th>SALE TYPE</th>\n",
              "      <th>SOLD DATE</th>\n",
              "      <th>PROPERTY TYPE</th>\n",
              "      <th>ADDRESS</th>\n",
              "      <th>CITY</th>\n",
              "      <th>STATE OR PROVINCE</th>\n",
              "      <th>ZIP OR POSTAL CODE</th>\n",
              "      <th>PRICE</th>\n",
              "      <th>BEDS</th>\n",
              "      <th>BATHS</th>\n",
              "      <th>...</th>\n",
              "      <th>STATUS</th>\n",
              "      <th>NEXT OPEN HOUSE START TIME</th>\n",
              "      <th>NEXT OPEN HOUSE END TIME</th>\n",
              "      <th>URL (SEE https://www.redfin.com/buy-a-home/comparative-market-analysis FOR INFO ON PRICING)</th>\n",
              "      <th>SOURCE</th>\n",
              "      <th>MLS#</th>\n",
              "      <th>FAVORITE</th>\n",
              "      <th>INTERESTED</th>\n",
              "      <th>LATITUDE</th>\n",
              "      <th>LONGITUDE</th>\n",
              "    </tr>\n",
              "  </thead>\n",
              "  <tbody>\n",
              "    <tr>\n",
              "      <th>0</th>\n",
              "      <td>MLS Listing</td>\n",
              "      <td>NaN</td>\n",
              "      <td>Condo/Co-op</td>\n",
              "      <td>1316 Maple Ave Unit A3</td>\n",
              "      <td>Evanston</td>\n",
              "      <td>IL</td>\n",
              "      <td>60201</td>\n",
              "      <td>549000</td>\n",
              "      <td>3.0</td>\n",
              "      <td>2.5</td>\n",
              "      <td>...</td>\n",
              "      <td>Active</td>\n",
              "      <td>NaN</td>\n",
              "      <td>NaN</td>\n",
              "      <td>https://www.redfin.com/IL/Evanston/1316-Maple-...</td>\n",
              "      <td>MRED</td>\n",
              "      <td>11329016</td>\n",
              "      <td>N</td>\n",
              "      <td>Y</td>\n",
              "      <td>42.041893</td>\n",
              "      <td>-87.685418</td>\n",
              "    </tr>\n",
              "    <tr>\n",
              "      <th>1</th>\n",
              "      <td>MLS Listing</td>\n",
              "      <td>NaN</td>\n",
              "      <td>Condo/Co-op</td>\n",
              "      <td>1640 Maple Ave #1608</td>\n",
              "      <td>Evanston</td>\n",
              "      <td>IL</td>\n",
              "      <td>60201</td>\n",
              "      <td>925000</td>\n",
              "      <td>2.0</td>\n",
              "      <td>2.5</td>\n",
              "      <td>...</td>\n",
              "      <td>Active</td>\n",
              "      <td>NaN</td>\n",
              "      <td>NaN</td>\n",
              "      <td>https://www.redfin.com/IL/Evanston/1640-Maple-...</td>\n",
              "      <td>MRED</td>\n",
              "      <td>11324990</td>\n",
              "      <td>N</td>\n",
              "      <td>Y</td>\n",
              "      <td>42.048207</td>\n",
              "      <td>-87.685582</td>\n",
              "    </tr>\n",
              "    <tr>\n",
              "      <th>2</th>\n",
              "      <td>MLS Listing</td>\n",
              "      <td>NaN</td>\n",
              "      <td>Single Family Residential</td>\n",
              "      <td>9400 Drake Ave</td>\n",
              "      <td>Evanston</td>\n",
              "      <td>IL</td>\n",
              "      <td>60203</td>\n",
              "      <td>699900</td>\n",
              "      <td>5.0</td>\n",
              "      <td>2.0</td>\n",
              "      <td>...</td>\n",
              "      <td>Active</td>\n",
              "      <td>NaN</td>\n",
              "      <td>NaN</td>\n",
              "      <td>https://www.redfin.com/IL/Evanston/9400-Drake-...</td>\n",
              "      <td>MRED</td>\n",
              "      <td>11328594</td>\n",
              "      <td>N</td>\n",
              "      <td>Y</td>\n",
              "      <td>42.051958</td>\n",
              "      <td>-87.717069</td>\n",
              "    </tr>\n",
              "    <tr>\n",
              "      <th>3</th>\n",
              "      <td>MLS Listing</td>\n",
              "      <td>NaN</td>\n",
              "      <td>Condo/Co-op</td>\n",
              "      <td>2320 Central St #304</td>\n",
              "      <td>Evanston</td>\n",
              "      <td>IL</td>\n",
              "      <td>60201</td>\n",
              "      <td>315000</td>\n",
              "      <td>2.0</td>\n",
              "      <td>2.0</td>\n",
              "      <td>...</td>\n",
              "      <td>Active</td>\n",
              "      <td>NaN</td>\n",
              "      <td>NaN</td>\n",
              "      <td>https://www.redfin.com/IL/Evanston/2320-Centra...</td>\n",
              "      <td>MRED</td>\n",
              "      <td>11328430</td>\n",
              "      <td>N</td>\n",
              "      <td>Y</td>\n",
              "      <td>42.064059</td>\n",
              "      <td>-87.705756</td>\n",
              "    </tr>\n",
              "    <tr>\n",
              "      <th>4</th>\n",
              "      <td>MLS Listing</td>\n",
              "      <td>NaN</td>\n",
              "      <td>Townhouse</td>\n",
              "      <td>9032 Forestview Rd</td>\n",
              "      <td>Evanston</td>\n",
              "      <td>IL</td>\n",
              "      <td>60203</td>\n",
              "      <td>385000</td>\n",
              "      <td>2.0</td>\n",
              "      <td>2.5</td>\n",
              "      <td>...</td>\n",
              "      <td>Active</td>\n",
              "      <td>NaN</td>\n",
              "      <td>NaN</td>\n",
              "      <td>https://www.redfin.com/IL/Evanston/9032-Forest...</td>\n",
              "      <td>MRED</td>\n",
              "      <td>11328152</td>\n",
              "      <td>N</td>\n",
              "      <td>Y</td>\n",
              "      <td>42.045487</td>\n",
              "      <td>-87.714740</td>\n",
              "    </tr>\n",
              "  </tbody>\n",
              "</table>\n",
              "<p>5 rows × 27 columns</p>\n",
              "</div>\n",
              "      <button class=\"colab-df-convert\" onclick=\"convertToInteractive('df-b08cd5e3-4904-4de4-9eae-0f9ed980c6b0')\"\n",
              "              title=\"Convert this dataframe to an interactive table.\"\n",
              "              style=\"display:none;\">\n",
              "        \n",
              "  <svg xmlns=\"http://www.w3.org/2000/svg\" height=\"24px\"viewBox=\"0 0 24 24\"\n",
              "       width=\"24px\">\n",
              "    <path d=\"M0 0h24v24H0V0z\" fill=\"none\"/>\n",
              "    <path d=\"M18.56 5.44l.94 2.06.94-2.06 2.06-.94-2.06-.94-.94-2.06-.94 2.06-2.06.94zm-11 1L8.5 8.5l.94-2.06 2.06-.94-2.06-.94L8.5 2.5l-.94 2.06-2.06.94zm10 10l.94 2.06.94-2.06 2.06-.94-2.06-.94-.94-2.06-.94 2.06-2.06.94z\"/><path d=\"M17.41 7.96l-1.37-1.37c-.4-.4-.92-.59-1.43-.59-.52 0-1.04.2-1.43.59L10.3 9.45l-7.72 7.72c-.78.78-.78 2.05 0 2.83L4 21.41c.39.39.9.59 1.41.59.51 0 1.02-.2 1.41-.59l7.78-7.78 2.81-2.81c.8-.78.8-2.07 0-2.86zM5.41 20L4 18.59l7.72-7.72 1.47 1.35L5.41 20z\"/>\n",
              "  </svg>\n",
              "      </button>\n",
              "      \n",
              "  <style>\n",
              "    .colab-df-container {\n",
              "      display:flex;\n",
              "      flex-wrap:wrap;\n",
              "      gap: 12px;\n",
              "    }\n",
              "\n",
              "    .colab-df-convert {\n",
              "      background-color: #E8F0FE;\n",
              "      border: none;\n",
              "      border-radius: 50%;\n",
              "      cursor: pointer;\n",
              "      display: none;\n",
              "      fill: #1967D2;\n",
              "      height: 32px;\n",
              "      padding: 0 0 0 0;\n",
              "      width: 32px;\n",
              "    }\n",
              "\n",
              "    .colab-df-convert:hover {\n",
              "      background-color: #E2EBFA;\n",
              "      box-shadow: 0px 1px 2px rgba(60, 64, 67, 0.3), 0px 1px 3px 1px rgba(60, 64, 67, 0.15);\n",
              "      fill: #174EA6;\n",
              "    }\n",
              "\n",
              "    [theme=dark] .colab-df-convert {\n",
              "      background-color: #3B4455;\n",
              "      fill: #D2E3FC;\n",
              "    }\n",
              "\n",
              "    [theme=dark] .colab-df-convert:hover {\n",
              "      background-color: #434B5C;\n",
              "      box-shadow: 0px 1px 3px 1px rgba(0, 0, 0, 0.15);\n",
              "      filter: drop-shadow(0px 1px 2px rgba(0, 0, 0, 0.3));\n",
              "      fill: #FFFFFF;\n",
              "    }\n",
              "  </style>\n",
              "\n",
              "      <script>\n",
              "        const buttonEl =\n",
              "          document.querySelector('#df-b08cd5e3-4904-4de4-9eae-0f9ed980c6b0 button.colab-df-convert');\n",
              "        buttonEl.style.display =\n",
              "          google.colab.kernel.accessAllowed ? 'block' : 'none';\n",
              "\n",
              "        async function convertToInteractive(key) {\n",
              "          const element = document.querySelector('#df-b08cd5e3-4904-4de4-9eae-0f9ed980c6b0');\n",
              "          const dataTable =\n",
              "            await google.colab.kernel.invokeFunction('convertToInteractive',\n",
              "                                                     [key], {});\n",
              "          if (!dataTable) return;\n",
              "\n",
              "          const docLinkHtml = 'Like what you see? Visit the ' +\n",
              "            '<a target=\"_blank\" href=https://colab.research.google.com/notebooks/data_table.ipynb>data table notebook</a>'\n",
              "            + ' to learn more about interactive tables.';\n",
              "          element.innerHTML = '';\n",
              "          dataTable['output_type'] = 'display_data';\n",
              "          await google.colab.output.renderOutput(dataTable, element);\n",
              "          const docLink = document.createElement('div');\n",
              "          docLink.innerHTML = docLinkHtml;\n",
              "          element.appendChild(docLink);\n",
              "        }\n",
              "      </script>\n",
              "    </div>\n",
              "  </div>\n",
              "  "
            ]
          },
          "metadata": {},
          "execution_count": 8
        }
      ]
    },
    {
      "cell_type": "code",
      "metadata": {
        "id": "5zYU9XN8gMRQ"
      },
      "source": [
        "data=data_raw.copy()\n",
        "data.index+=1\n",
        "data.index.name=\"record number\""
      ],
      "execution_count": null,
      "outputs": []
    },
    {
      "cell_type": "code",
      "metadata": {
        "id": "fzO-xLGkgTfk",
        "colab": {
          "base_uri": "https://localhost:8080/",
          "height": 185
        },
        "outputId": "daad21c4-09ef-49d6-d290-dbbb9e31885d"
      },
      "source": [
        "text=[]\n",
        "text.append(\"feature (x): {0:s}\".format(featurename))\n",
        "text.append(\"label (y): {0:s}\".format(labelname))\n",
        "text.append(\"Can we predict {0:s} based on {1:s}?\".format(labelname,featurename))\n",
        "text.append(\"N={0:d}\".format(len(data)))\n",
        "textbox(text,fname=\"dataset\")"
      ],
      "execution_count": null,
      "outputs": [
        {
          "output_type": "display_data",
          "data": {
            "text/plain": [
              "<Figure size 72x72 with 1 Axes>"
            ],
            "image/png": "[encoded data removed]"
          },
          "metadata": {
            "needs_background": "light"
          }
        }
      ]
    },
    {
      "cell_type": "code",
      "metadata": {
        "id": "R95usikNgpp4",
        "colab": {
          "base_uri": "https://localhost:8080/",
          "height": 238
        },
        "outputId": "d71416ed-28b2-47d3-f338-88c0c972e4e3"
      },
      "source": [
        "XY=data[[feature,label]].dropna(axis='index')\n",
        "XY.columns=[featurename,labelname]\n",
        "XY[featurename]=XY[featurename]/featurescale\n",
        "XY[labelname]=XY[labelname]/labelscale\n",
        "XY.head()"
      ],
      "execution_count": null,
      "outputs": [
        {
          "output_type": "execute_result",
          "data": {
            "text/plain": [
              "               SQUARE FEET/1000  PRICE/$1M\n",
              "record number                             \n",
              "1                         2.000     0.5490\n",
              "2                         2.138     0.9250\n",
              "3                         2.198     0.6999\n",
              "4                         1.426     0.3150\n",
              "7                         2.170     0.7390"
            ],
            "text/html": [
              "\n",
              "  <div id=\"df-07e8896c-7265-4dca-9720-278a2f312cf6\">\n",
              "    <div class=\"colab-df-container\">\n",
              "      <div>\n",
              "<style scoped>\n",
              "    .dataframe tbody tr th:only-of-type {\n",
              "        vertical-align: middle;\n",
              "    }\n",
              "\n",
              "    .dataframe tbody tr th {\n",
              "        vertical-align: top;\n",
              "    }\n",
              "\n",
              "    .dataframe thead th {\n",
              "        text-align: right;\n",
              "    }\n",
              "</style>\n",
              "<table border=\"1\" class=\"dataframe\">\n",
              "  <thead>\n",
              "    <tr style=\"text-align: right;\">\n",
              "      <th></th>\n",
              "      <th>SQUARE FEET/1000</th>\n",
              "      <th>PRICE/$1M</th>\n",
              "    </tr>\n",
              "    <tr>\n",
              "      <th>record number</th>\n",
              "      <th></th>\n",
              "      <th></th>\n",
              "    </tr>\n",
              "  </thead>\n",
              "  <tbody>\n",
              "    <tr>\n",
              "      <th>1</th>\n",
              "      <td>2.000</td>\n",
              "      <td>0.5490</td>\n",
              "    </tr>\n",
              "    <tr>\n",
              "      <th>2</th>\n",
              "      <td>2.138</td>\n",
              "      <td>0.9250</td>\n",
              "    </tr>\n",
              "    <tr>\n",
              "      <th>3</th>\n",
              "      <td>2.198</td>\n",
              "      <td>0.6999</td>\n",
              "    </tr>\n",
              "    <tr>\n",
              "      <th>4</th>\n",
              "      <td>1.426</td>\n",
              "      <td>0.3150</td>\n",
              "    </tr>\n",
              "    <tr>\n",
              "      <th>7</th>\n",
              "      <td>2.170</td>\n",
              "      <td>0.7390</td>\n",
              "    </tr>\n",
              "  </tbody>\n",
              "</table>\n",
              "</div>\n",
              "      <button class=\"colab-df-convert\" onclick=\"convertToInteractive('df-07e8896c-7265-4dca-9720-278a2f312cf6')\"\n",
              "              title=\"Convert this dataframe to an interactive table.\"\n",
              "              style=\"display:none;\">\n",
              "        \n",
              "  <svg xmlns=\"http://www.w3.org/2000/svg\" height=\"24px\"viewBox=\"0 0 24 24\"\n",
              "       width=\"24px\">\n",
              "    <path d=\"M0 0h24v24H0V0z\" fill=\"none\"/>\n",
              "    <path d=\"M18.56 5.44l.94 2.06.94-2.06 2.06-.94-2.06-.94-.94-2.06-.94 2.06-2.06.94zm-11 1L8.5 8.5l.94-2.06 2.06-.94-2.06-.94L8.5 2.5l-.94 2.06-2.06.94zm10 10l.94 2.06.94-2.06 2.06-.94-2.06-.94-.94-2.06-.94 2.06-2.06.94z\"/><path d=\"M17.41 7.96l-1.37-1.37c-.4-.4-.92-.59-1.43-.59-.52 0-1.04.2-1.43.59L10.3 9.45l-7.72 7.72c-.78.78-.78 2.05 0 2.83L4 21.41c.39.39.9.59 1.41.59.51 0 1.02-.2 1.41-.59l7.78-7.78 2.81-2.81c.8-.78.8-2.07 0-2.86zM5.41 20L4 18.59l7.72-7.72 1.47 1.35L5.41 20z\"/>\n",
              "  </svg>\n",
              "      </button>\n",
              "      \n",
              "  <style>\n",
              "    .colab-df-container {\n",
              "      display:flex;\n",
              "      flex-wrap:wrap;\n",
              "      gap: 12px;\n",
              "    }\n",
              "\n",
              "    .colab-df-convert {\n",
              "      background-color: #E8F0FE;\n",
              "      border: none;\n",
              "      border-radius: 50%;\n",
              "      cursor: pointer;\n",
              "      display: none;\n",
              "      fill: #1967D2;\n",
              "      height: 32px;\n",
              "      padding: 0 0 0 0;\n",
              "      width: 32px;\n",
              "    }\n",
              "\n",
              "    .colab-df-convert:hover {\n",
              "      background-color: #E2EBFA;\n",
              "      box-shadow: 0px 1px 2px rgba(60, 64, 67, 0.3), 0px 1px 3px 1px rgba(60, 64, 67, 0.15);\n",
              "      fill: #174EA6;\n",
              "    }\n",
              "\n",
              "    [theme=dark] .colab-df-convert {\n",
              "      background-color: #3B4455;\n",
              "      fill: #D2E3FC;\n",
              "    }\n",
              "\n",
              "    [theme=dark] .colab-df-convert:hover {\n",
              "      background-color: #434B5C;\n",
              "      box-shadow: 0px 1px 3px 1px rgba(0, 0, 0, 0.15);\n",
              "      filter: drop-shadow(0px 1px 2px rgba(0, 0, 0, 0.3));\n",
              "      fill: #FFFFFF;\n",
              "    }\n",
              "  </style>\n",
              "\n",
              "      <script>\n",
              "        const buttonEl =\n",
              "          document.querySelector('#df-07e8896c-7265-4dca-9720-278a2f312cf6 button.colab-df-convert');\n",
              "        buttonEl.style.display =\n",
              "          google.colab.kernel.accessAllowed ? 'block' : 'none';\n",
              "\n",
              "        async function convertToInteractive(key) {\n",
              "          const element = document.querySelector('#df-07e8896c-7265-4dca-9720-278a2f312cf6');\n",
              "          const dataTable =\n",
              "            await google.colab.kernel.invokeFunction('convertToInteractive',\n",
              "                                                     [key], {});\n",
              "          if (!dataTable) return;\n",
              "\n",
              "          const docLinkHtml = 'Like what you see? Visit the ' +\n",
              "            '<a target=\"_blank\" href=https://colab.research.google.com/notebooks/data_table.ipynb>data table notebook</a>'\n",
              "            + ' to learn more about interactive tables.';\n",
              "          element.innerHTML = '';\n",
              "          dataTable['output_type'] = 'display_data';\n",
              "          await google.colab.output.renderOutput(dataTable, element);\n",
              "          const docLink = document.createElement('div');\n",
              "          docLink.innerHTML = docLinkHtml;\n",
              "          element.appendChild(docLink);\n",
              "        }\n",
              "      </script>\n",
              "    </div>\n",
              "  </div>\n",
              "  "
            ]
          },
          "metadata": {},
          "execution_count": 11
        }
      ]
    },
    {
      "cell_type": "code",
      "metadata": {
        "id": "MfCi2Nqkgp2K",
        "colab": {
          "base_uri": "https://localhost:8080/"
        },
        "outputId": "f1cf4433-156e-4dca-be19-0929570cbdc6"
      },
      "source": [
        "X=XY[featurename].squeeze()\n",
        "Y=XY[labelname].squeeze()\n",
        "m_sp,b_sp,_,_,_=scipy.stats.linregress(X,Y)\n",
        "print(\"scipy: m_sp = {0:} and b_sp= {1:}\".format(m_sp,b_sp))"
      ],
      "execution_count": null,
      "outputs": [
        {
          "output_type": "stream",
          "name": "stdout",
          "text": [
            "scipy: m_sp = 0.3558718716000352 and b_sp= -0.1403975081292415\n"
          ]
        }
      ]
    },
    {
      "cell_type": "code",
      "metadata": {
        "id": "8TSgK_Vqgp-f",
        "colab": {
          "base_uri": "https://localhost:8080/",
          "height": 309
        },
        "outputId": "358fd0c2-bff0-4d9b-e9c8-aada416e84ea"
      },
      "source": [
        "plt.figure()\n",
        "plt.scatter(X,Y,color=data_color,s=markersize)\n",
        "title=[]\n",
        "title.append(plot_title)\n",
        "plt.title(\"\\n\".join(title))\n",
        "plt.xlabel(\"x ({0:s})\".format(featurename))\n",
        "plt.ylabel(\"y ({0:s})\".format(labelname))\n",
        "#tick = mtick.StrMethodFormatter(\"${x:,.0f}\")\n",
        "#plt.gca().yaxis.set_major_formatter(tick)\n",
        "saver(\"xyplot\")\n",
        "plt.show()\n",
        "plt.close()"
      ],
      "execution_count": null,
      "outputs": [
        {
          "output_type": "display_data",
          "data": {
            "text/plain": [
              "<Figure size 432x288 with 1 Axes>"
            ],
            "image/png": "[encoded data removed]"
          },
          "metadata": {
            "needs_background": "light"
          }
        }
      ]
    },
    {
      "cell_type": "code",
      "metadata": {
        "colab": {
          "base_uri": "https://localhost:8080/",
          "height": 346
        },
        "id": "vgnOiVNojQCg",
        "outputId": "56cbab0c-c4f5-4010-bd21-65f45d1f8b7d"
      },
      "source": [
        "plt.figure()\n",
        "plt.scatter(X,Y,color=data_color,s=markersize)\n",
        "xlims=numpy.array(plt.gca().get_xlim())\n",
        "plt.plot(xlims,m_sp*xlims+b_sp,label=\"{0:.2f}x+{1:.2f} (scipy linear regression)\".format(m_sp,b_sp),color=\"blue\",linewidth=thinlinesize)\n",
        "title=[]\n",
        "title.append(plot_title)\n",
        "plt.title(\"\\n\".join(title))\n",
        "plt.xlabel(\"x ({0:s})\".format(featurename))\n",
        "plt.ylabel(\"y ({0:s})\".format(labelname))\n",
        "#tick = mtick.StrMethodFormatter(\"${x:,.0f}\")\n",
        "#plt.gca().yaxis.set_major_formatter(tick)\n",
        "legend(\"bottom\")\n",
        "saver(\"bestlines\")\n",
        "plt.show()\n",
        "plt.close()"
      ],
      "execution_count": null,
      "outputs": [
        {
          "output_type": "display_data",
          "data": {
            "text/plain": [
              "<Figure size 432x288 with 1 Axes>"
            ],
            "image/png": "[encoded data removed]"
          },
          "metadata": {
            "needs_background": "light"
          }
        }
      ]
    },
    {
      "cell_type": "markdown",
      "metadata": {
        "id": "1oQTFgClXBmA"
      },
      "source": [
        "## Implement with PyTorch ##"
      ]
    },
    {
      "cell_type": "code",
      "metadata": {
        "colab": {
          "base_uri": "https://localhost:8080/"
        },
        "id": "SeT6AvPrmpyw",
        "outputId": "544e658d-4963-4079-9f62-e08ec767db6d"
      },
      "source": [
        "features=torch.from_numpy(X.values.astype(numpy.float32).reshape(-1,1))\n",
        "labels=torch.from_numpy(Y.values.astype(numpy.float32).reshape(-1,1))\n",
        "\n",
        "print(\"cuda available: {:}\".format(torch.cuda.is_available()))\n",
        "features = features.cuda() if torch.cuda.is_available() else features\n",
        "labels = labels.cuda() if torch.cuda.is_available() else labels"
      ],
      "execution_count": null,
      "outputs": [
        {
          "output_type": "stream",
          "name": "stdout",
          "text": [
            "cuda available: False\n"
          ]
        }
      ]
    },
    {
      "cell_type": "markdown",
      "metadata": {
        "id": "VxghklKykod8"
      },
      "source": []
    },
    {
      "cell_type": "code",
      "metadata": {
        "id": "b2zhr5pfiDNw"
      },
      "source": [
        "learningRate=0.075"
      ],
      "execution_count": null,
      "outputs": []
    },
    {
      "cell_type": "code",
      "metadata": {
        "id": "t3DyEANHQHYQ"
      },
      "source": [
        "class linearRegression(torch.nn.Module):\n",
        "    def __init__(self, inputSize=1, outputSize=1,SEED=0): #default to one-dimensional feature and response\n",
        "        super().__init__() #run init of torch.nn.Module\n",
        "        if SEED is not None:\n",
        "          torch.manual_seed(SEED)\n",
        "        self.linear = torch.nn.Linear(inputSize,outputSize)\n",
        "        if torch.cuda.is_available():\n",
        "          self=self.cuda()\n",
        "\n",
        "    def forward(self, x):\n",
        "        out=self.linear(x)\n",
        "        return out\n",
        "\n",
        "model=linearRegression()\n",
        "\n",
        "Loss = torch.nn.MSELoss()\n",
        "optimizer = torch.optim.SGD(model.parameters(), lr=learningRate)"
      ],
      "execution_count": null,
      "outputs": []
    },
    {
      "cell_type": "code",
      "metadata": {
        "id": "-tSfPvUCl6uc",
        "colab": {
          "base_uri": "https://localhost:8080/"
        },
        "outputId": "62ec31fa-bcaf-4998-dacb-d3fdc6a1f9eb"
      },
      "source": [
        "MAX_iter = 100\n",
        "starttime=time.time()\n",
        "for itr in range(MAX_iter):\n",
        "\n",
        "    # Clear gradient buffers because we don't want any gradient from previous epoch to carry forward, dont want to cummulate gradients\n",
        "    optimizer.zero_grad()\n",
        "\n",
        "    # get output from the model, given the inputs\n",
        "    outputs = model(features)\n",
        "\n",
        "    # get loss for the predicted output\n",
        "    lossvalue = Loss(outputs, labels)\n",
        "\n",
        "    # get gradients w.r.t to parameters\n",
        "    lossvalue.backward()\n",
        "    #print(model.linear.weight.grad.item(),model.linear.bias.grad.item())\n",
        "\n",
        "    # update parameters\n",
        "    optimizer.step()\n",
        "    if itr%int(MAX_iter/10)==0:\n",
        "      print(\"iteration {}: loss={:.5f}, m={:.3f}, b={:.2f}, d/dm={:.2f}, d/db={:.2f}\".format(itr, lossvalue.item(),\n",
        "        model.linear.weight.item(),model.linear.bias.item(),model.linear.weight.grad.item(),model.linear.bias.grad.item()))\n",
        "\n",
        "endtime=time.time()\n",
        "print(\"\\nexecution time: {0:.5f} seconds\".format(endtime-starttime))"
      ],
      "execution_count": null,
      "outputs": [
        {
          "output_type": "stream",
          "name": "stdout",
          "text": [
            "iteration 0: loss=0.05207, m=0.356, b=-0.14, d/dm=-0.00, d/db=0.00\n",
            "iteration 10: loss=0.05207, m=0.356, b=-0.14, d/dm=-0.00, d/db=0.00\n",
            "iteration 20: loss=0.05207, m=0.356, b=-0.14, d/dm=-0.00, d/db=0.00\n",
            "iteration 30: loss=0.05207, m=0.356, b=-0.14, d/dm=-0.00, d/db=0.00\n",
            "iteration 40: loss=0.05207, m=0.356, b=-0.14, d/dm=-0.00, d/db=0.00\n",
            "iteration 50: loss=0.05207, m=0.356, b=-0.14, d/dm=-0.00, d/db=0.00\n",
            "iteration 60: loss=0.05207, m=0.356, b=-0.14, d/dm=-0.00, d/db=0.00\n",
            "iteration 70: loss=0.05207, m=0.356, b=-0.14, d/dm=-0.00, d/db=0.00\n",
            "iteration 80: loss=0.05207, m=0.356, b=-0.14, d/dm=-0.00, d/db=0.00\n",
            "iteration 90: loss=0.05207, m=0.356, b=-0.14, d/dm=-0.00, d/db=0.00\n",
            "\n",
            "execution time: 0.04314 seconds\n"
          ]
        }
      ]
    },
    {
      "cell_type": "code",
      "metadata": {
        "id": "RZ0wpKYSpNyB"
      },
      "source": [
        "(m_pt,b_pt)=(model.linear.weight.item(),model.linear.bias.item())"
      ],
      "execution_count": null,
      "outputs": []
    },
    {
      "cell_type": "code",
      "metadata": {
        "colab": {
          "base_uri": "https://localhost:8080/",
          "height": 132
        },
        "id": "Qb8bjY3li7LK",
        "outputId": "d3b72a61-4968-48ec-c813-33aac182534a"
      },
      "source": [
        "text=[]\n",
        "text.append(\"Results of scipy.stats.linregress: $m_{{sp}}={0:.2f}$, $b_{{sp}}={1:.2f}$\".format(m_sp,b_sp))\n",
        "text.append(\"Results of pytorch: $m_{{pt}}={0:.2f}$, $b_{{pt}}={1:.2f}$\".format(m_pt,b_pt))\n",
        "textbox(text)"
      ],
      "execution_count": null,
      "outputs": [
        {
          "output_type": "display_data",
          "data": {
            "text/plain": [
              "<Figure size 72x72 with 1 Axes>"
            ],
            "image/png": "[encoded data removed]"
          },
          "metadata": {
            "needs_background": "light"
          }
        }
      ]
    }
  ]
}