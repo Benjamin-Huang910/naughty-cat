{
 "cells": [
  {
   "cell_type": "code",
   "execution_count": 1,
   "metadata": {},
   "outputs": [],
   "source": [
    "# 1.使用相對路徑\n",
    "file1=open('107304015.txt', 'a+',  encoding='utf-8')#用a+作為存取檔案的模式，之後可能還有機會存取新的歌詞\n",
    "file1.write('ねえ darlin 夢が叶ったの \\n')\n",
    "file1.write('もっと、ちゃんと言って\\n')\n",
    "file1.write('青空だけが見たいのは我儘ですか\\n')\n",
    "file1.write('胸に残り離れない 苦いレモンの匂い\\n')\n",
    "file1.write('春風は あんなに好きだったもの\\n')\n",
    "file1.write('四月の雨　風に揺れ\\n')\n",
    "file1.close()"
   ]
  },
  {
   "cell_type": "code",
   "execution_count": 2,
   "metadata": {},
   "outputs": [
    {
     "name": "stdout",
     "output_type": "stream",
     "text": [
      "將檔案內容以串列的方式印出: ['ねえ darlin 夢が叶ったの \\n', 'もっと、ちゃんと言って\\n', '青空だけが見たいのは我儘ですか\\n', '胸に残り離れない 苦いレモンの匂い\\n', '春風は あんなに好きだったもの\\n', '四月の雨\\u3000風に揺れ\\n']\n"
     ]
    }
   ],
   "source": [
    "# 2.以r作為存取檔案的模式，因為我們這次只是要來檢視檔案\n",
    "file1=open('107304015.txt', 'r', encoding='utf-8')\n",
    "list_lines=file1.readlines() #把檔案內所有的內容讀進一個串列中\n",
    "file1.close()\n",
    "print('將檔案內容以串列的方式印出:', list_lines)  #以串列的型態印出來"
   ]
  },
  {
   "cell_type": "code",
   "execution_count": 3,
   "metadata": {},
   "outputs": [
    {
     "data": {
      "text/plain": [
       "list"
      ]
     },
     "execution_count": 3,
     "metadata": {},
     "output_type": "execute_result"
    }
   ],
   "source": [
    "type(list_lines)"
   ]
  }
 ],
 "metadata": {
  "kernelspec": {
   "display_name": "Python 3",
   "language": "python",
   "name": "python3"
  },
  "language_info": {
   "codemirror_mode": {
    "name": "ipython",
    "version": 3
   },
   "file_extension": ".py",
   "mimetype": "text/x-python",
   "name": "python",
   "nbconvert_exporter": "python",
   "pygments_lexer": "ipython3",
   "version": "3.7.4"
  }
 },
 "nbformat": 4,
 "nbformat_minor": 2
}
