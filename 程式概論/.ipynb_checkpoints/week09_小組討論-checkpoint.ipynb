{
 "cells": [
  {
   "cell_type": "code",
   "execution_count": null,
   "metadata": {},
   "outputs": [
    {
     "name": "stdout",
     "output_type": "stream",
     "text": [
      "請輸入學生的分數，每輸入完一個分數後請按Enter，再接著輸入下一個，輸入完畢後請輸入\"-1\":\n",
      "輸入第1個分數:98.5\n",
      "剛剛輸入的第1個值並非正整數，故不加入串列中\n"
     ]
    }
   ],
   "source": [
    "score=0\n",
    "count=1\n",
    "grade=[]\n",
    "print('請輸入學生的分數，每輸入完一個分數後請按Enter，再接著輸入下一個，輸入完畢後請輸入\"-1\":')\n",
    "while score!=\"-1\":\n",
    "    try:\n",
    "        score=input('輸入第'+str(count)+'個分數:') #使用者輸入\n",
    "        if score.isdecimal():\n",
    "            if float(score)<=100 and float(score)>=0:\n",
    "                data=float(score) #資料型態轉換\n",
    "                grade.append(data) #將data附加到grade這個list中\n",
    "                count=count+1\n",
    "            else:\n",
    "                print(\"此數字不在設定的分數範圍內\")\n",
    "        elif float(score)==-1:\n",
    "            print(\"輸入完畢\\n\")\n",
    "        else:\n",
    "            print('剛剛輸入的第'+str(count)+'個值並非正整數，故不加入串列中')\n",
    "    except ValueError:\n",
    "        print(\"請輸入對的格式\")\n",
    "average_score=sum(grade)/len(grade)\n",
    "print(\"全班的總平均成績為:\",average_score)\n",
    "grade_s=sorted(grade, reverse=True)\n",
    "print(\"全班成績的高低排序:\",grade_s)"
   ]
  }
 ],
 "metadata": {
  "kernelspec": {
   "display_name": "Python 3",
   "language": "python",
   "name": "python3"
  },
  "language_info": {
   "codemirror_mode": {
    "name": "ipython",
    "version": 3
   },
   "file_extension": ".py",
   "mimetype": "text/x-python",
   "name": "python",
   "nbconvert_exporter": "python",
   "pygments_lexer": "ipython3",
   "version": "3.7.4"
  }
 },
 "nbformat": 4,
 "nbformat_minor": 2
}
