{
 "cells": [
  {
   "cell_type": "code",
   "execution_count": null,
   "metadata": {},
   "outputs": [],
   "source": [
    "#1\n",
    "import time\n",
    "import calendar\n",
    "year = list(time.localtime())\n",
    "year = year[0]\n",
    "calendar.prcal(year)\n",
    "#2\n",
    "import random\n",
    "month = random.randint(1,12)\n",
    "calendar.prmonth(year,month)\n",
    "#3\n",
    "list1 = [1,2,3,4,5,6,7,8,9,10,11,12]\n",
    "ransample=random.sample(list1, 4)\n",
    "for i in ransample:\n",
    "    print(calendar.month_name[i])"
   ]
  }
 ],
 "metadata": {
  "kernelspec": {
   "display_name": "Python 3",
   "language": "python",
   "name": "python3"
  },
  "language_info": {
   "codemirror_mode": {
    "name": "ipython",
    "version": 3
   },
   "file_extension": ".py",
   "mimetype": "text/x-python",
   "name": "python",
   "nbconvert_exporter": "python",
   "pygments_lexer": "ipython3",
   "version": "3.7.4"
  }
 },
 "nbformat": 4,
 "nbformat_minor": 2
}
