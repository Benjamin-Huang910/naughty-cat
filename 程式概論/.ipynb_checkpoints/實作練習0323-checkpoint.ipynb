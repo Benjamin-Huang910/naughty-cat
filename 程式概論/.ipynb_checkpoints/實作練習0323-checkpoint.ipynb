{
 "cells": [
  {
   "cell_type": "code",
   "execution_count": 5,
   "metadata": {},
   "outputs": [
    {
     "name": "stdout",
     "output_type": "stream",
     "text": [
      "請輸入一個攝氏溫度: 23.5\n",
      "你所輸入的攝氏溫度23.5度，轉換為華氏溫度後為74.3度\n"
     ]
    }
   ],
   "source": [
    "C=input(\"請輸入一個攝氏溫度: \")\n",
    "F=float(C)*9/5+32\n",
    "print(\"你所輸入的攝氏溫度\"+C+\"度，\"+\"轉換為華氏溫度後為\"+str(F)+\"度\")"
   ]
  }
 ],
 "metadata": {
  "kernelspec": {
   "display_name": "Python 3",
   "language": "python",
   "name": "python3"
  },
  "language_info": {
   "codemirror_mode": {
    "name": "ipython",
    "version": 3
   },
   "file_extension": ".py",
   "mimetype": "text/x-python",
   "name": "python",
   "nbconvert_exporter": "python",
   "pygments_lexer": "ipython3",
   "version": "3.7.4"
  }
 },
 "nbformat": 4,
 "nbformat_minor": 2
}
