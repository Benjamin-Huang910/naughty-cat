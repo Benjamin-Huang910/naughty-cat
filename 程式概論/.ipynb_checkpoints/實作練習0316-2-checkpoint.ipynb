{
 "cells": [
  {
   "cell_type": "code",
   "execution_count": 2,
   "metadata": {},
   "outputs": [],
   "source": [
    "x=2000\n",
    "y=2001\n",
    "z=2018\n",
    "print(x%4==0)\n",
    "print(not(y%100==0))\n",
    "print(z//400>=5)\n",
    "print((x%4==0)and(not(y%100==0)))\n",
    "print((x%4==0)or(z%400==5))"
   ]
  }
 ],
 "metadata": {
  "kernelspec": {
   "display_name": "Python 3",
   "language": "python",
   "name": "python3"
  }
 },
 "nbformat": 4,
 "nbformat_minor": 2
}
