{
 "cells": [
  {
   "cell_type": "code",
   "execution_count": null,
   "metadata": {},
   "outputs": [],
   "source": [
    "try:\n",
    "    a=float(input('請輸入被除數:'))\n",
    "    b=float(input('請輸入除數:'))\n",
    "    print('除法計算結果:', a/b)\n",
    "\n",
    "except:\n",
    "    print('有例外情況發生!')\n",
    "try:\n",
    "    a=float(input('請輸入被除數:'))\n",
    "    b=float(input('請輸入除數:'))\n",
    "    print('除法計算結果:', a/b)\n",
    "\n",
    "except ZeroDivisionError as z:\n",
    "    print('跳到ZeroDivisionError例外區塊')\n",
    "    print('錯誤原因:', z)\n",
    "except ValueError as v:\n",
    "    print('跳到ValueError例外區塊')\n",
    "    print('錯誤原因:', v)\n",
    "else:  #沒有發生前面的例外就會執行這個區塊\n",
    "    print('沒有發生ZeorDivisionError或ValueError')\n",
    "finally: #不管有沒有發生例外都會執行這個區塊\n",
    "    print('程式執行完成')\n"
   ]
  }
 ],
 "metadata": {
  "kernelspec": {
   "display_name": "Python 3",
   "language": "python",
   "name": "python3"
  },
  "language_info": {
   "codemirror_mode": {
    "name": "ipython",
    "version": 3
   },
   "file_extension": ".py",
   "mimetype": "text/x-python",
   "name": "python",
   "nbconvert_exporter": "python",
   "pygments_lexer": "ipython3",
   "version": "3.7.4"
  }
 },
 "nbformat": 4,
 "nbformat_minor": 2
}
