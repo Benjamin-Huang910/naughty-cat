{
 "cells": [
  {
   "cell_type": "code",
   "execution_count": null,
   "metadata": {},
   "outputs": [],
   "source": [
    "#Method 1\n",
    "mydict=({'angel':'天使', 'angle':'角度','cat':'貓','dog':'狗'})\n",
    "while True:\n",
    "    try:\n",
    "        print(mydict[input(\"請輸入要查詢的英文單字: \")])\n",
    "    except KeyError:\n",
    "        print(\"查不到這個英文單字\")"
   ]
  },
  {
   "cell_type": "code",
   "execution_count": 6,
   "metadata": {},
   "outputs": [
    {
     "name": "stdout",
     "output_type": "stream",
     "text": [
      "請輸入要查詢的英文單字: angel\n",
      "天使\n"
     ]
    }
   ],
   "source": [
    "#Method 2\n",
    "mydict=({'angel':'天使', 'angle':'角度','cat':'貓','dog':'狗'})\n",
    "question=input(\"請輸入要查詢的英文單字: \")\n",
    "print(mydict.get(question,'找不到這個水果對應的值'))"
   ]
  },
  {
   "cell_type": "code",
   "execution_count": 2,
   "metadata": {},
   "outputs": [
    {
     "name": "stdout",
     "output_type": "stream",
     "text": [
      "angel : 天使\n",
      "angle : 角度\n",
      "cat : 貓\n",
      "dog : 狗\n"
     ]
    }
   ],
   "source": [
    "mydict=({'angel':'天使', 'angle':'角度','cat':'貓','dog':'狗'})\n",
    "for key in mydict:\n",
    "    print(key,\":\",mydict[key])"
   ]
  }
 ],
 "metadata": {
  "kernelspec": {
   "display_name": "Python 3",
   "language": "python",
   "name": "python3"
  },
  "language_info": {
   "codemirror_mode": {
    "name": "ipython",
    "version": 3
   },
   "file_extension": ".py",
   "mimetype": "text/x-python",
   "name": "python",
   "nbconvert_exporter": "python",
   "pygments_lexer": "ipython3",
   "version": "3.7.4"
  }
 },
 "nbformat": 4,
 "nbformat_minor": 2
}
