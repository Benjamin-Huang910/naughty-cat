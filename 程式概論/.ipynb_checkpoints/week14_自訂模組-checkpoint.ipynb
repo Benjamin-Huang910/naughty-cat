{
 "cells": [
  {
   "cell_type": "code",
   "execution_count": null,
   "metadata": {},
   "outputs": [],
   "source": [
    "def subtract(x1, x2):\n",
    "    return x1 - x2                     # 回傳減法結果\n",
    "def addition(x1, x2):\n",
    "    return x1 + x2                     # 回傳加法結果\n",
    "def product(x1, x2):\n",
    "    return x1 * x2\n",
    "def division(x1, x2):\n",
    "    return x1 / x2"
   ]
  }
 ],
 "metadata": {
  "kernelspec": {
   "display_name": "Python 3",
   "language": "python",
   "name": "python3"
  },
  "language_info": {
   "codemirror_mode": {
    "name": "ipython",
    "version": 3
   },
   "file_extension": ".py",
   "mimetype": "text/x-python",
   "name": "python",
   "nbconvert_exporter": "python",
   "pygments_lexer": "ipython3",
   "version": "3.7.4"
  }
 },
 "nbformat": 4,
 "nbformat_minor": 2
}
