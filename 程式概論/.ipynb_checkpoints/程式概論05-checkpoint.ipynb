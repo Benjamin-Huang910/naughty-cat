{
 "cells": [
  {
   "cell_type": "code",
   "execution_count": 1,
   "metadata": {},
   "outputs": [
    {
     "name": "stdout",
     "output_type": "stream",
     "text": [
      "請依序輸入5個正整數，每輸入完一個正整數後請按Enter，再接著輸入下一個:\n",
      "輸入第1個正整數:87\n",
      "輸入第2個正整數:78\n",
      "輸入第3個正整數:98\n",
      "輸入第4個正整數:89\n",
      "輸入第5個正整數:67\n",
      "已完成輸入\n",
      "\n",
      "student: [87, 78, 98, 89, 67]\n"
     ]
    }
   ],
   "source": [
    "count=1\n",
    "student=[]   #宣告一個空的串列變數名稱為student\n",
    "\n",
    "#透過while迴圈產生串列\n",
    "print('請依序輸入5個正整數，每輸入完一個正整數後請按Enter，再接著輸入下一個:')\n",
    "while count<=5:\n",
    "    line = input('輸入第'+str(count)+'個正整數:')  #使用者輸入\n",
    "    if line.isdecimal():\n",
    "        data=int(line)  #資料型態轉換\n",
    "        student.append(data)  #將data附加到student這個List中\n",
    "    else:\n",
    "        print(f\"剛剛輸入的第{count:3d}個值並非正整數，故不加入串列中\")\n",
    "    count+=1\n",
    "\n",
    "print('已完成輸入\\n')\n",
    "print(\"student:\",student)\n"
   ]
  },
  {
   "cell_type": "code",
   "execution_count": 2,
   "metadata": {},
   "outputs": [
    {
     "name": "stdout",
     "output_type": "stream",
     "text": [
      "輸入的正整數由大到小排序後為--> 98  89  87  78  67  "
     ]
    }
   ],
   "source": [
    "student_s=sorted(student, reverse=True)  #將student的元素由大到小遞減排序\n",
    "\n",
    "#運用while迴圈將串列中的資料一個一個取出\n",
    "count=1\n",
    "print('輸入的正整數由大到小排序後為', end='--> ')\n",
    "while count<=len(student_s):\n",
    "    print(f'{student_s[count-1]:d}', end ='  ')\n",
    "    count+=1\n"
   ]
  },
  {
   "cell_type": "code",
   "execution_count": 3,
   "metadata": {},
   "outputs": [
    {
     "name": "stdout",
     "output_type": "stream",
     "text": [
      "變數i從計數器中領到  2 時，總和 =  2\n",
      "變數i從計數器中領到  4 時，總和 =  6\n",
      "變數i從計數器中領到  6 時，總和 = 12\n",
      "變數i從計數器中領到  8 時，總和 = 20\n"
     ]
    }
   ],
   "source": [
    "#break\n",
    "total=0\n",
    "for i in range(2,20,2):#計數器中有2,4,6,8,10,12,14,16,18\n",
    "    if i==10:\n",
    "        break  #當i是10的時候，碰到break，最靠近break的迴圈會結束\n",
    "    else:\n",
    "        total+=i\n",
    "        print(f\"變數i從計數器中領到 {i:2d} 時，總和 = {total:2d}\")\n"
   ]
  },
  {
   "cell_type": "code",
   "execution_count": 4,
   "metadata": {},
   "outputs": [
    {
     "name": "stdout",
     "output_type": "stream",
     "text": [
      "變數i從計數器中領到  2 時，總和 =  2\n",
      "變數i從計數器中領到  4 時，總和 =  6\n",
      "變數i從計數器中領到  6 時，總和 = 12\n",
      "變數i從計數器中領到  8 時，總和 = 20\n",
      "變數i從計數器中領到 12 時，總和 = 32\n",
      "變數i從計數器中領到 14 時，總和 = 46\n",
      "變數i從計數器中領到 16 時，總和 = 62\n",
      "變數i從計數器中領到 18 時，總和 = 80\n"
     ]
    }
   ],
   "source": [
    "#continue\n",
    "total=0\n",
    "for i in range(2,20,2):#計數器中有2,4,6,8,10,12,14,16,18\n",
    "    if i==10:\n",
    "        continue #當i是10的時候，碰到continue，會離開這一輪的迴圈，繼續下一輪迴圈\n",
    "    else:\n",
    "        total+=i\n",
    "        print(f\"變數i從計數器中領到 {i:2d} 時，總和 = {total:2d}\")\n"
   ]
  },
  {
   "cell_type": "code",
   "execution_count": 10,
   "metadata": {},
   "outputs": [
    {
     "name": "stdout",
     "output_type": "stream",
     "text": [
      "請輸入上限:11\n",
      "12\n",
      "8\n"
     ]
    }
   ],
   "source": [
    "the_max=int(input(\"請輸入上限:\"))\n",
    "the_sum=0\n",
    "extra=0\n",
    "for num in range(1,the_max):\n",
    "    if num%2 and not num%3:\n",
    "        the_sum=the_sum+num\n",
    "    else:\n",
    "        extra=extra+1\n",
    "print(the_sum)\n",
    "print(extra)"
   ]
  },
  {
   "cell_type": "code",
   "execution_count": null,
   "metadata": {},
   "outputs": [],
   "source": []
  }
 ],
 "metadata": {
  "kernelspec": {
   "display_name": "Python 3",
   "language": "python",
   "name": "python3"
  },
  "language_info": {
   "codemirror_mode": {
    "name": "ipython",
    "version": 3
   },
   "file_extension": ".py",
   "mimetype": "text/x-python",
   "name": "python",
   "nbconvert_exporter": "python",
   "pygments_lexer": "ipython3",
   "version": "3.7.4"
  }
 },
 "nbformat": 4,
 "nbformat_minor": 2
}
