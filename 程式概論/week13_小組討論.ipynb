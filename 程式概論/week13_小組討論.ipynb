{
 "cells": [
  {
   "cell_type": "code",
   "execution_count": 1,
   "metadata": {},
   "outputs": [
    {
     "name": "stdout",
     "output_type": "stream",
     "text": [
      "case 1: a= 0\n",
      "case 2: b= {'test': 2}\n",
      "case 3: c= {}\n",
      "case 4: d= 2\n",
      "case 5: e= 10\n"
     ]
    }
   ],
   "source": [
    "def func1(a):\n",
    "    a=2\n",
    "def func2(b):\n",
    "    b['test']=2\n",
    "def func3():\n",
    "    c={}\n",
    "    c['test']=10\n",
    "def func4():\n",
    "    global d\n",
    "    d=2\n",
    "def func5():\n",
    "    e=10\n",
    "    return e\n",
    "\n",
    "#Case 1\n",
    "a=0  #全域變數\n",
    "func1(a)\n",
    "print('case 1: a=',a)\n",
    "\n",
    "#Case 2\n",
    "b={}\n",
    "func2(b)\n",
    "print('case 2: b=',b)\n",
    "\n",
    "#Case 3\n",
    "c={}\n",
    "func3()\n",
    "print('case 3: c=',c)\n",
    "\n",
    "#Case 4\n",
    "d=0\n",
    "func4()\n",
    "print('case 4: d=',d)\n",
    "\n",
    "#Case 5\n",
    "e=0\n",
    "e=func5()\n",
    "print('case 5: e=',e)\n"
   ]
  },
  {
   "cell_type": "code",
   "execution_count": 10,
   "metadata": {},
   "outputs": [
    {
     "name": "stdout",
     "output_type": "stream",
     "text": [
      "運算方法功能選單\n",
      "0:離開程式\n",
      "1:加法\n",
      "2:減法\n",
      "3:乘法\n",
      "4:除法\n",
      "請輸入0/1/2/3/4: 2\n",
      "a = a\n"
     ]
    },
    {
     "ename": "ValueError",
     "evalue": "invalid literal for int() with base 10: 'a'",
     "output_type": "error",
     "traceback": [
      "\u001b[1;31m---------------------------------------------------------------------------\u001b[0m",
      "\u001b[1;31mValueError\u001b[0m                                Traceback (most recent call last)",
      "\u001b[1;32m<ipython-input-10-fb51605aa4b3>\u001b[0m in \u001b[0;36m<module>\u001b[1;34m\u001b[0m\n\u001b[0;32m     21\u001b[0m     \u001b[1;32melif\u001b[0m \u001b[0mop\u001b[0m\u001b[1;33m.\u001b[0m\u001b[0misdecimal\u001b[0m\u001b[1;33m(\u001b[0m\u001b[1;33m)\u001b[0m\u001b[1;33m:\u001b[0m\u001b[1;33m\u001b[0m\u001b[1;33m\u001b[0m\u001b[0m\n\u001b[0;32m     22\u001b[0m     \u001b[1;31m# 使用者輸入\u001b[0m\u001b[1;33m\u001b[0m\u001b[1;33m\u001b[0m\u001b[1;33m\u001b[0m\u001b[0m\n\u001b[1;32m---> 23\u001b[1;33m         \u001b[0ma\u001b[0m \u001b[1;33m=\u001b[0m \u001b[0mint\u001b[0m\u001b[1;33m(\u001b[0m\u001b[0minput\u001b[0m\u001b[1;33m(\u001b[0m\u001b[1;34m\"a = \"\u001b[0m\u001b[1;33m)\u001b[0m\u001b[1;33m)\u001b[0m\u001b[1;33m\u001b[0m\u001b[1;33m\u001b[0m\u001b[0m\n\u001b[0m\u001b[0;32m     24\u001b[0m         \u001b[0mb\u001b[0m \u001b[1;33m=\u001b[0m \u001b[0mint\u001b[0m\u001b[1;33m(\u001b[0m\u001b[0minput\u001b[0m\u001b[1;33m(\u001b[0m\u001b[1;34m\"b = \"\u001b[0m\u001b[1;33m)\u001b[0m\u001b[1;33m)\u001b[0m\u001b[1;33m\u001b[0m\u001b[1;33m\u001b[0m\u001b[0m\n\u001b[0;32m     25\u001b[0m     \u001b[1;31m# 決定要執行哪一項運算功能\u001b[0m\u001b[1;33m\u001b[0m\u001b[1;33m\u001b[0m\u001b[1;33m\u001b[0m\u001b[0m\n",
      "\u001b[1;31mValueError\u001b[0m: invalid literal for int() with base 10: 'a'"
     ]
    }
   ],
   "source": [
    "def subtract(x1, x2):\n",
    "    return x1 - x2                     # 回傳減法結果\n",
    "def addition(x1, x2):\n",
    "    return x1 + x2                     # 回傳加法結果\n",
    "def product(x1, x2):\n",
    "    return x1 * x2\n",
    "def division(x1, x2):\n",
    "    return x1 / x2\n",
    "op=\"\"\n",
    "while op != \"0\":\n",
    "    # 功能選單\n",
    "    print(\"運算方法功能選單\")\n",
    "    print(\"0:離開程式\")\n",
    "    print(\"1:加法\")\n",
    "    print(\"2:減法\")\n",
    "    print(\"3:乘法\")\n",
    "    print(\"4:除法\")\n",
    "    op = (input(\"請輸入0/1/2/3/4: \"))\n",
    "    if op == \"0\":\n",
    "        print(\"離開程式\")\n",
    "    elif op.isdecimal():\n",
    "    # 使用者輸入\n",
    "        try:\n",
    "            a = int(input(\"a = \"))\n",
    "            b = int(input(\"b = \"))\n",
    "    # 決定要執行哪一項運算功能\n",
    "        \n",
    "            if op == \"1\":\n",
    "                print(\"a + b = \", addition(a, b))   # 輸出'a+b='和結果\n",
    "            elif op == \"2\":\n",
    "                print(\"a - b = \", subtract(a, b))   # 輸出'a-b='和結果\n",
    "            elif op == \"3\":\n",
    "                print(\"a * b = \", product(a, b))\n",
    "            elif op == \"4\":\n",
    "                print(\"a / b =\", division(a, b))\n",
    "            elif op == \"0\":\n",
    "                print(\"離開程式\")\n",
    "            else:\n",
    "                print(\"運算方法輸入錯誤\")\n",
    "        except ValueError:\n",
    "                print(\"請輸入阿拉伯數字\")\n",
    "    else:\n",
    "        print(\"輸入的並非選項之一\")"
   ]
  },
  {
   "cell_type": "markdown",
   "metadata": {},
   "source": []
  }
 ],
 "metadata": {
  "kernelspec": {
   "display_name": "Python 3",
   "language": "python",
   "name": "python3"
  },
  "language_info": {
   "codemirror_mode": {
    "name": "ipython",
    "version": 3
   },
   "file_extension": ".py",
   "mimetype": "text/x-python",
   "name": "python",
   "nbconvert_exporter": "python",
   "pygments_lexer": "ipython3",
   "version": "3.7.4"
  }
 },
 "nbformat": 4,
 "nbformat_minor": 2
}
