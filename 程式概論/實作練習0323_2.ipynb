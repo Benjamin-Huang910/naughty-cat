{
 "cells": [
  {
   "cell_type": "code",
   "execution_count": 25,
   "metadata": {},
   "outputs": [
    {
     "name": "stdout",
     "output_type": "stream",
     "text": [
      "argument\n",
      "two optional\n",
      "ra opoleo-lau\n",
      "45\n",
      "3\n",
      "2\n",
      "There are three optional keyword-only arguments\n"
     ]
    }
   ],
   "source": [
    "word=\"There are two optional keyword-only arguments\"\n",
    "word.find('arguments')\n",
    "word.find('s')\n",
    "print(word[36:44])\n",
    "word.find('two')\n",
    "word.index('al')\n",
    "print(word[10:22])\n",
    "print(word[3:40:3])\n",
    "print(len(word))\n",
    "print(word.find('re'))\n",
    "print(word.count('re'))\n",
    "print(word.replace('two','three'))"
   ]
  }
 ],
 "metadata": {
  "kernelspec": {
   "display_name": "Python 3",
   "language": "python",
   "name": "python3"
  },
  "language_info": {
   "codemirror_mode": {
    "name": "ipython",
    "version": 3
   },
   "file_extension": ".py",
   "mimetype": "text/x-python",
   "name": "python",
   "nbconvert_exporter": "python",
   "pygments_lexer": "ipython3",
   "version": "3.7.4"
  }
 },
 "nbformat": 4,
 "nbformat_minor": 2
}
