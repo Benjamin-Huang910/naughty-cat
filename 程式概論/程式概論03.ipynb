{
 "cells": [
  {
   "cell_type": "code",
   "execution_count": 2,
   "metadata": {},
   "outputs": [
    {
     "name": "stdout",
     "output_type": "stream",
     "text": [
      "<class 'str'>\n",
      "<class 'int'>\n",
      "123456\n"
     ]
    }
   ],
   "source": [
    "d='123'  #string \n",
    "e=456    #integer \n",
    "print(type(d)) \n",
    "print(type(e)) \n",
    "f=d+str(e)\n",
    "print(f)"
   ]
  },
  {
   "cell_type": "code",
   "execution_count": 3,
   "metadata": {},
   "outputs": [
    {
     "name": "stdout",
     "output_type": "stream",
     "text": [
      "<class 'str'>\n",
      "<class 'int'>\n",
      "579\n"
     ]
    }
   ],
   "source": [
    "d='123'  #string \n",
    "e=456    #integer \n",
    "print(type(d)) \n",
    "print(type(e)) \n",
    "f=int(d)+e\n",
    "print(f)"
   ]
  },
  {
   "cell_type": "code",
   "execution_count": 7,
   "metadata": {},
   "outputs": [
    {
     "data": {
      "text/plain": [
       "'1234'"
      ]
     },
     "execution_count": 7,
     "metadata": {},
     "output_type": "execute_result"
    }
   ],
   "source": [
    "char='a'\n",
    "string1=\"Good Morning!!\"\n",
    "str() \n",
    "str(1234)"
   ]
  },
  {
   "cell_type": "code",
   "execution_count": 8,
   "metadata": {},
   "outputs": [
    {
     "data": {
      "text/plain": [
       "''"
      ]
     },
     "execution_count": 8,
     "metadata": {},
     "output_type": "execute_result"
    }
   ],
   "source": [
    "str() "
   ]
  },
  {
   "cell_type": "code",
   "execution_count": 9,
   "metadata": {},
   "outputs": [
    {
     "data": {
      "text/plain": [
       "'1234'"
      ]
     },
     "execution_count": 9,
     "metadata": {},
     "output_type": "execute_result"
    }
   ],
   "source": [
    "str(1234)"
   ]
  },
  {
   "cell_type": "code",
   "execution_count": 10,
   "metadata": {},
   "outputs": [
    {
     "data": {
      "text/plain": [
       "'Good Morning!!'"
      ]
     },
     "execution_count": 10,
     "metadata": {},
     "output_type": "execute_result"
    }
   ],
   "source": [
    "string1"
   ]
  },
  {
   "cell_type": "code",
   "execution_count": 11,
   "metadata": {},
   "outputs": [
    {
     "data": {
      "text/plain": [
       "'a'"
      ]
     },
     "execution_count": 11,
     "metadata": {},
     "output_type": "execute_result"
    }
   ],
   "source": [
    "char"
   ]
  },
  {
   "cell_type": "code",
   "execution_count": 12,
   "metadata": {},
   "outputs": [
    {
     "name": "stdout",
     "output_type": "stream",
     "text": [
      "請輸入一個西元年:1987\n"
     ]
    }
   ],
   "source": [
    "years=input(\"請輸入一個西元年:\") "
   ]
  },
  {
   "cell_type": "code",
   "execution_count": 13,
   "metadata": {},
   "outputs": [
    {
     "name": "stdout",
     "output_type": "stream",
     "text": [
      "<class 'str'>\n"
     ]
    }
   ],
   "source": [
    "print(type(years)) "
   ]
  },
  {
   "cell_type": "code",
   "execution_count": 17,
   "metadata": {},
   "outputs": [
    {
     "name": "stdout",
     "output_type": "stream",
     "text": [
      "<class 'int'>\n",
      "(1)你所輸入的年份為西元 1987 年\n",
      "(2)你所輸入的年份為西元1987年\n",
      "(3)你所輸入的年份為西元1987年\n",
      "(4)你所輸入的年份為西元\t1987\t年\n",
      "(5)你所輸入的年份為西元\n",
      "1987\n",
      "年\n"
     ]
    }
   ],
   "source": [
    "year=int(years)\n",
    "print(type(year))\n",
    "print(\"(1)你所輸入的年份為西元\",year,\"年\")   \n",
    "print(\"(2)你所輸入的年份為西元\"+str(year)+\"年\")  \n",
    "print(\"(3)你所輸入的年份為西元\"+years+\"年\")\n",
    "print(\"(4)你所輸入的年份為西元\",year,\"年\",sep='\\t')\n",
    "print(\"(5)你所輸入的年份為西元\",year,\"年\",sep='\\n')\n"
   ]
  },
  {
   "cell_type": "code",
   "execution_count": 28,
   "metadata": {},
   "outputs": [
    {
     "name": "stdout",
     "output_type": "stream",
     "text": [
      "一二三四五\t1987\t二\n"
     ]
    }
   ],
   "source": [
    "print(\"一二三四五\",year,\"二\",sep='\\t')"
   ]
  },
  {
   "cell_type": "markdown",
   "metadata": {},
   "source": [
    "* 用逗號等於是把三份資料印出來\n",
    "* 加號等於一份資料\n",
    "* sep的預設是一個空格，如果想要覆寫原本的設定就得在空格內下指令\n",
    "* list[start:end:step],step是跳格選擇\n",
    "* list[::-1],::等於倒過來印"
   ]
  },
  {
   "cell_type": "code",
   "execution_count": 30,
   "metadata": {},
   "outputs": [
    {
     "name": "stdout",
     "output_type": "stream",
     "text": [
      "We have \\Room Service\\\n"
     ]
    }
   ],
   "source": [
    "print(\"We have \\\\Room Service\\\\\")"
   ]
  },
  {
   "cell_type": "code",
   "execution_count": null,
   "metadata": {},
   "outputs": [],
   "source": []
  }
 ],
 "metadata": {
  "kernelspec": {
   "display_name": "Python 3",
   "language": "python",
   "name": "python3"
  },
  "language_info": {
   "codemirror_mode": {
    "name": "ipython",
    "version": 3
   },
   "file_extension": ".py",
   "mimetype": "text/x-python",
   "name": "python",
   "nbconvert_exporter": "python",
   "pygments_lexer": "ipython3",
   "version": "3.7.4"
  }
 },
 "nbformat": 4,
 "nbformat_minor": 2
}
