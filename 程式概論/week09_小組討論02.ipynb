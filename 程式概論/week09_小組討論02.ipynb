{
 "cells": [
  {
   "cell_type": "code",
   "execution_count": 1,
   "metadata": {},
   "outputs": [
    {
     "name": "stdout",
     "output_type": "stream",
     "text": [
      "請猜一個1-100之間的數字:76\n",
      "答錯囉~猜小一點的數字吧> <\n",
      "請猜一個1-100之間的數字:78\n",
      "答錯囉~猜小一點的數字吧> <\n",
      "請猜一個1-100之間的數字:43\n",
      "哎呀~要不要試試看猜大一點的數字?\n",
      "請猜一個1-100之間的數字:54\n",
      "答錯囉~猜小一點的數字吧> <\n",
      "請猜一個1-100之間的數字:48\n",
      "答錯囉~猜小一點的數字吧> <\n",
      "請猜一個1-100之間的數字:46\n",
      "答錯囉~猜小一點的數字吧> <\n",
      "請猜一個1-100之間的數字:44\n",
      "哎呀~要不要試試看猜大一點的數字?\n",
      "請猜一個1-100之間的數字:45\n",
      "答對囉!\n"
     ]
    }
   ],
   "source": [
    "import random\n",
    "number=random.randint(1,100)\n",
    "answer=0\n",
    "while answer!=number:\n",
    "    answer=int(input(\"請猜一個1-100之間的數字:\"))\n",
    "    if answer>number:\n",
    "        print(\"答錯囉~猜小一點的數字吧> <\")\n",
    "    elif answer<number:\n",
    "        print(\"哎呀~要不要試試看猜大一點的數字?\")\n",
    "    else:\n",
    "        print(\"答對囉!\")"
   ]
  },
  {
   "cell_type": "code",
   "execution_count": 3,
   "metadata": {},
   "outputs": [
    {
     "name": "stdout",
     "output_type": "stream",
     "text": [
      "這個程式會印出使用者輸入的起始與結尾數字區間內所有7的倍數\n",
      "請輸入起始數字:1\n",
      "請輸入結尾數字:9\n",
      "7 "
     ]
    }
   ],
   "source": [
    "print('這個程式會印出使用者輸入的起始與結尾數字區間內所有7的倍數')\n",
    "s1=int(input('請輸入起始數字:'))\n",
    "s2=int(input('請輸入結尾數字:'))\n",
    "\n",
    "for i in range(s1,s2+1):\n",
    "    if(i%7==0): \n",
    "        print (f'{i:d}', end=' ')"
   ]
  }
 ],
 "metadata": {
  "kernelspec": {
   "display_name": "Python 3",
   "language": "python",
   "name": "python3"
  },
  "language_info": {
   "codemirror_mode": {
    "name": "ipython",
    "version": 3
   },
   "file_extension": ".py",
   "mimetype": "text/x-python",
   "name": "python",
   "nbconvert_exporter": "python",
   "pygments_lexer": "ipython3",
   "version": "3.7.4"
  }
 },
 "nbformat": 4,
 "nbformat_minor": 2
}
