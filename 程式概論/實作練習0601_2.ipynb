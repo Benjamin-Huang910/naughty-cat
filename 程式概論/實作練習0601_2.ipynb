{
 "cells": [
  {
   "cell_type": "code",
   "execution_count": 15,
   "metadata": {},
   "outputs": [
    {
     "name": "stdout",
     "output_type": "stream",
     "text": [
      "輸入一個可以成功轉為浮點數的資料:a\n",
      "輸入資料有錯誤，請重新輸入一個可以成功轉為浮點數的資料:1\n",
      "輸入的資料可以成功轉為浮點數 1.0\n"
     ]
    }
   ],
   "source": [
    "#1\n",
    "def check_float(num):\n",
    "    try:\n",
    "        result = float(num)\n",
    "    except:\n",
    "        result = False\n",
    "                           #有發生例外時，將變數result的內容設為False\n",
    "    else:\n",
    "        result = True\n",
    "                           #沒有發生例外時，將變數result的內容設為True\n",
    "    finally:\n",
    "        return result\n",
    "                           #不管有沒有發生例外，最後都將result的內容回傳\n",
    "\n",
    "\n",
    "while True:\n",
    "    a=input('輸入一個可以成功轉為浮點數的資料:')\n",
    "    if (not check_float(a)):\n",
    "        print('輸入資料有錯誤，請重新', end='')\n",
    "        continue\n",
    "    else:\n",
    "        print('輸入的資料可以成功轉為浮點數', float(a))\n",
    "        break\n"
   ]
  },
  {
   "cell_type": "code",
   "execution_count": null,
   "metadata": {},
   "outputs": [],
   "source": [
    "#2\n",
    "def check_int(num):\n",
    "    try:\n",
    "        result = int(num)\n",
    "    except:\n",
    "        result = False\n",
    "    else:\n",
    "        result = True\n",
    "    finally:\n",
    "        return result\n",
    "#3\n",
    "while True:\n",
    "    a=input('輸入一個可以成功轉為浮點數的資料:')\n",
    "    if (not check_int(a)):\n",
    "        print('輸入資料有錯誤，請重新', end='')\n",
    "        continue\n",
    "    else:\n",
    "        print('輸入的資料可以成功轉為浮點數', int(a))\n",
    "        break"
   ]
  }
 ],
 "metadata": {
  "kernelspec": {
   "display_name": "Python 3",
   "language": "python",
   "name": "python3"
  },
  "language_info": {
   "codemirror_mode": {
    "name": "ipython",
    "version": 3
   },
   "file_extension": ".py",
   "mimetype": "text/x-python",
   "name": "python",
   "nbconvert_exporter": "python",
   "pygments_lexer": "ipython3",
   "version": "3.7.4"
  }
 },
 "nbformat": 4,
 "nbformat_minor": 2
}
