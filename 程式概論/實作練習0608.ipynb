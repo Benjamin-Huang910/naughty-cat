{
 "cells": [
  {
   "cell_type": "code",
   "execution_count": 5,
   "metadata": {},
   "outputs": [
    {
     "name": "stdout",
     "output_type": "stream",
     "text": [
      "1999-09-10\n",
      "2020-06-08\n",
      "7577\n",
      "到今天為止已生活了20年又277天\n"
     ]
    }
   ],
   "source": [
    "from datetime import *\n",
    "#1\n",
    "bd=date(1999,9,10)\n",
    "print(bd)\n",
    "#2\n",
    "td=date.today()\n",
    "print(td)\n",
    "#3\n",
    "diff=td-bd         \n",
    "print(diff.days)\n",
    "living_years=diff.days//365\n",
    "living_days=diff.days%365\n",
    "print(\"到今天為止已生活了\"+str(living_years)+\"年又\"+str(living_days)+\"天\")"
   ]
  },
  {
   "cell_type": "code",
   "execution_count": null,
   "metadata": {},
   "outputs": [],
   "source": []
  },
  {
   "cell_type": "code",
   "execution_count": null,
   "metadata": {},
   "outputs": [],
   "source": []
  }
 ],
 "metadata": {
  "kernelspec": {
   "display_name": "Python 3",
   "language": "python",
   "name": "python3"
  },
  "language_info": {
   "codemirror_mode": {
    "name": "ipython",
    "version": 3
   },
   "file_extension": ".py",
   "mimetype": "text/x-python",
   "name": "python",
   "nbconvert_exporter": "python",
   "pygments_lexer": "ipython3",
   "version": "3.7.4"
  }
 },
 "nbformat": 4,
 "nbformat_minor": 2
}
