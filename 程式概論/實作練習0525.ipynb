{
 "cells": [
  {
   "cell_type": "code",
   "execution_count": 15,
   "metadata": {},
   "outputs": [
    {
     "name": "stdout",
     "output_type": "stream",
     "text": [
      "6250.0\n",
      "-1\n"
     ]
    }
   ],
   "source": [
    "def triangle(base, height):\n",
    "    if base > 0 and height > 0:\n",
    "        value=base*height/2\n",
    "        return value\n",
    "    else:\n",
    "        return -1\n",
    "result1=triangle(100, 125)\n",
    "print(result1)\n",
    "result2=triangle(-123, 20)\n",
    "print(result2)"
   ]
  }
 ],
 "metadata": {
  "kernelspec": {
   "display_name": "Python 3",
   "language": "python",
   "name": "python3"
  },
  "language_info": {
   "codemirror_mode": {
    "name": "ipython",
    "version": 3
   },
   "file_extension": ".py",
   "mimetype": "text/x-python",
   "name": "python",
   "nbconvert_exporter": "python",
   "pygments_lexer": "ipython3",
   "version": "3.7.4"
  }
 },
 "nbformat": 4,
 "nbformat_minor": 2
}
