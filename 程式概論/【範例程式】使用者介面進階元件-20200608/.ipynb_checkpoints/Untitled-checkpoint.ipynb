{
 "cells": [
  {
   "cell_type": "code",
   "execution_count": 4,
   "metadata": {},
   "outputs": [],
   "source": [
    "import tkinter\n",
    "from tkinter import messagebox\n",
    "\n",
    "def showMsg():    #制定函數\n",
    "    i=radio_v.get()\n",
    "    messagebox.showinfo('選取結果', '您最想去的國家為：'+country[i])#第一個為視窗標題，第二個為視窗內容\n",
    "    \n",
    "win=tkinter.Tk()#建立視窗\n",
    "win.title('最想要旅遊國家調查')#標題\n",
    "win.geometry('300x150')#大小\n",
    "\n",
    "label=tkinter.Label(win, text='請選取您最想要旅遊的國家：').pack()#文字訊息\n",
    "country={0:'土耳其', 1:'英國', 2:'日本', 3:'埃及'}#設定Radiobutton要使用的字典\n",
    "radio_v = tkinter.IntVar()#IntVar(): 產生tkinter定義的整數型態物件\n",
    "radio_v.set(0)\n",
    "for i in range(len(country)):#用迴圈節省時間\n",
    "    tkinter.Radiobutton(win,text=country[i],variable=radio_v,value=i).pack()\n",
    "\n",
    "tkinter.Button(win, text = \"確定\", command=showMsg).pack()#按鈕物件，叫出showMsg函數\n",
    "\n",
    "win.mainloop()"
   ]
  }
 ],
 "metadata": {
  "kernelspec": {
   "display_name": "Python 3",
   "language": "python",
   "name": "python3"
  },
  "language_info": {
   "codemirror_mode": {
    "name": "ipython",
    "version": 3
   },
   "file_extension": ".py",
   "mimetype": "text/x-python",
   "name": "python",
   "nbconvert_exporter": "python",
   "pygments_lexer": "ipython3",
   "version": "3.7.4"
  }
 },
 "nbformat": 4,
 "nbformat_minor": 2
}
