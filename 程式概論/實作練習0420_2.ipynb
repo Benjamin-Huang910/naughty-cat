{
 "cells": [
  {
   "cell_type": "code",
   "execution_count": 9,
   "metadata": {},
   "outputs": [
    {
     "name": "stdout",
     "output_type": "stream",
     "text": [
      "[0, 2, 4, 6, 8, 10, 12, 14, 16, 18, 20, 22, 24, 26, 28, 30, 32, 34, 36, 38, 40, 42, 44, 46, 48, 50, 52, 54, 56, 58, 60, 62, 64, 66, 68, 70, 72, 74, 76, 78, 80, 82, 84, 86, 88, 90, 92, 94, 96, 98, 100][0, 2, 4, 6, 8, 10, 12, 14, 16, 18, 20, 22, 24, 26, 28, 30, 32, 34, 36, 38, 40, 42, 44, 46, 48, 50, 52, 54, 56, 58, 60, 62, 64, 66, 68, 70, 72, 74, 76, 78, 80, 82, 84, 86, 88, 90]\n",
      "['15', '10', '00']\n",
      "['15', ['00'], 4, 6, 8, 10, 12, 14, 16, 18, 20, 22, 24, 26, 28, 30, 32, 34, 36, 38, 40, 42, 44, 46, 48, 50, 52, 54, 56, 58, 60, 62, 64, 66, 68, 70, 72, 74, 76, 78, 80, 82, 84, 86, 88, 90]\n",
      "Type of olist_ex: <class 'list'>\n",
      "Type of olist_ex[0]: <class 'str'>\n",
      "Type of olist_ex[1]: <class 'list'>\n",
      "Type of olist_ex[2]: <class 'int'>\n"
     ]
    }
   ],
   "source": [
    "#1\n",
    "list_ex=list(range(0,101,2))\n",
    "print(list_ex,end=\"\")\n",
    "#2\n",
    "del list_ex[-5:]\n",
    "print(list_ex)\n",
    "#3\n",
    "str_classtime='15:10:00'.split(':')\n",
    "list_classtime=str_classtime\n",
    "print(list_classtime)\n",
    "#4\n",
    "list_ex[0]=list_classtime[0]\n",
    "list_ex[1]=list_classtime[-1:]\n",
    "print(list_ex)\n",
    "#5\n",
    "print('Type of olist_ex:',type(list_ex))\n",
    "print('Type of olist_ex[0]:',type(list_ex[0]))\n",
    "print('Type of olist_ex[1]:',type(list_ex[1]))\n",
    "print('Type of olist_ex[2]:',type(list_ex[2]))"
   ]
  }
 ],
 "metadata": {
  "kernelspec": {
   "display_name": "Python 3",
   "language": "python",
   "name": "python3"
  },
  "language_info": {
   "codemirror_mode": {
    "name": "ipython",
    "version": 3
   },
   "file_extension": ".py",
   "mimetype": "text/x-python",
   "name": "python",
   "nbconvert_exporter": "python",
   "pygments_lexer": "ipython3",
   "version": "3.7.4"
  }
 },
 "nbformat": 4,
 "nbformat_minor": 2
}
