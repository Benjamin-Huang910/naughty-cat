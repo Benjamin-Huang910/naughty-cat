{
 "cells": [
  {
   "cell_type": "code",
   "execution_count": 10,
   "metadata": {},
   "outputs": [
    {
     "name": "stdout",
     "output_type": "stream",
     "text": [
      "==============================\n",
      "學生姓名                  分數\n",
      "------------------------------\n",
      "Mary                     68.69\n",
      "Tomas                    74.68\n",
      "William                  85.00\n"
     ]
    }
   ],
   "source": [
    "score1=68.689\n",
    "score2=74.6752\n",
    "score3=85\n",
    "print(\"=\"*30)\n",
    "print(\"學生姓名%-18s分數\"%(''))\n",
    "print(\"-\"*30)\n",
    "print(\"%-25s%.2f\"%(\"Mary\",score1))\n",
    "print(\"%-25s%.2f\"%(\"Tomas\",score2))\n",
    "print(\"%-25s%.2f\"%(\"William\",score3))"
   ]
  }
 ],
 "metadata": {
  "kernelspec": {
   "display_name": "Python 3",
   "language": "python",
   "name": "python3"
  },
  "language_info": {
   "codemirror_mode": {
    "name": "ipython",
    "version": 3
   },
   "file_extension": ".py",
   "mimetype": "text/x-python",
   "name": "python",
   "nbconvert_exporter": "python",
   "pygments_lexer": "ipython3",
   "version": "3.7.4"
  }
 },
 "nbformat": 4,
 "nbformat_minor": 2
}
