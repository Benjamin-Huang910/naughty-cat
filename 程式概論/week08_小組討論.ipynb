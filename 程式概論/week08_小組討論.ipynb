{
 "cells": [
  {
   "cell_type": "code",
   "execution_count": null,
   "metadata": {},
   "outputs": [],
   "source": [
    "student=15\n",
    "grade=[] #宣告一個空的串列變數名稱為student\n",
    "#透過for迴圈產生串列\n",
    "print('請依序輸入15個分數，每輸入完一個分數後請按Enter，在接著輸入下一個:')\n",
    "for item in range(student): #range產生的整數有0,1,2,3,4,...,14\n",
    "    line=input('輸入第'+str(item+1)+'個分數:') #使用者輸入\n",
    "    if line.isdecimal():\n",
    "        if int(line)<=100 and int(line)>=0:\n",
    "            data=int(line) #資料型態轉換\n",
    "            grade.append(data) #將data附加到grade這個list中\n",
    "        else:\n",
    "            print(\"此數字不在設定的分數範圍內\")\n",
    "    else:\n",
    "        print('剛剛輸入的第'+str(item+1)+'個值並非正整數，故不加入串列中')\n",
    "print('已完成輸入\\n')\n",
    "print(\"輸入的成績有\",end='-->\\n')\n",
    "for i in grade:\n",
    "    print(i,end='\\n')\n",
    "average_score=sum(grade)/len(grade)\n",
    "print(\"全班的總平均成績為:\",average_score)"
   ]
  },
  {
   "cell_type": "code",
   "execution_count": null,
   "metadata": {},
   "outputs": [],
   "source": []
  }
 ],
 "metadata": {
  "kernelspec": {
   "display_name": "Python 3",
   "language": "python",
   "name": "python3"
  },
  "language_info": {
   "codemirror_mode": {
    "name": "ipython",
    "version": 3
   },
   "file_extension": ".py",
   "mimetype": "text/x-python",
   "name": "python",
   "nbconvert_exporter": "python",
   "pygments_lexer": "ipython3",
   "version": "3.7.4"
  }
 },
 "nbformat": 4,
 "nbformat_minor": 2
}
