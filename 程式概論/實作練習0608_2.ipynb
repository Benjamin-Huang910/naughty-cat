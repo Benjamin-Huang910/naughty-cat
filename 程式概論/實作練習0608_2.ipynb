{
 "cells": [
  {
   "cell_type": "code",
   "execution_count": 9,
   "metadata": {},
   "outputs": [],
   "source": [
    "import tkinter\n",
    "\n",
    "def SayHello():\n",
    "    count.set(count.get()+1)\n",
    "    if count.get() % 2 != 0 :\n",
    "        lab1[\"text\"] = \"Hello, Python!\"\n",
    "    else:\n",
    "        lab1[\"text\"] = str(count.get())\n",
    "        \n",
    "\n",
    "\n",
    "win=tkinter.Tk()\n",
    "btn=tkinter.Button(win, text=\"Hello按鈕\", command=SayHello)  #建立一個Button的元件\n",
    "lab1=tkinter.Label(win)        #建立一個Label元件\n",
    "count = tkinter.IntVar()\n",
    "\n",
    "btn.pack()\n",
    "lab1.pack()\n",
    "win.mainloop()"
   ]
  },
  {
   "cell_type": "code",
   "execution_count": null,
   "metadata": {},
   "outputs": [],
   "source": []
  }
 ],
 "metadata": {
  "kernelspec": {
   "display_name": "Python 3",
   "language": "python",
   "name": "python3"
  },
  "language_info": {
   "codemirror_mode": {
    "name": "ipython",
    "version": 3
   },
   "file_extension": ".py",
   "mimetype": "text/x-python",
   "name": "python",
   "nbconvert_exporter": "python",
   "pygments_lexer": "ipython3",
   "version": "3.7.4"
  }
 },
 "nbformat": 4,
 "nbformat_minor": 2
}
