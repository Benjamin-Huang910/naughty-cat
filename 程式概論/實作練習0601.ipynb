{
 "cells": [
  {
   "cell_type": "code",
   "execution_count": 2,
   "metadata": {},
   "outputs": [
    {
     "name": "stdout",
     "output_type": "stream",
     "text": [
      "請輸入一個名字的key值:Mary\n",
      "300\n"
     ]
    }
   ],
   "source": [
    "data_dict={'Mary':200, 'John':'Hello World','Gary':'Farewell'} #創建字典\n",
    "\n",
    "while True: #無限迴圈\n",
    "    try:\n",
    "        message='' #創建一個空的字串\n",
    "        key1=input(\"請輸入一個名字的key值:\")\n",
    "        value1=data_dict[key1]#叫出字典裡相對應的值\n",
    "        message+=value1#把值丟進空字串裡面\n",
    "    except KeyError:#當出現不是在字典裡的key值時啟動\n",
    "        message = 'How are you today?'\n",
    "    except TypeError:\n",
    "        message = '200'\n",
    "    else:#當出現非KeyError或TypeError時啟動\n",
    "        message=message+\"  \"+\"Finished!\"\n",
    "    finally:\n",
    "        if message.isdigit():\n",
    "            message=int(message) + 100\n",
    "\n",
    "\n",
    "    print (message)\n",
    "    break"
   ]
  },
  {
   "cell_type": "code",
   "execution_count": null,
   "metadata": {},
   "outputs": [],
   "source": []
  }
 ],
 "metadata": {
  "kernelspec": {
   "display_name": "Python 3 (ipykernel)",
   "language": "python",
   "name": "python3"
  },
  "language_info": {
   "codemirror_mode": {
    "name": "ipython",
    "version": 3
   },
   "file_extension": ".py",
   "mimetype": "text/x-python",
   "name": "python",
   "nbconvert_exporter": "python",
   "pygments_lexer": "ipython3",
   "version": "3.9.12"
  }
 },
 "nbformat": 4,
 "nbformat_minor": 2
}
