{
 "cells": [
  {
   "cell_type": "code",
   "execution_count": null,
   "metadata": {},
   "outputs": [],
   "source": [
    "def subtract(x1, x2):\n",
    "    return x1 - x2                     # 回傳減法結果\n",
    "def addition(x1, x2):\n",
    "    return x1 + x2                     # 回傳加法結果\n",
    "def product(x1, x2):\n",
    "    return x1 * x2\n",
    "def division(x1, x2):\n",
    "    return x1 / x2"
   ]
  },
  {
   "cell_type": "code",
   "execution_count": 1,
   "metadata": {},
   "outputs": [],
   "source": [
    "import calculate"
   ]
  },
  {
   "cell_type": "code",
   "execution_count": 3,
   "metadata": {},
   "outputs": [
    {
     "name": "stdout",
     "output_type": "stream",
     "text": [
      "運算方法功能選單\n",
      "0:離開程式\n",
      "1:加法\n",
      "2:減法\n",
      "3:乘法\n",
      "4:除法\n",
      "請輸入0/1/2/3/4: 1\n",
      "a = 2\n",
      "b = 1\n",
      "a + b =  3\n",
      "運算方法功能選單\n",
      "0:離開程式\n",
      "1:加法\n",
      "2:減法\n",
      "3:乘法\n",
      "4:除法\n",
      "請輸入0/1/2/3/4: 0\n",
      "離開程式\n"
     ]
    }
   ],
   "source": [
    "op=\"\"\n",
    "while op != \"0\":\n",
    "    # 功能選單\n",
    "    print(\"運算方法功能選單\")\n",
    "    print(\"0:離開程式\")\n",
    "    print(\"1:加法\")\n",
    "    print(\"2:減法\")\n",
    "    print(\"3:乘法\")\n",
    "    print(\"4:除法\")\n",
    "    op = (input(\"請輸入0/1/2/3/4: \"))\n",
    "    if op == \"0\":\n",
    "        print(\"離開程式\")\n",
    "    elif op.isdecimal():\n",
    "    # 使用者輸入\n",
    "        try:\n",
    "            a = int(input(\"a = \"))\n",
    "            b = int(input(\"b = \"))\n",
    "    # 決定要執行哪一項運算功能\n",
    "        \n",
    "            if op == \"1\":\n",
    "                print(\"a + b = \", calculate.addition(a, b))   # 輸出'a+b='和結果\n",
    "            elif op == \"2\":\n",
    "                print(\"a - b = \", calculate.subtract(a, b))   # 輸出'a-b='和結果\n",
    "            elif op == \"3\":\n",
    "                print(\"a * b = \", calculate.product(a, b))\n",
    "            elif op == \"4\":\n",
    "                print(\"a / b =\", calculate.division(a, b))\n",
    "            elif op == \"0\":\n",
    "                print(\"離開程式\")\n",
    "            else:\n",
    "                print(\"運算方法輸入錯誤\")\n",
    "        except ValueError:\n",
    "                print(\"請輸入阿拉伯數字\")\n",
    "    else:\n",
    "        print(\"輸入的並非選項之一\")"
   ]
  },
  {
   "cell_type": "code",
   "execution_count": null,
   "metadata": {},
   "outputs": [],
   "source": []
  }
 ],
 "metadata": {
  "kernelspec": {
   "display_name": "Python 3",
   "language": "python",
   "name": "python3"
  },
  "language_info": {
   "codemirror_mode": {
    "name": "ipython",
    "version": 3
   },
   "file_extension": ".py",
   "mimetype": "text/x-python",
   "name": "python",
   "nbconvert_exporter": "python",
   "pygments_lexer": "ipython3",
   "version": "3.7.4"
  }
 },
 "nbformat": 4,
 "nbformat_minor": 2
}
