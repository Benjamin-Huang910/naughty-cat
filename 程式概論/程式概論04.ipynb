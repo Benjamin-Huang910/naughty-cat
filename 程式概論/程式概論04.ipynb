{
 "cells": [
  {
   "cell_type": "code",
   "execution_count": 1,
   "metadata": {},
   "outputs": [],
   "source": [
    "%matplotlib inline\n",
    "import numpy as np\n",
    "import matplotlib.pyplot as plt"
   ]
  },
  {
   "cell_type": "code",
   "execution_count": 3,
   "metadata": {},
   "outputs": [
    {
     "name": "stdout",
     "output_type": "stream",
     "text": [
      "0 1 2 3 4 5 6 7 8 9 "
     ]
    }
   ],
   "source": [
    "for item in range(10):\n",
    "    print(item,end=\" \")"
   ]
  },
  {
   "cell_type": "code",
   "execution_count": 5,
   "metadata": {},
   "outputs": [
    {
     "name": "stdout",
     "output_type": "stream",
     "text": [
      "0\t1\t2\t3\t4\t5\t6\t7\t8\t9\t"
     ]
    }
   ],
   "source": [
    "for item in range(10):\n",
    "    print(item,end=\"\\t\")"
   ]
  },
  {
   "cell_type": "code",
   "execution_count": 8,
   "metadata": {},
   "outputs": [
    {
     "name": "stdout",
     "output_type": "stream",
     "text": [
      "['p', 'y', 't', 'h', 'o', 'n']\n"
     ]
    }
   ],
   "source": [
    "msg='python'\n",
    "print(list(msg))"
   ]
  },
  {
   "cell_type": "code",
   "execution_count": 9,
   "metadata": {},
   "outputs": [
    {
     "name": "stdout",
     "output_type": "stream",
     "text": [
      "['hello', 'world', 'python']\n"
     ]
    }
   ],
   "source": [
    "msg='hello world python'.split()\n",
    "print(msg)"
   ]
  },
  {
   "cell_type": "code",
   "execution_count": 10,
   "metadata": {},
   "outputs": [
    {
     "name": "stdout",
     "output_type": "stream",
     "text": [
      "['2018', '10', '31']\n"
     ]
    }
   ],
   "source": [
    "msg1='2018/10/31'.split('/')\n",
    "print(msg1)"
   ]
  },
  {
   "cell_type": "code",
   "execution_count": 17,
   "metadata": {},
   "outputs": [
    {
     "name": "stdout",
     "output_type": "stream",
     "text": [
      "red green blue\n",
      "red_green_blue\n"
     ]
    }
   ],
   "source": [
    "color=['red','green','blue']\n",
    "print(' '.join(color))\n",
    "print('_'.join(color))"
   ]
  },
  {
   "cell_type": "code",
   "execution_count": 13,
   "metadata": {},
   "outputs": [
    {
     "name": "stdout",
     "output_type": "stream",
     "text": [
      "[0, 1, 2]\n"
     ]
    }
   ],
   "source": [
    "int_list=list(range(3))\n",
    "print(int_list)"
   ]
  },
  {
   "cell_type": "code",
   "execution_count": 14,
   "metadata": {},
   "outputs": [
    {
     "name": "stdout",
     "output_type": "stream",
     "text": [
      "[25, 54, 112, 65]\n"
     ]
    }
   ],
   "source": [
    "data=[25,54,112,32]\n",
    "data[-1]=65\n",
    "print(data)"
   ]
  },
  {
   "cell_type": "code",
   "execution_count": 15,
   "metadata": {},
   "outputs": [
    {
     "name": "stdout",
     "output_type": "stream",
     "text": [
      "[54, 112, 65]\n"
     ]
    }
   ],
   "source": [
    "del data[0]\n",
    "print(data)"
   ]
  },
  {
   "cell_type": "code",
   "execution_count": 16,
   "metadata": {},
   "outputs": [
    {
     "name": "stdout",
     "output_type": "stream",
     "text": [
      "[]\n"
     ]
    }
   ],
   "source": [
    "del data[:]\n",
    "print(data)"
   ]
  },
  {
   "cell_type": "code",
   "execution_count": 1,
   "metadata": {},
   "outputs": [
    {
     "name": "stdout",
     "output_type": "stream",
     "text": [
      "請依序輸入五個正整數，每輸入完一個正整數後請按Enter，在接著輸入下一個:\n",
      "輸入第1個正整數65\n",
      "輸入第2個正整數76\n",
      "輸入第3個正整數87\n",
      "輸入第4個正整數98\n",
      "輸入第5個正整數97\n",
      "已完成輸入\n",
      "\n",
      "student: [65, 76, 87, 98, 97]\n",
      "輸入的正整數有-->65  76  87  98  97  "
     ]
    }
   ],
   "source": [
    "count=5\n",
    "student=[] #宣告一個空的串列變數名稱為student\n",
    "#透過for迴圈產生串列\n",
    "print('請依序輸入五個正整數，每輸入完一個正整數後請按Enter，在接著輸入下一個:')\n",
    "for item in range(count): #range產生的整數有0,1,2,3,4\n",
    "    line=input('輸入第'+str(item+1)+'個正整數') #使用者輸入\n",
    "    if line.isdecimal():\n",
    "        data=int(line) #資料型態轉換\n",
    "        student.append(data) #將data附加到student這個list中\n",
    "    else:\n",
    "        print(f'剛剛輸入的第{item+1:3d}個值並非正整數，故不加入串列中')\n",
    "print('已完成輸入\\n')\n",
    "print(\"student:\",student)\n",
    "print(\"輸入的正整數有\",end=\"-->\")\n",
    "for item in student:\n",
    "    print(f'{item:d}',end='  ')"
   ]
  },
  {
   "cell_type": "code",
   "execution_count": 3,
   "metadata": {},
   "outputs": [
    {
     "name": "stdout",
     "output_type": "stream",
     "text": [
      "請依序輸入15個分數，每輸入完一個分數後請按Enter，在接著輸入下一個:\n",
      "輸入第1個正整數87\n",
      "輸入第2個正整數65\n",
      "輸入第3個正整數54\n",
      "輸入第4個正整數85\n",
      "輸入第5個正整數94\n",
      "輸入第6個正整數92\n",
      "輸入第7個正整數71\n",
      "輸入第8個正整數83\n",
      "輸入第9個正整數72\n",
      "輸入第10個正整數63\n",
      "輸入第11個正整數51\n",
      "輸入第12個正整數82\n",
      "輸入第13個正整數74\n",
      "輸入第14個正整數85\n",
      "輸入第15個正整數61\n",
      "已完成輸入\n",
      "\n",
      "grade: [87, 65, 54, 85, 94, 92, 71, 83, 72, 63, 51, 82, 74, 85, 61]\n",
      "輸入的成績有-->87  65  54  85  94  92  71  83  72  63  51  82  74  85  61  "
     ]
    }
   ],
   "source": [
    "student=15\n",
    "grade=[] #宣告一個空的串列變數名稱為student\n",
    "#透過for迴圈產生串列\n",
    "print('請依序輸入15個分數，每輸入完一個分數後請按Enter，在接著輸入下一個:')\n",
    "for item in range(student): #range產生的整數有0,1,2,3,4,...,14\n",
    "    line=input('輸入第'+str(item+1)+'個分數:') #使用者輸入\n",
    "    if line.isdecimal():\n",
    "        data=int(line) #資料型態轉換\n",
    "        grade.append(data) #將data附加到grade這個list中\n",
    "    else:\n",
    "        print('剛剛輸入的第'+str(item+1)+'個值並非正整數，故不加入串列中')\n",
    "print('已完成輸入\\n')\n",
    "print(\"grade:\",grade)\n",
    "print(\"輸入的成績有\",end='-->')\n",
    "for item in grade:\n",
    "    print(item,end='  ')\n",
    "anerage_score=sum(grade)/student"
   ]
  },
  {
   "cell_type": "code",
   "execution_count": 4,
   "metadata": {},
   "outputs": [
    {
     "data": {
      "text/plain": [
       "1119"
      ]
     },
     "execution_count": 4,
     "metadata": {},
     "output_type": "execute_result"
    }
   ],
   "source": [
    "sum(grade)"
   ]
  },
  {
   "cell_type": "code",
   "execution_count": null,
   "metadata": {},
   "outputs": [],
   "source": []
  }
 ],
 "metadata": {
  "kernelspec": {
   "display_name": "Python 3",
   "language": "python",
   "name": "python3"
  },
  "language_info": {
   "codemirror_mode": {
    "name": "ipython",
    "version": 3
   },
   "file_extension": ".py",
   "mimetype": "text/x-python",
   "name": "python",
   "nbconvert_exporter": "python",
   "pygments_lexer": "ipython3",
   "version": "3.7.4"
  }
 },
 "nbformat": 4,
 "nbformat_minor": 2
}
