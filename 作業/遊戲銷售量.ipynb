{
 "cells": [
  {
   "cell_type": "code",
   "execution_count": 1,
   "metadata": {},
   "outputs": [],
   "source": [
    "%matplotlib inline\n",
    "import numpy as np\n",
    "import matplotlib.pyplot as plt\n",
    "import pandas as pd"
   ]
  },
  {
   "cell_type": "code",
   "execution_count": 2,
   "metadata": {},
   "outputs": [],
   "source": [
    "x=pd.read_excel(\"GAMEnew.xlsx\")\n",
    "x1 = x.platform\n",
    "x2 = x.Genre\n",
    "x3 = x.Publisher"
   ]
  },
  {
   "cell_type": "code",
   "execution_count": 3,
   "metadata": {},
   "outputs": [],
   "source": [
    "from tensorflow.keras.utils import to_categorical\n",
    "x1 = to_categorical(x1, 31)\n",
    "x2 = to_categorical(x2, 13)\n",
    "x3 = to_categorical(x3, 572)\n",
    "x=np.concatenate((x1,x2,x3 ), axis=1)"
   ]
  },
  {
   "cell_type": "code",
   "execution_count": 4,
   "metadata": {},
   "outputs": [],
   "source": [
    "df = pd.read_excel(\"ynew(0-10).xlsx\")\n",
    "y = df.values\n",
    "y = to_categorical(y,11)"
   ]
  },
  {
   "cell_type": "code",
   "execution_count": 5,
   "metadata": {},
   "outputs": [],
   "source": [
    "x_train=x[0:13500]\n",
    "y_train=y[0:13500]\n",
    "x_test=x[13500:]\n",
    "y_test=y[13500:]"
   ]
  },
  {
   "cell_type": "code",
   "execution_count": 6,
   "metadata": {},
   "outputs": [],
   "source": [
    "from tensorflow.keras.models import Sequential\n",
    "from tensorflow.keras.layers import Dense\n",
    "from tensorflow.keras.optimizers import SGD"
   ]
  },
  {
   "cell_type": "code",
   "execution_count": 7,
   "metadata": {},
   "outputs": [],
   "source": [
    "models=Sequential()\n",
    "models.add(Dense(87,input_dim=616,activation='relu'))\n",
    "models.add(Dense(11,activation='softmax'))"
   ]
  },
  {
   "cell_type": "code",
   "execution_count": 8,
   "metadata": {},
   "outputs": [],
   "source": [
    "models.compile(loss='mse',optimizer=SGD(lr=0.87),metrics=['accuracy'])"
   ]
  },
  {
   "cell_type": "code",
   "execution_count": 9,
   "metadata": {},
   "outputs": [
    {
     "name": "stdout",
     "output_type": "stream",
     "text": [
      "Model: \"sequential\"\n",
      "_________________________________________________________________\n",
      "Layer (type)                 Output Shape              Param #   \n",
      "=================================================================\n",
      "dense (Dense)                (None, 87)                53679     \n",
      "_________________________________________________________________\n",
      "dense_1 (Dense)              (None, 11)                968       \n",
      "=================================================================\n",
      "Total params: 54,647\n",
      "Trainable params: 54,647\n",
      "Non-trainable params: 0\n",
      "_________________________________________________________________\n"
     ]
    }
   ],
   "source": [
    "models.summary()"
   ]
  },
  {
   "cell_type": "code",
   "execution_count": 10,
   "metadata": {},
   "outputs": [
    {
     "name": "stdout",
     "output_type": "stream",
     "text": [
      "Train on 13500 samples\n",
      "Epoch 1/10\n",
      "13500/13500 [==============================] - 5s 391us/sample - loss: 0.0818 - accuracy: 0.1436\n",
      "Epoch 2/10\n",
      "13500/13500 [==============================] - 4s 321us/sample - loss: 0.0803 - accuracy: 0.1777\n",
      "Epoch 3/10\n",
      "13500/13500 [==============================] - 4s 320us/sample - loss: 0.0791 - accuracy: 0.1892\n",
      "Epoch 4/10\n",
      "13500/13500 [==============================] - 4s 322us/sample - loss: 0.0784 - accuracy: 0.1979\n",
      "Epoch 5/10\n",
      "13500/13500 [==============================] - 4s 319us/sample - loss: 0.0781 - accuracy: 0.2110\n",
      "Epoch 6/10\n",
      "13500/13500 [==============================] - 4s 323us/sample - loss: 0.0777 - accuracy: 0.2177\n",
      "Epoch 7/10\n",
      "13500/13500 [==============================] - 4s 322us/sample - loss: 0.0775 - accuracy: 0.2185\n",
      "Epoch 8/10\n",
      "13500/13500 [==============================] - 4s 320us/sample - loss: 0.0773 - accuracy: 0.2276\n",
      "Epoch 9/10\n",
      "13500/13500 [==============================] - 4s 320us/sample - loss: 0.0771 - accuracy: 0.2291\n",
      "Epoch 10/10\n",
      "13500/13500 [==============================] - 4s 324us/sample - loss: 0.0769 - accuracy: 0.2358\n"
     ]
    },
    {
     "data": {
      "text/plain": [
       "<tensorflow.python.keras.callbacks.History at 0x2263bed7708>"
      ]
     },
     "execution_count": 10,
     "metadata": {},
     "output_type": "execute_result"
    }
   ],
   "source": [
    "models.fit(x_train,y_train,batch_size=10,epochs=10)"
   ]
  },
  {
   "cell_type": "code",
   "execution_count": 11,
   "metadata": {},
   "outputs": [
    {
     "name": "stdout",
     "output_type": "stream",
     "text": [
      "Train on 13500 samples\n",
      "Epoch 1/20\n",
      "13500/13500 [==============================] - 4s 261us/sample - loss: 0.0767 - accuracy: 0.2407\n",
      "Epoch 2/20\n",
      "13500/13500 [==============================] - 3s 224us/sample - loss: 0.0766 - accuracy: 0.2396\n",
      "Epoch 3/20\n",
      "13500/13500 [==============================] - 3s 222us/sample - loss: 0.0765 - accuracy: 0.2421\n",
      "Epoch 4/20\n",
      "13500/13500 [==============================] - 3s 221us/sample - loss: 0.0764 - accuracy: 0.2438\n",
      "Epoch 5/20\n",
      "13500/13500 [==============================] - 3s 223us/sample - loss: 0.0763 - accuracy: 0.2493\n",
      "Epoch 6/20\n",
      "13500/13500 [==============================] - 3s 219us/sample - loss: 0.0763 - accuracy: 0.2519\n",
      "Epoch 7/20\n",
      "13500/13500 [==============================] - 3s 215us/sample - loss: 0.0762 - accuracy: 0.2484\n",
      "Epoch 8/20\n",
      "13500/13500 [==============================] - 3s 218us/sample - loss: 0.0761 - accuracy: 0.2547\n",
      "Epoch 9/20\n",
      "13500/13500 [==============================] - 3s 215us/sample - loss: 0.0760 - accuracy: 0.2538\n",
      "Epoch 10/20\n",
      "13500/13500 [==============================] - 3s 221us/sample - loss: 0.0759 - accuracy: 0.2561\n",
      "Epoch 11/20\n",
      "13500/13500 [==============================] - 3s 219us/sample - loss: 0.0758 - accuracy: 0.2599\n",
      "Epoch 12/20\n",
      "13500/13500 [==============================] - 3s 218us/sample - loss: 0.0758 - accuracy: 0.2580\n",
      "Epoch 13/20\n",
      "13500/13500 [==============================] - 3s 219us/sample - loss: 0.0757 - accuracy: 0.2609\n",
      "Epoch 14/20\n",
      "13500/13500 [==============================] - 3s 206us/sample - loss: 0.0756 - accuracy: 0.2655\n",
      "Epoch 15/20\n",
      "13500/13500 [==============================] - 3s 218us/sample - loss: 0.0755 - accuracy: 0.2656\n",
      "Epoch 16/20\n",
      "13500/13500 [==============================] - 3s 222us/sample - loss: 0.0754 - accuracy: 0.2659\n",
      "Epoch 17/20\n",
      "13500/13500 [==============================] - 3s 221us/sample - loss: 0.0753 - accuracy: 0.2680\n",
      "Epoch 18/20\n",
      "13500/13500 [==============================] - 3s 217us/sample - loss: 0.0752 - accuracy: 0.2721\n",
      "Epoch 19/20\n",
      "13500/13500 [==============================] - 3s 214us/sample - loss: 0.0752 - accuracy: 0.2699\n",
      "Epoch 20/20\n",
      "13500/13500 [==============================] - 3s 215us/sample - loss: 0.0751 - accuracy: 0.2741\n"
     ]
    },
    {
     "data": {
      "text/plain": [
       "<tensorflow.python.keras.callbacks.History at 0x226445d5b48>"
      ]
     },
     "execution_count": 11,
     "metadata": {},
     "output_type": "execute_result"
    }
   ],
   "source": [
    "models.fit(x_train,y_train,batch_size=15,epochs=20)"
   ]
  },
  {
   "cell_type": "code",
   "execution_count": 12,
   "metadata": {},
   "outputs": [
    {
     "name": "stdout",
     "output_type": "stream",
     "text": [
      "Train on 13500 samples\n",
      "Epoch 1/30\n",
      "13500/13500 [==============================] - 9s 662us/sample - loss: 0.0755 - accuracy: 0.2640\n",
      "Epoch 2/30\n",
      "13500/13500 [==============================] - 9s 690us/sample - loss: 0.0754 - accuracy: 0.2681\n",
      "Epoch 3/30\n",
      "13500/13500 [==============================] - 8s 624us/sample - loss: 0.0751 - accuracy: 0.2729\n",
      "Epoch 4/30\n",
      "13500/13500 [==============================] - 8s 624us/sample - loss: 0.0749 - accuracy: 0.2764\n",
      "Epoch 5/30\n",
      "13500/13500 [==============================] - 9s 655us/sample - loss: 0.0747 - accuracy: 0.2782\n",
      "Epoch 6/30\n",
      "13500/13500 [==============================] - 8s 622us/sample - loss: 0.0745 - accuracy: 0.2841\n",
      "Epoch 7/30\n",
      "13500/13500 [==============================] - 8s 618us/sample - loss: 0.0743 - accuracy: 0.2895\n",
      "Epoch 8/30\n",
      "13500/13500 [==============================] - 8s 622us/sample - loss: 0.0741 - accuracy: 0.2876\n",
      "Epoch 9/30\n",
      "13500/13500 [==============================] - 9s 641us/sample - loss: 0.0739 - accuracy: 0.2916\n",
      "Epoch 10/30\n",
      "13500/13500 [==============================] - 9s 659us/sample - loss: 0.0736 - accuracy: 0.2982\n",
      "Epoch 11/30\n",
      "13500/13500 [==============================] - 9s 634us/sample - loss: 0.0734 - accuracy: 0.3039\n",
      "Epoch 12/30\n",
      "13500/13500 [==============================] - 8s 622us/sample - loss: 0.0732 - accuracy: 0.3119\n",
      "Epoch 13/30\n",
      "13500/13500 [==============================] - 8s 616us/sample - loss: 0.0730 - accuracy: 0.3124\n",
      "Epoch 14/30\n",
      "13500/13500 [==============================] - 8s 615us/sample - loss: 0.0727 - accuracy: 0.3151\n",
      "Epoch 15/30\n",
      "13500/13500 [==============================] - 8s 613us/sample - loss: 0.0725 - accuracy: 0.3139\n",
      "Epoch 16/30\n",
      "13500/13500 [==============================] - 8s 615us/sample - loss: 0.0723 - accuracy: 0.3230\n",
      "Epoch 17/30\n",
      "13500/13500 [==============================] - 8s 602us/sample - loss: 0.0721 - accuracy: 0.3201\n",
      "Epoch 18/30\n",
      "13500/13500 [==============================] - 8s 612us/sample - loss: 0.0719 - accuracy: 0.3282\n",
      "Epoch 19/30\n",
      "13500/13500 [==============================] - 8s 614us/sample - loss: 0.0716 - accuracy: 0.3308\n",
      "Epoch 20/30\n",
      "13500/13500 [==============================] - 8s 606us/sample - loss: 0.0714 - accuracy: 0.3308\n",
      "Epoch 21/30\n",
      "13500/13500 [==============================] - 8s 617us/sample - loss: 0.0712 - accuracy: 0.3360\n",
      "Epoch 22/30\n",
      "13500/13500 [==============================] - 8s 592us/sample - loss: 0.0709 - accuracy: 0.3396\n",
      "Epoch 23/30\n",
      "13500/13500 [==============================] - 8s 608us/sample - loss: 0.0708 - accuracy: 0.3430\n",
      "Epoch 24/30\n",
      "13500/13500 [==============================] - 9s 694us/sample - loss: 0.0706 - accuracy: 0.3447\n",
      "Epoch 25/30\n",
      "13500/13500 [==============================] - 8s 626us/sample - loss: 0.0704 - accuracy: 0.3503\n",
      "Epoch 26/30\n",
      "13500/13500 [==============================] - 8s 578us/sample - loss: 0.0702 - accuracy: 0.3541\n",
      "Epoch 27/30\n",
      "13500/13500 [==============================] - 8s 588us/sample - loss: 0.0700 - accuracy: 0.3550\n",
      "Epoch 28/30\n",
      "13500/13500 [==============================] - 8s 581us/sample - loss: 0.0697 - accuracy: 0.3559\n",
      "Epoch 29/30\n",
      "13500/13500 [==============================] - 8s 582us/sample - loss: 0.0696 - accuracy: 0.3597\n",
      "Epoch 30/30\n",
      "13500/13500 [==============================] - 8s 582us/sample - loss: 0.0694 - accuracy: 0.3589\n"
     ]
    },
    {
     "data": {
      "text/plain": [
       "<tensorflow.python.keras.callbacks.History at 0x226445d6548>"
      ]
     },
     "execution_count": 12,
     "metadata": {},
     "output_type": "execute_result"
    }
   ],
   "source": [
    "models.fit(x_train,y_train,batch_size=5,epochs=30)"
   ]
  },
  {
   "cell_type": "code",
   "execution_count": 13,
   "metadata": {},
   "outputs": [
    {
     "name": "stdout",
     "output_type": "stream",
     "text": [
      "神經網路預測是: [9 1 1 ... 0 0 3]\n"
     ]
    }
   ],
   "source": [
    "result = models.predict_classes(x_test)\n",
    "print('神經網路預測是:', result)"
   ]
  },
  {
   "cell_type": "code",
   "execution_count": 14,
   "metadata": {},
   "outputs": [
    {
     "name": "stdout",
     "output_type": "stream",
     "text": [
      "3096/3096 [==============================] - 1s 222us/sample - loss: 0.0813 - accuracy: 0.2171\n"
     ]
    }
   ],
   "source": [
    "score = models.evaluate(x_test, y_test)"
   ]
  },
  {
   "cell_type": "code",
   "execution_count": 15,
   "metadata": {},
   "outputs": [
    {
     "name": "stdout",
     "output_type": "stream",
     "text": [
      "測試資料的正確率為 0.21705426\n"
     ]
    }
   ],
   "source": [
    "loss, acc = score\n",
    "print('測試資料的正確率為', acc)"
   ]
  }
 ],
 "metadata": {
  "kernelspec": {
   "display_name": "Python 3",
   "language": "python",
   "name": "python3"
  },
  "language_info": {
   "codemirror_mode": {
    "name": "ipython",
    "version": 3
   },
   "file_extension": ".py",
   "mimetype": "text/x-python",
   "name": "python",
   "nbconvert_exporter": "python",
   "pygments_lexer": "ipython3",
   "version": "3.7.4"
  }
 },
 "nbformat": 4,
 "nbformat_minor": 2
}
