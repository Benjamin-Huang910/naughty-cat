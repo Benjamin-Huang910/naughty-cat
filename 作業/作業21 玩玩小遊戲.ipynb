{
 "cells": [
  {
   "cell_type": "code",
   "execution_count": 1,
   "metadata": {},
   "outputs": [],
   "source": [
    "import random as r\n",
    "import time"
   ]
  },
  {
   "cell_type": "code",
   "execution_count": 10,
   "metadata": {},
   "outputs": [],
   "source": [
    "def lottery():\n",
    "    list1=r.sample(range(1,50),7)\n",
    "    special=list1.pop()\n",
    "    list1.sort()\n",
    "    print(\"中獎號碼為:\", end=\"\")\n",
    "    for i in range(0,6):\n",
    "        if i == 5:    print(str(list1[1]))\n",
    "        else:    print(str(list1[1]), end=\", \")\n",
    "    print(\"特別獎:\"+str(special))\n",
    "def poker():\n",
    "    flower = [\"♠\", \"♥\", \"♣\", \"♦\"]\n",
    "    number = ['A', '1', '2', '3', '4', '5', '6', '7', '8', '9', '10', 'J', 'Q', 'K']\n",
    "    poker = []\n",
    "    pokers = []\n",
    "    n=1\n",
    "    for i in flower:\n",
    "        for j in number:\n",
    "            pokers.append((n, (i+j)))\n",
    "            n = n + 1\n",
    "    print(\"洗牌中......\")\n",
    "    r.shuffle(pokers)\n",
    "    def shaf(x):\n",
    "        for i in x:\n",
    "            pokers.remove(i)\n",
    "        return pokers\n",
    "    def place(y):\n",
    "        for i in y:\n",
    "            print(i[1], ',', end = \" \")\n",
    "    def pai(z):\n",
    "        for i in z:\n",
    "            print(i[1], ',', end = \" \")\n",
    "    time.sleep(3)\n",
    "    print(\"洗牌完成\")\n",
    "    time.sleep(1)\n",
    "    a = r.sample(pokers, 13)\n",
    "    pokers = shaf(a)   \n",
    "    print(\"為player1發牌中......\\n\")\n",
    "    b = r.sample(pokers,13) \n",
    "    pokers=shaf(b)   \n",
    "    print(\"為player2發牌中......\\n\")\n",
    "    c = r.sample(pokers,13) \n",
    "    pokers = shaf(c)   \n",
    "    print(\"為player3發牌中......\\n\")\n",
    "    d = r.sample(pokers,13) \n",
    "    pokers = shaf(d)   \n",
    "    print(\"為player4發牌中......\\n\")\n",
    "    a.sort()\n",
    "    b.sort()\n",
    "    c.sort()\n",
    "    d.sort()\n",
    "    time.sleep(3)\n",
    "    print(\"player1的牌：\")\n",
    "    print(pai(a))\n",
    "    print(\"player2的牌：\")\n",
    "    print(pai(b))\n",
    "    print(\"player3的牌：\")\n",
    "    print(pai(c))\n",
    "    print(\"player4的牌：\")\n",
    "    print(pai(d))"
   ]
  },
  {
   "cell_type": "code",
   "execution_count": 16,
   "metadata": {},
   "outputs": [
    {
     "name": "stdout",
     "output_type": "stream",
     "text": [
      "開始遊戲/退出遊戲(請填(yes/no)): yes\n",
      "進入遊戲菜單\n",
      "請選擇遊戲(樂透/終極/幾A幾B/撲克牌比大小/quit): quit\n",
      "回到初始選單\n",
      "開始遊戲/退出遊戲(請填(yes/no)): yes\n",
      "進入遊戲菜單\n",
      "請選擇遊戲(樂透/終極/幾A幾B/撲克牌比大小/quit): quit\n",
      "回到初始選單\n",
      "開始遊戲/退出遊戲(請填(yes/no)): ewe\n",
      "無此選項\n",
      "開始遊戲/退出遊戲(請填(yes/no)): no\n",
      "離開遊戲\n"
     ]
    }
   ],
   "source": [
    "while True:\n",
    "    game_start=input(\"開始遊戲/退出遊戲(請填(yes/no)): \")\n",
    "    if  game_start == \"yes\":\n",
    "        print(\"進入遊戲菜單\")\n",
    "    elif game_start == \"no\":\n",
    "        print(\"離開遊戲\")\n",
    "        break\n",
    "    else:\n",
    "        print(\"無此選項\")\n",
    "        continue\n",
    "    while True:\n",
    "        option=input(\"請選擇遊戲(樂透/終極/幾A幾B/撲克牌比大小/quit): \")\n",
    "        if option == \"樂透\":  \n",
    "            lottery()\n",
    "        elif option == \"終極\": \n",
    "            print(\"unfinished\")\n",
    "        elif option == \"幾A幾B\":  \n",
    "            print(\"unfininshed\")\n",
    "        elif option == \"撲克牌比大小\":\n",
    "            poker()\n",
    "        elif option == \"quit\":\n",
    "            print(\"回到初始選單\")\n",
    "            break\n",
    "        else:\n",
    "            print(\"查無此遊戲\")"
   ]
  },
  {
   "cell_type": "code",
   "execution_count": null,
   "metadata": {},
   "outputs": [],
   "source": []
  }
 ],
 "metadata": {
  "kernelspec": {
   "display_name": "Python 3",
   "language": "python",
   "name": "python3"
  },
  "language_info": {
   "codemirror_mode": {
    "name": "ipython",
    "version": 3
   },
   "file_extension": ".py",
   "mimetype": "text/x-python",
   "name": "python",
   "nbconvert_exporter": "python",
   "pygments_lexer": "ipython3",
   "version": "3.7.4"
  }
 },
 "nbformat": 4,
 "nbformat_minor": 2
}
