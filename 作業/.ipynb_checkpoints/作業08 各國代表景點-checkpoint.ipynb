{
 "cells": [
  {
   "cell_type": "code",
   "execution_count": 5,
   "metadata": {},
   "outputs": [],
   "source": [
    "%matplotlib inline\n",
    "import numpy as np\n",
    "import matplotlib.pyplot as plt"
   ]
  },
  {
   "cell_type": "code",
   "execution_count": 6,
   "metadata": {},
   "outputs": [],
   "source": [
    "classic_view=({'台灣':'101大樓','日本':'東京鐵塔','韓國':'首爾塔','中國':'紫禁城','美國':'自由女神像','英國':'倫敦鐵塔',\n",
    "              '義大利':'義大利斜塔','法國':'巴黎鐵塔','西班牙':'聖家堂','加拿大':'楓葉'})"
   ]
  },
  {
   "cell_type": "code",
   "execution_count": null,
   "metadata": {},
   "outputs": [
    {
     "name": "stdout",
     "output_type": "stream",
     "text": [
      "國家: 奧地利\n",
      "沒收錄本國的經典景點\n",
      "國家: 阿根廷\n",
      "沒收錄本國的經典景點\n",
      "國家: 台灣\n",
      "101大樓\n",
      "國家: 中國\n",
      "紫禁城\n"
     ]
    }
   ],
   "source": [
    "m=classic_view.keys()\n",
    "while True:\n",
    "    try:\n",
    "        print(classic_view[input(\"國家: \")])\n",
    "    except KeyError:\n",
    "        print(\"沒收錄本國的經典景點\")"
   ]
  },
  {
   "cell_type": "code",
   "execution_count": null,
   "metadata": {},
   "outputs": [],
   "source": []
  }
 ],
 "metadata": {
  "kernelspec": {
   "display_name": "Python 3",
   "language": "python",
   "name": "python3"
  },
  "language_info": {
   "codemirror_mode": {
    "name": "ipython",
    "version": 3
   },
   "file_extension": ".py",
   "mimetype": "text/x-python",
   "name": "python",
   "nbconvert_exporter": "python",
   "pygments_lexer": "ipython3",
   "version": "3.7.4"
  }
 },
 "nbformat": 4,
 "nbformat_minor": 2
}
