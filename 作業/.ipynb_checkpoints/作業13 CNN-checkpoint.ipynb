{
 "cells": [
  {
   "cell_type": "code",
   "execution_count": 1,
   "metadata": {},
   "outputs": [],
   "source": [
    "%matplotlib inline\n",
    "import numpy as np\n",
    "import matplotlib.pyplot as plt\n",
    "import pandas as pd"
   ]
  },
  {
   "cell_type": "markdown",
   "metadata": {},
   "source": [
    "### 1.讀入 Fashion MNIST 數據集"
   ]
  },
  {
   "cell_type": "code",
   "execution_count": 2,
   "metadata": {},
   "outputs": [],
   "source": [
    "from tensorflow.keras.datasets import fashion_mnist"
   ]
  },
  {
   "cell_type": "code",
   "execution_count": 3,
   "metadata": {},
   "outputs": [],
   "source": [
    "(x_train, y_train), (x_test, y_test) = fashion_mnist.load_data()"
   ]
  },
  {
   "cell_type": "markdown",
   "metadata": {},
   "source": [
    "### 2. 檢查資料形式"
   ]
  },
  {
   "cell_type": "code",
   "execution_count": 41,
   "metadata": {},
   "outputs": [],
   "source": [
    "class_names = ['T-shirt/top', 'Trouser', 'Pullover', 'Dress', 'Coat',\n",
    "               'Sandal', 'Shirt', 'Sneaker', 'Bag', 'Ankle boot']"
   ]
  },
  {
   "cell_type": "code",
   "execution_count": 5,
   "metadata": {},
   "outputs": [
    {
     "data": {
      "text/plain": [
       "(60000, 28, 28)"
      ]
     },
     "execution_count": 5,
     "metadata": {},
     "output_type": "execute_result"
    }
   ],
   "source": [
    "x_train.shape"
   ]
  },
  {
   "cell_type": "markdown",
   "metadata": {},
   "source": [
    "#### 2-1 進行reshape以符合輸入的規格"
   ]
  },
  {
   "cell_type": "code",
   "execution_count": 7,
   "metadata": {},
   "outputs": [],
   "source": [
    "x_train=x_train.reshape(60000,28,28,1)/255\n",
    "x_test=x_test.reshape(10000,28,28,1)/255"
   ]
  },
  {
   "cell_type": "code",
   "execution_count": 8,
   "metadata": {},
   "outputs": [
    {
     "data": {
      "text/plain": [
       "(28, 28, 1)"
      ]
     },
     "execution_count": 8,
     "metadata": {},
     "output_type": "execute_result"
    }
   ],
   "source": [
    "x_train[87].shape"
   ]
  },
  {
   "cell_type": "markdown",
   "metadata": {},
   "source": [
    "#### 2-2 把輸出資料集規格改成one hot in coding"
   ]
  },
  {
   "cell_type": "code",
   "execution_count": 9,
   "metadata": {},
   "outputs": [
    {
     "data": {
      "text/plain": [
       "7"
      ]
     },
     "execution_count": 9,
     "metadata": {},
     "output_type": "execute_result"
    }
   ],
   "source": [
    "y_train[87]"
   ]
  },
  {
   "cell_type": "code",
   "execution_count": 10,
   "metadata": {},
   "outputs": [],
   "source": [
    "from tensorflow.keras.utils import to_categorical"
   ]
  },
  {
   "cell_type": "code",
   "execution_count": 11,
   "metadata": {},
   "outputs": [],
   "source": [
    "y_train=to_categorical(y_train,10)\n",
    "y_test=to_categorical(y_test,10)"
   ]
  },
  {
   "cell_type": "markdown",
   "metadata": {},
   "source": [
    "### 3. 讀入必要函式"
   ]
  },
  {
   "cell_type": "code",
   "execution_count": 12,
   "metadata": {},
   "outputs": [],
   "source": [
    "from tensorflow.keras.models import Sequential\n",
    "from tensorflow.keras.layers import Conv2D,MaxPooling2D\n",
    "from tensorflow.keras.layers import Dense,Flatten\n",
    "from tensorflow.keras.optimizers import SGD"
   ]
  },
  {
   "cell_type": "markdown",
   "metadata": {},
   "source": [
    "### 4. 打造函數學習機(CNN)(三層convolutional layers(16,32,64)、一層標準NN(神經元78個))"
   ]
  },
  {
   "cell_type": "code",
   "execution_count": 13,
   "metadata": {},
   "outputs": [],
   "source": [
    "model=Sequential()"
   ]
  },
  {
   "cell_type": "code",
   "execution_count": 14,
   "metadata": {},
   "outputs": [],
   "source": [
    "model.add(Conv2D(16,(3,3),padding='same',\n",
    "                 input_shape=(28,28,1),\n",
    "                 activation='relu'))"
   ]
  },
  {
   "cell_type": "code",
   "execution_count": 15,
   "metadata": {},
   "outputs": [],
   "source": [
    "model.add(MaxPooling2D(pool_size=(2,2)))"
   ]
  },
  {
   "cell_type": "code",
   "execution_count": 16,
   "metadata": {},
   "outputs": [],
   "source": [
    "model.add(Conv2D(32,(3,3),padding='same',\n",
    "                activation='relu'))"
   ]
  },
  {
   "cell_type": "code",
   "execution_count": 17,
   "metadata": {},
   "outputs": [],
   "source": [
    "model.add(MaxPooling2D(pool_size=(2,2)))"
   ]
  },
  {
   "cell_type": "code",
   "execution_count": 18,
   "metadata": {},
   "outputs": [],
   "source": [
    "model.add(Conv2D(64,(3,3),padding='same',\n",
    "                activation='relu'))"
   ]
  },
  {
   "cell_type": "code",
   "execution_count": 19,
   "metadata": {},
   "outputs": [],
   "source": [
    "model.add(MaxPooling2D(pool_size=(2,2)))"
   ]
  },
  {
   "cell_type": "code",
   "execution_count": 20,
   "metadata": {},
   "outputs": [],
   "source": [
    "### 輸入進標準NN之前進行拉平的動作"
   ]
  },
  {
   "cell_type": "code",
   "execution_count": 21,
   "metadata": {},
   "outputs": [],
   "source": [
    "model.add(Flatten())"
   ]
  },
  {
   "cell_type": "code",
   "execution_count": 22,
   "metadata": {},
   "outputs": [],
   "source": [
    "model.add(Dense(78,activation='relu'))"
   ]
  },
  {
   "cell_type": "code",
   "execution_count": 23,
   "metadata": {},
   "outputs": [],
   "source": [
    "model.add(Dense(10,activation='softmax'))"
   ]
  },
  {
   "cell_type": "markdown",
   "metadata": {},
   "source": [
    "### 5.看一下打造好的神經網路"
   ]
  },
  {
   "cell_type": "code",
   "execution_count": 25,
   "metadata": {},
   "outputs": [
    {
     "name": "stdout",
     "output_type": "stream",
     "text": [
      "Model: \"sequential\"\n",
      "_________________________________________________________________\n",
      "Layer (type)                 Output Shape              Param #   \n",
      "=================================================================\n",
      "conv2d (Conv2D)              (None, 28, 28, 16)        160       \n",
      "_________________________________________________________________\n",
      "max_pooling2d (MaxPooling2D) (None, 14, 14, 16)        0         \n",
      "_________________________________________________________________\n",
      "conv2d_1 (Conv2D)            (None, 14, 14, 32)        4640      \n",
      "_________________________________________________________________\n",
      "max_pooling2d_1 (MaxPooling2 (None, 7, 7, 32)          0         \n",
      "_________________________________________________________________\n",
      "conv2d_2 (Conv2D)            (None, 7, 7, 64)          18496     \n",
      "_________________________________________________________________\n",
      "max_pooling2d_2 (MaxPooling2 (None, 3, 3, 64)          0         \n",
      "_________________________________________________________________\n",
      "flatten (Flatten)            (None, 576)               0         \n",
      "_________________________________________________________________\n",
      "dense (Dense)                (None, 78)                45006     \n",
      "_________________________________________________________________\n",
      "dense_1 (Dense)              (None, 10)                790       \n",
      "=================================================================\n",
      "Total params: 69,092\n",
      "Trainable params: 69,092\n",
      "Non-trainable params: 0\n",
      "_________________________________________________________________\n"
     ]
    }
   ],
   "source": [
    "model.summary()"
   ]
  },
  {
   "cell_type": "code",
   "execution_count": 26,
   "metadata": {},
   "outputs": [
    {
     "data": {
      "text/plain": [
       "160"
      ]
     },
     "execution_count": 26,
     "metadata": {},
     "output_type": "execute_result"
    }
   ],
   "source": [
    "# (3*3(權重)+1(bias))*16(filters)\n",
    "\n",
    "(3*3+1)*16"
   ]
  },
  {
   "cell_type": "code",
   "execution_count": 27,
   "metadata": {},
   "outputs": [
    {
     "data": {
      "text/plain": [
       "4640"
      ]
     },
     "execution_count": 27,
     "metadata": {},
     "output_type": "execute_result"
    }
   ],
   "source": [
    "# (3*3(權重)*16(記分板)+1(bias))*32(filters)\n",
    "\n",
    "(3*3*16+1)*32"
   ]
  },
  {
   "cell_type": "code",
   "execution_count": 28,
   "metadata": {},
   "outputs": [
    {
     "data": {
      "text/plain": [
       "18496"
      ]
     },
     "execution_count": 28,
     "metadata": {},
     "output_type": "execute_result"
    }
   ],
   "source": [
    "# (3*3(權重)*32(記分板)+1(bias))*64(filters)\n",
    "\n",
    "(3*3*32+1)*64"
   ]
  },
  {
   "cell_type": "code",
   "execution_count": 29,
   "metadata": {},
   "outputs": [
    {
     "data": {
      "text/plain": [
       "576"
      ]
     },
     "execution_count": 29,
     "metadata": {},
     "output_type": "execute_result"
    }
   ],
   "source": [
    "# 矩陣拉平成一向量\n",
    "\n",
    "3*3*64"
   ]
  },
  {
   "cell_type": "code",
   "execution_count": 32,
   "metadata": {},
   "outputs": [
    {
     "data": {
      "text/plain": [
       "45006"
      ]
     },
     "execution_count": 32,
     "metadata": {},
     "output_type": "execute_result"
    }
   ],
   "source": [
    "# 神經位元相連結\n",
    "\n",
    "(78)*(576+1)"
   ]
  },
  {
   "cell_type": "code",
   "execution_count": 33,
   "metadata": {},
   "outputs": [],
   "source": [
    "### loss function 改使用 Cross Entropy, learning rate 改 0.078"
   ]
  },
  {
   "cell_type": "code",
   "execution_count": 34,
   "metadata": {},
   "outputs": [],
   "source": [
    "model.compile(loss='categorical_crossentropy',optimizer=SGD(lr=0.078),\n",
    "             metrics=['accuracy'])"
   ]
  },
  {
   "cell_type": "markdown",
   "metadata": {},
   "source": [
    "### 6. fit (256一組,訓練20次)(目標accuracy在95%以上)"
   ]
  },
  {
   "cell_type": "code",
   "execution_count": 35,
   "metadata": {},
   "outputs": [
    {
     "name": "stdout",
     "output_type": "stream",
     "text": [
      "Train on 60000 samples\n",
      "Epoch 1/20\n",
      "60000/60000 [==============================] - 24s 392us/sample - loss: 1.2239 - accuracy: 0.5640\n",
      "Epoch 2/20\n",
      "60000/60000 [==============================] - 20s 335us/sample - loss: 0.5932 - accuracy: 0.7756\n",
      "Epoch 3/20\n",
      "60000/60000 [==============================] - 20s 327us/sample - loss: 0.4811 - accuracy: 0.8232\n",
      "Epoch 4/20\n",
      "60000/60000 [==============================] - 20s 331us/sample - loss: 0.4277 - accuracy: 0.8423\n",
      "Epoch 5/20\n",
      "60000/60000 [==============================] - 20s 327us/sample - loss: 0.3888 - accuracy: 0.8574\n",
      "Epoch 6/20\n",
      "60000/60000 [==============================] - 20s 334us/sample - loss: 0.3628 - accuracy: 0.8666\n",
      "Epoch 7/20\n",
      "60000/60000 [==============================] - 20s 327us/sample - loss: 0.3452 - accuracy: 0.8722\n",
      "Epoch 8/20\n",
      "60000/60000 [==============================] - 20s 327us/sample - loss: 0.3269 - accuracy: 0.8792- loss: 0.3273 - accura\n",
      "Epoch 9/20\n",
      "60000/60000 [==============================] - 20s 328us/sample - loss: 0.3157 - accuracy: 0.8845\n",
      "Epoch 10/20\n",
      "60000/60000 [==============================] - 20s 329us/sample - loss: 0.3017 - accuracy: 0.8903\n",
      "Epoch 11/20\n",
      "60000/60000 [==============================] - 20s 327us/sample - loss: 0.2923 - accuracy: 0.8935\n",
      "Epoch 12/20\n",
      "60000/60000 [==============================] - 20s 328us/sample - loss: 0.2859 - accuracy: 0.8950\n",
      "Epoch 13/20\n",
      "60000/60000 [==============================] - 20s 330us/sample - loss: 0.2783 - accuracy: 0.8988\n",
      "Epoch 14/20\n",
      "60000/60000 [==============================] - 20s 330us/sample - loss: 0.2714 - accuracy: 0.9000\n",
      "Epoch 15/20\n",
      "60000/60000 [==============================] - 20s 331us/sample - loss: 0.2601 - accuracy: 0.9047\n",
      "Epoch 16/20\n",
      "60000/60000 [==============================] - 20s 330us/sample - loss: 0.2566 - accuracy: 0.9062\n",
      "Epoch 17/20\n",
      "60000/60000 [==============================] - 20s 332us/sample - loss: 0.2507 - accuracy: 0.9078\n",
      "Epoch 18/20\n",
      "60000/60000 [==============================] - 20s 331us/sample - loss: 0.2469 - accuracy: 0.9084\n",
      "Epoch 19/20\n",
      "60000/60000 [==============================] - 20s 329us/sample - loss: 0.2398 - accuracy: 0.9128\n",
      "Epoch 20/20\n",
      "60000/60000 [==============================] - 20s 329us/sample - loss: 0.2364 - accuracy: 0.9134\n"
     ]
    },
    {
     "data": {
      "text/plain": [
       "<tensorflow.python.keras.callbacks.History at 0x29bbd0fcbc8>"
      ]
     },
     "execution_count": 35,
     "metadata": {},
     "output_type": "execute_result"
    }
   ],
   "source": [
    "model.fit(x_train,y_train,batch_size=256,epochs=20)"
   ]
  },
  {
   "cell_type": "markdown",
   "metadata": {},
   "source": [
    "#### 6-1. 目標沒有達成 改成128一組 訓練30次"
   ]
  },
  {
   "cell_type": "code",
   "execution_count": 36,
   "metadata": {},
   "outputs": [
    {
     "name": "stdout",
     "output_type": "stream",
     "text": [
      "Train on 60000 samples\n",
      "Epoch 1/30\n",
      "60000/60000 [==============================] - 21s 346us/sample - loss: 0.2540 - accuracy: 0.9070- loss: 0.2546 - accuracy\n",
      "Epoch 2/30\n",
      "60000/60000 [==============================] - 20s 341us/sample - loss: 0.2422 - accuracy: 0.9094\n",
      "Epoch 3/30\n",
      "60000/60000 [==============================] - 21s 345us/sample - loss: 0.2317 - accuracy: 0.9153\n",
      "Epoch 4/30\n",
      "60000/60000 [==============================] - 21s 346us/sample - loss: 0.2236 - accuracy: 0.9175\n",
      "Epoch 5/30\n",
      "60000/60000 [==============================] - 22s 358us/sample - loss: 0.2179 - accuracy: 0.9191\n",
      "Epoch 6/30\n",
      "60000/60000 [==============================] - 21s 342us/sample - loss: 0.2111 - accuracy: 0.9218\n",
      "Epoch 7/30\n",
      "60000/60000 [==============================] - 21s 345us/sample - loss: 0.2039 - accuracy: 0.9244\n",
      "Epoch 8/30\n",
      "60000/60000 [==============================] - 21s 343us/sample - loss: 0.1984 - accuracy: 0.9268\n",
      "Epoch 9/30\n",
      "60000/60000 [==============================] - 20s 341us/sample - loss: 0.1934 - accuracy: 0.9281\n",
      "Epoch 10/30\n",
      "60000/60000 [==============================] - 20s 341us/sample - loss: 0.1888 - accuracy: 0.9286\n",
      "Epoch 11/30\n",
      "60000/60000 [==============================] - 21s 345us/sample - loss: 0.1834 - accuracy: 0.9320- loss: 0.1\n",
      "Epoch 12/30\n",
      "60000/60000 [==============================] - 21s 346us/sample - loss: 0.1779 - accuracy: 0.9335\n",
      "Epoch 13/30\n",
      "60000/60000 [==============================] - 21s 344us/sample - loss: 0.1737 - accuracy: 0.9350\n",
      "Epoch 14/30\n",
      "60000/60000 [==============================] - 21s 343us/sample - loss: 0.1698 - accuracy: 0.9370\n",
      "Epoch 15/30\n",
      "60000/60000 [==============================] - 21s 346us/sample - loss: 0.1643 - accuracy: 0.9385\n",
      "Epoch 16/30\n",
      "60000/60000 [==============================] - 21s 346us/sample - loss: 0.1607 - accuracy: 0.9403\n",
      "Epoch 17/30\n",
      "60000/60000 [==============================] - 22s 359us/sample - loss: 0.1551 - accuracy: 0.9423\n",
      "Epoch 18/30\n",
      "60000/60000 [==============================] - 23s 380us/sample - loss: 0.1510 - accuracy: 0.9436\n",
      "Epoch 19/30\n",
      "60000/60000 [==============================] - 25s 411us/sample - loss: 0.1474 - accuracy: 0.9449\n",
      "Epoch 20/30\n",
      "60000/60000 [==============================] - 25s 412us/sample - loss: 0.1427 - accuracy: 0.9451\n",
      "Epoch 21/30\n",
      "60000/60000 [==============================] - 25s 412us/sample - loss: 0.1390 - accuracy: 0.9481\n",
      "Epoch 22/30\n",
      "60000/60000 [==============================] - 24s 406us/sample - loss: 0.1358 - accuracy: 0.9484\n",
      "Epoch 23/30\n",
      "60000/60000 [==============================] - 24s 407us/sample - loss: 0.1317 - accuracy: 0.9514\n",
      "Epoch 24/30\n",
      "60000/60000 [==============================] - 24s 406us/sample - loss: 0.1275 - accuracy: 0.9523\n",
      "Epoch 25/30\n",
      "60000/60000 [==============================] - 26s 426us/sample - loss: 0.1251 - accuracy: 0.9525\n",
      "Epoch 26/30\n",
      "60000/60000 [==============================] - 24s 394us/sample - loss: 0.1213 - accuracy: 0.9550\n",
      "Epoch 27/30\n",
      "60000/60000 [==============================] - 23s 385us/sample - loss: 0.1198 - accuracy: 0.9538\n",
      "Epoch 28/30\n",
      "60000/60000 [==============================] - 23s 380us/sample - loss: 0.1147 - accuracy: 0.9572\n",
      "Epoch 29/30\n",
      "60000/60000 [==============================] - 23s 375us/sample - loss: 0.1122 - accuracy: 0.9574\n",
      "Epoch 30/30\n",
      "60000/60000 [==============================] - 23s 381us/sample - loss: 0.1073 - accuracy: 0.9596\n"
     ]
    },
    {
     "data": {
      "text/plain": [
       "<tensorflow.python.keras.callbacks.History at 0x29be1e985c8>"
      ]
     },
     "execution_count": 36,
     "metadata": {},
     "output_type": "execute_result"
    }
   ],
   "source": [
    "model.fit(x_train,y_train,batch_size=128,epochs=30)"
   ]
  },
  {
   "cell_type": "markdown",
   "metadata": {},
   "source": [
    "### 7. 預測"
   ]
  },
  {
   "cell_type": "code",
   "execution_count": 37,
   "metadata": {},
   "outputs": [],
   "source": [
    "result=model.predict_classes(x_test)"
   ]
  },
  {
   "cell_type": "code",
   "execution_count": 42,
   "metadata": {},
   "outputs": [],
   "source": [
    "def my_predict(n):\n",
    "    print('我可愛的CNN預測是',class_names[result[n]])\n",
    "    X=x_test[n].reshape(28,28)\n",
    "    plt.imshow(X,cmap='Greys')"
   ]
  },
  {
   "cell_type": "code",
   "execution_count": 43,
   "metadata": {},
   "outputs": [],
   "source": [
    "from ipywidgets import interact_manual"
   ]
  },
  {
   "cell_type": "code",
   "execution_count": 44,
   "metadata": {},
   "outputs": [
    {
     "data": {
      "application/vnd.jupyter.widget-view+json": {
       "model_id": "b00fc59da4b2417f9c8b725e555e8cf5",
       "version_major": 2,
       "version_minor": 0
      },
      "text/plain": [
       "interactive(children=(IntSlider(value=4999, description='n', max=9999), Button(description='Run Interact', sty…"
      ]
     },
     "metadata": {},
     "output_type": "display_data"
    },
    {
     "data": {
      "text/plain": [
       "<function __main__.my_predict(n)>"
      ]
     },
     "execution_count": 44,
     "metadata": {},
     "output_type": "execute_result"
    }
   ],
   "source": [
    "interact_manual(my_predict,n=(0,9999))"
   ]
  },
  {
   "cell_type": "code",
   "execution_count": null,
   "metadata": {},
   "outputs": [],
   "source": []
  }
 ],
 "metadata": {
  "kernelspec": {
   "display_name": "Python 3",
   "language": "python",
   "name": "python3"
  },
  "language_info": {
   "codemirror_mode": {
    "name": "ipython",
    "version": 3
   },
   "file_extension": ".py",
   "mimetype": "text/x-python",
   "name": "python",
   "nbconvert_exporter": "python",
   "pygments_lexer": "ipython3",
   "version": "3.7.4"
  }
 },
 "nbformat": 4,
 "nbformat_minor": 2
}
