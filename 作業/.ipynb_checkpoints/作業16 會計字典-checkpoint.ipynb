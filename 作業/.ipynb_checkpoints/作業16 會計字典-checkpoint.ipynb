{
 "cells": [
  {
   "cell_type": "code",
   "execution_count": null,
   "metadata": {},
   "outputs": [],
   "source": [
    "d={'acct1':'123','acct2':'456','acct3':'789'}\n",
    "\n",
    "count_user=3\n",
    "while count_user:\n",
    "    name=input(\"請輸入您的用戶名: \") #1 判斷使用者是否存在(有三次登入機會)\n",
    "    if name in d:\n",
    "        break\n",
    "    else:\n",
    "        count_user-=1\n",
    "        print(\"您輸入的用戶名不存在，請重新輸入\")\n",
    "        continue\n",
    "count_code=3\n",
    "while count_code:\n",
    "    password=input(\"請輸入您的密碼: \") #2 使用者密碼是否正確(有三次輸入密碼的機會)\n",
    "    if d[name] == password:\n",
    "        print(\"進入系統\")\n",
    "        break\n",
    "    else:\n",
    "        count_code-=1\n",
    "        print(\"您輸入的密碼不正確，還有{}次輸入機會\".format(count))\n",
    "        continue\n",
    "value={'1104':'現金','1121':'應收票據'}\n",
    "while True:\n",
    "    func=input(\"請選擇您欲使用的會計字典功能(查詢/新增/刪除/跳出): \")\n",
    "    if func == \"查詢\":                #3 查詢功能\n",
    "        key=input(\"請輸入欲查詢的科目代碼\")\n",
    "        if key in value:\n",
    "            print(value[key])\n",
    "        else:\n",
    "            print(\"查無此科目\")\n",
    "    elif func == \"新增\":              #4 新增功能\n",
    "        key_u=input(\"請輸入欲新增的代碼\")\n",
    "        value_u=input(\"請輸入欲新增的科目\")\n",
    "        value[key_u]=value_u\n",
    "    elif func == \"刪除\":              #5 刪除功能\n",
    "        key_d=input(\"請輸入欲刪除的代碼\")\n",
    "        if key in value:\n",
    "            del value[key_d]\n",
    "        else:\n",
    "            print(\"無法刪除不存在的代碼\")\n",
    "    elif func == \"跳出\":              #6 跳出功能\n",
    "        break\n",
    "    else:\n",
    "        print(\"查無此功能\")\n",
    "file1=open('科目表.txt', 'a+',  encoding='utf-8') #7 將現有字典內容永久儲存於\"科目表.txt.”記事本內\n",
    "file1.write(str(value))\n",
    "file1.close()"
   ]
  }
 ],
 "metadata": {
  "kernelspec": {
   "display_name": "Python 3",
   "language": "python",
   "name": "python3"
  },
  "language_info": {
   "codemirror_mode": {
    "name": "ipython",
    "version": 3
   },
   "file_extension": ".py",
   "mimetype": "text/x-python",
   "name": "python",
   "nbconvert_exporter": "python",
   "pygments_lexer": "ipython3",
   "version": "3.7.4"
  }
 },
 "nbformat": 4,
 "nbformat_minor": 2
}
