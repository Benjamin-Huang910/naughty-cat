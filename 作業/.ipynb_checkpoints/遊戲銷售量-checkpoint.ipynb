{
 "cells": [
  {
   "cell_type": "code",
   "execution_count": 1,
   "metadata": {},
   "outputs": [],
   "source": [
    "%matplotlib inline\n",
    "import numpy as np\n",
    "import matplotlib.pyplot as plt\n",
    "import pandas as pd\n",
    "import tensorflow as tf"
   ]
  },
  {
   "cell_type": "code",
   "execution_count": 2,
   "metadata": {},
   "outputs": [],
   "source": [
    "x=pd.read_excel(\"GAMEnew.xlsx\")\n",
    "x1 = x.platform\n",
    "x2 = x.Genre\n",
    "x3 = x.Publisher"
   ]
  },
  {
   "cell_type": "code",
   "execution_count": 3,
   "metadata": {},
   "outputs": [],
   "source": [
    "from tensorflow.keras.utils import to_categorical\n",
    "x1 = to_categorical(x1, 31)\n",
    "x2 = to_categorical(x2, 13)\n",
    "x3 = to_categorical(x3, 572)\n",
    "x=np.concatenate((x1,x2,x3 ), axis=1)"
   ]
  },
  {
   "cell_type": "code",
   "execution_count": 4,
   "metadata": {},
   "outputs": [],
   "source": [
    "df = pd.read_excel(\"ynew(0-10).xlsx\")\n",
    "y = df.values\n",
    "y = to_categorical(y,11)"
   ]
  },
  {
   "cell_type": "code",
   "execution_count": 5,
   "metadata": {},
   "outputs": [],
   "source": [
    "x_train=x[0:13500]\n",
    "y_train=y[0:13500]\n",
    "x_test=x[13500:]\n",
    "y_test=y[13500:]"
   ]
  },
  {
   "cell_type": "code",
   "execution_count": 6,
   "metadata": {},
   "outputs": [],
   "source": [
    "from tensorflow.keras.models import Sequential\n",
    "from tensorflow.keras.layers import Dense\n",
    "from tensorflow.keras.optimizers import SGD"
   ]
  },
  {
   "cell_type": "code",
   "execution_count": 11,
   "metadata": {},
   "outputs": [],
   "source": [
    "models=Sequential()\n",
    "models.add(Dense(50,input_dim=616,activation='relu'))\n",
    "models.add(Dense(11,activation='softmax'))"
   ]
  },
  {
   "cell_type": "code",
   "execution_count": 12,
   "metadata": {},
   "outputs": [],
   "source": [
    "models.compile(loss='mse',optimizer=SGD(lr=1),metrics=['accuracy'])"
   ]
  },
  {
   "cell_type": "code",
   "execution_count": 13,
   "metadata": {},
   "outputs": [
    {
     "name": "stdout",
     "output_type": "stream",
     "text": [
      "Model: \"sequential_1\"\n",
      "_________________________________________________________________\n",
      "Layer (type)                 Output Shape              Param #   \n",
      "=================================================================\n",
      "dense_2 (Dense)              (None, 50)                30850     \n",
      "_________________________________________________________________\n",
      "dense_3 (Dense)              (None, 11)                561       \n",
      "=================================================================\n",
      "Total params: 31,411\n",
      "Trainable params: 31,411\n",
      "Non-trainable params: 0\n",
      "_________________________________________________________________\n"
     ]
    }
   ],
   "source": [
    "models.summary()"
   ]
  },
  {
   "cell_type": "code",
   "execution_count": 14,
   "metadata": {},
   "outputs": [
    {
     "name": "stdout",
     "output_type": "stream",
     "text": [
      "Train on 13500 samples\n",
      "Epoch 1/10\n",
      "13500/13500 [==============================] - 5s 407us/sample - loss: 0.0817 - accuracy: 0.1428\n",
      "Epoch 2/10\n",
      "13500/13500 [==============================] - 4s 294us/sample - loss: 0.0802 - accuracy: 0.1781\n",
      "Epoch 3/10\n",
      "13500/13500 [==============================] - 4s 301us/sample - loss: 0.0790 - accuracy: 0.1948\n",
      "Epoch 4/10\n",
      "13500/13500 [==============================] - 4s 298us/sample - loss: 0.0783 - accuracy: 0.2020\n",
      "Epoch 5/10\n",
      "13500/13500 [==============================] - 4s 293us/sample - loss: 0.0780 - accuracy: 0.2111\n",
      "Epoch 6/10\n",
      "13500/13500 [==============================] - 4s 305us/sample - loss: 0.0777 - accuracy: 0.2196\n",
      "Epoch 7/10\n",
      "13500/13500 [==============================] - 4s 312us/sample - loss: 0.0774 - accuracy: 0.2234\n",
      "Epoch 8/10\n",
      "13500/13500 [==============================] - 4s 298us/sample - loss: 0.0772 - accuracy: 0.2279\n",
      "Epoch 9/10\n",
      "13500/13500 [==============================] - 4s 292us/sample - loss: 0.0770 - accuracy: 0.2306\n",
      "Epoch 10/10\n",
      "13500/13500 [==============================] - 4s 294us/sample - loss: 0.0769 - accuracy: 0.2364\n"
     ]
    },
    {
     "data": {
      "text/plain": [
       "<tensorflow.python.keras.callbacks.History at 0x18158e9a108>"
      ]
     },
     "execution_count": 14,
     "metadata": {},
     "output_type": "execute_result"
    }
   ],
   "source": [
    "models.fit(x_train,y_train,batch_size=10,epochs=10)"
   ]
  },
  {
   "cell_type": "code",
   "execution_count": 15,
   "metadata": {},
   "outputs": [
    {
     "name": "stdout",
     "output_type": "stream",
     "text": [
      "Train on 13500 samples\n",
      "Epoch 1/20\n",
      "13500/13500 [==============================] - 1s 88us/sample - loss: 0.0766 - accuracy: 0.2451\n",
      "Epoch 2/20\n",
      "13500/13500 [==============================] - 1s 38us/sample - loss: 0.0765 - accuracy: 0.2456\n",
      "Epoch 3/20\n",
      "13500/13500 [==============================] - 0s 37us/sample - loss: 0.0765 - accuracy: 0.2461\n",
      "Epoch 4/20\n",
      "13500/13500 [==============================] - 0s 37us/sample - loss: 0.0765 - accuracy: 0.2456\n",
      "Epoch 5/20\n",
      "13500/13500 [==============================] - 1s 37us/sample - loss: 0.0764 - accuracy: 0.2466\n",
      "Epoch 6/20\n",
      "13500/13500 [==============================] - 1s 39us/sample - loss: 0.0764 - accuracy: 0.2483\n",
      "Epoch 7/20\n",
      "13500/13500 [==============================] - 0s 36us/sample - loss: 0.0764 - accuracy: 0.2467\n",
      "Epoch 8/20\n",
      "13500/13500 [==============================] - 0s 37us/sample - loss: 0.0764 - accuracy: 0.2477\n",
      "Epoch 9/20\n",
      "13500/13500 [==============================] - 1s 39us/sample - loss: 0.0764 - accuracy: 0.2471\n",
      "Epoch 10/20\n",
      "13500/13500 [==============================] - 1s 39us/sample - loss: 0.0764 - accuracy: 0.2487\n",
      "Epoch 11/20\n",
      "13500/13500 [==============================] - 0s 36us/sample - loss: 0.0763 - accuracy: 0.2496\n",
      "Epoch 12/20\n",
      "13500/13500 [==============================] - 1s 41us/sample - loss: 0.0763 - accuracy: 0.2499\n",
      "Epoch 13/20\n",
      "13500/13500 [==============================] - 1s 38us/sample - loss: 0.0763 - accuracy: 0.2489\n",
      "Epoch 14/20\n",
      "13500/13500 [==============================] - 1s 37us/sample - loss: 0.0763 - accuracy: 0.2496\n",
      "Epoch 15/20\n",
      "13500/13500 [==============================] - 1s 38us/sample - loss: 0.0763 - accuracy: 0.2505\n",
      "Epoch 16/20\n",
      "13500/13500 [==============================] - 1s 38us/sample - loss: 0.0763 - accuracy: 0.2513\n",
      "Epoch 17/20\n",
      "13500/13500 [==============================] - 1s 38us/sample - loss: 0.0762 - accuracy: 0.2508\n",
      "Epoch 18/20\n",
      "13500/13500 [==============================] - 1s 39us/sample - loss: 0.0762 - accuracy: 0.2516\n",
      "Epoch 19/20\n",
      "13500/13500 [==============================] - 1s 37us/sample - loss: 0.0762 - accuracy: 0.2527\n",
      "Epoch 20/20\n",
      "13500/13500 [==============================] - 0s 34us/sample - loss: 0.0762 - accuracy: 0.2546\n"
     ]
    },
    {
     "data": {
      "text/plain": [
       "<tensorflow.python.keras.callbacks.History at 0x181599351c8>"
      ]
     },
     "execution_count": 15,
     "metadata": {},
     "output_type": "execute_result"
    }
   ],
   "source": [
    "models.fit(x_train,y_train,batch_size=100,epochs=20)"
   ]
  },
  {
   "cell_type": "code",
   "execution_count": 16,
   "metadata": {},
   "outputs": [
    {
     "name": "stdout",
     "output_type": "stream",
     "text": [
      "Train on 13500 samples\n",
      "Epoch 1/30\n",
      "13500/13500 [==============================] - 9s 631us/sample - loss: 0.0767 - accuracy: 0.2363\n",
      "Epoch 2/30\n",
      "13500/13500 [==============================] - 8s 585us/sample - loss: 0.0765 - accuracy: 0.2410\n",
      "Epoch 3/30\n",
      "13500/13500 [==============================] - 8s 591us/sample - loss: 0.0763 - accuracy: 0.2478\n",
      "Epoch 4/30\n",
      "13500/13500 [==============================] - 8s 583us/sample - loss: 0.0760 - accuracy: 0.2528\n",
      "Epoch 5/30\n",
      "13500/13500 [==============================] - 8s 582us/sample - loss: 0.0759 - accuracy: 0.2544\n",
      "Epoch 6/30\n",
      "13500/13500 [==============================] - 8s 587us/sample - loss: 0.0757 - accuracy: 0.2582\n",
      "Epoch 7/30\n",
      "13500/13500 [==============================] - 8s 596us/sample - loss: 0.0755 - accuracy: 0.2604\n",
      "Epoch 8/30\n",
      "13500/13500 [==============================] - 8s 582us/sample - loss: 0.0753 - accuracy: 0.2650\n",
      "Epoch 9/30\n",
      "13500/13500 [==============================] - 8s 578us/sample - loss: 0.0751 - accuracy: 0.2679\n",
      "Epoch 10/30\n",
      "13500/13500 [==============================] - 8s 592us/sample - loss: 0.0749 - accuracy: 0.2761\n",
      "Epoch 11/30\n",
      "13500/13500 [==============================] - 8s 601us/sample - loss: 0.0747 - accuracy: 0.2755\n",
      "Epoch 12/30\n",
      "13500/13500 [==============================] - 8s 592us/sample - loss: 0.0746 - accuracy: 0.2825\n",
      "Epoch 13/30\n",
      "13500/13500 [==============================] - 8s 580us/sample - loss: 0.0743 - accuracy: 0.2907\n",
      "Epoch 14/30\n",
      "13500/13500 [==============================] - 8s 574us/sample - loss: 0.0742 - accuracy: 0.2902\n",
      "Epoch 15/30\n",
      "13500/13500 [==============================] - 8s 565us/sample - loss: 0.0740 - accuracy: 0.2961\n",
      "Epoch 16/30\n",
      "13500/13500 [==============================] - 8s 561us/sample - loss: 0.0738 - accuracy: 0.2956\n",
      "Epoch 17/30\n",
      "13500/13500 [==============================] - 8s 574us/sample - loss: 0.0737 - accuracy: 0.2970\n",
      "Epoch 18/30\n",
      "13500/13500 [==============================] - 7s 553us/sample - loss: 0.0734 - accuracy: 0.3015\n",
      "Epoch 19/30\n",
      "13500/13500 [==============================] - 8s 587us/sample - loss: 0.0732 - accuracy: 0.3084\n",
      "Epoch 20/30\n",
      "13500/13500 [==============================] - 8s 577us/sample - loss: 0.0731 - accuracy: 0.3076\n",
      "Epoch 21/30\n",
      "13500/13500 [==============================] - 8s 576us/sample - loss: 0.0729 - accuracy: 0.3124\n",
      "Epoch 22/30\n",
      "13500/13500 [==============================] - 9s 637us/sample - loss: 0.0727 - accuracy: 0.3145\n",
      "Epoch 23/30\n",
      "13500/13500 [==============================] - 8s 590us/sample - loss: 0.0726 - accuracy: 0.3115\n",
      "Epoch 24/30\n",
      "13500/13500 [==============================] - 8s 568us/sample - loss: 0.0724 - accuracy: 0.3178\n",
      "Epoch 25/30\n",
      "13500/13500 [==============================] - 8s 607us/sample - loss: 0.0722 - accuracy: 0.3186\n",
      "Epoch 26/30\n",
      "13500/13500 [==============================] - 8s 576us/sample - loss: 0.0720 - accuracy: 0.3219\n",
      "Epoch 27/30\n",
      "13500/13500 [==============================] - 8s 572us/sample - loss: 0.0718 - accuracy: 0.3253\n",
      "Epoch 28/30\n",
      "13500/13500 [==============================] - 8s 590us/sample - loss: 0.0716 - accuracy: 0.3296\n",
      "Epoch 29/30\n",
      "13500/13500 [==============================] - 8s 574us/sample - loss: 0.0716 - accuracy: 0.3306\n",
      "Epoch 30/30\n",
      "13500/13500 [==============================] - 8s 586us/sample - loss: 0.0714 - accuracy: 0.3357\n"
     ]
    },
    {
     "data": {
      "text/plain": [
       "<tensorflow.python.keras.callbacks.History at 0x18159581648>"
      ]
     },
     "execution_count": 16,
     "metadata": {},
     "output_type": "execute_result"
    }
   ],
   "source": [
    "models.fit(x_train,y_train,batch_size=5,epochs=30)"
   ]
  },
  {
   "cell_type": "code",
   "execution_count": 17,
   "metadata": {},
   "outputs": [
    {
     "name": "stdout",
     "output_type": "stream",
     "text": [
      "神經網路預測是: [9 2 1 ... 1 1 3]\n"
     ]
    }
   ],
   "source": [
    "result = models.predict_classes(x_test)\n",
    "print('神經網路預測是:', result)"
   ]
  },
  {
   "cell_type": "code",
   "execution_count": 18,
   "metadata": {},
   "outputs": [
    {
     "name": "stdout",
     "output_type": "stream",
     "text": [
      "3096/3096 [==============================] - 1s 196us/sample - loss: 0.0807 - accuracy: 0.2067\n"
     ]
    }
   ],
   "source": [
    "score = models.evaluate(x_test, y_test)"
   ]
  },
  {
   "cell_type": "code",
   "execution_count": 19,
   "metadata": {},
   "outputs": [
    {
     "name": "stdout",
     "output_type": "stream",
     "text": [
      "測試資料的正確率為 0.20671834\n"
     ]
    }
   ],
   "source": [
    "loss, acc = score\n",
    "print('測試資料的正確率為', acc)"
   ]
  }
 ],
 "metadata": {
  "kernelspec": {
   "display_name": "Python 3",
   "language": "python",
   "name": "python3"
  },
  "language_info": {
   "codemirror_mode": {
    "name": "ipython",
    "version": 3
   },
   "file_extension": ".py",
   "mimetype": "text/x-python",
   "name": "python",
   "nbconvert_exporter": "python",
   "pygments_lexer": "ipython3",
   "version": "3.7.4"
  }
 },
 "nbformat": 4,
 "nbformat_minor": 2
}
