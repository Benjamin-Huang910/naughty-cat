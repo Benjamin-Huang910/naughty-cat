{
 "cells": [
  {
   "cell_type": "code",
   "execution_count": null,
   "metadata": {},
   "outputs": [
    {
     "name": "stdout",
     "output_type": "stream",
     "text": [
      "您想要知道哪個日文日常用語?\n"
     ]
    }
   ],
   "source": [
    "question=\"您想要知道哪個日文日常用語?\"\n",
    "print(question)\n",
    "message=\" \"\n",
    "while message!=\"先這樣\":\n",
    "    message=input(\">> \")\n",
    "    if (\"早安\" in message):\n",
    "        print(\"おはようございます\")\n",
    "    elif (\"午安\" in message):\n",
    "        print(\"こんにちは\")\n",
    "    elif (\"晚安\" in message):\n",
    "        print(\"こんばんは\")\n",
    "    elif (\"謝謝\" in message):\n",
    "        print(\"ありがとうございました\")\n",
    "    elif (\"打擾\" in message):\n",
    "        print(\"お邪魔します\")\n",
    "    elif (\"回來\" in message):\n",
    "        print(\"ただいまー\")\n",
    "    elif (\"開動\" in message):\n",
    "        print(\"いただきます\")\n",
    "    elif (\"招待\" in message):\n",
    "        print(\"ごちそうさまでした\")\n",
    "    elif (\"點什麼\" in message):\n",
    "        print(\"ご注文は？\")\n",
    "    elif (\"辛苦\" in message):\n",
    "        print(\"お疲れ様でした\")\n",
    "    elif (\"怎麼了\" in message):\n",
    "        print(\"どうしましたか\")\n",
    "    elif (\"你好嗎\" in message):\n",
    "        print(\"お元気ですか\")\n",
    "    elif (\"先這樣\" in message):\n",
    "        print(\"好，掰掰^ ^\")\n",
    "    else:\n",
    "        print(\"哈哈...還沒有收錄這個用語ㄟ> <\")"
   ]
  },
  {
   "cell_type": "code",
   "execution_count": null,
   "metadata": {},
   "outputs": [],
   "source": []
  }
 ],
 "metadata": {
  "kernelspec": {
   "display_name": "Python 3",
   "language": "python",
   "name": "python3"
  },
  "language_info": {
   "codemirror_mode": {
    "name": "ipython",
    "version": 3
   },
   "file_extension": ".py",
   "mimetype": "text/x-python",
   "name": "python",
   "nbconvert_exporter": "python",
   "pygments_lexer": "ipython3",
   "version": "3.7.4"
  }
 },
 "nbformat": 4,
 "nbformat_minor": 2
}
