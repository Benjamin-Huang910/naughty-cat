{
 "cells": [
  {
   "cell_type": "code",
   "execution_count": 2,
   "metadata": {},
   "outputs": [
    {
     "name": "stdout",
     "output_type": "stream",
     "text": [
      "Populating the interactive namespace from numpy and matplotlib\n"
     ]
    }
   ],
   "source": [
    "%pylab inline"
   ]
  },
  {
   "cell_type": "code",
   "execution_count": 3,
   "metadata": {},
   "outputs": [
    {
     "name": "stdout",
     "output_type": "stream",
     "text": [
      "1~10請猜一個數字\n",
      ">> 8\n",
      "答錯囉~猜小一點的數字吧> <\n",
      ">> 10\n",
      "答錯囉~猜小一點的數字吧> <\n",
      ">> 3\n",
      "答對囉!\n"
     ]
    }
   ],
   "source": [
    "question=\"1~10請猜一個數字\"\n",
    "print(question)\n",
    "answer=0\n",
    "k=randint(1,11)\n",
    "while answer!=k:\n",
    "    answer=int(input(\">> \"))\n",
    "    if answer>k:\n",
    "        print(\"答錯囉~猜小一點的數字吧> <\")\n",
    "    elif answer<k:\n",
    "        print(\"哎呀~要不要試試看猜大一點的數字?\")\n",
    "    else:\n",
    "        print(\"答對囉!\")"
   ]
  },
  {
   "cell_type": "code",
   "execution_count": null,
   "metadata": {},
   "outputs": [],
   "source": []
  },
  {
   "cell_type": "code",
   "execution_count": null,
   "metadata": {},
   "outputs": [],
   "source": []
  },
  {
   "cell_type": "code",
   "execution_count": null,
   "metadata": {},
   "outputs": [],
   "source": []
  }
 ],
 "metadata": {
  "kernelspec": {
   "display_name": "Python 3",
   "language": "python",
   "name": "python3"
  },
  "language_info": {
   "codemirror_mode": {
    "name": "ipython",
    "version": 3
   },
   "file_extension": ".py",
   "mimetype": "text/x-python",
   "name": "python",
   "nbconvert_exporter": "python",
   "pygments_lexer": "ipython3",
   "version": "3.7.4"
  }
 },
 "nbformat": 4,
 "nbformat_minor": 2
}
