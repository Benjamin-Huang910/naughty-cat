{
 "cells": [
  {
   "cell_type": "code",
   "execution_count": 1,
   "metadata": {},
   "outputs": [],
   "source": [
    "%matplotlib inline\n",
    "\n",
    "import numpy as np\n",
    "import matplotlib.pyplot as plt"
   ]
  },
  {
   "cell_type": "code",
   "execution_count": 2,
   "metadata": {},
   "outputs": [],
   "source": [
    "from tensorflow.keras.datasets import fashion_mnist"
   ]
  },
  {
   "cell_type": "code",
   "execution_count": 3,
   "metadata": {},
   "outputs": [],
   "source": [
    "(x_train, y_train), (x_test, y_test) = fashion_mnist.load_data()"
   ]
  },
  {
   "cell_type": "code",
   "execution_count": 4,
   "metadata": {},
   "outputs": [],
   "source": [
    "class_names = ['T-shirt/top', 'Trouser', 'Pullover', 'Dress', 'Coat',\n",
    "               'Sandal', 'Shirt', 'Sneaker', 'Bag', 'Ankle boot']"
   ]
  },
  {
   "cell_type": "code",
   "execution_count": 5,
   "metadata": {},
   "outputs": [
    {
     "name": "stdout",
     "output_type": "stream",
     "text": [
      "這是 Bag\n"
     ]
    },
    {
     "data": {
      "image/png": "[encoded data removed]",
      "text/plain": [
       "<Figure size 432x288 with 1 Axes>"
      ]
     },
     "metadata": {
      "needs_background": "light"
     },
     "output_type": "display_data"
    }
   ],
   "source": [
    "n = 1234\n",
    "print('這是', class_names[y_train[n]])\n",
    "plt.imshow(x_train[n], cmap='Greys');"
   ]
  },
  {
   "cell_type": "code",
   "execution_count": 6,
   "metadata": {},
   "outputs": [],
   "source": [
    "pick = np.random.choice(60000, 5, replace=False)"
   ]
  },
  {
   "cell_type": "code",
   "execution_count": 7,
   "metadata": {},
   "outputs": [
    {
     "data": {
      "image/png": "[encoded data removed]",
      "text/plain": [
       "<Figure size 432x288 with 5 Axes>"
      ]
     },
     "metadata": {},
     "output_type": "display_data"
    }
   ],
   "source": [
    "for i in range(5):\n",
    "    n = pick[i]\n",
    "    ax = plt.subplot(151+i)\n",
    "    ax.set_xticks([])\n",
    "    ax.set_yticks([])\n",
    "    ax.set_title(class_names[y_train[n]], fontsize=10)\n",
    "    plt.imshow(x_train[n], cmap='Greys')"
   ]
  },
  {
   "cell_type": "code",
   "execution_count": 8,
   "metadata": {},
   "outputs": [],
   "source": [
    "x_train=x_train/255\n",
    "x_test=x_test/255"
   ]
  },
  {
   "cell_type": "code",
   "execution_count": 9,
   "metadata": {},
   "outputs": [
    {
     "data": {
      "text/plain": [
       "(60000, 28, 28)"
      ]
     },
     "execution_count": 9,
     "metadata": {},
     "output_type": "execute_result"
    }
   ],
   "source": [
    "x_train.shape"
   ]
  },
  {
   "cell_type": "code",
   "execution_count": 10,
   "metadata": {},
   "outputs": [],
   "source": [
    "x_train=x_train.reshape(60000,784)\n",
    "x_test=x_test.reshape(10000,784)"
   ]
  },
  {
   "cell_type": "code",
   "execution_count": 11,
   "metadata": {},
   "outputs": [],
   "source": [
    "from tensorflow.keras.utils import to_categorical"
   ]
  },
  {
   "cell_type": "code",
   "execution_count": 12,
   "metadata": {},
   "outputs": [],
   "source": [
    "y_train=to_categorical(y_train,10)\n",
    "y_test=to_categorical(y_test,10)"
   ]
  },
  {
   "cell_type": "code",
   "execution_count": 13,
   "metadata": {},
   "outputs": [],
   "source": [
    "from tensorflow.keras.models import Sequential\n",
    "from tensorflow.keras.layers import Dense\n",
    "from tensorflow.keras.optimizers import SGD"
   ]
  },
  {
   "cell_type": "code",
   "execution_count": 14,
   "metadata": {},
   "outputs": [],
   "source": [
    "model=Sequential()"
   ]
  },
  {
   "cell_type": "code",
   "execution_count": 15,
   "metadata": {},
   "outputs": [],
   "source": [
    "model.add(Dense(78,input_dim=784,activation='relu'))"
   ]
  },
  {
   "cell_type": "code",
   "execution_count": 16,
   "metadata": {},
   "outputs": [],
   "source": [
    "model.add(Dense(78,activation='relu'))"
   ]
  },
  {
   "cell_type": "code",
   "execution_count": 17,
   "metadata": {},
   "outputs": [],
   "source": [
    "model.add(Dense(10,activation='softmax'))"
   ]
  },
  {
   "cell_type": "code",
   "execution_count": 18,
   "metadata": {},
   "outputs": [],
   "source": [
    "model.compile(loss='mse',optimizer=SGD(lr=0.078),metrics=['accuracy'])"
   ]
  },
  {
   "cell_type": "code",
   "execution_count": 19,
   "metadata": {},
   "outputs": [
    {
     "name": "stdout",
     "output_type": "stream",
     "text": [
      "Model: \"sequential\"\n",
      "_________________________________________________________________\n",
      "Layer (type)                 Output Shape              Param #   \n",
      "=================================================================\n",
      "dense (Dense)                (None, 78)                61230     \n",
      "_________________________________________________________________\n",
      "dense_1 (Dense)              (None, 78)                6162      \n",
      "_________________________________________________________________\n",
      "dense_2 (Dense)              (None, 10)                790       \n",
      "=================================================================\n",
      "Total params: 68,182\n",
      "Trainable params: 68,182\n",
      "Non-trainable params: 0\n",
      "_________________________________________________________________\n"
     ]
    }
   ],
   "source": [
    "model.summary()"
   ]
  },
  {
   "cell_type": "code",
   "execution_count": 20,
   "metadata": {},
   "outputs": [
    {
     "name": "stdout",
     "output_type": "stream",
     "text": [
      "Train on 60000 samples\n",
      "Epoch 1/20\n",
      "60000/60000 [==============================] - 2s 41us/sample - loss: 0.0822 - accuracy: 0.3465\n",
      "Epoch 2/20\n",
      "60000/60000 [==============================] - 2s 27us/sample - loss: 0.0593 - accuracy: 0.6215\n",
      "Epoch 3/20\n",
      "60000/60000 [==============================] - 2s 25us/sample - loss: 0.0460 - accuracy: 0.6746\n",
      "Epoch 4/20\n",
      "60000/60000 [==============================] - 2s 25us/sample - loss: 0.0406 - accuracy: 0.7179\n",
      "Epoch 5/20\n",
      "60000/60000 [==============================] - 1s 25us/sample - loss: 0.0371 - accuracy: 0.7579\n",
      "Epoch 6/20\n",
      "60000/60000 [==============================] - 2s 25us/sample - loss: 0.0345 - accuracy: 0.7798\n",
      "Epoch 7/20\n",
      "60000/60000 [==============================] - 2s 25us/sample - loss: 0.0324 - accuracy: 0.7929\n",
      "Epoch 8/20\n",
      "60000/60000 [==============================] - 2s 29us/sample - loss: 0.0308 - accuracy: 0.8016\n",
      "Epoch 9/20\n",
      "60000/60000 [==============================] - 2s 26us/sample - loss: 0.0296 - accuracy: 0.8089\n",
      "Epoch 10/20\n",
      "60000/60000 [==============================] - 2s 26us/sample - loss: 0.0286 - accuracy: 0.8139\n",
      "Epoch 11/20\n",
      "60000/60000 [==============================] - 1s 25us/sample - loss: 0.0277 - accuracy: 0.8190\n",
      "Epoch 12/20\n",
      "60000/60000 [==============================] - 2s 26us/sample - loss: 0.0271 - accuracy: 0.8217\n",
      "Epoch 13/20\n",
      "60000/60000 [==============================] - 2s 27us/sample - loss: 0.0265 - accuracy: 0.8256\n",
      "Epoch 14/20\n",
      "60000/60000 [==============================] - 2s 27us/sample - loss: 0.0260 - accuracy: 0.8281\n",
      "Epoch 15/20\n",
      "60000/60000 [==============================] - 2s 31us/sample - loss: 0.0256 - accuracy: 0.8311\n",
      "Epoch 16/20\n",
      "60000/60000 [==============================] - 2s 26us/sample - loss: 0.0252 - accuracy: 0.8328\n",
      "Epoch 17/20\n",
      "60000/60000 [==============================] - 2s 26us/sample - loss: 0.0248 - accuracy: 0.8342\n",
      "Epoch 18/20\n",
      "60000/60000 [==============================] - 2s 27us/sample - loss: 0.0245 - accuracy: 0.8361\n",
      "Epoch 19/20\n",
      "60000/60000 [==============================] - 2s 35us/sample - loss: 0.0243 - accuracy: 0.8383\n",
      "Epoch 20/20\n",
      "60000/60000 [==============================] - 2s 34us/sample - loss: 0.0240 - accuracy: 0.8401\n"
     ]
    },
    {
     "data": {
      "text/plain": [
       "<tensorflow.python.keras.callbacks.History at 0x245a67e8348>"
      ]
     },
     "execution_count": 20,
     "metadata": {},
     "output_type": "execute_result"
    }
   ],
   "source": [
    "model.fit(x_train,y_train,batch_size=178,epochs=20)"
   ]
  },
  {
   "cell_type": "code",
   "execution_count": 21,
   "metadata": {},
   "outputs": [
    {
     "name": "stdout",
     "output_type": "stream",
     "text": [
      "Train on 60000 samples\n",
      "Epoch 1/30\n",
      "60000/60000 [==============================] - 2s 26us/sample - loss: 0.0237 - accuracy: 0.8414\n",
      "Epoch 2/30\n",
      "60000/60000 [==============================] - 1s 18us/sample - loss: 0.0236 - accuracy: 0.8425\n",
      "Epoch 3/30\n",
      "60000/60000 [==============================] - 1s 19us/sample - loss: 0.0235 - accuracy: 0.8431\n",
      "Epoch 4/30\n",
      "60000/60000 [==============================] - 1s 19us/sample - loss: 0.0234 - accuracy: 0.8432\n",
      "Epoch 5/30\n",
      "60000/60000 [==============================] - 2s 26us/sample - loss: 0.0232 - accuracy: 0.8453\n",
      "Epoch 6/30\n",
      "60000/60000 [==============================] - 1s 19us/sample - loss: 0.0231 - accuracy: 0.8454\n",
      "Epoch 7/30\n",
      "60000/60000 [==============================] - 1s 19us/sample - loss: 0.0230 - accuracy: 0.8460\n",
      "Epoch 8/30\n",
      "60000/60000 [==============================] - 1s 19us/sample - loss: 0.0229 - accuracy: 0.8473\n",
      "Epoch 9/30\n",
      "60000/60000 [==============================] - 1s 18us/sample - loss: 0.0228 - accuracy: 0.8469\n",
      "Epoch 10/30\n",
      "60000/60000 [==============================] - 1s 18us/sample - loss: 0.0227 - accuracy: 0.8480\n",
      "Epoch 11/30\n",
      "60000/60000 [==============================] - 1s 20us/sample - loss: 0.0226 - accuracy: 0.8489\n",
      "Epoch 12/30\n",
      "60000/60000 [==============================] - 1s 19us/sample - loss: 0.0226 - accuracy: 0.8497\n",
      "Epoch 13/30\n",
      "60000/60000 [==============================] - 1s 19us/sample - loss: 0.0225 - accuracy: 0.8494\n",
      "Epoch 14/30\n",
      "60000/60000 [==============================] - 1s 21us/sample - loss: 0.0224 - accuracy: 0.8508\n",
      "Epoch 15/30\n",
      "60000/60000 [==============================] - 1s 20us/sample - loss: 0.0223 - accuracy: 0.8507\n",
      "Epoch 16/30\n",
      "60000/60000 [==============================] - 1s 19us/sample - loss: 0.0222 - accuracy: 0.8511\n",
      "Epoch 17/30\n",
      "60000/60000 [==============================] - 1s 20us/sample - loss: 0.0221 - accuracy: 0.8520\n",
      "Epoch 18/30\n",
      "60000/60000 [==============================] - 1s 24us/sample - loss: 0.0220 - accuracy: 0.8523\n",
      "Epoch 19/30\n",
      "60000/60000 [==============================] - 1s 19us/sample - loss: 0.0220 - accuracy: 0.8523\n",
      "Epoch 20/30\n",
      "60000/60000 [==============================] - 1s 24us/sample - loss: 0.0219 - accuracy: 0.8535\n",
      "Epoch 21/30\n",
      "60000/60000 [==============================] - 1s 20us/sample - loss: 0.0218 - accuracy: 0.8537\n",
      "Epoch 22/30\n",
      "60000/60000 [==============================] - 1s 25us/sample - loss: 0.0217 - accuracy: 0.8542\n",
      "Epoch 23/30\n",
      "60000/60000 [==============================] - 1s 24us/sample - loss: 0.0217 - accuracy: 0.8548\n",
      "Epoch 24/30\n",
      "60000/60000 [==============================] - 1s 19us/sample - loss: 0.0216 - accuracy: 0.8550\n",
      "Epoch 25/30\n",
      "60000/60000 [==============================] - 1s 20us/sample - loss: 0.0216 - accuracy: 0.8551\n",
      "Epoch 26/30\n",
      "60000/60000 [==============================] - 1s 21us/sample - loss: 0.0215 - accuracy: 0.8561\n",
      "Epoch 27/30\n",
      "60000/60000 [==============================] - 1s 21us/sample - loss: 0.0214 - accuracy: 0.8562\n",
      "Epoch 28/30\n",
      "60000/60000 [==============================] - 1s 19us/sample - loss: 0.0214 - accuracy: 0.8563\n",
      "Epoch 29/30\n",
      "60000/60000 [==============================] - 1s 19us/sample - loss: 0.0213 - accuracy: 0.8576\n",
      "Epoch 30/30\n",
      "60000/60000 [==============================] - 1s 20us/sample - loss: 0.0212 - accuracy: 0.8575\n"
     ]
    },
    {
     "data": {
      "text/plain": [
       "<tensorflow.python.keras.callbacks.History at 0x245a6cf1948>"
      ]
     },
     "execution_count": 21,
     "metadata": {},
     "output_type": "execute_result"
    }
   ],
   "source": [
    "model.fit(x_train,y_train,batch_size=300,epochs=30)"
   ]
  },
  {
   "cell_type": "code",
   "execution_count": 22,
   "metadata": {},
   "outputs": [],
   "source": [
    "result=model.predict_classes(x_test)"
   ]
  },
  {
   "cell_type": "code",
   "execution_count": 24,
   "metadata": {},
   "outputs": [
    {
     "name": "stdout",
     "output_type": "stream",
     "text": [
      "神經網路預測是: Trouser\n"
     ]
    },
    {
     "data": {
      "text/plain": [
       "<matplotlib.image.AxesImage at 0x245c5e2b7c8>"
      ]
     },
     "execution_count": 24,
     "metadata": {},
     "output_type": "execute_result"
    },
    {
     "data": {
      "image/png": "[encoded data removed]",
      "text/plain": [
       "<Figure size 432x288 with 1 Axes>"
      ]
     },
     "metadata": {
      "needs_background": "light"
     },
     "output_type": "display_data"
    }
   ],
   "source": [
    "n=5978\n",
    "print('神經網路預測是:',class_names[result[n]])\n",
    "plt.imshow(x_test[n].reshape(28,28),cmap='Greys')"
   ]
  },
  {
   "cell_type": "code",
   "execution_count": null,
   "metadata": {},
   "outputs": [],
   "source": []
  }
 ],
 "metadata": {
  "kernelspec": {
   "display_name": "Python 3",
   "language": "python",
   "name": "python3"
  },
  "language_info": {
   "codemirror_mode": {
    "name": "ipython",
    "version": 3
   },
   "file_extension": ".py",
   "mimetype": "text/x-python",
   "name": "python",
   "nbconvert_exporter": "python",
   "pygments_lexer": "ipython3",
   "version": "3.7.4"
  }
 },
 "nbformat": 4,
 "nbformat_minor": 2
}
