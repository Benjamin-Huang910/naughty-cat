{
 "cells": [
  {
   "cell_type": "code",
   "execution_count": 1,
   "metadata": {},
   "outputs": [],
   "source": [
    "food=\"米糕\"\n",
    "soup=\"牛肉湯\"\n",
    "dessert=\"豆花\""
   ]
  },
  {
   "cell_type": "code",
   "execution_count": null,
   "metadata": {},
   "outputs": [
    {
     "name": "stdout",
     "output_type": "stream",
     "text": [
      "您好，請問您想點甚麼餐點?\n"
     ]
    }
   ],
   "source": [
    "question=\"您好，請問您想點甚麼餐點?\"\n",
    "print(question)\n",
    "message=\" \"\n",
    "while message!=\"先這樣\":\n",
    "    message=input(\">> \")\n",
    "    if (\"什麼\" in message):\n",
    "        print(\"我們今天有\"+food+\"、\"+soup+\"、\"+dessert)\n",
    "    elif (food in message):\n",
    "        print(\"好的，那稍後為您送上桌\")\n",
    "    elif (soup in message):\n",
    "        print(\"好的，那稍後為您送上桌\")\n",
    "    elif (dessert in message):\n",
    "        print(\"好的，那稍後為您送上桌\")\n",
    "    elif (\"先這樣\" in message):\n",
    "        print(\"好的，那請稍待片刻\")\n",
    "    else:\n",
    "        print(\"不好意思，我們這邊沒有賣\")"
   ]
  },
  {
   "cell_type": "code",
   "execution_count": null,
   "metadata": {},
   "outputs": [],
   "source": []
  }
 ],
 "metadata": {
  "kernelspec": {
   "display_name": "Python 3",
   "language": "python",
   "name": "python3"
  },
  "language_info": {
   "codemirror_mode": {
    "name": "ipython",
    "version": 3
   },
   "file_extension": ".py",
   "mimetype": "text/x-python",
   "name": "python",
   "nbconvert_exporter": "python",
   "pygments_lexer": "ipython3",
   "version": "3.7.4"
  }
 },
 "nbformat": 4,
 "nbformat_minor": 2
}
