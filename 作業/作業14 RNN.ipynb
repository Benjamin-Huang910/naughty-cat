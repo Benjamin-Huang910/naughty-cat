{
 "cells": [
  {
   "cell_type": "code",
   "execution_count": 1,
   "metadata": {},
   "outputs": [],
   "source": [
    "%matplotlib inline\n",
    "import numpy as np\n",
    "import matplotlib.pyplot as plt\n",
    "import pandas as pd"
   ]
  },
  {
   "cell_type": "markdown",
   "metadata": {},
   "source": [
    "### 讀入深度學習套件"
   ]
  },
  {
   "cell_type": "code",
   "execution_count": 2,
   "metadata": {},
   "outputs": [],
   "source": [
    "from tensorflow.keras.preprocessing import sequence\n",
    "from tensorflow.keras.models import Sequential\n",
    "from tensorflow.keras.layers import Dense, Embedding\n",
    "from tensorflow.keras.layers import LSTM\n",
    "from tensorflow.keras.datasets import imdb"
   ]
  },
  {
   "cell_type": "markdown",
   "metadata": {},
   "source": [
    "### 讀入數據"
   ]
  },
  {
   "cell_type": "code",
   "execution_count": 3,
   "metadata": {},
   "outputs": [],
   "source": [
    "(x_train,y_train),(x_test,y_test)=imdb.load_data(num_words=10000)"
   ]
  },
  {
   "cell_type": "markdown",
   "metadata": {},
   "source": [
    "### 資料前處理"
   ]
  },
  {
   "cell_type": "code",
   "execution_count": 4,
   "metadata": {},
   "outputs": [],
   "source": [
    "x_train=sequence.pad_sequences(x_train,maxlen=100)\n",
    "x_test=sequence.pad_sequences(x_test,maxlen=100)"
   ]
  },
  {
   "cell_type": "markdown",
   "metadata": {},
   "source": [
    "### 打造一個函數學習機"
   ]
  },
  {
   "cell_type": "code",
   "execution_count": 5,
   "metadata": {},
   "outputs": [],
   "source": [
    "model=Sequential()"
   ]
  },
  {
   "cell_type": "code",
   "execution_count": 6,
   "metadata": {},
   "outputs": [],
   "source": [
    "model.add(Embedding(10000,128)) #10000維壓成128維\n",
    "model.add(LSTM(87,dropout=0.2,recurrent_dropout=0.2)) #神經元數目設定成87個\n",
    "model.add(Dense(1,activation='sigmoid')) #正評是1，負評是0"
   ]
  },
  {
   "cell_type": "code",
   "execution_count": 7,
   "metadata": {},
   "outputs": [],
   "source": [
    "model.compile(loss='binary_crossentropy',\n",
    "             optimizer='adam',\n",
    "             metrics=['accuracy'])"
   ]
  },
  {
   "cell_type": "code",
   "execution_count": 8,
   "metadata": {},
   "outputs": [
    {
     "name": "stdout",
     "output_type": "stream",
     "text": [
      "Model: \"sequential\"\n",
      "_________________________________________________________________\n",
      "Layer (type)                 Output Shape              Param #   \n",
      "=================================================================\n",
      "embedding (Embedding)        (None, None, 128)         1280000   \n",
      "_________________________________________________________________\n",
      "lstm (LSTM)                  (None, 87)                75168     \n",
      "_________________________________________________________________\n",
      "dense (Dense)                (None, 1)                 88        \n",
      "=================================================================\n",
      "Total params: 1,355,256\n",
      "Trainable params: 1,355,256\n",
      "Non-trainable params: 0\n",
      "_________________________________________________________________\n"
     ]
    }
   ],
   "source": [
    "model.summary()"
   ]
  },
  {
   "cell_type": "code",
   "execution_count": 9,
   "metadata": {},
   "outputs": [
    {
     "data": {
      "text/plain": [
       "75168"
      ]
     },
     "execution_count": 9,
     "metadata": {},
     "output_type": "execute_result"
    }
   ],
   "source": [
    "(128+87+1)*4*87"
   ]
  },
  {
   "cell_type": "markdown",
   "metadata": {},
   "source": [
    "### 訓練(訓練10次，一次訓練25個)"
   ]
  },
  {
   "cell_type": "code",
   "execution_count": 11,
   "metadata": {},
   "outputs": [
    {
     "name": "stdout",
     "output_type": "stream",
     "text": [
      "Train on 25000 samples, validate on 25000 samples\n",
      "Epoch 1/10\n",
      "25000/25000 [==============================] - 475s 19ms/sample - loss: 0.4560 - accuracy: 0.7902 - val_loss: 0.3823 - val_accuracy: 0.8358\n",
      "Epoch 2/10\n",
      "25000/25000 [==============================] - 464s 19ms/sample - loss: 0.3224 - accuracy: 0.8649 - val_loss: 0.3720 - val_accuracy: 0.8406\n",
      "Epoch 3/10\n",
      "25000/25000 [==============================] - 473s 19ms/sample - loss: 0.2520 - accuracy: 0.8999 - val_loss: 0.3732 - val_accuracy: 0.8493\n",
      "Epoch 4/10\n",
      "25000/25000 [==============================] - 477s 19ms/sample - loss: 0.1904 - accuracy: 0.9266 - val_loss: 0.4225 - val_accuracy: 0.8455\n",
      "Epoch 5/10\n",
      "25000/25000 [==============================] - 474s 19ms/sample - loss: 0.1507 - accuracy: 0.9441 - val_loss: 0.4653 - val_accuracy: 0.8389\n",
      "Epoch 6/10\n",
      "25000/25000 [==============================] - 479s 19ms/sample - loss: 0.1176 - accuracy: 0.9569 - val_loss: 0.5206 - val_accuracy: 0.8367\n",
      "Epoch 7/10\n",
      "25000/25000 [==============================] - 470s 19ms/sample - loss: 0.0921 - accuracy: 0.9671 - val_loss: 0.5892 - val_accuracy: 0.8183\n",
      "Epoch 8/10\n",
      "25000/25000 [==============================] - 462s 18ms/sample - loss: 0.0745 - accuracy: 0.9746 - val_loss: 0.6553 - val_accuracy: 0.8308\n",
      "Epoch 9/10\n",
      "25000/25000 [==============================] - 462s 18ms/sample - loss: 0.0646 - accuracy: 0.9790 - val_loss: 0.6522 - val_accuracy: 0.8314\n",
      "Epoch 10/10\n",
      "25000/25000 [==============================] - 461s 18ms/sample - loss: 0.0456 - accuracy: 0.9849 - val_loss: 0.8429 - val_accuracy: 0.8138\n"
     ]
    },
    {
     "data": {
      "text/plain": [
       "<tensorflow.python.keras.callbacks.History at 0x1bfaa25e5c8>"
      ]
     },
     "execution_count": 11,
     "metadata": {},
     "output_type": "execute_result"
    }
   ],
   "source": [
    "model.fit(x_train,y_train,epochs=10,\n",
    "          batch_size=25,\n",
    "          validation_data=(x_test,y_test))"
   ]
  },
  {
   "cell_type": "code",
   "execution_count": null,
   "metadata": {},
   "outputs": [],
   "source": []
  }
 ],
 "metadata": {
  "kernelspec": {
   "display_name": "Python 3",
   "language": "python",
   "name": "python3"
  },
  "language_info": {
   "codemirror_mode": {
    "name": "ipython",
    "version": 3
   },
   "file_extension": ".py",
   "mimetype": "text/x-python",
   "name": "python",
   "nbconvert_exporter": "python",
   "pygments_lexer": "ipython3",
   "version": "3.7.4"
  }
 },
 "nbformat": 4,
 "nbformat_minor": 2
}
