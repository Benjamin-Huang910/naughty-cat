{
 "cells": [
  {
   "cell_type": "code",
   "execution_count": 1,
   "metadata": {},
   "outputs": [],
   "source": [
    "# 輸入套件\n",
    "import matplotlib.pyplot as plt\n",
    "import numpy as np\n",
    "from tensorflow.keras.models import Sequential\n",
    "from tensorflow.keras.layers import Dense\n",
    "from tensorflow.keras.layers import Flatten\n",
    "from tensorflow.keras.layers import Conv2D, MaxPool2D, GlobalAveragePooling2D\n",
    "from tensorflow.keras.optimizers import SGD, Adam\n",
    "from tensorflow.keras import datasets\n",
    "from tensorflow.keras.utils import to_categorical"
   ]
  },
  {
   "cell_type": "code",
   "execution_count": 2,
   "metadata": {},
   "outputs": [],
   "source": [
    "name_list = ['airplane', 'automobile', 'bird', 'cat', 'deer', 'dog', 'frog', 'horse', 'ship', 'truck']"
   ]
  },
  {
   "cell_type": "code",
   "execution_count": 3,
   "metadata": {},
   "outputs": [],
   "source": [
    "# Load CIFAR 10\n",
    "(x_train, y_train0), (x_test, y_test0) = datasets.cifar10.load_data()\n",
    "\n",
    "# Normalize the range of features\n",
    "x_train = x_train / x_train.max()\n",
    "x_test = x_test / x_test.max()\n",
    "\n",
    "# One-hot encoding\n",
    "y_train = to_categorical(y_train0, 10)\n",
    "y_test = to_categorical(y_test0, 10)"
   ]
  },
  {
   "cell_type": "code",
   "execution_count": 4,
   "metadata": {},
   "outputs": [],
   "source": [
    "#建cifar10神經網路\n",
    "CNN_layers = [Conv2D(32, (3, 3), input_shape=(32, 32, 3), padding = 'same', activation = 'relu'),\n",
    "           MaxPool2D(),\n",
    "           Conv2D(256, (3, 3), padding = 'same', activation = 'relu'),\n",
    "           MaxPool2D(),\n",
    "           Conv2D(512, (3, 3), padding = 'same', activation = 'relu'),\n",
    "           GlobalAveragePooling2D()]"
   ]
  },
  {
   "cell_type": "code",
   "execution_count": 5,
   "metadata": {},
   "outputs": [],
   "source": [
    "FC_layers = [Dense(128, activation='relu'),\n",
    "              Dense(10, activation='softmax')]"
   ]
  },
  {
   "cell_type": "code",
   "execution_count": 6,
   "metadata": {},
   "outputs": [
    {
     "name": "stdout",
     "output_type": "stream",
     "text": [
      "Model: \"sequential\"\n",
      "_________________________________________________________________\n",
      "Layer (type)                 Output Shape              Param #   \n",
      "=================================================================\n",
      "conv2d (Conv2D)              (None, 32, 32, 32)        896       \n",
      "_________________________________________________________________\n",
      "max_pooling2d (MaxPooling2D) (None, 16, 16, 32)        0         \n",
      "_________________________________________________________________\n",
      "conv2d_1 (Conv2D)            (None, 16, 16, 256)       73984     \n",
      "_________________________________________________________________\n",
      "max_pooling2d_1 (MaxPooling2 (None, 8, 8, 256)         0         \n",
      "_________________________________________________________________\n",
      "conv2d_2 (Conv2D)            (None, 8, 8, 512)         1180160   \n",
      "_________________________________________________________________\n",
      "global_average_pooling2d (Gl (None, 512)               0         \n",
      "_________________________________________________________________\n",
      "dense (Dense)                (None, 128)               65664     \n",
      "_________________________________________________________________\n",
      "dense_1 (Dense)              (None, 10)                1290      \n",
      "=================================================================\n",
      "Total params: 1,321,994\n",
      "Trainable params: 1,321,994\n",
      "Non-trainable params: 0\n",
      "_________________________________________________________________\n"
     ]
    }
   ],
   "source": [
    "#開一個程式機器(cnn layers + fc layers)\n",
    "model = Sequential(CNN_layers+FC_layers)\n",
    "model.summary()"
   ]
  },
  {
   "cell_type": "code",
   "execution_count": 7,
   "metadata": {},
   "outputs": [],
   "source": [
    "model.compile(loss = 'categorical_crossentropy', \n",
    "              optimizer = Adam(),\n",
    "              metrics = ['categorical_accuracy'])"
   ]
  },
  {
   "cell_type": "code",
   "execution_count": 8,
   "metadata": {},
   "outputs": [
    {
     "name": "stdout",
     "output_type": "stream",
     "text": [
      "Train on 50000 samples, validate on 10000 samples\n",
      "Epoch 1/5\n",
      "50000/50000 [==============================] - 528s 11ms/sample - loss: 1.8689 - categorical_accuracy: 0.2957 - val_loss: 1.6541 - val_categorical_accuracy: 0.3710\n",
      "Epoch 2/5\n",
      "50000/50000 [==============================] - 591s 12ms/sample - loss: 1.5690 - categorical_accuracy: 0.4209 - val_loss: 1.5303 - val_categorical_accuracy: 0.4422\n",
      "Epoch 3/5\n",
      "50000/50000 [==============================] - 500s 10ms/sample - loss: 1.4219 - categorical_accuracy: 0.4804 - val_loss: 1.4062 - val_categorical_accuracy: 0.4820\n",
      "Epoch 4/5\n",
      "50000/50000 [==============================] - 760s 15ms/sample - loss: 1.3118 - categorical_accuracy: 0.5249 - val_loss: 1.3250 - val_categorical_accuracy: 0.5150\n",
      "Epoch 5/5\n",
      "50000/50000 [==============================] - 650s 13ms/sample - loss: 1.2310 - categorical_accuracy: 0.5559 - val_loss: 1.1770 - val_categorical_accuracy: 0.5736\n"
     ]
    },
    {
     "data": {
      "text/plain": [
       "<tensorflow.python.keras.callbacks.History at 0x1bc03547bc8>"
      ]
     },
     "execution_count": 8,
     "metadata": {},
     "output_type": "execute_result"
    }
   ],
   "source": [
    "model.fit(x_train, y_train, batch_size = 300, epochs = 5,validation_data = (x_test, y_test))"
   ]
  },
  {
   "cell_type": "code",
   "execution_count": 9,
   "metadata": {},
   "outputs": [
    {
     "name": "stdout",
     "output_type": "stream",
     "text": [
      "Downloading data from https://www.cs.toronto.edu/~kriz/cifar-100-python.tar.gz\n",
      "169009152/169001437 [==============================] - 1053s 6us/step\n"
     ]
    }
   ],
   "source": [
    "# Load CIFAR 100\n",
    "(X_train, Y_train0), (X_test, Y_test0) = datasets.cifar100.load_data()\n",
    "\n",
    "X_train = X_train / X_train.max()\n",
    "X_test = X_test / X_test.max()\n",
    "\n",
    "Y_train = to_categorical(Y_train0, 100)\n",
    "Y_test = to_categorical(Y_test0, 100)"
   ]
  },
  {
   "cell_type": "code",
   "execution_count": 10,
   "metadata": {},
   "outputs": [],
   "source": [
    "# 借CNN_layers\n",
    "for layer in CNN_layers:\n",
    "    layer.trainable = False"
   ]
  },
  {
   "cell_type": "code",
   "execution_count": 11,
   "metadata": {},
   "outputs": [
    {
     "name": "stdout",
     "output_type": "stream",
     "text": [
      "Model: \"sequential_1\"\n",
      "_________________________________________________________________\n",
      "Layer (type)                 Output Shape              Param #   \n",
      "=================================================================\n",
      "conv2d (Conv2D)              (None, 32, 32, 32)        896       \n",
      "_________________________________________________________________\n",
      "max_pooling2d (MaxPooling2D) (None, 16, 16, 32)        0         \n",
      "_________________________________________________________________\n",
      "conv2d_1 (Conv2D)            (None, 16, 16, 256)       73984     \n",
      "_________________________________________________________________\n",
      "max_pooling2d_1 (MaxPooling2 (None, 8, 8, 256)         0         \n",
      "_________________________________________________________________\n",
      "conv2d_2 (Conv2D)            (None, 8, 8, 512)         1180160   \n",
      "_________________________________________________________________\n",
      "global_average_pooling2d (Gl (None, 512)               0         \n",
      "_________________________________________________________________\n",
      "dense_2 (Dense)              (None, 64)                32832     \n",
      "_________________________________________________________________\n",
      "dense_3 (Dense)              (None, 128)               8320      \n",
      "_________________________________________________________________\n",
      "dense_4 (Dense)              (None, 100)               12900     \n",
      "=================================================================\n",
      "Total params: 1,309,092\n",
      "Trainable params: 54,052\n",
      "Non-trainable params: 1,255,040\n",
      "_________________________________________________________________\n",
      "Train on 50000 samples, validate on 10000 samples\n",
      "Epoch 1/3\n",
      "50000/50000 [==============================] - 235s 5ms/sample - loss: 3.9039 - categorical_accuracy: 0.0981 - val_loss: 3.5612 - val_categorical_accuracy: 0.1475\n",
      "Epoch 2/3\n",
      "50000/50000 [==============================] - 231s 5ms/sample - loss: 3.4597 - categorical_accuracy: 0.1666 - val_loss: 3.3583 - val_categorical_accuracy: 0.1920\n",
      "Epoch 3/3\n",
      "50000/50000 [==============================] - 246s 5ms/sample - loss: 3.2912 - categorical_accuracy: 0.1982 - val_loss: 3.2411 - val_categorical_accuracy: 0.2122\n"
     ]
    },
    {
     "data": {
      "text/plain": [
       "<tensorflow.python.keras.callbacks.History at 0x1bc6e5bd488>"
      ]
     },
     "execution_count": 11,
     "metadata": {},
     "output_type": "execute_result"
    }
   ],
   "source": [
    "FC_layers_2 = [Dense(64, activation = 'relu'),\n",
    "              Dense(128, activation = 'relu'),\n",
    "              Dense(100, activation = 'softmax')]\n",
    "\n",
    "model_2 = Sequential(CNN_layers + FC_layers_2)\n",
    "model_2.summary()\n",
    "\n",
    "model_2.compile(loss = 'categorical_crossentropy', \n",
    "                optimizer = Adam(),\n",
    "                metrics = ['categorical_accuracy']\n",
    "               )\n",
    "\n",
    "model_2.fit(X_train, Y_train,\n",
    "            batch_size = 128, \n",
    "            epochs = 3,\n",
    "            validation_data = (X_test, Y_test)\n",
    "           )"
   ]
  }
 ],
 "metadata": {
  "kernelspec": {
   "display_name": "Python 3",
   "language": "python",
   "name": "python3"
  },
  "language_info": {
   "codemirror_mode": {
    "name": "ipython",
    "version": 3
   },
   "file_extension": ".py",
   "mimetype": "text/x-python",
   "name": "python",
   "nbconvert_exporter": "python",
   "pygments_lexer": "ipython3",
   "version": "3.7.4"
  }
 },
 "nbformat": 4,
 "nbformat_minor": 2
}
