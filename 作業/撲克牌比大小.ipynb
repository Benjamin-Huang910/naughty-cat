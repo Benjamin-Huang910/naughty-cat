{
 "cells": [
  {
   "cell_type": "code",
   "execution_count": 3,
   "metadata": {},
   "outputs": [
    {
     "name": "stdout",
     "output_type": "stream",
     "text": [
      "洗牌中......\n",
      "洗牌完成\n",
      "為玩家發牌中......\n",
      "\n",
      "第一回合\n",
      "玩家的牌：\n",
      "♥Q , ♣A , ♣Q , \n",
      "\n"
     ]
    }
   ],
   "source": [
    "import random as r\n",
    "import time\n",
    "\n",
    "flower = [\"♠\", \"♥\", \"♣\", \"♦\"]\n",
    "number = ['A', '2', '3', '4', '5', '6', '7', '8', '9', '10', 'J', 'Q', 'K']\n",
    "pokers = []\n",
    "n=1\n",
    "for i in flower:\n",
    "    for j in number:\n",
    "        pokers.append((n, (i+j)))\n",
    "        n = n + 1\n",
    "print(\"洗牌中......\")\n",
    "r.shuffle(pokers)\n",
    "def shaf(x):\n",
    "    for i in x:\n",
    "        pokers.remove(i)\n",
    "    return pokers\n",
    "def pai(y):\n",
    "    for i in y:\n",
    "        print(i[1], ',', end = \" \")\n",
    "time.sleep(1)\n",
    "print(\"洗牌完成\")\n",
    "time.sleep(1)\n",
    "    \n",
    "#先發牌給玩家\n",
    "player = r.sample(pokers, 3)\n",
    "pokers = shaf(player)   \n",
    "print(\"為玩家發牌中......\\n\")\n",
    "player.sort()\n",
    "time.sleep(1)\n",
    "print(\"第一回合\")\n",
    "print(\"玩家的牌：\")\n",
    "pai(player)\n",
    "print(\"\\n\")"
   ]
  },
  {
   "cell_type": "code",
   "execution_count": 26,
   "metadata": {},
   "outputs": [
    {
     "name": "stdout",
     "output_type": "stream",
     "text": [
      "電腦出牌中......\n",
      "\n"
     ]
    }
   ],
   "source": [
    "computer = r.sample(pokers, 1) \n",
    "pokers=shaf(computer)   \n",
    "print(\"電腦出牌中......\\n\")\n",
    "computer.sort()"
   ]
  },
  {
   "cell_type": "code",
   "execution_count": 46,
   "metadata": {},
   "outputs": [
    {
     "data": {
      "text/plain": [
       "14"
      ]
     },
     "execution_count": 46,
     "metadata": {},
     "output_type": "execute_result"
    }
   ],
   "source": [
    "A = 14\n",
    "A\n",
    "locals()['A']"
   ]
  },
  {
   "cell_type": "code",
   "execution_count": null,
   "metadata": {},
   "outputs": [],
   "source": [
    "    score=[]\n",
    "    def comparison(player_drawi):\n",
    "        A = 14\n",
    "        J = 11\n",
    "        Q = 12\n",
    "        K = 13\n",
    "        player_draw_i = player_drawi[1] #例:從(25, '♥Q')中取出'♥Q'\n",
    "        computer1 = computer[0]#例:從[(21, '♥8')]中取出(21, '♥8')\n",
    "        computer_1 = computer1[1]#例:從(21, '♥8')中取出'♥8'\n",
    "        try:\n",
    "            if int(player_draw_i[1]) > int(computer_1[1]):\n",
    "                score.append(1)\n",
    "                print(\"嘿嘿嘿，這局是你贏了XD\")\n",
    "            elif int(player_draw_i[1]) == int(computer_1[1]):\n",
    "                if player_draw_i[0] == \"♠\":\n",
    "                    if computer_1[0] == \"♠\":\n",
    "                        score.append(0)\n",
    "                        print(\"哇~平手ㄟ\")\n",
    "                    elif computer_1[0] == \"♥\":\n",
    "                        score.append(1)\n",
    "                        print(\"嘿嘿嘿，這局是你贏了XD\")\n",
    "                    elif computer_1[0] == \"♦\":\n",
    "                        score.append(1)\n",
    "                        print(\"嘿嘿嘿，這局是你贏了XD\")\n",
    "                    elif computer_1[0] == \"♣\":\n",
    "                        score.append(1)\n",
    "                        print(\"嘿嘿嘿，這局是你贏了XD\")\n",
    "                if player_draw_i[0] == \"♥\":\n",
    "                    if computer_1[0] == \"♠\":\n",
    "                        score.append(-1)\n",
    "                        print(\"嫩，居然輸電腦，你阿嬤都比你厲害\")\n",
    "                    elif computer_1[0] == \"♥\":\n",
    "                        score.append(0)\n",
    "                        print(\"哇~平手ㄟ\")\n",
    "                    elif computer_1[0] == \"♦\":\n",
    "                        score.append(1)\n",
    "                        print(\"嘿嘿嘿，這局是你贏了XD\")\n",
    "                    elif computer_1[0] == \"♣\":\n",
    "                        score.append(1)\n",
    "                        print(\"嘿嘿嘿，這局是你贏了XD\")\n",
    "                if player_draw_i[0] == \"♦\":\n",
    "                    if computer_1[0] == \"♠\":\n",
    "                        score.append(-1)\n",
    "                        print(\"嫩，居然輸電腦，你阿嬤都比你厲害\")\n",
    "                    elif computer_1[0] == \"♥\":\n",
    "                        score.append(-1)\n",
    "                        print(\"嫩，居然輸電腦，你阿嬤都比你厲害\")\n",
    "                    elif computer_1[0] == \"♦\":\n",
    "                        score.append(0)\n",
    "                        print(\"哇~平手ㄟ\")\n",
    "                    elif computer_1[0] == \"♣\":\n",
    "                        score.append(1)\n",
    "                        print(\"嘿嘿嘿，這局是你贏了XD\")\n",
    "                if player_draw_i[0] == \"♣\":\n",
    "                    if computer_1[0] == \"♠\":\n",
    "                        score.append(-1)\n",
    "                        print(\"嫩，居然輸電腦，你阿嬤都比你厲害\")\n",
    "                    elif computer_1[0] == \"♥\":\n",
    "                        score.append(-1)\n",
    "                        print(\"嫩，居然輸電腦，你阿嬤都比你厲害\")\n",
    "                    elif computer_1[0] == \"♦\":\n",
    "                        score.append(-1)\n",
    "                        print(\"嫩，居然輸電腦，你阿嬤都比你厲害\")\n",
    "                    elif computer_1[0] == \"♣\":\n",
    "                        score.append(0)\n",
    "                        print(\"哇~平手ㄟ\")\n",
    "            elif int(player_draw_i[1]) < int(computer_1[1]):\n",
    "                score.append(-1)\n",
    "                print(\"嫩，居然輸電腦，你阿嬤都比你厲害\")\n",
    "        except ValueError:\n",
    "            pass\n",
    "    comparison(player_draw1)\n",
    "    accumulated_points = sum(score)\n",
    "    print(\"你的積分為:\",accumulated_points)"
   ]
  }
 ],
 "metadata": {
  "kernelspec": {
   "display_name": "Python 3",
   "language": "python",
   "name": "python3"
  },
  "language_info": {
   "codemirror_mode": {
    "name": "ipython",
    "version": 3
   },
   "file_extension": ".py",
   "mimetype": "text/x-python",
   "name": "python",
   "nbconvert_exporter": "python",
   "pygments_lexer": "ipython3",
   "version": "3.7.4"
  }
 },
 "nbformat": 4,
 "nbformat_minor": 2
}
