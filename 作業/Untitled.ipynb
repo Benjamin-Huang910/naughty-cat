{
 "cells": [
  {
   "cell_type": "code",
   "execution_count": 3,
   "metadata": {},
   "outputs": [
    {
     "name": "stdout",
     "output_type": "stream",
     "text": [
      "洗牌中......\n",
      "洗牌完成\n",
      "為玩家發牌中......\n",
      "\n",
      "第一回合\n",
      "玩家的牌：\n",
      "♥Q , ♣A , ♣Q , \n",
      "\n"
     ]
    }
   ],
   "source": [
    "import random as r\n",
    "import time\n",
    "\n",
    "flower = [\"♠\", \"♥\", \"♣\", \"♦\"]\n",
    "number = ['A', '2', '3', '4', '5', '6', '7', '8', '9', '10', 'J', 'Q', 'K']\n",
    "pokers = []\n",
    "n=1\n",
    "for i in flower:\n",
    "    for j in number:\n",
    "        pokers.append((n, (i+j)))\n",
    "        n = n + 1\n",
    "print(\"洗牌中......\")\n",
    "r.shuffle(pokers)\n",
    "def shaf(x):\n",
    "    for i in x:\n",
    "        pokers.remove(i)\n",
    "    return pokers\n",
    "def pai(y):\n",
    "    for i in y:\n",
    "        print(i[1], ',', end = \" \")\n",
    "time.sleep(1)\n",
    "print(\"洗牌完成\")\n",
    "time.sleep(1)\n",
    "    \n",
    "#先發牌給玩家\n",
    "player = r.sample(pokers, 3)\n",
    "pokers = shaf(player)   \n",
    "print(\"為玩家發牌中......\\n\")\n",
    "player.sort()\n",
    "time.sleep(1)\n",
    "print(\"第一回合\")\n",
    "print(\"玩家的牌：\")\n",
    "pai(player)\n",
    "print(\"\\n\")"
   ]
  },
  {
   "cell_type": "code",
   "execution_count": 5,
   "metadata": {},
   "outputs": [
    {
     "data": {
      "text/plain": [
       "[(25, '♥Q'), (27, '♣A'), (38, '♣Q')]"
      ]
     },
     "execution_count": 5,
     "metadata": {},
     "output_type": "execute_result"
    }
   ],
   "source": [
    "player"
   ]
  },
  {
   "cell_type": "code",
   "execution_count": 6,
   "metadata": {},
   "outputs": [
    {
     "data": {
      "text/plain": [
       "'♥'"
      ]
     },
     "execution_count": 6,
     "metadata": {},
     "output_type": "execute_result"
    }
   ],
   "source": [
    "'♥Q'[0]"
   ]
  },
  {
   "cell_type": "code",
   "execution_count": 22,
   "metadata": {},
   "outputs": [
    {
     "data": {
      "text/plain": [
       "(25, '♥Q')"
      ]
     },
     "execution_count": 22,
     "metadata": {},
     "output_type": "execute_result"
    }
   ],
   "source": [
    "player[0]"
   ]
  },
  {
   "cell_type": "code",
   "execution_count": 20,
   "metadata": {},
   "outputs": [
    {
     "data": {
      "text/plain": [
       "'♥'"
      ]
     },
     "execution_count": 20,
     "metadata": {},
     "output_type": "execute_result"
    }
   ],
   "source": [
    "player1=player[0]\n",
    "player_1 = player1[1]\n",
    "player_1[0]"
   ]
  },
  {
   "cell_type": "code",
   "execution_count": 17,
   "metadata": {},
   "outputs": [],
   "source": [
    "x='♥'"
   ]
  },
  {
   "cell_type": "code",
   "execution_count": 18,
   "metadata": {},
   "outputs": [
    {
     "data": {
      "text/plain": [
       "'♥'"
      ]
     },
     "execution_count": 18,
     "metadata": {},
     "output_type": "execute_result"
    }
   ],
   "source": [
    "x"
   ]
  },
  {
   "cell_type": "code",
   "execution_count": 24,
   "metadata": {},
   "outputs": [
    {
     "data": {
      "text/plain": [
       "'♥Q'"
      ]
     },
     "execution_count": 24,
     "metadata": {},
     "output_type": "execute_result"
    }
   ],
   "source": [
    "player_1"
   ]
  },
  {
   "cell_type": "code",
   "execution_count": null,
   "metadata": {},
   "outputs": [],
   "source": []
  }
 ],
 "metadata": {
  "kernelspec": {
   "display_name": "Python 3",
   "language": "python",
   "name": "python3"
  },
  "language_info": {
   "codemirror_mode": {
    "name": "ipython",
    "version": 3
   },
   "file_extension": ".py",
   "mimetype": "text/x-python",
   "name": "python",
   "nbconvert_exporter": "python",
   "pygments_lexer": "ipython3",
   "version": "3.7.4"
  }
 },
 "nbformat": 4,
 "nbformat_minor": 2
}
