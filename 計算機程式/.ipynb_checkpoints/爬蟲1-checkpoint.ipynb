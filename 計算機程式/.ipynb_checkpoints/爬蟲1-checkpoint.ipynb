{
 "cells": [
  {
   "cell_type": "code",
   "execution_count": 1,
   "metadata": {},
   "outputs": [],
   "source": [
    "import requests \n",
    "from pyquery import PyQuery as pq\n",
    "from selenium import webdriver"
   ]
  },
  {
   "cell_type": "code",
   "execution_count": 2,
   "metadata": {},
   "outputs": [],
   "source": [
    "res = requests.get(\"https://www.vgchartz.com/games/games.php?page=1&results=50&name=&console=&keyword=&publisher=&genre=&order=CriticScore&ownership=Both&boxart=Both&banner=Both&showdeleted=&region=All&goty_year=&developer=&direction=&showtotalsales=0&shownasales=0&showpalsales=0&showjapansales=0&showothersales=0&showpublisher=1&showdeveloper=0&showreleasedate=1&showlastupdate=1&showvgchartzscore=1&showcriticscore=1&showuserscore=1&showshipped=1&alphasort=&showmultiplat=No\")"
   ]
  },
  {
   "cell_type": "code",
   "execution_count": 3,
   "metadata": {},
   "outputs": [],
   "source": [
    "doc = pq(res.text)"
   ]
  },
  {
   "cell_type": "code",
   "execution_count": 4,
   "metadata": {},
   "outputs": [],
   "source": [
    "driver = webdriver.Chrome(r\"C:\\python workspace\\計算機程式\\chromedriver_win32\\chromedriver.exe\")"
   ]
  },
  {
   "cell_type": "code",
   "execution_count": 5,
   "metadata": {},
   "outputs": [
    {
     "data": {
      "text/plain": [
       "''"
      ]
     },
     "execution_count": 5,
     "metadata": {},
     "output_type": "execute_result"
    }
   ],
   "source": [
    "doc('#generalBody > table:nth-child(1) > tbody > tr:nth-child(4) > td:nth-child(6)').text()"
   ]
  },
  {
   "cell_type": "code",
   "execution_count": null,
   "metadata": {},
   "outputs": [],
   "source": [
    "if __name__ == \"__main__\":\n",
    "    rate_page = get_web_page(url)\n",
    "    soup = BeautifulSoup(rate_page, 'html.parser')\n",
    "    rate_list = soup.find_all('tr')[27:77] # table rows for storing the rates\n",
    "\n",
    "    Game_name = []\n",
    "    Console = []\n",
    "    Publisher = []\n",
    "    VGChartz_Score = []\n",
    "    Critic_Score = []\n",
    "    User_Score = []\n",
    "\n",
    "    for data in rate_list:\n",
    "        row = data.find_all('td', align='center')\n",
    "        Game_name.append(row[1].text.strip())\n",
    "        Console.append(row[2].text.strip())\n",
    "        Publisher.append(row[3].text.strip())\n",
    "        VGChartz_Score.append(row[4].text.strip())\n",
    "        Critic_Score.append(row[5].text.strip())\n",
    "        User_Score.append(row[6].text.strip())\n",
    "   \n",
    "    \n",
    "    rate_df = pd.DataFrame({\n",
    "        'Game_name': Game_name,\n",
    "        'Console': Console,\n",
    "        'Publisher': Publisher,\n",
    "        'VGChartz_Score': VGChartz_Score,\n",
    "        'Critic_Score': Critic_Score,\n",
    "        'User_Score': User_Score\n",
    "    })"
   ]
  },
  {
   "cell_type": "code",
   "execution_count": null,
   "metadata": {},
   "outputs": [],
   "source": [
    "#generalBody > table:nth-child(1) > tbody > tr:nth-child(4) > td:nth-child(3)"
   ]
  },
  {
   "cell_type": "code",
   "execution_count": null,
   "metadata": {},
   "outputs": [],
   "source": [
    "if __name__ == \"__main__\":\n",
    "    rate_page = get_web_page(url)\n",
    "    soup = BeautifulSoup(rate_page, 'html.parser')\n",
    "    rate_list = soup.find_all('tr')[27:77] # table rows for storing the rates\n",
    "\n",
    "    Game_name = []\n",
    "\n",
    "    for data in rate_list:\n",
    "        title = data.find('a').string\n",
    "        Game_name.append(title)"
   ]
  }
 ],
 "metadata": {
  "kernelspec": {
   "display_name": "Python 3",
   "language": "python",
   "name": "python3"
  },
  "language_info": {
   "codemirror_mode": {
    "name": "ipython",
    "version": 3
   },
   "file_extension": ".py",
   "mimetype": "text/x-python",
   "name": "python",
   "nbconvert_exporter": "python",
   "pygments_lexer": "ipython3",
   "version": "3.7.4"
  }
 },
 "nbformat": 4,
 "nbformat_minor": 2
}
