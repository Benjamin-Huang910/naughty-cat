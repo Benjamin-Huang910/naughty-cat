{
 "cells": [
  {
   "cell_type": "code",
   "execution_count": 1,
   "metadata": {},
   "outputs": [],
   "source": [
    "import numpy as np\n",
    "import pandas as pd\n",
    "\n",
    "import requests\n",
    "from bs4 import BeautifulSoup"
   ]
  },
  {
   "cell_type": "code",
   "execution_count": 2,
   "metadata": {},
   "outputs": [],
   "source": [
    "url = 'https://www.vgchartz.com/games/games.php?page=1&results=50&name=&console=&keyword=&publisher=&genre=&order=CriticScore&ownership=Both&boxart=Both&banner=Both&showdeleted=&region=All&goty_year=&developer=&direction=&showtotalsales=0&shownasales=0&showpalsales=0&showjapansales=0&showothersales=0&showpublisher=1&showdeveloper=0&showreleasedate=1&showlastupdate=1&showvgchartzscore=1&showcriticscore=1&showuserscore=1&showshipped=1&alphasort=&showmultiplat=No'"
   ]
  },
  {
   "cell_type": "code",
   "execution_count": 3,
   "metadata": {},
   "outputs": [],
   "source": [
    "def get_web_page(url):\n",
    "    resp = requests.get(url)\n",
    "    resp.encoding = 'utf-8'\n",
    "    \n",
    "    if resp.status_code != 200:\n",
    "        print('Invalid url:', resp.url)\n",
    "        return None\n",
    "    else:\n",
    "        return resp.text"
   ]
  },
  {
   "cell_type": "code",
   "execution_count": 23,
   "metadata": {},
   "outputs": [],
   "source": [
    "rate_page = get_web_page(url)\n",
    "soup = BeautifulSoup(rate_page, 'html.parser')\n",
    "odd_trs = soup.find_all('tr', style='background-image:url(../imgs/chartBar_large.gif); height:70px')\n",
    "even_trs = soup.find_all('tr', style='background-image:url(../imgs/chartBar_alt_large.gif); height:70px')\n",
    "\n",
    "\n",
    "games_name = []\n",
    "for i in range(len(odd_trs)):\n",
    "    odd_game_name = odd_trs[i].find('td', style='font-size:12pt;').text.strip()\n",
    "    even_game_name = even_trs[i].find('td', style='font-size:12pt;').text.strip()\n",
    "    \n",
    "    games_name.append(odd_game_name)\n",
    "    games_name.append(even_game_name)"
   ]
  },
  {
   "cell_type": "code",
   "execution_count": 24,
   "metadata": {},
   "outputs": [
    {
     "data": {
      "text/plain": [
       "['Final Fantasy II',\n",
       " 'Final Fight',\n",
       " 'Forza Horizon 4',\n",
       " 'Fusion: Genesis',\n",
       " 'Minecraft',\n",
       " 'Red Dead Redemption: Undead Nightmare',\n",
       " 'Red Dead Redemption: Undead Nightmare',\n",
       " 'Renegade Ops',\n",
       " 'Super Mario Bros.',\n",
       " 'Super Mario Kart',\n",
       " 'The gamrReview Test Game',\n",
       " \"The Legend of Zelda Collector's Edition\",\n",
       " 'The Legend of Zelda: A Link to the Past',\n",
       " 'The Legend of Zelda: Breath of the Wild',\n",
       " 'Grand Theft Auto IV    Read the review',\n",
       " 'Grand Theft Auto IV    Read the review',\n",
       " 'The Legend of Zelda: Ocarina of Time',\n",
       " 'GoldenEye 007',\n",
       " 'Red Dead Redemption 2    Read the review',\n",
       " 'Rockstar Games Double Pack: Grand Theft Auto III & Grand Theft Auto Vice City',\n",
       " 'Super Mario 64',\n",
       " 'The Orange Box',\n",
       " 'Grand Theft Auto V',\n",
       " \"Tony Hawk's Pro Skater 2\",\n",
       " 'Half-Life 2',\n",
       " 'God of War (2018)    Read the review',\n",
       " 'Rockstar Games Double Pack: Grand Theft Auto III & Grand Theft Auto Vice City',\n",
       " 'Perfect Dark',\n",
       " 'Chrono Cross',\n",
       " 'Super Mario Galaxy 2    Read the review',\n",
       " 'NFL 2K',\n",
       " 'Super Mario Bros. Deluxe',\n",
       " 'Super Mario Galaxy    Read the review',\n",
       " 'The Orange Box',\n",
       " 'Portal 2',\n",
       " \"Tony Hawk's Pro Skater\",\n",
       " 'Portal 2',\n",
       " 'Halo 3    Read the review',\n",
       " 'Resident Evil 4',\n",
       " 'Portal 2',\n",
       " 'SoulCalibur',\n",
       " 'Samba De Amigo Ver. 2000',\n",
       " 'BioShock    Read the review',\n",
       " 'Grand Theft Auto: Vice City',\n",
       " 'NFL 2K1',\n",
       " 'Halo 2',\n",
       " 'The Legend of Zelda: The Wind Waker',\n",
       " 'Resident Evil 4',\n",
       " 'The Legend of Zelda: A Link to the Past',\n",
       " 'BioShock']"
      ]
     },
     "execution_count": 24,
     "metadata": {},
     "output_type": "execute_result"
    }
   ],
   "source": [
    "games_name"
   ]
  },
  {
   "cell_type": "code",
   "execution_count": null,
   "metadata": {},
   "outputs": [],
   "source": []
  }
 ],
 "metadata": {
  "kernelspec": {
   "display_name": "Python 3",
   "language": "python",
   "name": "python3"
  },
  "language_info": {
   "codemirror_mode": {
    "name": "ipython",
    "version": 3
   },
   "file_extension": ".py",
   "mimetype": "text/x-python",
   "name": "python",
   "nbconvert_exporter": "python",
   "pygments_lexer": "ipython3",
   "version": "3.7.4"
  }
 },
 "nbformat": 4,
 "nbformat_minor": 2
}
