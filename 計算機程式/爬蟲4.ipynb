{
 "cells": [
  {
   "cell_type": "code",
   "execution_count": 4,
   "metadata": {},
   "outputs": [],
   "source": [
    "import numpy as np\n",
    "import pandas as pd\n",
    "import requests\n",
    "from bs4 import BeautifulSoup\n",
    "import sys\n",
    "import time\n",
    "from selenium import webdriver\n",
    "from urllib.request import urlopen"
   ]
  },
  {
   "cell_type": "code",
   "execution_count": 10,
   "metadata": {},
   "outputs": [],
   "source": [
    "def get_web_page(url):\n",
    "    resp = requests.get(url)\n",
    "    resp.encoding = 'utf-8'\n",
    "    \n",
    "    if resp.status_code != 200:\n",
    "        print('Invalid url:', resp.url)\n",
    "        return None\n",
    "    else:\n",
    "        return resp.text"
   ]
  },
  {
   "cell_type": "code",
   "execution_count": 11,
   "metadata": {},
   "outputs": [],
   "source": [
    "url = 'https://www.vgchartz.com/games/games.php?page=1&results=50&name=&console=&keyword=&publisher=&genre=&order=CriticScore&ownership=Both&boxart=Both&banner=Both&showdeleted=&region=All&goty_year=&developer=&direction=&showtotalsales=0&shownasales=0&showpalsales=0&showjapansales=0&showothersales=0&showpublisher=1&showdeveloper=0&showreleasedate=1&showlastupdate=1&showvgchartzscore=1&showcriticscore=1&showuserscore=1&showshipped=1&alphasort=&showmultiplat=No'\n",
    "driver = webdriver.Chrome(executable_path=r'C:\\python workspace\\計算機程式\\chromedriver_win32\\chromedriver.exe')\n",
    "driver.get(url)\n",
    "page = 0\n",
    "while page < 10:\n",
    "     if __name__ == \"__main__\":\n",
    "        #第一段是針對我們所需要的網站區塊作的連結\n",
    "        rate_page = get_web_page(url)\n",
    "        soup = BeautifulSoup(rate_page, 'html.parser')\n",
    "        rate_list = soup.find_all('tr')[27:77] # table rows for storing the rates #這一行是爬遊戲評分的數據\n",
    "        odd_trs = soup.find_all('tr', style='background-image:url(../imgs/chartBar_large.gif); height:70px')#這兩行是爬遊戲名稱的區塊\n",
    "        even_trs = soup.find_all('tr', style='background-image:url(../imgs/chartBar_alt_large.gif); height:70px')\n",
    "        \n",
    "        #創建儲存資料的地方\n",
    "        games_name= []\n",
    "        VGChartz_Score = []\n",
    "        Critic_Score = []\n",
    "        User_Score = []\n",
    "        \n",
    "        #把爬到的數據丟進儲存資料\n",
    "        for data in rate_list:\n",
    "            row = data.find_all('td', align='center')\n",
    "            VGChartz_Score.append(row[1].text.strip())\n",
    "            Critic_Score.append(row[2].text.strip())\n",
    "            User_Score.append(row[3].text.strip())\n",
    "        \n",
    "        #把爬到的遊戲名稱丟進儲存資料\n",
    "        for i in range(len(odd_trs)):\n",
    "            odd_game_name = odd_trs[i].find('td', style='font-size:12pt;').text.strip()\n",
    "            even_game_name = even_trs[i].find('td', style='font-size:12pt;').text.strip()\n",
    "    \n",
    "            games_name.append(odd_game_name)\n",
    "            games_name.append(even_game_name)     \n",
    "        \n",
    "        #把儲存資料轉換成dataframe\n",
    "        rate_df = pd.DataFrame({\n",
    "            'Game_Name': games_name,\n",
    "            'VGChartz_Score': VGChartz_Score,\n",
    "            'Critic_Score': Critic_Score,\n",
    "            'User_Score': User_Score\n",
    "        })\n",
    "     driver.find_element_by_xpath(\"/html/body/div[3]/div/div[2]/table/tbody/tr/td/div/div[2]/table[1]/tbody/tr[1]/th[2]/span[2]/a\").click()\n",
    "     page = page + 1\n",
    "     time.sleep(2)\n",
    "driver.quit()"
   ]
  },
  {
   "cell_type": "code",
   "execution_count": 12,
   "metadata": {},
   "outputs": [],
   "source": [
    "#把dataframe輸出成excel檔\n",
    "outputpath='遊戲評分_page2.xlsx'\n",
    "rate_df.to_excel(outputpath,index=False,header=False)"
   ]
  }
 ],
 "metadata": {
  "kernelspec": {
   "display_name": "Python 3",
   "language": "python",
   "name": "python3"
  },
  "language_info": {
   "codemirror_mode": {
    "name": "ipython",
    "version": 3
   },
   "file_extension": ".py",
   "mimetype": "text/x-python",
   "name": "python",
   "nbconvert_exporter": "python",
   "pygments_lexer": "ipython3",
   "version": "3.7.4"
  }
 },
 "nbformat": 4,
 "nbformat_minor": 2
}
