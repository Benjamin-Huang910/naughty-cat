{
 "cells": [
  {
   "cell_type": "markdown",
   "metadata": {},
   "source": [
    "## 問題1\n",
    "問題：如果自己是推銷保險的人，如何知道自己能夠推銷出去的成功率？\n",
    "輸入：被推銷的人\n",
    "輸出：被推銷成功的人\n",
    "訓練資料：拍照前要先跟被拍的人申明這是一個實驗，不會去侵犯他的個資，然後拍他的正面照；可多組人同時進行"
   ]
  },
  {
   "cell_type": "markdown",
   "metadata": {},
   "source": [
    "## 問題2\n",
    "問題：判斷貓咪是否要上廁所(為了避免上在貓砂外)\n",
    "輸入：貓咪日常的各種表情照片\n",
    "輸出：貓咪在上廁所的表情照片\n",
    "訓練資料：自己拍，或是到網路去搜集其他人的照片"
   ]
  },
  {
   "cell_type": "markdown",
   "metadata": {},
   "source": [
    "## 問題3\n",
    "問題：能否有一個裝置是可以偵測一個人的酒精濃度超標，並發出警告聲制止其開車\n",
    "輸入：人的日常表情圖片\n",
    "輸出：人酒醉的表情圖片\n",
    "訓練資料：尋找網路上的照片，或是去新聞搜尋照片"
   ]
  },
  {
   "cell_type": "markdown",
   "metadata": {},
   "source": [
    "## 問題4\n",
    "問題：藉由30秒的旋律判斷這是哪一首歌\n",
    "輸入：一首歌裡隨機30秒片段的旋律\n",
    "輸出：一首完整的歌\n",
    "訓練資料：從youtube抓歌"
   ]
  },
  {
   "cell_type": "code",
   "execution_count": null,
   "metadata": {},
   "outputs": [],
   "source": []
  }
 ],
 "metadata": {
  "kernelspec": {
   "display_name": "Python 3",
   "language": "python",
   "name": "python3"
  },
  "language_info": {
   "codemirror_mode": {
    "name": "ipython",
    "version": 3
   },
   "file_extension": ".py",
   "mimetype": "text/x-python",
   "name": "python",
   "nbconvert_exporter": "python",
   "pygments_lexer": "ipython3",
   "version": "3.7.4"
  }
 },
 "nbformat": 4,
 "nbformat_minor": 2
}
