{
 "cells": [
  {
   "cell_type": "code",
   "execution_count": 1,
   "metadata": {},
   "outputs": [],
   "source": [
    "%matplotlib inline\n",
    "import numpy as np\n",
    "import matplotlib.pyplot as plt"
   ]
  },
  {
   "cell_type": "code",
   "execution_count": 2,
   "metadata": {},
   "outputs": [],
   "source": [
    "import pandas as pd"
   ]
  },
  {
   "cell_type": "code",
   "execution_count": 4,
   "metadata": {},
   "outputs": [
    {
     "name": "stdout",
     "output_type": "stream",
     "text": [
      " 磁碟區 C 中的磁碟是 Local Disk\n",
      " 磁碟區序號:  A293-6294\n",
      "\n",
      " C:\\python workspace 的目錄\n",
      "\n",
      "2020/03/13  下午 09:17    <DIR>          .\n",
      "2020/03/13  下午 09:17    <DIR>          ..\n",
      "2020/03/13  下午 08:28    <DIR>          .ipynb_checkpoints\n",
      "2020/02/29  下午 08:24             2,364 0104把python當計算機用.ipynb\n",
      "2020/02/29  下午 08:28            46,947 0105jupyter的魔術.ipynb\n",
      "2020/02/29  下午 08:39             1,727 0106用markdown作筆記.ipynb\n",
      "2020/02/29  下午 10:53             3,792 0107變數好好用.ipynb\n",
      "2020/02/29  下午 11:55            16,664 0108串列list是數據分析第一步.ipynb\n",
      "2020/03/01  上午 12:08             4,110 0109字串hello world.ipynb\n",
      "2020/03/01  上午 12:24             4,457 0110互動的開始.ipynb\n",
      "2020/03/01  下午 02:42             4,147 0201條件判斷.ipynb\n",
      "2020/03/01  下午 03:11             2,795 0202用迴圈做拍拍機器人.ipynb\n",
      "2020/03/01  下午 03:38             2,495 0203字串完全照我們意思格式化.ipynb\n",
      "2020/03/02  上午 10:16             2,708 0204函數的寫法初級班.ipynb\n",
      "2020/03/02  上午 10:39             1,760 0205函數練習.ipynb\n",
      "2020/03/02  上午 10:56             4,489 0206 list的切割技術.ipynb\n",
      "2020/03/02  上午 11:02             1,727 0207字串很像list.ipynb\n",
      "2020/03/02  上午 11:15             4,122 0208 list快速生成法.ipynb\n",
      "2020/03/02  上午 11:27             2,261 0209 for迴圈.ipynb\n",
      "2020/03/02  上午 11:57             2,546 0210我們要找的資料在裡面嗎.ipynb\n",
      "2020/03/03  下午 05:22             2,201 0211 if條件判斷.ipynb\n",
      "2020/03/03  下午 05:30             1,831 0212 亂數好好玩.ipynb\n",
      "2020/03/05  下午 08:29             5,299 0301 正規讀套件的方法之一.ipynb\n",
      "2020/03/05  下午 08:34             2,400 0302 正規讀套件的方法之二.ipynb\n",
      "2020/03/05  下午 08:46            48,546 0303 數據分析的標準動作.ipynb\n",
      "2020/03/05  下午 09:02             1,806 0304 處理一整個list的數字.ipynb\n",
      "2020/03/05  下午 09:08             2,069 0305 array真是太炫了.ipynb\n",
      "2020/03/05  下午 11:08             2,154 0306 用array算成績(加權和).ipynb\n",
      "2020/03/05  下午 11:18             1,895 0307 算全班成績.ipynb\n",
      "2020/03/05  下午 11:26            16,854 0308 array大變身.ipynb\n",
      "2020/03/05  下午 11:58             5,626 0309 array的快速生成法.ipynb\n",
      "2020/03/06  上午 12:11            69,586 0310 array畫圖超方便.ipynb\n",
      "2020/03/06  上午 12:22            34,036 0311 array快篩法.ipynb\n",
      "2020/03/06  下午 05:42             2,429 0401 字典資料型態.ipynb\n",
      "2020/03/10  上午 11:16             4,494 0402 超炫的互動功能之一.ipynb\n",
      "2020/03/10  下午 06:37             2,680 0403 超炫的互動功能之二.ipynb\n",
      "2020/03/10  下午 06:31             2,436 0404 互動應用範例.ipynb\n",
      "2020/03/07  下午 05:15            28,070 0405 圖形的互動之一.ipynb\n",
      "2020/03/10  下午 06:30            14,806 0406 圖形互動之over fitting.ipynb\n",
      "2020/03/10  下午 12:06             2,102 0407 互動範例BMI計算器.ipynb\n",
      "2020/03/13  下午 09:17            48,058 0501 熊貓是pandas的excel.ipynb\n",
      "2020/03/13  下午 08:58            43,435 0502 用熊貓做數據分析.ipynb\n",
      "2020/03/13  下午 09:16               132 grades.csv\n",
      "2020/02/29  下午 08:35            13,574 images.jfif\n",
      "2020/03/03  下午 09:11            25,634 一番 我想要的名字.ipynb\n",
      "2020/03/05  下午 09:42             1,790 作業1 在餐廳點餐.ipynb\n",
      "2020/03/04  上午 12:38             1,920 作業2 猜數字遊戲.ipynb\n",
      "2020/03/10  上午 11:08             2,051 作業3 評估電腦價格.ipynb\n",
      "2020/03/10  下午 06:40             2,108 作業4 匯率轉換器.ipynb\n",
      "2020/03/10  下午 06:40             2,019 作業5 簡易美金兌台幣.ipynb\n",
      "2020/03/11  下午 03:37             2,015 問題串.ipynb\n",
      "2020/03/09  下午 05:48           177,026 程式概論01.ipynb\n",
      "              49 個檔案         680,193 位元組\n",
      "               3 個目錄  72,793,448,448 位元組可用\n"
     ]
    }
   ],
   "source": [
    "%ls"
   ]
  },
  {
   "cell_type": "code",
   "execution_count": 5,
   "metadata": {},
   "outputs": [
    {
     "name": "stdout",
     "output_type": "stream",
     "text": [
      " 磁碟區 C 中的磁碟是 Local Disk\n",
      " 磁碟區序號:  A293-6294\n",
      "\n",
      " C:\\python workspace 的目錄\n",
      "\n",
      "2020/03/11  下午 03:48    <DIR>          .\n",
      "2020/03/11  下午 03:48    <DIR>          ..\n",
      "2020/03/11  下午 03:41    <DIR>          .ipynb_checkpoints\n",
      "2020/02/29  下午 08:24             2,364 0104把python當計算機用.ipynb\n",
      "2020/02/29  下午 08:28            46,947 0105jupyter的魔術.ipynb\n",
      "2020/02/29  下午 08:39             1,727 0106用markdown作筆記.ipynb\n",
      "2020/02/29  下午 10:53             3,792 0107變數好好用.ipynb\n",
      "2020/02/29  下午 11:55            16,664 0108串列list是數據分析第一步.ipynb\n",
      "2020/03/01  上午 12:08             4,110 0109字串hello world.ipynb\n",
      "2020/03/01  上午 12:24             4,457 0110互動的開始.ipynb\n",
      "2020/03/01  下午 02:42             4,147 0201條件判斷.ipynb\n",
      "2020/03/01  下午 03:11             2,795 0202用迴圈做拍拍機器人.ipynb\n",
      "2020/03/01  下午 03:38             2,495 0203字串完全照我們意思格式化.ipynb\n",
      "2020/03/02  上午 10:16             2,708 0204函數的寫法初級班.ipynb\n",
      "2020/03/02  上午 10:39             1,760 0205函數練習.ipynb\n",
      "2020/03/02  上午 10:56             4,489 0206 list的切割技術.ipynb\n",
      "2020/03/02  上午 11:02             1,727 0207字串很像list.ipynb\n",
      "2020/03/02  上午 11:15             4,122 0208 list快速生成法.ipynb\n",
      "2020/03/02  上午 11:27             2,261 0209 for迴圈.ipynb\n",
      "2020/03/02  上午 11:57             2,546 0210我們要找的資料在裡面嗎.ipynb\n",
      "2020/03/03  下午 05:22             2,201 0211 if條件判斷.ipynb\n",
      "2020/03/03  下午 05:30             1,831 0212 亂數好好玩.ipynb\n",
      "2020/03/05  下午 08:29             5,299 0301 正規讀套件的方法之一.ipynb\n",
      "2020/03/05  下午 08:34             2,400 0302 正規讀套件的方法之二.ipynb\n",
      "2020/03/05  下午 08:46            48,546 0303 數據分析的標準動作.ipynb\n",
      "2020/03/05  下午 09:02             1,806 0304 處理一整個list的數字.ipynb\n",
      "2020/03/05  下午 09:08             2,069 0305 array真是太炫了.ipynb\n",
      "2020/03/05  下午 11:08             2,154 0306 用array算成績(加權和).ipynb\n",
      "2020/03/05  下午 11:18             1,895 0307 算全班成績.ipynb\n",
      "2020/03/05  下午 11:26            16,854 0308 array大變身.ipynb\n",
      "2020/03/05  下午 11:58             5,626 0309 array的快速生成法.ipynb\n",
      "2020/03/06  上午 12:11            69,586 0310 array畫圖超方便.ipynb\n",
      "2020/03/06  上午 12:22            34,036 0311 array快篩法.ipynb\n",
      "2020/03/06  下午 05:42             2,429 0401 字典資料型態.ipynb\n",
      "2020/03/10  上午 11:16             4,494 0402 超炫的互動功能之一.ipynb\n",
      "2020/03/10  下午 06:37             2,680 0403 超炫的互動功能之二.ipynb\n",
      "2020/03/10  下午 06:31             2,436 0404 互動應用範例.ipynb\n",
      "2020/03/07  下午 05:15            28,070 0405 圖形的互動之一.ipynb\n",
      "2020/03/10  下午 06:30            14,806 0406 圖形互動之over fitting.ipynb\n",
      "2020/03/10  下午 12:06             2,102 0407 互動範例BMI計算器.ipynb\n",
      "2020/03/11  下午 03:48            10,430 0501 熊貓是pandas的excel.ipynb\n",
      "2020/03/11  下午 03:48            28,353 108-2期初預算.csv\n",
      "2020/02/29  下午 08:35            13,574 images.jfif\n",
      "2020/03/03  下午 09:11            25,634 一番 我想要的名字.ipynb\n",
      "2020/03/05  下午 09:42             1,790 作業1 在餐廳點餐.ipynb\n",
      "2020/03/04  上午 12:38             1,920 作業2 猜數字遊戲.ipynb\n",
      "2020/03/10  上午 11:08             2,051 作業3 評估電腦價格.ipynb\n",
      "2020/03/10  下午 06:40             2,108 作業4 匯率轉換器.ipynb\n",
      "2020/03/10  下午 06:40             2,019 作業5 簡易美金兌台幣.ipynb\n",
      "2020/03/11  下午 03:37             2,015 問題串.ipynb\n",
      "2020/03/09  下午 05:48           177,026 程式概論01.ipynb\n",
      "              48 個檔案         627,351 位元組\n",
      "               3 個目錄  76,410,814,464 位元組可用\n"
     ]
    }
   ],
   "source": [
    "%ls"
   ]
  },
  {
   "cell_type": "code",
   "execution_count": 7,
   "metadata": {},
   "outputs": [],
   "source": [
    "df=pd.read_csv(\"grades.csv\")"
   ]
  },
  {
   "cell_type": "code",
   "execution_count": 8,
   "metadata": {},
   "outputs": [
    {
     "data": {
      "text/html": [
       "<div>\n",
       "<style scoped>\n",
       "    .dataframe tbody tr th:only-of-type {\n",
       "        vertical-align: middle;\n",
       "    }\n",
       "\n",
       "    .dataframe tbody tr th {\n",
       "        vertical-align: top;\n",
       "    }\n",
       "\n",
       "    .dataframe thead th {\n",
       "        text-align: right;\n",
       "    }\n",
       "</style>\n",
       "<table border=\"1\" class=\"dataframe\">\n",
       "  <thead>\n",
       "    <tr style=\"text-align: right;\">\n",
       "      <th></th>\n",
       "      <th>姓名</th>\n",
       "      <th>國文</th>\n",
       "      <th>英文</th>\n",
       "      <th>數學</th>\n",
       "      <th>社會</th>\n",
       "      <th>自然</th>\n",
       "    </tr>\n",
       "  </thead>\n",
       "  <tbody>\n",
       "    <tr>\n",
       "      <td>0</td>\n",
       "      <td>吳孟容</td>\n",
       "      <td>12</td>\n",
       "      <td>15</td>\n",
       "      <td>12</td>\n",
       "      <td>15</td>\n",
       "      <td>9</td>\n",
       "    </tr>\n",
       "    <tr>\n",
       "      <td>1</td>\n",
       "      <td>高宏維</td>\n",
       "      <td>13</td>\n",
       "      <td>15</td>\n",
       "      <td>13</td>\n",
       "      <td>15</td>\n",
       "      <td>12</td>\n",
       "    </tr>\n",
       "    <tr>\n",
       "      <td>2</td>\n",
       "      <td>涂百承</td>\n",
       "      <td>14</td>\n",
       "      <td>14</td>\n",
       "      <td>14</td>\n",
       "      <td>14</td>\n",
       "      <td>14</td>\n",
       "    </tr>\n",
       "    <tr>\n",
       "      <td>3</td>\n",
       "      <td>張皓宇</td>\n",
       "      <td>15</td>\n",
       "      <td>15</td>\n",
       "      <td>15</td>\n",
       "      <td>15</td>\n",
       "      <td>15</td>\n",
       "    </tr>\n",
       "    <tr>\n",
       "      <td>4</td>\n",
       "      <td>黃揚軒</td>\n",
       "      <td>13</td>\n",
       "      <td>14</td>\n",
       "      <td>15</td>\n",
       "      <td>14</td>\n",
       "      <td>12</td>\n",
       "    </tr>\n",
       "  </tbody>\n",
       "</table>\n",
       "</div>"
      ],
      "text/plain": [
       "    姓名  國文  英文  數學  社會  自然\n",
       "0  吳孟容  12  15  12  15   9\n",
       "1  高宏維  13  15  13  15  12\n",
       "2  涂百承  14  14  14  14  14\n",
       "3  張皓宇  15  15  15  15  15\n",
       "4  黃揚軒  13  14  15  14  12"
      ]
     },
     "execution_count": 8,
     "metadata": {},
     "output_type": "execute_result"
    }
   ],
   "source": [
    "df.head()"
   ]
  },
  {
   "cell_type": "code",
   "execution_count": 9,
   "metadata": {},
   "outputs": [
    {
     "data": {
      "text/plain": [
       "0    12\n",
       "1    13\n",
       "2    14\n",
       "3    15\n",
       "4    13\n",
       "Name: 國文, dtype: int64"
      ]
     },
     "execution_count": 9,
     "metadata": {},
     "output_type": "execute_result"
    }
   ],
   "source": [
    "df[\"國文\"]"
   ]
  },
  {
   "cell_type": "code",
   "execution_count": 10,
   "metadata": {},
   "outputs": [
    {
     "data": {
      "text/plain": [
       "0    12\n",
       "1    13\n",
       "2    14\n",
       "3    15\n",
       "4    13\n",
       "Name: 國文, dtype: int64"
      ]
     },
     "execution_count": 10,
     "metadata": {},
     "output_type": "execute_result"
    }
   ],
   "source": [
    "df.國文"
   ]
  },
  {
   "cell_type": "code",
   "execution_count": 11,
   "metadata": {},
   "outputs": [],
   "source": [
    "cg=df.國文.values"
   ]
  },
  {
   "cell_type": "code",
   "execution_count": 12,
   "metadata": {},
   "outputs": [
    {
     "data": {
      "text/plain": [
       "array([12, 13, 14, 15, 13], dtype=int64)"
      ]
     },
     "execution_count": 12,
     "metadata": {},
     "output_type": "execute_result"
    }
   ],
   "source": [
    "cg"
   ]
  },
  {
   "cell_type": "code",
   "execution_count": 13,
   "metadata": {},
   "outputs": [
    {
     "data": {
      "text/plain": [
       "13.4"
      ]
     },
     "execution_count": 13,
     "metadata": {},
     "output_type": "execute_result"
    }
   ],
   "source": [
    "cg.mean()"
   ]
  },
  {
   "cell_type": "code",
   "execution_count": 14,
   "metadata": {},
   "outputs": [
    {
     "data": {
      "text/plain": [
       "1.0198039027185568"
      ]
     },
     "execution_count": 14,
     "metadata": {},
     "output_type": "execute_result"
    }
   ],
   "source": [
    "cg.std()"
   ]
  },
  {
   "cell_type": "code",
   "execution_count": 15,
   "metadata": {},
   "outputs": [
    {
     "data": {
      "text/plain": [
       "<matplotlib.axes._subplots.AxesSubplot at 0x16a1532be08>"
      ]
     },
     "execution_count": 15,
     "metadata": {},
     "output_type": "execute_result"
    },
    {
     "data": {
      "image/png": "[encoded data removed]",
      "text/plain": [
       "<Figure size 432x288 with 1 Axes>"
      ]
     },
     "metadata": {
      "needs_background": "light"
     },
     "output_type": "display_data"
    }
   ],
   "source": [
    "df[\"國文\"].plot()"
   ]
  },
  {
   "cell_type": "code",
   "execution_count": 16,
   "metadata": {},
   "outputs": [
    {
     "data": {
      "text/plain": [
       "<matplotlib.axes._subplots.AxesSubplot at 0x16a1584cd08>"
      ]
     },
     "execution_count": 16,
     "metadata": {},
     "output_type": "execute_result"
    },
    {
     "data": {
      "image/png": "[encoded data removed]",
      "text/plain": [
       "<Figure size 432x288 with 1 Axes>"
      ]
     },
     "metadata": {
      "needs_background": "light"
     },
     "output_type": "display_data"
    }
   ],
   "source": [
    "df.國文.hist(bins=15)"
   ]
  },
  {
   "cell_type": "code",
   "execution_count": null,
   "metadata": {},
   "outputs": [],
   "source": []
  }
 ],
 "metadata": {
  "kernelspec": {
   "display_name": "Python 3",
   "language": "python",
   "name": "python3"
  },
  "language_info": {
   "codemirror_mode": {
    "name": "ipython",
    "version": 3
   },
   "file_extension": ".py",
   "mimetype": "text/x-python",
   "name": "python",
   "nbconvert_exporter": "python",
   "pygments_lexer": "ipython3",
   "version": "3.7.4"
  }
 },
 "nbformat": 4,
 "nbformat_minor": 2
}
