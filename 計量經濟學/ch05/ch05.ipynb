{
 "cells": [
  {
   "cell_type": "markdown",
   "metadata": {},
   "source": [
    "### Multiple Regression"
   ]
  },
  {
   "cell_type": "markdown",
   "metadata": {},
   "source": [
    "### Big Andy's Burger Barn"
   ]
  },
  {
   "cell_type": "code",
   "execution_count": 1,
   "metadata": {},
   "outputs": [],
   "source": [
    "import pandas as pd\n",
    "import numpy as np\n",
    "import statsmodels.formula.api as smf\n",
    "from statsmodels.stats.anova import anova_lm\n",
    "import matplotlib.pyplot as plt\n",
    "\n",
    "andy = pd.read_sas('andy.sas7bdat')"
   ]
  },
  {
   "cell_type": "code",
   "execution_count": 2,
   "metadata": {},
   "outputs": [
    {
     "name": "stdout",
     "output_type": "stream",
     "text": [
      "   sales  price  advert\n",
      "0   73.2   5.69     1.3\n",
      "1   71.8   6.49     2.9\n",
      "2   62.4   5.63     0.8\n",
      "3   67.4   6.22     0.7\n",
      "4   89.3   5.02     1.5\n"
     ]
    }
   ],
   "source": [
    "print(andy.head())"
   ]
  },
  {
   "cell_type": "code",
   "execution_count": 3,
   "metadata": {},
   "outputs": [
    {
     "name": "stdout",
     "output_type": "stream",
     "text": [
      "                            OLS Regression Results                            \n",
      "==============================================================================\n",
      "Dep. Variable:                  sales   R-squared:                       0.448\n",
      "Model:                            OLS   Adj. R-squared:                  0.433\n",
      "Method:                 Least Squares   F-statistic:                     29.25\n",
      "Date:                Sat, 03 Apr 2021   Prob (F-statistic):           5.04e-10\n",
      "Time:                        17:24:13   Log-Likelihood:                -223.87\n",
      "No. Observations:                  75   AIC:                             453.7\n",
      "Df Residuals:                      72   BIC:                             460.7\n",
      "Df Model:                           2                                         \n",
      "Covariance Type:            nonrobust                                         \n",
      "==============================================================================\n",
      "                 coef    std err          t      P>|t|      [0.025      0.975]\n",
      "------------------------------------------------------------------------------\n",
      "Intercept    118.9136      6.352     18.722      0.000     106.252     131.575\n",
      "price         -7.9079      1.096     -7.215      0.000     -10.093      -5.723\n",
      "advert         1.8626      0.683      2.726      0.008       0.501       3.225\n",
      "==============================================================================\n",
      "Omnibus:                        0.535   Durbin-Watson:                   2.183\n",
      "Prob(Omnibus):                  0.765   Jarque-Bera (JB):                0.159\n",
      "Skew:                          -0.072   Prob(JB):                        0.924\n",
      "Kurtosis:                       3.174   Cond. No.                         69.5\n",
      "==============================================================================\n",
      "\n",
      "Notes:\n",
      "[1] Standard Errors assume that the covariance matrix of the errors is correctly specified.\n"
     ]
    }
   ],
   "source": [
    "mdl_andy = smf.ols('sales~price+advert', data=andy).fit()\n",
    "\n",
    "print(mdl_andy.summary())"
   ]
  },
  {
   "cell_type": "markdown",
   "metadata": {},
   "source": [
    "### Generating an Anova Table with `anova_lm`\n",
    "\n",
    "This does not generate all the materials we want"
   ]
  },
  {
   "cell_type": "code",
   "execution_count": 4,
   "metadata": {},
   "outputs": [
    {
     "name": "stdout",
     "output_type": "stream",
     "text": [
      "            df       sum_sq      mean_sq          F        PR(>F)\n",
      "price      1.0  1219.091030  1219.091030  51.063099  5.945932e-10\n",
      "advert     1.0   177.447900   177.447900   7.432620  8.038182e-03\n",
      "Residual  72.0  1718.942937    23.874207        NaN           NaN\n"
     ]
    }
   ],
   "source": [
    "print(anova_lm(mdl_andy))"
   ]
  },
  {
   "cell_type": "markdown",
   "metadata": {},
   "source": [
    "### Making an Anova Table Manually\n",
    "\n",
    "- You don't need to change anything in the following cell. Just generate the `anova_table` function first. Please note that you need to `import pandas as pd` in your codes first.\n",
    "- Call `anova_table` function and insert the regression result as an input argument. `mdl_andy` in this case."
   ]
  },
  {
   "cell_type": "code",
   "execution_count": 14,
   "metadata": {},
   "outputs": [],
   "source": [
    "def anova_table(mdl_result):\n",
    "    anova_dict = {\n",
    "        'Source':['Model','Error','Total'],\n",
    "        'DF':[mdl_result.df_model, mdl_result.df_resid, mdl_result.df_model+mdl_result.df_resid],\n",
    "        'Sum of Squares': [mdl_result.ess, mdl_result.ssr, mdl_result.centered_tss],\n",
    "        'Mean Square':[mdl_result.mse_model, mdl_result.mse_resid,'']\n",
    "    }\n",
    "    anova_df = pd.DataFrame(anova_dict).set_index('Source')\n",
    "    anova_df['DF'] = anova_df['DF'].astype('int')\n",
    "    print(anova_df)"
   ]
  },
  {
   "cell_type": "code",
   "execution_count": 15,
   "metadata": {},
   "outputs": [
    {
     "name": "stdout",
     "output_type": "stream",
     "text": [
      "        DF  Sum of Squares Mean Square\n",
      "Source                                \n",
      "Model    2     1396.538930  698.269465\n",
      "Error   72     1718.942937   23.874207\n",
      "Total   74     3115.481867            \n"
     ]
    }
   ],
   "source": [
    "anova_table(mdl_andy)"
   ]
  },
  {
   "cell_type": "code",
   "execution_count": null,
   "metadata": {},
   "outputs": [],
   "source": []
  }
 ],
 "metadata": {
  "kernelspec": {
   "display_name": "Python 3",
   "language": "python",
   "name": "python3"
  },
  "language_info": {
   "codemirror_mode": {
    "name": "ipython",
    "version": 3
   },
   "file_extension": ".py",
   "mimetype": "text/x-python",
   "name": "python",
   "nbconvert_exporter": "python",
   "pygments_lexer": "ipython3",
   "version": "3.7.4"
  }
 },
 "nbformat": 4,
 "nbformat_minor": 2
}
