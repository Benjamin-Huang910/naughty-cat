{
 "cells": [
  {
   "cell_type": "code",
   "execution_count": 4,
   "metadata": {},
   "outputs": [],
   "source": [
    "import pandas as pd\n",
    "import numpy as np\n",
    "import matplotlib.pyplot as plt\n",
    "\n",
    "import statsmodels.formula.api as smf"
   ]
  },
  {
   "cell_type": "markdown",
   "metadata": {},
   "source": [
    "### Read Company Return Data from `stkdata.sas7bdat`"
   ]
  },
  {
   "cell_type": "code",
   "execution_count": 5,
   "metadata": {},
   "outputs": [
    {
     "name": "stdout",
     "output_type": "stream",
     "text": [
      "        DATE TICKER       RET\n",
      "0 2011-01-31   AAPL  0.051959\n",
      "1 2011-02-28   AAPL  0.040935\n",
      "2 2011-03-31   AAPL -0.013314\n",
      "3 2011-04-29   AAPL  0.004656\n",
      "4 2011-05-31   AAPL -0.006569\n"
     ]
    }
   ],
   "source": [
    "stkdata = pd.read_sas('stkdata.sas7bdat', encoding='utf-8')\n",
    "\n",
    "print(stkdata.head())"
   ]
  },
  {
   "cell_type": "code",
   "execution_count": 6,
   "metadata": {},
   "outputs": [
    {
     "name": "stdout",
     "output_type": "stream",
     "text": [
      "<class 'pandas.core.frame.DataFrame'>\n",
      "RangeIndex: 6000 entries, 0 to 5999\n",
      "Data columns (total 3 columns):\n",
      "DATE      6000 non-null datetime64[ns]\n",
      "TICKER    6000 non-null object\n",
      "RET       6000 non-null float64\n",
      "dtypes: datetime64[ns](1), float64(1), object(1)\n",
      "memory usage: 140.8+ KB\n",
      "None\n"
     ]
    }
   ],
   "source": [
    "print(stkdata.info())"
   ]
  },
  {
   "cell_type": "markdown",
   "metadata": {},
   "source": [
    "### Now we pick `CVX`, `JNJ`, and `PFE`"
   ]
  },
  {
   "cell_type": "code",
   "execution_count": 7,
   "metadata": {},
   "outputs": [],
   "source": [
    "stkdata = stkdata[stkdata['TICKER'].isin(['CVX', 'JNJ', 'PFE'])]"
   ]
  },
  {
   "cell_type": "code",
   "execution_count": 8,
   "metadata": {},
   "outputs": [
    {
     "name": "stdout",
     "output_type": "stream",
     "text": [
      "           DATE TICKER       RET\n",
      "1800 2011-01-31    CVX  0.040329\n",
      "1801 2011-02-28    CVX  0.100495\n",
      "1802 2011-03-31    CVX  0.036048\n",
      "1803 2011-04-29    CVX  0.018141\n",
      "1804 2011-05-31    CVX -0.034265\n"
     ]
    }
   ],
   "source": [
    "print(stkdata.head())"
   ]
  },
  {
   "cell_type": "code",
   "execution_count": 9,
   "metadata": {},
   "outputs": [
    {
     "name": "stdout",
     "output_type": "stream",
     "text": [
      "<class 'pandas.core.frame.DataFrame'>\n",
      "Int64Index: 360 entries, 1800 to 4559\n",
      "Data columns (total 3 columns):\n",
      "DATE      360 non-null datetime64[ns]\n",
      "TICKER    360 non-null object\n",
      "RET       360 non-null float64\n",
      "dtypes: datetime64[ns](1), float64(1), object(1)\n",
      "memory usage: 11.2+ KB\n",
      "None\n"
     ]
    }
   ],
   "source": [
    "print(stkdata.info())"
   ]
  },
  {
   "cell_type": "markdown",
   "metadata": {},
   "source": [
    "### Read market data from `mktdata.sas7bdat`"
   ]
  },
  {
   "cell_type": "code",
   "execution_count": 10,
   "metadata": {},
   "outputs": [],
   "source": [
    "mktdata = pd.read_sas('mktdata.sas7bdat', encoding='utf-8')"
   ]
  },
  {
   "cell_type": "code",
   "execution_count": 11,
   "metadata": {},
   "outputs": [
    {
     "name": "stdout",
     "output_type": "stream",
     "text": [
      "        DATE     SMB     HML   MKTRF      RF     UMD\n",
      "0 2011-01-31 -0.0252  0.0082  0.0199  0.0001 -0.0029\n",
      "1 2011-02-28  0.0153  0.0129  0.0349  0.0001  0.0208\n",
      "2 2011-03-31  0.0258 -0.0176  0.0046  0.0001  0.0352\n",
      "3 2011-04-29 -0.0037 -0.0243  0.0290  0.0000  0.0006\n",
      "4 2011-05-31 -0.0058 -0.0205 -0.0127  0.0000 -0.0057\n"
     ]
    }
   ],
   "source": [
    "print(mktdata.head())"
   ]
  },
  {
   "cell_type": "code",
   "execution_count": 12,
   "metadata": {},
   "outputs": [
    {
     "name": "stdout",
     "output_type": "stream",
     "text": [
      "<class 'pandas.core.frame.DataFrame'>\n",
      "RangeIndex: 120 entries, 0 to 119\n",
      "Data columns (total 6 columns):\n",
      "DATE     120 non-null datetime64[ns]\n",
      "SMB      120 non-null float64\n",
      "HML      120 non-null float64\n",
      "MKTRF    120 non-null float64\n",
      "RF       120 non-null float64\n",
      "UMD      120 non-null float64\n",
      "dtypes: datetime64[ns](1), float64(5)\n",
      "memory usage: 5.8 KB\n",
      "None\n"
     ]
    }
   ],
   "source": [
    "print(mktdata.info())"
   ]
  },
  {
   "cell_type": "markdown",
   "metadata": {},
   "source": [
    "### Obtain the summary statistics of variables in `mktdata`\n",
    "\n",
    "Please note that the `10 percentile` of `MKTRF` is different from the answer of SAS. We have 120 observations, so the `10 percentile` is between the smallest 12th to the smallest 13th. SAS simply took the average of these two numbers, while Python here got slightly above the smallest 12th observation."
   ]
  },
  {
   "cell_type": "code",
   "execution_count": 13,
   "metadata": {},
   "outputs": [
    {
     "name": "stdout",
     "output_type": "stream",
     "text": [
      "            MKTRF          RF\n",
      "count  120.000000  120.000000\n",
      "mean     0.011495    0.000456\n",
      "std      0.041239    0.000661\n",
      "min     -0.133800    0.000000\n",
      "10%     -0.033510    0.000000\n",
      "50%      0.013250    0.000100\n",
      "90%      0.055800    0.001600\n",
      "max      0.136500    0.002100\n"
     ]
    }
   ],
   "source": [
    "print(mktdata[['MKTRF','RF']].describe(percentiles=[.10,.90]))"
   ]
  },
  {
   "cell_type": "markdown",
   "metadata": {},
   "source": [
    "### Merge these two data files: `stkdata` and `mktdata`"
   ]
  },
  {
   "cell_type": "code",
   "execution_count": 14,
   "metadata": {},
   "outputs": [],
   "source": [
    "Regdata = pd.merge(stkdata, mktdata, on='DATE')"
   ]
  },
  {
   "cell_type": "code",
   "execution_count": 15,
   "metadata": {},
   "outputs": [
    {
     "name": "stdout",
     "output_type": "stream",
     "text": [
      "        DATE TICKER       RET     SMB     HML   MKTRF      RF     UMD\n",
      "0 2011-01-31    CVX  0.040329 -0.0252  0.0082  0.0199  0.0001 -0.0029\n",
      "1 2011-01-31    JNJ -0.033630 -0.0252  0.0082  0.0199  0.0001 -0.0029\n",
      "2 2011-01-31    PFE  0.040548 -0.0252  0.0082  0.0199  0.0001 -0.0029\n",
      "3 2011-02-28    CVX  0.100495  0.0153  0.0129  0.0349  0.0001  0.0208\n",
      "4 2011-02-28    JNJ  0.036975  0.0153  0.0129  0.0349  0.0001  0.0208\n"
     ]
    }
   ],
   "source": [
    "print(Regdata.head())"
   ]
  },
  {
   "cell_type": "code",
   "execution_count": 16,
   "metadata": {},
   "outputs": [
    {
     "name": "stdout",
     "output_type": "stream",
     "text": [
      "<class 'pandas.core.frame.DataFrame'>\n",
      "Int64Index: 360 entries, 0 to 359\n",
      "Data columns (total 8 columns):\n",
      "DATE      360 non-null datetime64[ns]\n",
      "TICKER    360 non-null object\n",
      "RET       360 non-null float64\n",
      "SMB       360 non-null float64\n",
      "HML       360 non-null float64\n",
      "MKTRF     360 non-null float64\n",
      "RF        360 non-null float64\n",
      "UMD       360 non-null float64\n",
      "dtypes: datetime64[ns](1), float64(6), object(1)\n",
      "memory usage: 25.3+ KB\n",
      "None\n"
     ]
    }
   ],
   "source": [
    "print(Regdata.info())"
   ]
  },
  {
   "cell_type": "code",
   "execution_count": 17,
   "metadata": {},
   "outputs": [],
   "source": [
    "Regdata['RETRF'] = Regdata['RET'] - Regdata['RF']"
   ]
  },
  {
   "cell_type": "code",
   "execution_count": 18,
   "metadata": {},
   "outputs": [
    {
     "name": "stdout",
     "output_type": "stream",
     "text": [
      "          DATE TICKER       RET     SMB     HML   MKTRF      RF     UMD  \\\n",
      "0   2011-01-31    CVX  0.040329 -0.0252  0.0082  0.0199  0.0001 -0.0029   \n",
      "1   2011-01-31    JNJ -0.033630 -0.0252  0.0082  0.0199  0.0001 -0.0029   \n",
      "2   2011-01-31    PFE  0.040548 -0.0252  0.0082  0.0199  0.0001 -0.0029   \n",
      "3   2011-02-28    CVX  0.100495  0.0153  0.0129  0.0349  0.0001  0.0208   \n",
      "4   2011-02-28    JNJ  0.036975  0.0153  0.0129  0.0349  0.0001  0.0208   \n",
      "..         ...    ...       ...     ...     ...     ...     ...     ...   \n",
      "355 2020-11-30    JNJ  0.062577  0.0548  0.0211  0.1247  0.0001 -0.1225   \n",
      "356 2020-11-30    PFE  0.140506  0.0548  0.0211  0.1247  0.0001 -0.1225   \n",
      "357 2020-12-31    CVX -0.031315  0.0481 -0.0136  0.0463  0.0001 -0.0242   \n",
      "358 2020-12-31    JNJ  0.087780  0.0481 -0.0136  0.0463  0.0001 -0.0242   \n",
      "359 2020-12-31    PFE -0.039154  0.0481 -0.0136  0.0463  0.0001 -0.0242   \n",
      "\n",
      "        RETRF  \n",
      "0    0.040229  \n",
      "1   -0.033730  \n",
      "2    0.040448  \n",
      "3    0.100395  \n",
      "4    0.036875  \n",
      "..        ...  \n",
      "355  0.062477  \n",
      "356  0.140406  \n",
      "357 -0.031415  \n",
      "358  0.087680  \n",
      "359 -0.039254  \n",
      "\n",
      "[360 rows x 9 columns]\n"
     ]
    }
   ],
   "source": [
    "print(Regdata)"
   ]
  },
  {
   "cell_type": "markdown",
   "metadata": {},
   "source": [
    "### Note:\n",
    "\n",
    "We don't have missing observations in this case, so the default merge is good. Even if we have missing observations, we will skip them automatically when running regressions anyway."
   ]
  },
  {
   "cell_type": "markdown",
   "metadata": {},
   "source": [
    "### Summary statistics of `RETRF`\n",
    "\n",
    "- We inclued `RETRF` and `TICKER` in the dataset for `.describe()`. `TICKER` is included because we use it in `.groupby()`.\n",
    "- Again, the definition of `10 percentile` and `90 percentile` is slightly different from SAS."
   ]
  },
  {
   "cell_type": "code",
   "execution_count": 19,
   "metadata": {},
   "outputs": [
    {
     "name": "stdout",
     "output_type": "stream",
     "text": [
      "        RETRF                                                              \\\n",
      "        count      mean       std       min       10%       50%       90%   \n",
      "TICKER                                                                      \n",
      "CVX     120.0  0.004405  0.067699 -0.224898 -0.073128  0.006645  0.071186   \n",
      "JNJ     120.0  0.010733  0.043058 -0.123411 -0.040997  0.012730  0.066523   \n",
      "PFE     120.0  0.010566  0.053385 -0.143855 -0.046178  0.005749  0.075582   \n",
      "\n",
      "                  \n",
      "             max  \n",
      "TICKER            \n",
      "CVX     0.272850  \n",
      "JNJ     0.144208  \n",
      "PFE     0.188279  \n"
     ]
    }
   ],
   "source": [
    "print(Regdata[['RETRF','TICKER']].groupby('TICKER').describe(percentiles=[.10,.90]))"
   ]
  },
  {
   "cell_type": "markdown",
   "metadata": {},
   "source": [
    "### Run regression for each firm at once\n",
    "\n",
    "- We extract the observations from the same company to `tempdf` with the `for` loop each time"
   ]
  },
  {
   "cell_type": "code",
   "execution_count": 20,
   "metadata": {},
   "outputs": [
    {
     "name": "stdout",
     "output_type": "stream",
     "text": [
      "\n",
      "CVX\n",
      "\n",
      "                            OLS Regression Results                            \n",
      "==============================================================================\n",
      "Dep. Variable:                  RETRF   R-squared:                       0.531\n",
      "Model:                            OLS   Adj. R-squared:                  0.527\n",
      "Method:                 Least Squares   F-statistic:                     133.5\n",
      "Date:                Sat, 27 Mar 2021   Prob (F-statistic):           4.11e-21\n",
      "Time:                        22:07:13   Log-Likelihood:                 198.75\n",
      "No. Observations:                 120   AIC:                            -393.5\n",
      "Df Residuals:                     118   BIC:                            -387.9\n",
      "Df Model:                           1                                         \n",
      "Covariance Type:            nonrobust                                         \n",
      "==============================================================================\n",
      "                 coef    std err          t      P>|t|      [0.025      0.975]\n",
      "------------------------------------------------------------------------------\n",
      "Intercept     -0.0093      0.004     -2.116      0.036      -0.018      -0.001\n",
      "MKTRF          1.1959      0.104     11.552      0.000       0.991       1.401\n",
      "==============================================================================\n",
      "Omnibus:                        0.564   Durbin-Watson:                   1.919\n",
      "Prob(Omnibus):                  0.754   Jarque-Bera (JB):                0.273\n",
      "Skew:                          -0.096   Prob(JB):                        0.873\n",
      "Kurtosis:                       3.133   Cond. No.                         24.4\n",
      "==============================================================================\n",
      "\n",
      "Warnings:\n",
      "[1] Standard Errors assume that the covariance matrix of the errors is correctly specified.\n",
      "\n",
      "JNJ\n",
      "\n",
      "                            OLS Regression Results                            \n",
      "==============================================================================\n",
      "Dep. Variable:                  RETRF   R-squared:                       0.346\n",
      "Model:                            OLS   Adj. R-squared:                  0.340\n",
      "Method:                 Least Squares   F-statistic:                     62.41\n",
      "Date:                Sat, 27 Mar 2021   Prob (F-statistic):           1.63e-12\n",
      "Time:                        22:07:13   Log-Likelihood:                 233.13\n",
      "No. Observations:                 120   AIC:                            -462.3\n",
      "Df Residuals:                     118   BIC:                            -456.7\n",
      "Df Model:                           1                                         \n",
      "Covariance Type:            nonrobust                                         \n",
      "==============================================================================\n",
      "                 coef    std err          t      P>|t|      [0.025      0.975]\n",
      "------------------------------------------------------------------------------\n",
      "Intercept      0.0037      0.003      1.108      0.270      -0.003       0.010\n",
      "MKTRF          0.6141      0.078      7.900      0.000       0.460       0.768\n",
      "==============================================================================\n",
      "Omnibus:                        0.372   Durbin-Watson:                   1.886\n",
      "Prob(Omnibus):                  0.830   Jarque-Bera (JB):                0.532\n",
      "Skew:                           0.006   Prob(JB):                        0.767\n",
      "Kurtosis:                       2.674   Cond. No.                         24.4\n",
      "==============================================================================\n",
      "\n",
      "Warnings:\n",
      "[1] Standard Errors assume that the covariance matrix of the errors is correctly specified.\n",
      "\n",
      "PFE\n",
      "\n",
      "                            OLS Regression Results                            \n",
      "==============================================================================\n",
      "Dep. Variable:                  RETRF   R-squared:                       0.305\n",
      "Model:                            OLS   Adj. R-squared:                  0.300\n",
      "Method:                 Least Squares   F-statistic:                     51.90\n",
      "Date:                Sat, 27 Mar 2021   Prob (F-statistic):           5.96e-11\n",
      "Time:                        22:07:13   Log-Likelihood:                 203.73\n",
      "No. Observations:                 120   AIC:                            -403.5\n",
      "Df Residuals:                     118   BIC:                            -397.9\n",
      "Df Model:                           1                                         \n",
      "Covariance Type:            nonrobust                                         \n",
      "==============================================================================\n",
      "                 coef    std err          t      P>|t|      [0.025      0.975]\n",
      "------------------------------------------------------------------------------\n",
      "Intercept      0.0023      0.004      0.553      0.581      -0.006       0.011\n",
      "MKTRF          0.7155      0.099      7.204      0.000       0.519       0.912\n",
      "==============================================================================\n",
      "Omnibus:                        6.550   Durbin-Watson:                   2.184\n",
      "Prob(Omnibus):                  0.038   Jarque-Bera (JB):                9.503\n",
      "Skew:                          -0.208   Prob(JB):                      0.00864\n",
      "Kurtosis:                       4.315   Cond. No.                         24.4\n",
      "==============================================================================\n",
      "\n",
      "Warnings:\n",
      "[1] Standard Errors assume that the covariance matrix of the errors is correctly specified.\n"
     ]
    }
   ],
   "source": [
    "for TIC in ['CVX', 'JNJ', 'PFE']:\n",
    "    tempdf = Regdata[Regdata['TICKER'] == TIC]\n",
    "    mdl = smf.ols('RETRF ~ MKTRF', data=tempdf).fit()\n",
    "    print()\n",
    "    print(TIC)\n",
    "    print()\n",
    "    print(mdl.summary())"
   ]
  },
  {
   "cell_type": "markdown",
   "metadata": {},
   "source": [
    "### Multiple Regressions (Not Required in this homework)\n",
    "\n",
    "Please note that we use `df.unique()` to generate a list of companies instead of a given list in this example."
   ]
  },
  {
   "cell_type": "code",
   "execution_count": 21,
   "metadata": {},
   "outputs": [
    {
     "name": "stdout",
     "output_type": "stream",
     "text": [
      "\n",
      "CVX\n",
      "\n",
      "                            OLS Regression Results                            \n",
      "==============================================================================\n",
      "Dep. Variable:                  RETRF   R-squared:                       0.632\n",
      "Model:                            OLS   Adj. R-squared:                  0.619\n",
      "Method:                 Least Squares   F-statistic:                     49.31\n",
      "Date:                Sat, 27 Mar 2021   Prob (F-statistic):           4.27e-24\n",
      "Time:                        22:09:02   Log-Likelihood:                 213.28\n",
      "No. Observations:                 120   AIC:                            -416.6\n",
      "Df Residuals:                     115   BIC:                            -402.6\n",
      "Df Model:                           4                                         \n",
      "Covariance Type:            nonrobust                                         \n",
      "==============================================================================\n",
      "                 coef    std err          t      P>|t|      [0.025      0.975]\n",
      "------------------------------------------------------------------------------\n",
      "Intercept     -0.0037      0.004     -0.912      0.364      -0.012       0.004\n",
      "MKTRF          0.9969      0.107      9.313      0.000       0.785       1.209\n",
      "SMB            0.0374      0.179      0.209      0.835      -0.317       0.391\n",
      "HML            0.5276      0.167      3.155      0.002       0.196       0.859\n",
      "UMD           -0.3478      0.135     -2.569      0.011      -0.616      -0.080\n",
      "==============================================================================\n",
      "Omnibus:                        0.195   Durbin-Watson:                   1.983\n",
      "Prob(Omnibus):                  0.907   Jarque-Bera (JB):                0.075\n",
      "Skew:                           0.060   Prob(JB):                        0.963\n",
      "Kurtosis:                       3.017   Cond. No.                         48.9\n",
      "==============================================================================\n",
      "\n",
      "Warnings:\n",
      "[1] Standard Errors assume that the covariance matrix of the errors is correctly specified.\n",
      "\n",
      "JNJ\n",
      "\n",
      "                            OLS Regression Results                            \n",
      "==============================================================================\n",
      "Dep. Variable:                  RETRF   R-squared:                       0.420\n",
      "Model:                            OLS   Adj. R-squared:                  0.400\n",
      "Method:                 Least Squares   F-statistic:                     20.81\n",
      "Date:                Sat, 27 Mar 2021   Prob (F-statistic):           6.35e-13\n",
      "Time:                        22:09:02   Log-Likelihood:                 240.33\n",
      "No. Observations:                 120   AIC:                            -470.7\n",
      "Df Residuals:                     115   BIC:                            -456.7\n",
      "Df Model:                           4                                         \n",
      "Covariance Type:            nonrobust                                         \n",
      "==============================================================================\n",
      "                 coef    std err          t      P>|t|      [0.025      0.975]\n",
      "------------------------------------------------------------------------------\n",
      "Intercept      0.0019      0.003      0.593      0.554      -0.005       0.008\n",
      "MKTRF          0.7291      0.085      8.532      0.000       0.560       0.898\n",
      "SMB           -0.5274      0.143     -3.697      0.000      -0.810      -0.245\n",
      "HML           -0.1010      0.133     -0.756      0.451      -0.365       0.163\n",
      "UMD           -0.0530      0.108     -0.490      0.625      -0.267       0.161\n",
      "==============================================================================\n",
      "Omnibus:                        0.038   Durbin-Watson:                   1.866\n",
      "Prob(Omnibus):                  0.981   Jarque-Bera (JB):                0.012\n",
      "Skew:                          -0.010   Prob(JB):                        0.994\n",
      "Kurtosis:                       2.955   Cond. No.                         48.9\n",
      "==============================================================================\n",
      "\n",
      "Warnings:\n",
      "[1] Standard Errors assume that the covariance matrix of the errors is correctly specified.\n",
      "\n",
      "PFE\n",
      "\n",
      "                            OLS Regression Results                            \n",
      "==============================================================================\n",
      "Dep. Variable:                  RETRF   R-squared:                       0.339\n",
      "Model:                            OLS   Adj. R-squared:                  0.316\n",
      "Method:                 Least Squares   F-statistic:                     14.76\n",
      "Date:                Sat, 27 Mar 2021   Prob (F-statistic):           9.27e-10\n",
      "Time:                        22:09:03   Log-Likelihood:                 206.71\n",
      "No. Observations:                 120   AIC:                            -403.4\n",
      "Df Residuals:                     115   BIC:                            -389.5\n",
      "Df Model:                           4                                         \n",
      "Covariance Type:            nonrobust                                         \n",
      "==============================================================================\n",
      "                 coef    std err          t      P>|t|      [0.025      0.975]\n",
      "------------------------------------------------------------------------------\n",
      "Intercept      0.0005      0.004      0.126      0.900      -0.008       0.009\n",
      "MKTRF          0.8430      0.113      7.456      0.000       0.619       1.067\n",
      "SMB           -0.1832      0.189     -0.970      0.334      -0.557       0.191\n",
      "HML            0.0962      0.177      0.545      0.587      -0.254       0.446\n",
      "UMD            0.2883      0.143      2.016      0.046       0.005       0.572\n",
      "==============================================================================\n",
      "Omnibus:                        7.013   Durbin-Watson:                   2.096\n",
      "Prob(Omnibus):                  0.030   Jarque-Bera (JB):                8.787\n",
      "Skew:                          -0.319   Prob(JB):                       0.0124\n",
      "Kurtosis:                       4.162   Cond. No.                         48.9\n",
      "==============================================================================\n",
      "\n",
      "Warnings:\n",
      "[1] Standard Errors assume that the covariance matrix of the errors is correctly specified.\n"
     ]
    }
   ],
   "source": [
    "for TIC in Regdata['TICKER'].unique():\n",
    "    tempdf = Regdata[Regdata['TICKER'] == TIC]\n",
    "    mdl = smf.ols('RETRF ~ MKTRF + SMB + HML + UMD', data=tempdf).fit()\n",
    "    print()\n",
    "    print(TIC)\n",
    "    print()\n",
    "    print(mdl.summary())"
   ]
  },
  {
   "cell_type": "code",
   "execution_count": null,
   "metadata": {},
   "outputs": [],
   "source": []
  }
 ],
 "metadata": {
  "kernelspec": {
   "display_name": "Python 3",
   "language": "python",
   "name": "python3"
  },
  "language_info": {
   "codemirror_mode": {
    "name": "ipython",
    "version": 3
   },
   "file_extension": ".py",
   "mimetype": "text/x-python",
   "name": "python",
   "nbconvert_exporter": "python",
   "pygments_lexer": "ipython3",
   "version": "3.7.4"
  }
 },
 "nbformat": 4,
 "nbformat_minor": 2
}
