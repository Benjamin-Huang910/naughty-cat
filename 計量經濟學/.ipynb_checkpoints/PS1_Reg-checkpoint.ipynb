{
 "cells": [
  {
   "cell_type": "code",
   "execution_count": 1,
   "metadata": {},
   "outputs": [],
   "source": [
    "import pandas as pd\n",
    "import numpy as np\n",
    "import matplotlib.pyplot as plt\n",
    "\n",
    "import statsmodels.formula.api as smf"
   ]
  },
  {
   "cell_type": "markdown",
   "metadata": {},
   "source": [
    "### Read Company Return Data from `stkdata.sas7bdat`"
   ]
  },
  {
   "cell_type": "code",
   "execution_count": 2,
   "metadata": {},
   "outputs": [
    {
     "name": "stdout",
     "output_type": "stream",
     "text": [
      "        DATE TICKER       RET\n",
      "0 2011-01-31   AAPL  0.051959\n",
      "1 2011-02-28   AAPL  0.040935\n",
      "2 2011-03-31   AAPL -0.013314\n",
      "3 2011-04-29   AAPL  0.004656\n",
      "4 2011-05-31   AAPL -0.006569\n"
     ]
    }
   ],
   "source": [
    "stkdata = pd.read_sas('stkdata.sas7bdat', encoding='utf-8')\n",
    "\n",
    "print(stkdata.head())"
   ]
  },
  {
   "cell_type": "code",
   "execution_count": 3,
   "metadata": {},
   "outputs": [
    {
     "name": "stdout",
     "output_type": "stream",
     "text": [
      "<class 'pandas.core.frame.DataFrame'>\n",
      "RangeIndex: 6000 entries, 0 to 5999\n",
      "Data columns (total 3 columns):\n",
      " #   Column  Non-Null Count  Dtype         \n",
      "---  ------  --------------  -----         \n",
      " 0   DATE    6000 non-null   datetime64[ns]\n",
      " 1   TICKER  6000 non-null   object        \n",
      " 2   RET     6000 non-null   float64       \n",
      "dtypes: datetime64[ns](1), float64(1), object(1)\n",
      "memory usage: 140.8+ KB\n",
      "None\n"
     ]
    }
   ],
   "source": [
    "print(stkdata.info())"
   ]
  },
  {
   "cell_type": "markdown",
   "metadata": {},
   "source": [
    "### Now we pick `AAPL`, `INTC`, and `MSFT`"
   ]
  },
  {
   "cell_type": "code",
   "execution_count": 4,
   "metadata": {},
   "outputs": [],
   "source": [
    "stkdata = stkdata[stkdata['TICKER'].isin(['AAPL', 'INTC', 'MSFT'])]"
   ]
  },
  {
   "cell_type": "code",
   "execution_count": 5,
   "metadata": {},
   "outputs": [
    {
     "name": "stdout",
     "output_type": "stream",
     "text": [
      "        DATE TICKER       RET\n",
      "0 2011-01-31   AAPL  0.051959\n",
      "1 2011-02-28   AAPL  0.040935\n",
      "2 2011-03-31   AAPL -0.013314\n",
      "3 2011-04-29   AAPL  0.004656\n",
      "4 2011-05-31   AAPL -0.006569\n"
     ]
    }
   ],
   "source": [
    "print(stkdata.head())"
   ]
  },
  {
   "cell_type": "code",
   "execution_count": 6,
   "metadata": {},
   "outputs": [
    {
     "name": "stdout",
     "output_type": "stream",
     "text": [
      "<class 'pandas.core.frame.DataFrame'>\n",
      "Int64Index: 360 entries, 0 to 4079\n",
      "Data columns (total 3 columns):\n",
      " #   Column  Non-Null Count  Dtype         \n",
      "---  ------  --------------  -----         \n",
      " 0   DATE    360 non-null    datetime64[ns]\n",
      " 1   TICKER  360 non-null    object        \n",
      " 2   RET     360 non-null    float64       \n",
      "dtypes: datetime64[ns](1), float64(1), object(1)\n",
      "memory usage: 11.2+ KB\n",
      "None\n"
     ]
    }
   ],
   "source": [
    "print(stkdata.info())"
   ]
  },
  {
   "cell_type": "markdown",
   "metadata": {},
   "source": [
    "### Read market data from `mktdata.sas7bdat`"
   ]
  },
  {
   "cell_type": "code",
   "execution_count": 7,
   "metadata": {},
   "outputs": [],
   "source": [
    "mktdata = pd.read_sas('mktdata.sas7bdat', encoding='utf-8')"
   ]
  },
  {
   "cell_type": "code",
   "execution_count": 8,
   "metadata": {},
   "outputs": [
    {
     "name": "stdout",
     "output_type": "stream",
     "text": [
      "        DATE     SMB     HML   MKTRF      RF     UMD\n",
      "0 2011-01-31 -0.0252  0.0082  0.0199  0.0001 -0.0029\n",
      "1 2011-02-28  0.0153  0.0129  0.0349  0.0001  0.0208\n",
      "2 2011-03-31  0.0258 -0.0176  0.0046  0.0001  0.0352\n",
      "3 2011-04-29 -0.0037 -0.0243  0.0290  0.0000  0.0006\n",
      "4 2011-05-31 -0.0058 -0.0205 -0.0127  0.0000 -0.0057\n"
     ]
    }
   ],
   "source": [
    "print(mktdata.head())"
   ]
  },
  {
   "cell_type": "code",
   "execution_count": 9,
   "metadata": {},
   "outputs": [
    {
     "name": "stdout",
     "output_type": "stream",
     "text": [
      "<class 'pandas.core.frame.DataFrame'>\n",
      "RangeIndex: 120 entries, 0 to 119\n",
      "Data columns (total 6 columns):\n",
      " #   Column  Non-Null Count  Dtype         \n",
      "---  ------  --------------  -----         \n",
      " 0   DATE    120 non-null    datetime64[ns]\n",
      " 1   SMB     120 non-null    float64       \n",
      " 2   HML     120 non-null    float64       \n",
      " 3   MKTRF   120 non-null    float64       \n",
      " 4   RF      120 non-null    float64       \n",
      " 5   UMD     120 non-null    float64       \n",
      "dtypes: datetime64[ns](1), float64(5)\n",
      "memory usage: 5.8 KB\n",
      "None\n"
     ]
    }
   ],
   "source": [
    "print(mktdata.info())"
   ]
  },
  {
   "cell_type": "markdown",
   "metadata": {},
   "source": [
    "### Obtain the summary statistics of variables in `mktdata`\n",
    "\n",
    "Please note that the `10 percentile` of `MKTRF` is different from the answer of SAS. We have 120 observations, so the `10 percentile` is between the smallest 12th to the smallest 13th. SAS simply took the average of these two numbers, while Python here got slightly above the smallest 12th observation."
   ]
  },
  {
   "cell_type": "code",
   "execution_count": 10,
   "metadata": {},
   "outputs": [
    {
     "name": "stdout",
     "output_type": "stream",
     "text": [
      "            MKTRF          RF\n",
      "count  120.000000  120.000000\n",
      "mean     0.011495    0.000456\n",
      "std      0.041239    0.000661\n",
      "min     -0.133800    0.000000\n",
      "10%     -0.033510    0.000000\n",
      "50%      0.013250    0.000100\n",
      "90%      0.055800    0.001600\n",
      "max      0.136500    0.002100\n"
     ]
    }
   ],
   "source": [
    "print(mktdata[['MKTRF','RF']].describe(percentiles=[.10,.90]))"
   ]
  },
  {
   "cell_type": "markdown",
   "metadata": {},
   "source": [
    "### Merge these two data files: `stkdata` and `mktdata`"
   ]
  },
  {
   "cell_type": "code",
   "execution_count": 11,
   "metadata": {},
   "outputs": [],
   "source": [
    "Regdata = pd.merge(stkdata, mktdata, on='DATE')"
   ]
  },
  {
   "cell_type": "code",
   "execution_count": 12,
   "metadata": {},
   "outputs": [
    {
     "name": "stdout",
     "output_type": "stream",
     "text": [
      "        DATE TICKER       RET     SMB     HML   MKTRF      RF     UMD\n",
      "0 2011-01-31   AAPL  0.051959 -0.0252  0.0082  0.0199  0.0001 -0.0029\n",
      "1 2011-01-31   INTC  0.020447 -0.0252  0.0082  0.0199  0.0001 -0.0029\n",
      "2 2011-01-31   MSFT -0.006628 -0.0252  0.0082  0.0199  0.0001 -0.0029\n",
      "3 2011-02-28   AAPL  0.040935  0.0153  0.0129  0.0349  0.0001  0.0208\n",
      "4 2011-02-28   INTC  0.008910  0.0153  0.0129  0.0349  0.0001  0.0208\n"
     ]
    }
   ],
   "source": [
    "print(Regdata.head())"
   ]
  },
  {
   "cell_type": "code",
   "execution_count": 13,
   "metadata": {},
   "outputs": [
    {
     "name": "stdout",
     "output_type": "stream",
     "text": [
      "<class 'pandas.core.frame.DataFrame'>\n",
      "Int64Index: 360 entries, 0 to 359\n",
      "Data columns (total 8 columns):\n",
      " #   Column  Non-Null Count  Dtype         \n",
      "---  ------  --------------  -----         \n",
      " 0   DATE    360 non-null    datetime64[ns]\n",
      " 1   TICKER  360 non-null    object        \n",
      " 2   RET     360 non-null    float64       \n",
      " 3   SMB     360 non-null    float64       \n",
      " 4   HML     360 non-null    float64       \n",
      " 5   MKTRF   360 non-null    float64       \n",
      " 6   RF      360 non-null    float64       \n",
      " 7   UMD     360 non-null    float64       \n",
      "dtypes: datetime64[ns](1), float64(6), object(1)\n",
      "memory usage: 25.3+ KB\n",
      "None\n"
     ]
    }
   ],
   "source": [
    "print(Regdata.info())"
   ]
  },
  {
   "cell_type": "code",
   "execution_count": 14,
   "metadata": {},
   "outputs": [],
   "source": [
    "Regdata['RETRF'] = Regdata['RET'] - Regdata['RF']"
   ]
  },
  {
   "cell_type": "code",
   "execution_count": 15,
   "metadata": {},
   "outputs": [
    {
     "name": "stdout",
     "output_type": "stream",
     "text": [
      "          DATE TICKER       RET     SMB     HML   MKTRF      RF     UMD  \\\n",
      "0   2011-01-31   AAPL  0.051959 -0.0252  0.0082  0.0199  0.0001 -0.0029   \n",
      "1   2011-01-31   INTC  0.020447 -0.0252  0.0082  0.0199  0.0001 -0.0029   \n",
      "2   2011-01-31   MSFT -0.006628 -0.0252  0.0082  0.0199  0.0001 -0.0029   \n",
      "3   2011-02-28   AAPL  0.040935  0.0153  0.0129  0.0349  0.0001  0.0208   \n",
      "4   2011-02-28   INTC  0.008910  0.0153  0.0129  0.0349  0.0001  0.0208   \n",
      "..         ...    ...       ...     ...     ...     ...     ...     ...   \n",
      "355 2020-11-30   INTC  0.099368  0.0548  0.0211  0.1247  0.0001 -0.1225   \n",
      "356 2020-11-30   MSFT  0.060058  0.0548  0.0211  0.1247  0.0001 -0.1225   \n",
      "357 2020-12-31   AAPL  0.114574  0.0481 -0.0136  0.0463  0.0001 -0.0242   \n",
      "358 2020-12-31   INTC  0.030403  0.0481 -0.0136  0.0463  0.0001 -0.0242   \n",
      "359 2020-12-31   MSFT  0.039006  0.0481 -0.0136  0.0463  0.0001 -0.0242   \n",
      "\n",
      "        RETRF  \n",
      "0    0.051859  \n",
      "1    0.020347  \n",
      "2   -0.006728  \n",
      "3    0.040835  \n",
      "4    0.008810  \n",
      "..        ...  \n",
      "355  0.099268  \n",
      "356  0.059958  \n",
      "357  0.114474  \n",
      "358  0.030303  \n",
      "359  0.038906  \n",
      "\n",
      "[360 rows x 9 columns]\n"
     ]
    }
   ],
   "source": [
    "print(Regdata)"
   ]
  },
  {
   "cell_type": "markdown",
   "metadata": {},
   "source": [
    "### Note:\n",
    "\n",
    "We don't have missing observations in this case, so the default merge is good. Even if we have missing observations, we will skip them automatically when running regressions anyway."
   ]
  },
  {
   "cell_type": "markdown",
   "metadata": {},
   "source": [
    "### Summary statistics of `RETRF`\n",
    "\n",
    "- We inclued `RETRF` and `TICKER` in the dataset for `.describe()`. `TICKER` is included because we use it in `.groupby()`.\n",
    "- Again, the definition of `10 percentile` and `90 percentile` is slightly different from SAS."
   ]
  },
  {
   "cell_type": "code",
   "execution_count": 16,
   "metadata": {},
   "outputs": [
    {
     "name": "stdout",
     "output_type": "stream",
     "text": [
      "        RETRF                                                              \\\n",
      "        count      mean       std       min       10%       50%       90%   \n",
      "TICKER                                                                      \n",
      "AAPL    120.0  0.024457  0.079606 -0.182509 -0.076892  0.024895  0.127021   \n",
      "INTC    120.0  0.011526  0.066703 -0.202340 -0.077111  0.015477  0.093320   \n",
      "MSFT    120.0  0.020553  0.058081 -0.130248 -0.057998  0.020384  0.086073   \n",
      "\n",
      "                  \n",
      "             max  \n",
      "TICKER            \n",
      "AAPL    0.216209  \n",
      "INTC    0.193690  \n",
      "MSFT    0.196409  \n"
     ]
    }
   ],
   "source": [
    "print(Regdata[['RETRF','TICKER']].groupby('TICKER').describe(percentiles=[.10,.90]))"
   ]
  },
  {
   "cell_type": "markdown",
   "metadata": {},
   "source": [
    "### Run regression for each firm at once\n",
    "\n",
    "- We extract the observations from the same company to `tempdf` with the `for` loop each time"
   ]
  },
  {
   "cell_type": "code",
   "execution_count": 17,
   "metadata": {},
   "outputs": [
    {
     "name": "stdout",
     "output_type": "stream",
     "text": [
      "\n",
      "AAPL\n",
      "\n",
      "                            OLS Regression Results                            \n",
      "==============================================================================\n",
      "Dep. Variable:                  RETRF   R-squared:                       0.306\n",
      "Model:                            OLS   Adj. R-squared:                  0.300\n",
      "Method:                 Least Squares   F-statistic:                     52.02\n",
      "Date:                Mon, 22 Mar 2021   Prob (F-statistic):           5.71e-11\n",
      "Time:                        12:56:04   Log-Likelihood:                 155.82\n",
      "No. Observations:                 120   AIC:                            -307.6\n",
      "Df Residuals:                     118   BIC:                            -302.1\n",
      "Df Model:                           1                                         \n",
      "Covariance Type:            nonrobust                                         \n",
      "==============================================================================\n",
      "                 coef    std err          t      P>|t|      [0.025      0.975]\n",
      "------------------------------------------------------------------------------\n",
      "Intercept      0.0122      0.006      1.930      0.056      -0.000       0.025\n",
      "MKTRF          1.0677      0.148      7.212      0.000       0.775       1.361\n",
      "==============================================================================\n",
      "Omnibus:                        6.230   Durbin-Watson:                   1.890\n",
      "Prob(Omnibus):                  0.044   Jarque-Bera (JB):                6.648\n",
      "Skew:                          -0.353   Prob(JB):                       0.0360\n",
      "Kurtosis:                       3.911   Cond. No.                         24.4\n",
      "==============================================================================\n",
      "\n",
      "Notes:\n",
      "[1] Standard Errors assume that the covariance matrix of the errors is correctly specified.\n",
      "\n",
      "INTC\n",
      "\n",
      "                            OLS Regression Results                            \n",
      "==============================================================================\n",
      "Dep. Variable:                  RETRF   R-squared:                       0.209\n",
      "Model:                            OLS   Adj. R-squared:                  0.203\n",
      "Method:                 Least Squares   F-statistic:                     31.24\n",
      "Date:                Mon, 22 Mar 2021   Prob (F-statistic):           1.49e-07\n",
      "Time:                        12:56:04   Log-Likelihood:                 169.22\n",
      "No. Observations:                 120   AIC:                            -334.4\n",
      "Df Residuals:                     118   BIC:                            -328.9\n",
      "Df Model:                           1                                         \n",
      "Covariance Type:            nonrobust                                         \n",
      "==============================================================================\n",
      "                 coef    std err          t      P>|t|      [0.025      0.975]\n",
      "------------------------------------------------------------------------------\n",
      "Intercept      0.0030      0.006      0.535      0.594      -0.008       0.014\n",
      "MKTRF          0.7400      0.132      5.589      0.000       0.478       1.002\n",
      "==============================================================================\n",
      "Omnibus:                       12.155   Durbin-Watson:                   1.887\n",
      "Prob(Omnibus):                  0.002   Jarque-Bera (JB):               20.961\n",
      "Skew:                          -0.431   Prob(JB):                     2.81e-05\n",
      "Kurtosis:                       4.857   Cond. No.                         24.4\n",
      "==============================================================================\n",
      "\n",
      "Notes:\n",
      "[1] Standard Errors assume that the covariance matrix of the errors is correctly specified.\n",
      "\n",
      "MSFT\n",
      "\n",
      "                            OLS Regression Results                            \n",
      "==============================================================================\n",
      "Dep. Variable:                  RETRF   R-squared:                       0.318\n",
      "Model:                            OLS   Adj. R-squared:                  0.312\n",
      "Method:                 Least Squares   F-statistic:                     54.90\n",
      "Date:                Mon, 22 Mar 2021   Prob (F-statistic):           2.08e-11\n",
      "Time:                        12:56:04   Log-Likelihood:                 194.66\n",
      "No. Observations:                 120   AIC:                            -385.3\n",
      "Df Residuals:                     118   BIC:                            -379.7\n",
      "Df Model:                           1                                         \n",
      "Covariance Type:            nonrobust                                         \n",
      "==============================================================================\n",
      "                 coef    std err          t      P>|t|      [0.025      0.975]\n",
      "------------------------------------------------------------------------------\n",
      "Intercept      0.0114      0.005      2.503      0.014       0.002       0.020\n",
      "MKTRF          0.7936      0.107      7.409      0.000       0.581       1.006\n",
      "==============================================================================\n",
      "Omnibus:                        9.145   Durbin-Watson:                   2.308\n",
      "Prob(Omnibus):                  0.010   Jarque-Bera (JB):               14.062\n",
      "Skew:                           0.338   Prob(JB):                     0.000884\n",
      "Kurtosis:                       4.535   Cond. No.                         24.4\n",
      "==============================================================================\n",
      "\n",
      "Notes:\n",
      "[1] Standard Errors assume that the covariance matrix of the errors is correctly specified.\n"
     ]
    }
   ],
   "source": [
    "for TIC in ['AAPL', 'INTC', 'MSFT']:\n",
    "    tempdf = Regdata[Regdata['TICKER'] == TIC]\n",
    "    mdl = smf.ols('RETRF ~ MKTRF', data=tempdf).fit()\n",
    "    print()\n",
    "    print(TIC)\n",
    "    print()\n",
    "    print(mdl.summary())"
   ]
  },
  {
   "cell_type": "markdown",
   "metadata": {},
   "source": [
    "### Multiple Regressions (Not Required in this homework)\n",
    "\n",
    "Please note that we use `df.unique()` to generate a list of companies instead of a given list in this example."
   ]
  },
  {
   "cell_type": "code",
   "execution_count": 18,
   "metadata": {},
   "outputs": [
    {
     "name": "stdout",
     "output_type": "stream",
     "text": [
      "\n",
      "AAPL\n",
      "\n",
      "                            OLS Regression Results                            \n",
      "==============================================================================\n",
      "Dep. Variable:                  RETRF   R-squared:                       0.389\n",
      "Model:                            OLS   Adj. R-squared:                  0.367\n",
      "Method:                 Least Squares   F-statistic:                     18.28\n",
      "Date:                Mon, 22 Mar 2021   Prob (F-statistic):           1.19e-11\n",
      "Time:                        12:56:04   Log-Likelihood:                 163.44\n",
      "No. Observations:                 120   AIC:                            -316.9\n",
      "Df Residuals:                     115   BIC:                            -303.0\n",
      "Df Model:                           4                                         \n",
      "Covariance Type:            nonrobust                                         \n",
      "==============================================================================\n",
      "                 coef    std err          t      P>|t|      [0.025      0.975]\n",
      "------------------------------------------------------------------------------\n",
      "Intercept      0.0066      0.006      1.064      0.290      -0.006       0.019\n",
      "MKTRF          1.2708      0.162      7.836      0.000       0.950       1.592\n",
      "SMB           -0.5849      0.271     -2.160      0.033      -1.121      -0.049\n",
      "HML           -0.7340      0.253     -2.897      0.005      -1.236      -0.232\n",
      "UMD           -0.0829      0.205     -0.404      0.687      -0.489       0.323\n",
      "==============================================================================\n",
      "Omnibus:                        9.576   Durbin-Watson:                   1.976\n",
      "Prob(Omnibus):                  0.008   Jarque-Bera (JB):               12.700\n",
      "Skew:                          -0.430   Prob(JB):                      0.00175\n",
      "Kurtosis:                       4.342   Cond. No.                         48.9\n",
      "==============================================================================\n",
      "\n",
      "Notes:\n",
      "[1] Standard Errors assume that the covariance matrix of the errors is correctly specified.\n",
      "\n",
      "INTC\n",
      "\n",
      "                            OLS Regression Results                            \n",
      "==============================================================================\n",
      "Dep. Variable:                  RETRF   R-squared:                       0.236\n",
      "Model:                            OLS   Adj. R-squared:                  0.210\n",
      "Method:                 Least Squares   F-statistic:                     8.897\n",
      "Date:                Mon, 22 Mar 2021   Prob (F-statistic):           2.70e-06\n",
      "Time:                        12:56:04   Log-Likelihood:                 171.31\n",
      "No. Observations:                 120   AIC:                            -332.6\n",
      "Df Residuals:                     115   BIC:                            -318.7\n",
      "Df Model:                           4                                         \n",
      "Covariance Type:            nonrobust                                         \n",
      "==============================================================================\n",
      "                 coef    std err          t      P>|t|      [0.025      0.975]\n",
      "------------------------------------------------------------------------------\n",
      "Intercept      0.0023      0.006      0.393      0.695      -0.009       0.014\n",
      "MKTRF          0.7604      0.152      5.007      0.000       0.460       1.061\n",
      "SMB           -0.3628      0.254     -1.431      0.155      -0.865       0.140\n",
      "HML           -0.2534      0.237     -1.068      0.288      -0.723       0.217\n",
      "UMD           -0.2795      0.192     -1.455      0.148      -0.660       0.101\n",
      "==============================================================================\n",
      "Omnibus:                        9.880   Durbin-Watson:                   1.857\n",
      "Prob(Omnibus):                  0.007   Jarque-Bera (JB):               16.759\n",
      "Skew:                          -0.328   Prob(JB):                     0.000229\n",
      "Kurtosis:                       4.709   Cond. No.                         48.9\n",
      "==============================================================================\n",
      "\n",
      "Notes:\n",
      "[1] Standard Errors assume that the covariance matrix of the errors is correctly specified.\n",
      "\n",
      "MSFT\n",
      "\n",
      "                            OLS Regression Results                            \n",
      "==============================================================================\n",
      "Dep. Variable:                  RETRF   R-squared:                       0.439\n",
      "Model:                            OLS   Adj. R-squared:                  0.419\n",
      "Method:                 Least Squares   F-statistic:                     22.47\n",
      "Date:                Mon, 22 Mar 2021   Prob (F-statistic):           9.97e-14\n",
      "Time:                        12:56:04   Log-Likelihood:                 206.39\n",
      "No. Observations:                 120   AIC:                            -402.8\n",
      "Df Residuals:                     115   BIC:                            -388.8\n",
      "Df Model:                           4                                         \n",
      "Covariance Type:            nonrobust                                         \n",
      "==============================================================================\n",
      "                 coef    std err          t      P>|t|      [0.025      0.975]\n",
      "------------------------------------------------------------------------------\n",
      "Intercept      0.0087      0.004      2.012      0.047       0.000       0.017\n",
      "MKTRF          0.9237      0.113      8.147      0.000       0.699       1.148\n",
      "SMB           -0.8086      0.189     -4.272      0.000      -1.184      -0.434\n",
      "HML           -0.4107      0.177     -2.319      0.022      -0.762      -0.060\n",
      "UMD           -0.3162      0.143     -2.205      0.029      -0.600      -0.032\n",
      "==============================================================================\n",
      "Omnibus:                        4.249   Durbin-Watson:                   2.240\n",
      "Prob(Omnibus):                  0.120   Jarque-Bera (JB):                5.410\n",
      "Skew:                           0.042   Prob(JB):                       0.0669\n",
      "Kurtosis:                       4.037   Cond. No.                         48.9\n",
      "==============================================================================\n",
      "\n",
      "Notes:\n",
      "[1] Standard Errors assume that the covariance matrix of the errors is correctly specified.\n"
     ]
    }
   ],
   "source": [
    "for TIC in Regdata['TICKER'].unique():\n",
    "    tempdf = Regdata[Regdata['TICKER'] == TIC]\n",
    "    mdl = smf.ols('RETRF ~ MKTRF + SMB + HML + UMD', data=tempdf).fit()\n",
    "    print()\n",
    "    print(TIC)\n",
    "    print()\n",
    "    print(mdl.summary())"
   ]
  },
  {
   "cell_type": "code",
   "execution_count": null,
   "metadata": {},
   "outputs": [],
   "source": []
  }
 ],
 "metadata": {
  "kernelspec": {
   "display_name": "Python 3",
   "language": "python",
   "name": "python3"
  },
  "language_info": {
   "codemirror_mode": {
    "name": "ipython",
    "version": 3
   },
   "file_extension": ".py",
   "mimetype": "text/x-python",
   "name": "python",
   "nbconvert_exporter": "python",
   "pygments_lexer": "ipython3",
   "version": "3.7.4"
  }
 },
 "nbformat": 4,
 "nbformat_minor": 2
}
