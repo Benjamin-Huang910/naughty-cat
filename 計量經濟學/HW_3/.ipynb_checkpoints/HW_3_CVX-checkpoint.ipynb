{
 "cells": [
  {
   "cell_type": "code",
   "execution_count": 1,
   "metadata": {},
   "outputs": [],
   "source": [
    "import pandas as pd\n",
    "import numpy as np\n",
    "\n",
    "import statsmodels.formula.api as smf"
   ]
  },
  {
   "cell_type": "markdown",
   "metadata": {},
   "source": [
    "### Merging stock data"
   ]
  },
  {
   "cell_type": "code",
   "execution_count": null,
   "metadata": {},
   "outputs": [],
   "source": [
    "stkdata = pd.read_sas('stkdata.sas7bdat', index='DATE', format='sas7bdat', encoding='utf-8')\n",
    "stkdata = stkdata[stkdata['TICKER'].isin(['CVX', 'JNJ', 'PFE'])]\n",
    "\n",
    "mktdata = pd.read_sas('mktdata.sas7bdat', format='sas7bdat', encoding='utf-8')"
   ]
  },
  {
   "cell_type": "code",
   "execution_count": null,
   "metadata": {},
   "outputs": [],
   "source": [
    "Regdata = pd.merge(stkdata, mktdata, on='DATE')\n",
    "Regdata['RETRF'] = Regdata['RET'] - Regdata['RF']"
   ]
  },
  {
   "cell_type": "markdown",
   "metadata": {},
   "source": [
    "### Collect regression residuals to get squares of residuals"
   ]
  },
  {
   "cell_type": "code",
   "execution_count": null,
   "metadata": {},
   "outputs": [],
   "source": [
    "Regout = []\n",
    "\n",
    "for TIC in ['CVX', 'JNJ', 'PFE']:\n",
    "    tempdf = Regdata[Regdata['TICKER'] == TIC]\n",
    "    mdl = smf.ols('RETRF ~ MKTRF', data=tempdf).fit()\n",
    "    tempdf['resid'] = mdl.resid\n",
    "    Regout.append(tempdf)\n",
    "    \n",
    "Regout = pd.concat(Regout)"
   ]
  },
  {
   "cell_type": "code",
   "execution_count": null,
   "metadata": {},
   "outputs": [],
   "source": [
    "Regout"
   ]
  },
  {
   "cell_type": "code",
   "execution_count": null,
   "metadata": {},
   "outputs": [],
   "source": [
    "Regout['e2'] = Regout['resid']**2\n",
    "Regout['MKTRF2'] = Regout['MKTRF']**2"
   ]
  },
  {
   "cell_type": "markdown",
   "metadata": {},
   "source": [
    "### White Test for Heteroskedasticity"
   ]
  },
  {
   "cell_type": "code",
   "execution_count": null,
   "metadata": {},
   "outputs": [],
   "source": [
    "for TIC in ['CVX']:\n",
    "    tempdf = Regout[Regout['TICKER'] == TIC]\n",
    "    mdl_White_Test = smf.ols('e2 ~ MKTRF+MKTRF2', data=tempdf).fit()\n",
    "    print()\n",
    "    print(TIC)\n",
    "    print()    \n",
    "    print(mdl_White_Test.summary())"
   ]
  },
  {
   "cell_type": "markdown",
   "metadata": {},
   "source": [
    "### White Standard Error (SAS proc surveyreg's equivalent)"
   ]
  },
  {
   "cell_type": "code",
   "execution_count": null,
   "metadata": {},
   "outputs": [],
   "source": [
    "for TIC in ['CVX']:\n",
    "    tempdf = Regdata[Regdata['TICKER'] == TIC]\n",
    "    mdl_White_SE = smf.ols('RETRF ~ MKTRF + SMB + HML', data=tempdf).fit(cov_type='HC1')\n",
    "    print()\n",
    "    print(TIC)\n",
    "    print()    \n",
    "    print(mdl_White_SE.summary())\n",
    "    print()\n",
    "    hypotheses = '(SMB = 0), (HML=0)'\n",
    "    f_test = mdl_White_SE.f_test(hypotheses)\n",
    "    print(f_test)"
   ]
  },
  {
   "cell_type": "markdown",
   "metadata": {},
   "source": [
    "### Lagrange Multiplier test for Serial Correlation"
   ]
  },
  {
   "cell_type": "code",
   "execution_count": null,
   "metadata": {},
   "outputs": [],
   "source": [
    "Regout = Regout.sort_values(by=['TICKER','DATE'])\n",
    "Regout"
   ]
  },
  {
   "cell_type": "code",
   "execution_count": null,
   "metadata": {},
   "outputs": [],
   "source": [
    "for TIC in ['CVX']:\n",
    "    tempdf = Regout[Regout['TICKER'] == TIC]\n",
    "    tempdf['le'] = tempdf['resid'].shift(1)\n",
    "    mdl_LM_Test = smf.ols('resid ~ MKTRF+le', data=tempdf).fit()\n",
    "    print()\n",
    "    print(TIC)\n",
    "    print()    \n",
    "    print(mdl_LM_Test.summary())"
   ]
  },
  {
   "cell_type": "code",
   "execution_count": null,
   "metadata": {},
   "outputs": [],
   "source": [
    "for TIC in ['CVX']:\n",
    "    tempdf = Regout[Regout['TICKER'] == TIC]\n",
    "    mdl_HAC_SE = smf.ols('RETRF ~ MKTRF + SMB + HML', data=tempdf).fit(cov_type='hac', cov_kwds={'maxlags':3})\n",
    "    print()\n",
    "    print(TIC)\n",
    "    print()    \n",
    "    print(mdl_HAC_SE.summary())\n",
    "    print()\n",
    "    hypotheses = '(SMB = 0), (HML=0)'\n",
    "    f_test = mdl_HAC_SE.f_test(hypotheses)\n",
    "    print(f_test)"
   ]
  },
  {
   "cell_type": "markdown",
   "metadata": {},
   "source": [
    "### Panel data"
   ]
  },
  {
   "cell_type": "code",
   "execution_count": null,
   "metadata": {},
   "outputs": [],
   "source": [
    "nls_panel2 = pd.read_sas('nls_panel2.sas7bdat', format='sas7bdat')#, encoding='utf-8')"
   ]
  },
  {
   "cell_type": "code",
   "execution_count": null,
   "metadata": {},
   "outputs": [],
   "source": [
    "nls_panel2"
   ]
  },
  {
   "cell_type": "code",
   "execution_count": null,
   "metadata": {},
   "outputs": [],
   "source": [
    "for yr in [87, 88]:\n",
    "    tempdf = nls_panel2[nls_panel2['year'] == yr]\n",
    "    mdl_OLS_YR = smf.ols('lwage ~ educ+exper+exper2+black+south+union', data=tempdf).fit()\n",
    "    print()\n",
    "    print(yr)\n",
    "    print()    \n",
    "    print(mdl_OLS_YR.summary())"
   ]
  },
  {
   "cell_type": "markdown",
   "metadata": {},
   "source": [
    "### Pooled regression with non-robust OLS standard errors"
   ]
  },
  {
   "cell_type": "code",
   "execution_count": null,
   "metadata": {},
   "outputs": [],
   "source": [
    "mdl_poolreg = smf.ols('lwage ~ educ+exper+exper2+black+south+union', data=nls_panel2).fit()\n",
    "print(mdl_poolreg.summary())"
   ]
  },
  {
   "cell_type": "markdown",
   "metadata": {},
   "source": [
    "### Pooled regression with Cluster-robust standard errors"
   ]
  },
  {
   "cell_type": "code",
   "execution_count": null,
   "metadata": {},
   "outputs": [],
   "source": [
    "mdl_poolreg_hac = smf.ols('lwage ~ educ+exper+exper2+black+south+union', data=nls_panel2).fit(cov_type='cluster', cov_kwds={'groups': nls_panel2['id']})\n",
    "print(mdl_poolreg_hac.summary())"
   ]
  },
  {
   "cell_type": "markdown",
   "metadata": {},
   "source": [
    "### Fixed-effects Model"
   ]
  },
  {
   "cell_type": "code",
   "execution_count": null,
   "metadata": {},
   "outputs": [],
   "source": [
    "!pip install linearmodels\n",
    "from linearmodels import PanelOLS\n",
    "from linearmodels import RandomEffects\n",
    "\n",
    "!pip uninstall statsmodels\n",
    "!pip install statsmodels\n",
    "import statsmodels.api as sm"
   ]
  },
  {
   "cell_type": "code",
   "execution_count": null,
   "metadata": {},
   "outputs": [],
   "source": [
    "nls_panel2_new = nls_panel2.set_index(['id','year'])\n",
    "\n",
    "xvar = sm.add_constant(nls_panel2_new[['educ', 'exper', 'exper2', 'black','south', 'union']])\n",
    "yvar = nls_panel2_new['lwage']\n",
    "                       \n",
    "mdl_fixed_effects = PanelOLS(yvar,xvar,entity_effects = True, drop_absorbed=True).fit()\n",
    "                       \n",
    "print(mdl_fixed_effects)"
   ]
  },
  {
   "cell_type": "code",
   "execution_count": null,
   "metadata": {},
   "outputs": [],
   "source": []
  }
 ],
 "metadata": {
  "kernelspec": {
   "display_name": "Python 3",
   "language": "python",
   "name": "python3"
  },
  "language_info": {
   "codemirror_mode": {
    "name": "ipython",
    "version": 3
   },
   "file_extension": ".py",
   "mimetype": "text/x-python",
   "name": "python",
   "nbconvert_exporter": "python",
   "pygments_lexer": "ipython3",
   "version": "3.7.4"
  }
 },
 "nbformat": 4,
 "nbformat_minor": 2
}
